{
  "nbformat": 4,
  "nbformat_minor": 0,
  "metadata": {
    "colab": {
      "provenance": [],
      "authorship_tag": "ABX9TyOep144jkcUnlHHDXDc7ZT3",
      "include_colab_link": true
    },
    "kernelspec": {
      "name": "python3",
      "display_name": "Python 3"
    },
    "language_info": {
      "name": "python"
    }
  },
  "cells": [
    {
      "cell_type": "markdown",
      "metadata": {
        "id": "view-in-github",
        "colab_type": "text"
      },
      "source": [
        "<a href=\"https://colab.research.google.com/github/PriyaP-9704/Machine-Leaning-Workouts/blob/main/Knn_%26_Logistic_Regression.ipynb\" target=\"_parent\"><img src=\"https://colab.research.google.com/assets/colab-badge.svg\" alt=\"Open In Colab\"/></a>"
      ]
    },
    {
      "cell_type": "code",
      "execution_count": 3,
      "metadata": {
        "id": "AOsrO_h9fJOE"
      },
      "outputs": [],
      "source": [
        "import pandas as pd"
      ]
    },
    {
      "cell_type": "code",
      "source": [
        "data = {\n",
        "    'Age':[1,5,20,30,50,70,6],\n",
        "    'Salary':[10,20,30,40,50,60,25]\n",
        "}"
      ],
      "metadata": {
        "id": "h7C_MGUifQdY"
      },
      "execution_count": 4,
      "outputs": []
    },
    {
      "cell_type": "code",
      "source": [
        "df = pd.DataFrame(data)\n",
        "df"
      ],
      "metadata": {
        "colab": {
          "base_uri": "https://localhost:8080/",
          "height": 269
        },
        "id": "p7LV8Y9Lff2t",
        "outputId": "a77f90fe-ad76-405a-aecb-585f55e5ea76"
      },
      "execution_count": 5,
      "outputs": [
        {
          "output_type": "execute_result",
          "data": {
            "text/plain": [
              "   Age  Salary\n",
              "0    1      10\n",
              "1    5      20\n",
              "2   20      30\n",
              "3   30      40\n",
              "4   50      50\n",
              "5   70      60\n",
              "6    6      25"
            ],
            "text/html": [
              "\n",
              "  <div id=\"df-c5421017-ecc7-4799-83d5-2afecf2ac8cf\" class=\"colab-df-container\">\n",
              "    <div>\n",
              "<style scoped>\n",
              "    .dataframe tbody tr th:only-of-type {\n",
              "        vertical-align: middle;\n",
              "    }\n",
              "\n",
              "    .dataframe tbody tr th {\n",
              "        vertical-align: top;\n",
              "    }\n",
              "\n",
              "    .dataframe thead th {\n",
              "        text-align: right;\n",
              "    }\n",
              "</style>\n",
              "<table border=\"1\" class=\"dataframe\">\n",
              "  <thead>\n",
              "    <tr style=\"text-align: right;\">\n",
              "      <th></th>\n",
              "      <th>Age</th>\n",
              "      <th>Salary</th>\n",
              "    </tr>\n",
              "  </thead>\n",
              "  <tbody>\n",
              "    <tr>\n",
              "      <th>0</th>\n",
              "      <td>1</td>\n",
              "      <td>10</td>\n",
              "    </tr>\n",
              "    <tr>\n",
              "      <th>1</th>\n",
              "      <td>5</td>\n",
              "      <td>20</td>\n",
              "    </tr>\n",
              "    <tr>\n",
              "      <th>2</th>\n",
              "      <td>20</td>\n",
              "      <td>30</td>\n",
              "    </tr>\n",
              "    <tr>\n",
              "      <th>3</th>\n",
              "      <td>30</td>\n",
              "      <td>40</td>\n",
              "    </tr>\n",
              "    <tr>\n",
              "      <th>4</th>\n",
              "      <td>50</td>\n",
              "      <td>50</td>\n",
              "    </tr>\n",
              "    <tr>\n",
              "      <th>5</th>\n",
              "      <td>70</td>\n",
              "      <td>60</td>\n",
              "    </tr>\n",
              "    <tr>\n",
              "      <th>6</th>\n",
              "      <td>6</td>\n",
              "      <td>25</td>\n",
              "    </tr>\n",
              "  </tbody>\n",
              "</table>\n",
              "</div>\n",
              "    <div class=\"colab-df-buttons\">\n",
              "\n",
              "  <div class=\"colab-df-container\">\n",
              "    <button class=\"colab-df-convert\" onclick=\"convertToInteractive('df-c5421017-ecc7-4799-83d5-2afecf2ac8cf')\"\n",
              "            title=\"Convert this dataframe to an interactive table.\"\n",
              "            style=\"display:none;\">\n",
              "\n",
              "  <svg xmlns=\"http://www.w3.org/2000/svg\" height=\"24px\" viewBox=\"0 -960 960 960\">\n",
              "    <path d=\"M120-120v-720h720v720H120Zm60-500h600v-160H180v160Zm220 220h160v-160H400v160Zm0 220h160v-160H400v160ZM180-400h160v-160H180v160Zm440 0h160v-160H620v160ZM180-180h160v-160H180v160Zm440 0h160v-160H620v160Z\"/>\n",
              "  </svg>\n",
              "    </button>\n",
              "\n",
              "  <style>\n",
              "    .colab-df-container {\n",
              "      display:flex;\n",
              "      gap: 12px;\n",
              "    }\n",
              "\n",
              "    .colab-df-convert {\n",
              "      background-color: #E8F0FE;\n",
              "      border: none;\n",
              "      border-radius: 50%;\n",
              "      cursor: pointer;\n",
              "      display: none;\n",
              "      fill: #1967D2;\n",
              "      height: 32px;\n",
              "      padding: 0 0 0 0;\n",
              "      width: 32px;\n",
              "    }\n",
              "\n",
              "    .colab-df-convert:hover {\n",
              "      background-color: #E2EBFA;\n",
              "      box-shadow: 0px 1px 2px rgba(60, 64, 67, 0.3), 0px 1px 3px 1px rgba(60, 64, 67, 0.15);\n",
              "      fill: #174EA6;\n",
              "    }\n",
              "\n",
              "    .colab-df-buttons div {\n",
              "      margin-bottom: 4px;\n",
              "    }\n",
              "\n",
              "    [theme=dark] .colab-df-convert {\n",
              "      background-color: #3B4455;\n",
              "      fill: #D2E3FC;\n",
              "    }\n",
              "\n",
              "    [theme=dark] .colab-df-convert:hover {\n",
              "      background-color: #434B5C;\n",
              "      box-shadow: 0px 1px 3px 1px rgba(0, 0, 0, 0.15);\n",
              "      filter: drop-shadow(0px 1px 2px rgba(0, 0, 0, 0.3));\n",
              "      fill: #FFFFFF;\n",
              "    }\n",
              "  </style>\n",
              "\n",
              "    <script>\n",
              "      const buttonEl =\n",
              "        document.querySelector('#df-c5421017-ecc7-4799-83d5-2afecf2ac8cf button.colab-df-convert');\n",
              "      buttonEl.style.display =\n",
              "        google.colab.kernel.accessAllowed ? 'block' : 'none';\n",
              "\n",
              "      async function convertToInteractive(key) {\n",
              "        const element = document.querySelector('#df-c5421017-ecc7-4799-83d5-2afecf2ac8cf');\n",
              "        const dataTable =\n",
              "          await google.colab.kernel.invokeFunction('convertToInteractive',\n",
              "                                                    [key], {});\n",
              "        if (!dataTable) return;\n",
              "\n",
              "        const docLinkHtml = 'Like what you see? Visit the ' +\n",
              "          '<a target=\"_blank\" href=https://colab.research.google.com/notebooks/data_table.ipynb>data table notebook</a>'\n",
              "          + ' to learn more about interactive tables.';\n",
              "        element.innerHTML = '';\n",
              "        dataTable['output_type'] = 'display_data';\n",
              "        await google.colab.output.renderOutput(dataTable, element);\n",
              "        const docLink = document.createElement('div');\n",
              "        docLink.innerHTML = docLinkHtml;\n",
              "        element.appendChild(docLink);\n",
              "      }\n",
              "    </script>\n",
              "  </div>\n",
              "\n",
              "\n",
              "<div id=\"df-ca1609c8-7af0-4ee7-89e7-9837ecdd81ff\">\n",
              "  <button class=\"colab-df-quickchart\" onclick=\"quickchart('df-ca1609c8-7af0-4ee7-89e7-9837ecdd81ff')\"\n",
              "            title=\"Suggest charts\"\n",
              "            style=\"display:none;\">\n",
              "\n",
              "<svg xmlns=\"http://www.w3.org/2000/svg\" height=\"24px\"viewBox=\"0 0 24 24\"\n",
              "     width=\"24px\">\n",
              "    <g>\n",
              "        <path d=\"M19 3H5c-1.1 0-2 .9-2 2v14c0 1.1.9 2 2 2h14c1.1 0 2-.9 2-2V5c0-1.1-.9-2-2-2zM9 17H7v-7h2v7zm4 0h-2V7h2v10zm4 0h-2v-4h2v4z\"/>\n",
              "    </g>\n",
              "</svg>\n",
              "  </button>\n",
              "\n",
              "<style>\n",
              "  .colab-df-quickchart {\n",
              "      --bg-color: #E8F0FE;\n",
              "      --fill-color: #1967D2;\n",
              "      --hover-bg-color: #E2EBFA;\n",
              "      --hover-fill-color: #174EA6;\n",
              "      --disabled-fill-color: #AAA;\n",
              "      --disabled-bg-color: #DDD;\n",
              "  }\n",
              "\n",
              "  [theme=dark] .colab-df-quickchart {\n",
              "      --bg-color: #3B4455;\n",
              "      --fill-color: #D2E3FC;\n",
              "      --hover-bg-color: #434B5C;\n",
              "      --hover-fill-color: #FFFFFF;\n",
              "      --disabled-bg-color: #3B4455;\n",
              "      --disabled-fill-color: #666;\n",
              "  }\n",
              "\n",
              "  .colab-df-quickchart {\n",
              "    background-color: var(--bg-color);\n",
              "    border: none;\n",
              "    border-radius: 50%;\n",
              "    cursor: pointer;\n",
              "    display: none;\n",
              "    fill: var(--fill-color);\n",
              "    height: 32px;\n",
              "    padding: 0;\n",
              "    width: 32px;\n",
              "  }\n",
              "\n",
              "  .colab-df-quickchart:hover {\n",
              "    background-color: var(--hover-bg-color);\n",
              "    box-shadow: 0 1px 2px rgba(60, 64, 67, 0.3), 0 1px 3px 1px rgba(60, 64, 67, 0.15);\n",
              "    fill: var(--button-hover-fill-color);\n",
              "  }\n",
              "\n",
              "  .colab-df-quickchart-complete:disabled,\n",
              "  .colab-df-quickchart-complete:disabled:hover {\n",
              "    background-color: var(--disabled-bg-color);\n",
              "    fill: var(--disabled-fill-color);\n",
              "    box-shadow: none;\n",
              "  }\n",
              "\n",
              "  .colab-df-spinner {\n",
              "    border: 2px solid var(--fill-color);\n",
              "    border-color: transparent;\n",
              "    border-bottom-color: var(--fill-color);\n",
              "    animation:\n",
              "      spin 1s steps(1) infinite;\n",
              "  }\n",
              "\n",
              "  @keyframes spin {\n",
              "    0% {\n",
              "      border-color: transparent;\n",
              "      border-bottom-color: var(--fill-color);\n",
              "      border-left-color: var(--fill-color);\n",
              "    }\n",
              "    20% {\n",
              "      border-color: transparent;\n",
              "      border-left-color: var(--fill-color);\n",
              "      border-top-color: var(--fill-color);\n",
              "    }\n",
              "    30% {\n",
              "      border-color: transparent;\n",
              "      border-left-color: var(--fill-color);\n",
              "      border-top-color: var(--fill-color);\n",
              "      border-right-color: var(--fill-color);\n",
              "    }\n",
              "    40% {\n",
              "      border-color: transparent;\n",
              "      border-right-color: var(--fill-color);\n",
              "      border-top-color: var(--fill-color);\n",
              "    }\n",
              "    60% {\n",
              "      border-color: transparent;\n",
              "      border-right-color: var(--fill-color);\n",
              "    }\n",
              "    80% {\n",
              "      border-color: transparent;\n",
              "      border-right-color: var(--fill-color);\n",
              "      border-bottom-color: var(--fill-color);\n",
              "    }\n",
              "    90% {\n",
              "      border-color: transparent;\n",
              "      border-bottom-color: var(--fill-color);\n",
              "    }\n",
              "  }\n",
              "</style>\n",
              "\n",
              "  <script>\n",
              "    async function quickchart(key) {\n",
              "      const quickchartButtonEl =\n",
              "        document.querySelector('#' + key + ' button');\n",
              "      quickchartButtonEl.disabled = true;  // To prevent multiple clicks.\n",
              "      quickchartButtonEl.classList.add('colab-df-spinner');\n",
              "      try {\n",
              "        const charts = await google.colab.kernel.invokeFunction(\n",
              "            'suggestCharts', [key], {});\n",
              "      } catch (error) {\n",
              "        console.error('Error during call to suggestCharts:', error);\n",
              "      }\n",
              "      quickchartButtonEl.classList.remove('colab-df-spinner');\n",
              "      quickchartButtonEl.classList.add('colab-df-quickchart-complete');\n",
              "    }\n",
              "    (() => {\n",
              "      let quickchartButtonEl =\n",
              "        document.querySelector('#df-ca1609c8-7af0-4ee7-89e7-9837ecdd81ff button');\n",
              "      quickchartButtonEl.style.display =\n",
              "        google.colab.kernel.accessAllowed ? 'block' : 'none';\n",
              "    })();\n",
              "  </script>\n",
              "</div>\n",
              "\n",
              "  <div id=\"id_4f544933-ae98-46d8-90ae-5eb7f42e7b48\">\n",
              "    <style>\n",
              "      .colab-df-generate {\n",
              "        background-color: #E8F0FE;\n",
              "        border: none;\n",
              "        border-radius: 50%;\n",
              "        cursor: pointer;\n",
              "        display: none;\n",
              "        fill: #1967D2;\n",
              "        height: 32px;\n",
              "        padding: 0 0 0 0;\n",
              "        width: 32px;\n",
              "      }\n",
              "\n",
              "      .colab-df-generate:hover {\n",
              "        background-color: #E2EBFA;\n",
              "        box-shadow: 0px 1px 2px rgba(60, 64, 67, 0.3), 0px 1px 3px 1px rgba(60, 64, 67, 0.15);\n",
              "        fill: #174EA6;\n",
              "      }\n",
              "\n",
              "      [theme=dark] .colab-df-generate {\n",
              "        background-color: #3B4455;\n",
              "        fill: #D2E3FC;\n",
              "      }\n",
              "\n",
              "      [theme=dark] .colab-df-generate:hover {\n",
              "        background-color: #434B5C;\n",
              "        box-shadow: 0px 1px 3px 1px rgba(0, 0, 0, 0.15);\n",
              "        filter: drop-shadow(0px 1px 2px rgba(0, 0, 0, 0.3));\n",
              "        fill: #FFFFFF;\n",
              "      }\n",
              "    </style>\n",
              "    <button class=\"colab-df-generate\" onclick=\"generateWithVariable('df')\"\n",
              "            title=\"Generate code using this dataframe.\"\n",
              "            style=\"display:none;\">\n",
              "\n",
              "  <svg xmlns=\"http://www.w3.org/2000/svg\" height=\"24px\"viewBox=\"0 0 24 24\"\n",
              "       width=\"24px\">\n",
              "    <path d=\"M7,19H8.4L18.45,9,17,7.55,7,17.6ZM5,21V16.75L18.45,3.32a2,2,0,0,1,2.83,0l1.4,1.43a1.91,1.91,0,0,1,.58,1.4,1.91,1.91,0,0,1-.58,1.4L9.25,21ZM18.45,9,17,7.55Zm-12,3A5.31,5.31,0,0,0,4.9,8.1,5.31,5.31,0,0,0,1,6.5,5.31,5.31,0,0,0,4.9,4.9,5.31,5.31,0,0,0,6.5,1,5.31,5.31,0,0,0,8.1,4.9,5.31,5.31,0,0,0,12,6.5,5.46,5.46,0,0,0,6.5,12Z\"/>\n",
              "  </svg>\n",
              "    </button>\n",
              "    <script>\n",
              "      (() => {\n",
              "      const buttonEl =\n",
              "        document.querySelector('#id_4f544933-ae98-46d8-90ae-5eb7f42e7b48 button.colab-df-generate');\n",
              "      buttonEl.style.display =\n",
              "        google.colab.kernel.accessAllowed ? 'block' : 'none';\n",
              "\n",
              "      buttonEl.onclick = () => {\n",
              "        google.colab.notebook.generateWithVariable('df');\n",
              "      }\n",
              "      })();\n",
              "    </script>\n",
              "  </div>\n",
              "\n",
              "    </div>\n",
              "  </div>\n"
            ],
            "application/vnd.google.colaboratory.intrinsic+json": {
              "type": "dataframe",
              "variable_name": "df",
              "summary": "{\n  \"name\": \"df\",\n  \"rows\": 7,\n  \"fields\": [\n    {\n      \"column\": \"Age\",\n      \"properties\": {\n        \"dtype\": \"number\",\n        \"std\": 25,\n        \"min\": 1,\n        \"max\": 70,\n        \"num_unique_values\": 7,\n        \"samples\": [\n          1,\n          5,\n          70\n        ],\n        \"semantic_type\": \"\",\n        \"description\": \"\"\n      }\n    },\n    {\n      \"column\": \"Salary\",\n      \"properties\": {\n        \"dtype\": \"number\",\n        \"std\": 17,\n        \"min\": 10,\n        \"max\": 60,\n        \"num_unique_values\": 7,\n        \"samples\": [\n          10,\n          20,\n          60\n        ],\n        \"semantic_type\": \"\",\n        \"description\": \"\"\n      }\n    }\n  ]\n}"
            }
          },
          "metadata": {},
          "execution_count": 5
        }
      ]
    },
    {
      "cell_type": "code",
      "source": [
        "from sklearn.neighbors import KNeighborsRegressor"
      ],
      "metadata": {
        "id": "WLUKFMEyg2tk"
      },
      "execution_count": 6,
      "outputs": []
    },
    {
      "cell_type": "markdown",
      "source": [
        "n_neighbors = 1 # will give exact value ...\n",
        "Consider only one neighbor value"
      ],
      "metadata": {
        "id": "jhS-Lu5elmUZ"
      }
    },
    {
      "cell_type": "code",
      "source": [
        "knn = KNeighborsRegressor(n_neighbors = 1)"
      ],
      "metadata": {
        "id": "yjpZ6__yg-Ts"
      },
      "execution_count": 7,
      "outputs": []
    },
    {
      "cell_type": "code",
      "source": [
        "knn.fit(df[['Age']],df[['Salary']])"
      ],
      "metadata": {
        "colab": {
          "base_uri": "https://localhost:8080/",
          "height": 74
        },
        "id": "uWDuka_jhMO9",
        "outputId": "19cd78b4-4b19-4965-97ff-dce124534044"
      },
      "execution_count": 8,
      "outputs": [
        {
          "output_type": "execute_result",
          "data": {
            "text/plain": [
              "KNeighborsRegressor(n_neighbors=1)"
            ],
            "text/html": [
              "<style>#sk-container-id-1 {color: black;background-color: white;}#sk-container-id-1 pre{padding: 0;}#sk-container-id-1 div.sk-toggleable {background-color: white;}#sk-container-id-1 label.sk-toggleable__label {cursor: pointer;display: block;width: 100%;margin-bottom: 0;padding: 0.3em;box-sizing: border-box;text-align: center;}#sk-container-id-1 label.sk-toggleable__label-arrow:before {content: \"▸\";float: left;margin-right: 0.25em;color: #696969;}#sk-container-id-1 label.sk-toggleable__label-arrow:hover:before {color: black;}#sk-container-id-1 div.sk-estimator:hover label.sk-toggleable__label-arrow:before {color: black;}#sk-container-id-1 div.sk-toggleable__content {max-height: 0;max-width: 0;overflow: hidden;text-align: left;background-color: #f0f8ff;}#sk-container-id-1 div.sk-toggleable__content pre {margin: 0.2em;color: black;border-radius: 0.25em;background-color: #f0f8ff;}#sk-container-id-1 input.sk-toggleable__control:checked~div.sk-toggleable__content {max-height: 200px;max-width: 100%;overflow: auto;}#sk-container-id-1 input.sk-toggleable__control:checked~label.sk-toggleable__label-arrow:before {content: \"▾\";}#sk-container-id-1 div.sk-estimator input.sk-toggleable__control:checked~label.sk-toggleable__label {background-color: #d4ebff;}#sk-container-id-1 div.sk-label input.sk-toggleable__control:checked~label.sk-toggleable__label {background-color: #d4ebff;}#sk-container-id-1 input.sk-hidden--visually {border: 0;clip: rect(1px 1px 1px 1px);clip: rect(1px, 1px, 1px, 1px);height: 1px;margin: -1px;overflow: hidden;padding: 0;position: absolute;width: 1px;}#sk-container-id-1 div.sk-estimator {font-family: monospace;background-color: #f0f8ff;border: 1px dotted black;border-radius: 0.25em;box-sizing: border-box;margin-bottom: 0.5em;}#sk-container-id-1 div.sk-estimator:hover {background-color: #d4ebff;}#sk-container-id-1 div.sk-parallel-item::after {content: \"\";width: 100%;border-bottom: 1px solid gray;flex-grow: 1;}#sk-container-id-1 div.sk-label:hover label.sk-toggleable__label {background-color: #d4ebff;}#sk-container-id-1 div.sk-serial::before {content: \"\";position: absolute;border-left: 1px solid gray;box-sizing: border-box;top: 0;bottom: 0;left: 50%;z-index: 0;}#sk-container-id-1 div.sk-serial {display: flex;flex-direction: column;align-items: center;background-color: white;padding-right: 0.2em;padding-left: 0.2em;position: relative;}#sk-container-id-1 div.sk-item {position: relative;z-index: 1;}#sk-container-id-1 div.sk-parallel {display: flex;align-items: stretch;justify-content: center;background-color: white;position: relative;}#sk-container-id-1 div.sk-item::before, #sk-container-id-1 div.sk-parallel-item::before {content: \"\";position: absolute;border-left: 1px solid gray;box-sizing: border-box;top: 0;bottom: 0;left: 50%;z-index: -1;}#sk-container-id-1 div.sk-parallel-item {display: flex;flex-direction: column;z-index: 1;position: relative;background-color: white;}#sk-container-id-1 div.sk-parallel-item:first-child::after {align-self: flex-end;width: 50%;}#sk-container-id-1 div.sk-parallel-item:last-child::after {align-self: flex-start;width: 50%;}#sk-container-id-1 div.sk-parallel-item:only-child::after {width: 0;}#sk-container-id-1 div.sk-dashed-wrapped {border: 1px dashed gray;margin: 0 0.4em 0.5em 0.4em;box-sizing: border-box;padding-bottom: 0.4em;background-color: white;}#sk-container-id-1 div.sk-label label {font-family: monospace;font-weight: bold;display: inline-block;line-height: 1.2em;}#sk-container-id-1 div.sk-label-container {text-align: center;}#sk-container-id-1 div.sk-container {/* jupyter's `normalize.less` sets `[hidden] { display: none; }` but bootstrap.min.css set `[hidden] { display: none !important; }` so we also need the `!important` here to be able to override the default hidden behavior on the sphinx rendered scikit-learn.org. See: https://github.com/scikit-learn/scikit-learn/issues/21755 */display: inline-block !important;position: relative;}#sk-container-id-1 div.sk-text-repr-fallback {display: none;}</style><div id=\"sk-container-id-1\" class=\"sk-top-container\"><div class=\"sk-text-repr-fallback\"><pre>KNeighborsRegressor(n_neighbors=1)</pre><b>In a Jupyter environment, please rerun this cell to show the HTML representation or trust the notebook. <br />On GitHub, the HTML representation is unable to render, please try loading this page with nbviewer.org.</b></div><div class=\"sk-container\" hidden><div class=\"sk-item\"><div class=\"sk-estimator sk-toggleable\"><input class=\"sk-toggleable__control sk-hidden--visually\" id=\"sk-estimator-id-1\" type=\"checkbox\" checked><label for=\"sk-estimator-id-1\" class=\"sk-toggleable__label sk-toggleable__label-arrow\">KNeighborsRegressor</label><div class=\"sk-toggleable__content\"><pre>KNeighborsRegressor(n_neighbors=1)</pre></div></div></div></div></div>"
            ]
          },
          "metadata": {},
          "execution_count": 8
        }
      ]
    },
    {
      "cell_type": "code",
      "source": [
        "knn.predict([[1]])"
      ],
      "metadata": {
        "colab": {
          "base_uri": "https://localhost:8080/"
        },
        "id": "vWINuc6BhaQp",
        "outputId": "fde1ccd2-69b2-401f-e0a0-01718b3893c2"
      },
      "execution_count": 9,
      "outputs": [
        {
          "output_type": "stream",
          "name": "stderr",
          "text": [
            "/usr/local/lib/python3.10/dist-packages/sklearn/base.py:439: UserWarning: X does not have valid feature names, but KNeighborsRegressor was fitted with feature names\n",
            "  warnings.warn(\n"
          ]
        },
        {
          "output_type": "execute_result",
          "data": {
            "text/plain": [
              "array([[10.]])"
            ]
          },
          "metadata": {},
          "execution_count": 9
        }
      ]
    },
    {
      "cell_type": "code",
      "source": [
        "knn.predict([[3]])"
      ],
      "metadata": {
        "colab": {
          "base_uri": "https://localhost:8080/"
        },
        "id": "4zL4Kv8hhka5",
        "outputId": "8b3d0183-dc0f-42af-b290-e144eaf9c75d"
      },
      "execution_count": 10,
      "outputs": [
        {
          "output_type": "stream",
          "name": "stderr",
          "text": [
            "/usr/local/lib/python3.10/dist-packages/sklearn/base.py:439: UserWarning: X does not have valid feature names, but KNeighborsRegressor was fitted with feature names\n",
            "  warnings.warn(\n"
          ]
        },
        {
          "output_type": "execute_result",
          "data": {
            "text/plain": [
              "array([[10.]])"
            ]
          },
          "metadata": {},
          "execution_count": 10
        }
      ]
    },
    {
      "cell_type": "code",
      "source": [
        "knn.predict([[3.1]])"
      ],
      "metadata": {
        "colab": {
          "base_uri": "https://localhost:8080/"
        },
        "id": "SilQi66Jl7OE",
        "outputId": "18dccd6a-7b7c-4ec8-e869-3140d8dc564c"
      },
      "execution_count": 11,
      "outputs": [
        {
          "output_type": "stream",
          "name": "stderr",
          "text": [
            "/usr/local/lib/python3.10/dist-packages/sklearn/base.py:439: UserWarning: X does not have valid feature names, but KNeighborsRegressor was fitted with feature names\n",
            "  warnings.warn(\n"
          ]
        },
        {
          "output_type": "execute_result",
          "data": {
            "text/plain": [
              "array([[20.]])"
            ]
          },
          "metadata": {},
          "execution_count": 11
        }
      ]
    },
    {
      "cell_type": "markdown",
      "source": [
        "n_neighbors = 2 # will give exact Average value ...\n",
        "Consider nearest first two neighbor values and Average it."
      ],
      "metadata": {
        "id": "KtEXUqctmKF2"
      }
    },
    {
      "cell_type": "code",
      "source": [
        "knn = KNeighborsRegressor(n_neighbors = 2)\n",
        "knn.fit(df[['Age']],df[['Salary']])\n",
        "knn.predict([[5]])"
      ],
      "metadata": {
        "colab": {
          "base_uri": "https://localhost:8080/"
        },
        "id": "AyzC0HpYrVun",
        "outputId": "b8376b72-d1ca-4261-fb12-72ed9b28abfe"
      },
      "execution_count": 12,
      "outputs": [
        {
          "output_type": "stream",
          "name": "stderr",
          "text": [
            "/usr/local/lib/python3.10/dist-packages/sklearn/base.py:439: UserWarning: X does not have valid feature names, but KNeighborsRegressor was fitted with feature names\n",
            "  warnings.warn(\n"
          ]
        },
        {
          "output_type": "execute_result",
          "data": {
            "text/plain": [
              "array([[22.5]])"
            ]
          },
          "metadata": {},
          "execution_count": 12
        }
      ]
    },
    {
      "cell_type": "markdown",
      "source": [
        "n_neighbors = 3 # will give exact Avegrage value ...\n",
        "Consider 3 neighbors average value"
      ],
      "metadata": {
        "id": "qpC881qWmT4t"
      }
    },
    {
      "cell_type": "code",
      "source": [
        "knn = KNeighborsRegressor(n_neighbors = 3)\n",
        "knn.fit(df[['Age']],df[['Salary']])\n",
        "knn.predict([[1]])\n"
      ],
      "metadata": {
        "colab": {
          "base_uri": "https://localhost:8080/"
        },
        "id": "60JFXBE1qdXc",
        "outputId": "526cada9-c474-4676-bdfc-8f32bc03fce9"
      },
      "execution_count": 13,
      "outputs": [
        {
          "output_type": "stream",
          "name": "stderr",
          "text": [
            "/usr/local/lib/python3.10/dist-packages/sklearn/base.py:439: UserWarning: X does not have valid feature names, but KNeighborsRegressor was fitted with feature names\n",
            "  warnings.warn(\n"
          ]
        },
        {
          "output_type": "execute_result",
          "data": {
            "text/plain": [
              "array([[18.33333333]])"
            ]
          },
          "metadata": {},
          "execution_count": 13
        }
      ]
    },
    {
      "cell_type": "markdown",
      "source": [
        "weighted Average Parameter in KNeighborsRegressor function"
      ],
      "metadata": {
        "id": "1IpmHqJXrqwQ"
      }
    },
    {
      "cell_type": "code",
      "source": [
        "knn = KNeighborsRegressor(n_neighbors = 3, weights='distance')\n",
        "knn.fit(df[['Age']],df[['Salary']])\n",
        "knn.predict([[1]])"
      ],
      "metadata": {
        "colab": {
          "base_uri": "https://localhost:8080/"
        },
        "id": "TNqXzcW_rwHm",
        "outputId": "9825dc67-cda9-42e4-99bf-d74e4152f30a"
      },
      "execution_count": 14,
      "outputs": [
        {
          "output_type": "stream",
          "name": "stderr",
          "text": [
            "/usr/local/lib/python3.10/dist-packages/sklearn/base.py:439: UserWarning: X does not have valid feature names, but KNeighborsRegressor was fitted with feature names\n",
            "  warnings.warn(\n"
          ]
        },
        {
          "output_type": "execute_result",
          "data": {
            "text/plain": [
              "array([[10.]])"
            ]
          },
          "metadata": {},
          "execution_count": 14
        }
      ]
    },
    {
      "cell_type": "markdown",
      "source": [
        "plotting"
      ],
      "metadata": {
        "id": "AlrnIb9DsTIN"
      }
    },
    {
      "cell_type": "code",
      "source": [
        "import matplotlib.pyplot as plt"
      ],
      "metadata": {
        "id": "xlw6IiD4skEK"
      },
      "execution_count": 15,
      "outputs": []
    },
    {
      "cell_type": "code",
      "source": [
        "plt.scatter(df[['Age']],df[['Salary']])\n",
        "plt.scatter(3,15,color='red')\n",
        "\n",
        "plt.show()"
      ],
      "metadata": {
        "colab": {
          "base_uri": "https://localhost:8080/",
          "height": 430
        },
        "id": "a2TbIWx4sV6z",
        "outputId": "3b123c7f-2e02-454b-988b-4faba1c7e6ed"
      },
      "execution_count": 16,
      "outputs": [
        {
          "output_type": "display_data",
          "data": {
            "text/plain": [
              "<Figure size 640x480 with 1 Axes>"
            ],
            "image/png": "[encoded data removed]"
          },
          "metadata": {}
        }
      ]
    },
    {
      "cell_type": "code",
      "source": [
        "plt.scatter(df['Age'],df['Salary'])\n",
        "plt.scatter(3,15,color='red')\n",
        "plt.plot([3,1],[15,2])\n",
        "plt.plot([3,5],[15,2])\n",
        "plt.plot([3,20],[15,13])\n",
        "plt.plot([3,30],[15,23])\n",
        "plt.plot([3,50],[15,43])\n",
        "plt.plot([3,70],[15,63])\n",
        "plt.show()"
      ],
      "metadata": {
        "colab": {
          "base_uri": "https://localhost:8080/",
          "height": 430
        },
        "id": "nNPk_GRgNv4r",
        "outputId": "3eeb7a56-4428-423a-a416-bb25c8d145ed"
      },
      "execution_count": 17,
      "outputs": [
        {
          "output_type": "display_data",
          "data": {
            "text/plain": [
              "<Figure size 640x480 with 1 Axes>"
            ],
            "image/png": "[encoded data removed]"
          },
          "metadata": {}
        }
      ]
    },
    {
      "cell_type": "markdown",
      "source": [
        "# Logistic Regression - Binary Classification - Sigmoid Function"
      ],
      "metadata": {
        "id": "DsgDpf_bx1DK"
      }
    },
    {
      "cell_type": "code",
      "source": [
        "data = {\n",
        "    'Age':[1,5,16,12,22,58,20,28,30,35,50,49,62,70],\n",
        "    'Insurance':[0,1,0,0,0,1,0,0,1,0,1,1,1,1]\n",
        "}"
      ],
      "metadata": {
        "id": "t6crFRSCx85n"
      },
      "execution_count": 18,
      "outputs": []
    },
    {
      "cell_type": "code",
      "source": [
        "df = pd.DataFrame(data)\n",
        "df"
      ],
      "metadata": {
        "colab": {
          "base_uri": "https://localhost:8080/",
          "height": 488
        },
        "id": "z2DqyIywyW_g",
        "outputId": "ec032152-f08a-417b-acc3-dfd04f1e5bd0"
      },
      "execution_count": 19,
      "outputs": [
        {
          "output_type": "execute_result",
          "data": {
            "text/plain": [
              "    Age  Insurance\n",
              "0     1          0\n",
              "1     5          1\n",
              "2    16          0\n",
              "3    12          0\n",
              "4    22          0\n",
              "5    58          1\n",
              "6    20          0\n",
              "7    28          0\n",
              "8    30          1\n",
              "9    35          0\n",
              "10   50          1\n",
              "11   49          1\n",
              "12   62          1\n",
              "13   70          1"
            ],
            "text/html": [
              "\n",
              "  <div id=\"df-8bbe1977-e0ef-4267-936a-8d1ad09f3dd8\" class=\"colab-df-container\">\n",
              "    <div>\n",
              "<style scoped>\n",
              "    .dataframe tbody tr th:only-of-type {\n",
              "        vertical-align: middle;\n",
              "    }\n",
              "\n",
              "    .dataframe tbody tr th {\n",
              "        vertical-align: top;\n",
              "    }\n",
              "\n",
              "    .dataframe thead th {\n",
              "        text-align: right;\n",
              "    }\n",
              "</style>\n",
              "<table border=\"1\" class=\"dataframe\">\n",
              "  <thead>\n",
              "    <tr style=\"text-align: right;\">\n",
              "      <th></th>\n",
              "      <th>Age</th>\n",
              "      <th>Insurance</th>\n",
              "    </tr>\n",
              "  </thead>\n",
              "  <tbody>\n",
              "    <tr>\n",
              "      <th>0</th>\n",
              "      <td>1</td>\n",
              "      <td>0</td>\n",
              "    </tr>\n",
              "    <tr>\n",
              "      <th>1</th>\n",
              "      <td>5</td>\n",
              "      <td>1</td>\n",
              "    </tr>\n",
              "    <tr>\n",
              "      <th>2</th>\n",
              "      <td>16</td>\n",
              "      <td>0</td>\n",
              "    </tr>\n",
              "    <tr>\n",
              "      <th>3</th>\n",
              "      <td>12</td>\n",
              "      <td>0</td>\n",
              "    </tr>\n",
              "    <tr>\n",
              "      <th>4</th>\n",
              "      <td>22</td>\n",
              "      <td>0</td>\n",
              "    </tr>\n",
              "    <tr>\n",
              "      <th>5</th>\n",
              "      <td>58</td>\n",
              "      <td>1</td>\n",
              "    </tr>\n",
              "    <tr>\n",
              "      <th>6</th>\n",
              "      <td>20</td>\n",
              "      <td>0</td>\n",
              "    </tr>\n",
              "    <tr>\n",
              "      <th>7</th>\n",
              "      <td>28</td>\n",
              "      <td>0</td>\n",
              "    </tr>\n",
              "    <tr>\n",
              "      <th>8</th>\n",
              "      <td>30</td>\n",
              "      <td>1</td>\n",
              "    </tr>\n",
              "    <tr>\n",
              "      <th>9</th>\n",
              "      <td>35</td>\n",
              "      <td>0</td>\n",
              "    </tr>\n",
              "    <tr>\n",
              "      <th>10</th>\n",
              "      <td>50</td>\n",
              "      <td>1</td>\n",
              "    </tr>\n",
              "    <tr>\n",
              "      <th>11</th>\n",
              "      <td>49</td>\n",
              "      <td>1</td>\n",
              "    </tr>\n",
              "    <tr>\n",
              "      <th>12</th>\n",
              "      <td>62</td>\n",
              "      <td>1</td>\n",
              "    </tr>\n",
              "    <tr>\n",
              "      <th>13</th>\n",
              "      <td>70</td>\n",
              "      <td>1</td>\n",
              "    </tr>\n",
              "  </tbody>\n",
              "</table>\n",
              "</div>\n",
              "    <div class=\"colab-df-buttons\">\n",
              "\n",
              "  <div class=\"colab-df-container\">\n",
              "    <button class=\"colab-df-convert\" onclick=\"convertToInteractive('df-8bbe1977-e0ef-4267-936a-8d1ad09f3dd8')\"\n",
              "            title=\"Convert this dataframe to an interactive table.\"\n",
              "            style=\"display:none;\">\n",
              "\n",
              "  <svg xmlns=\"http://www.w3.org/2000/svg\" height=\"24px\" viewBox=\"0 -960 960 960\">\n",
              "    <path d=\"M120-120v-720h720v720H120Zm60-500h600v-160H180v160Zm220 220h160v-160H400v160Zm0 220h160v-160H400v160ZM180-400h160v-160H180v160Zm440 0h160v-160H620v160ZM180-180h160v-160H180v160Zm440 0h160v-160H620v160Z\"/>\n",
              "  </svg>\n",
              "    </button>\n",
              "\n",
              "  <style>\n",
              "    .colab-df-container {\n",
              "      display:flex;\n",
              "      gap: 12px;\n",
              "    }\n",
              "\n",
              "    .colab-df-convert {\n",
              "      background-color: #E8F0FE;\n",
              "      border: none;\n",
              "      border-radius: 50%;\n",
              "      cursor: pointer;\n",
              "      display: none;\n",
              "      fill: #1967D2;\n",
              "      height: 32px;\n",
              "      padding: 0 0 0 0;\n",
              "      width: 32px;\n",
              "    }\n",
              "\n",
              "    .colab-df-convert:hover {\n",
              "      background-color: #E2EBFA;\n",
              "      box-shadow: 0px 1px 2px rgba(60, 64, 67, 0.3), 0px 1px 3px 1px rgba(60, 64, 67, 0.15);\n",
              "      fill: #174EA6;\n",
              "    }\n",
              "\n",
              "    .colab-df-buttons div {\n",
              "      margin-bottom: 4px;\n",
              "    }\n",
              "\n",
              "    [theme=dark] .colab-df-convert {\n",
              "      background-color: #3B4455;\n",
              "      fill: #D2E3FC;\n",
              "    }\n",
              "\n",
              "    [theme=dark] .colab-df-convert:hover {\n",
              "      background-color: #434B5C;\n",
              "      box-shadow: 0px 1px 3px 1px rgba(0, 0, 0, 0.15);\n",
              "      filter: drop-shadow(0px 1px 2px rgba(0, 0, 0, 0.3));\n",
              "      fill: #FFFFFF;\n",
              "    }\n",
              "  </style>\n",
              "\n",
              "    <script>\n",
              "      const buttonEl =\n",
              "        document.querySelector('#df-8bbe1977-e0ef-4267-936a-8d1ad09f3dd8 button.colab-df-convert');\n",
              "      buttonEl.style.display =\n",
              "        google.colab.kernel.accessAllowed ? 'block' : 'none';\n",
              "\n",
              "      async function convertToInteractive(key) {\n",
              "        const element = document.querySelector('#df-8bbe1977-e0ef-4267-936a-8d1ad09f3dd8');\n",
              "        const dataTable =\n",
              "          await google.colab.kernel.invokeFunction('convertToInteractive',\n",
              "                                                    [key], {});\n",
              "        if (!dataTable) return;\n",
              "\n",
              "        const docLinkHtml = 'Like what you see? Visit the ' +\n",
              "          '<a target=\"_blank\" href=https://colab.research.google.com/notebooks/data_table.ipynb>data table notebook</a>'\n",
              "          + ' to learn more about interactive tables.';\n",
              "        element.innerHTML = '';\n",
              "        dataTable['output_type'] = 'display_data';\n",
              "        await google.colab.output.renderOutput(dataTable, element);\n",
              "        const docLink = document.createElement('div');\n",
              "        docLink.innerHTML = docLinkHtml;\n",
              "        element.appendChild(docLink);\n",
              "      }\n",
              "    </script>\n",
              "  </div>\n",
              "\n",
              "\n",
              "<div id=\"df-9313e9a8-578a-408b-bad0-004b71fb2258\">\n",
              "  <button class=\"colab-df-quickchart\" onclick=\"quickchart('df-9313e9a8-578a-408b-bad0-004b71fb2258')\"\n",
              "            title=\"Suggest charts\"\n",
              "            style=\"display:none;\">\n",
              "\n",
              "<svg xmlns=\"http://www.w3.org/2000/svg\" height=\"24px\"viewBox=\"0 0 24 24\"\n",
              "     width=\"24px\">\n",
              "    <g>\n",
              "        <path d=\"M19 3H5c-1.1 0-2 .9-2 2v14c0 1.1.9 2 2 2h14c1.1 0 2-.9 2-2V5c0-1.1-.9-2-2-2zM9 17H7v-7h2v7zm4 0h-2V7h2v10zm4 0h-2v-4h2v4z\"/>\n",
              "    </g>\n",
              "</svg>\n",
              "  </button>\n",
              "\n",
              "<style>\n",
              "  .colab-df-quickchart {\n",
              "      --bg-color: #E8F0FE;\n",
              "      --fill-color: #1967D2;\n",
              "      --hover-bg-color: #E2EBFA;\n",
              "      --hover-fill-color: #174EA6;\n",
              "      --disabled-fill-color: #AAA;\n",
              "      --disabled-bg-color: #DDD;\n",
              "  }\n",
              "\n",
              "  [theme=dark] .colab-df-quickchart {\n",
              "      --bg-color: #3B4455;\n",
              "      --fill-color: #D2E3FC;\n",
              "      --hover-bg-color: #434B5C;\n",
              "      --hover-fill-color: #FFFFFF;\n",
              "      --disabled-bg-color: #3B4455;\n",
              "      --disabled-fill-color: #666;\n",
              "  }\n",
              "\n",
              "  .colab-df-quickchart {\n",
              "    background-color: var(--bg-color);\n",
              "    border: none;\n",
              "    border-radius: 50%;\n",
              "    cursor: pointer;\n",
              "    display: none;\n",
              "    fill: var(--fill-color);\n",
              "    height: 32px;\n",
              "    padding: 0;\n",
              "    width: 32px;\n",
              "  }\n",
              "\n",
              "  .colab-df-quickchart:hover {\n",
              "    background-color: var(--hover-bg-color);\n",
              "    box-shadow: 0 1px 2px rgba(60, 64, 67, 0.3), 0 1px 3px 1px rgba(60, 64, 67, 0.15);\n",
              "    fill: var(--button-hover-fill-color);\n",
              "  }\n",
              "\n",
              "  .colab-df-quickchart-complete:disabled,\n",
              "  .colab-df-quickchart-complete:disabled:hover {\n",
              "    background-color: var(--disabled-bg-color);\n",
              "    fill: var(--disabled-fill-color);\n",
              "    box-shadow: none;\n",
              "  }\n",
              "\n",
              "  .colab-df-spinner {\n",
              "    border: 2px solid var(--fill-color);\n",
              "    border-color: transparent;\n",
              "    border-bottom-color: var(--fill-color);\n",
              "    animation:\n",
              "      spin 1s steps(1) infinite;\n",
              "  }\n",
              "\n",
              "  @keyframes spin {\n",
              "    0% {\n",
              "      border-color: transparent;\n",
              "      border-bottom-color: var(--fill-color);\n",
              "      border-left-color: var(--fill-color);\n",
              "    }\n",
              "    20% {\n",
              "      border-color: transparent;\n",
              "      border-left-color: var(--fill-color);\n",
              "      border-top-color: var(--fill-color);\n",
              "    }\n",
              "    30% {\n",
              "      border-color: transparent;\n",
              "      border-left-color: var(--fill-color);\n",
              "      border-top-color: var(--fill-color);\n",
              "      border-right-color: var(--fill-color);\n",
              "    }\n",
              "    40% {\n",
              "      border-color: transparent;\n",
              "      border-right-color: var(--fill-color);\n",
              "      border-top-color: var(--fill-color);\n",
              "    }\n",
              "    60% {\n",
              "      border-color: transparent;\n",
              "      border-right-color: var(--fill-color);\n",
              "    }\n",
              "    80% {\n",
              "      border-color: transparent;\n",
              "      border-right-color: var(--fill-color);\n",
              "      border-bottom-color: var(--fill-color);\n",
              "    }\n",
              "    90% {\n",
              "      border-color: transparent;\n",
              "      border-bottom-color: var(--fill-color);\n",
              "    }\n",
              "  }\n",
              "</style>\n",
              "\n",
              "  <script>\n",
              "    async function quickchart(key) {\n",
              "      const quickchartButtonEl =\n",
              "        document.querySelector('#' + key + ' button');\n",
              "      quickchartButtonEl.disabled = true;  // To prevent multiple clicks.\n",
              "      quickchartButtonEl.classList.add('colab-df-spinner');\n",
              "      try {\n",
              "        const charts = await google.colab.kernel.invokeFunction(\n",
              "            'suggestCharts', [key], {});\n",
              "      } catch (error) {\n",
              "        console.error('Error during call to suggestCharts:', error);\n",
              "      }\n",
              "      quickchartButtonEl.classList.remove('colab-df-spinner');\n",
              "      quickchartButtonEl.classList.add('colab-df-quickchart-complete');\n",
              "    }\n",
              "    (() => {\n",
              "      let quickchartButtonEl =\n",
              "        document.querySelector('#df-9313e9a8-578a-408b-bad0-004b71fb2258 button');\n",
              "      quickchartButtonEl.style.display =\n",
              "        google.colab.kernel.accessAllowed ? 'block' : 'none';\n",
              "    })();\n",
              "  </script>\n",
              "</div>\n",
              "\n",
              "  <div id=\"id_a9e6a434-7e97-40d8-bdff-13970422b899\">\n",
              "    <style>\n",
              "      .colab-df-generate {\n",
              "        background-color: #E8F0FE;\n",
              "        border: none;\n",
              "        border-radius: 50%;\n",
              "        cursor: pointer;\n",
              "        display: none;\n",
              "        fill: #1967D2;\n",
              "        height: 32px;\n",
              "        padding: 0 0 0 0;\n",
              "        width: 32px;\n",
              "      }\n",
              "\n",
              "      .colab-df-generate:hover {\n",
              "        background-color: #E2EBFA;\n",
              "        box-shadow: 0px 1px 2px rgba(60, 64, 67, 0.3), 0px 1px 3px 1px rgba(60, 64, 67, 0.15);\n",
              "        fill: #174EA6;\n",
              "      }\n",
              "\n",
              "      [theme=dark] .colab-df-generate {\n",
              "        background-color: #3B4455;\n",
              "        fill: #D2E3FC;\n",
              "      }\n",
              "\n",
              "      [theme=dark] .colab-df-generate:hover {\n",
              "        background-color: #434B5C;\n",
              "        box-shadow: 0px 1px 3px 1px rgba(0, 0, 0, 0.15);\n",
              "        filter: drop-shadow(0px 1px 2px rgba(0, 0, 0, 0.3));\n",
              "        fill: #FFFFFF;\n",
              "      }\n",
              "    </style>\n",
              "    <button class=\"colab-df-generate\" onclick=\"generateWithVariable('df')\"\n",
              "            title=\"Generate code using this dataframe.\"\n",
              "            style=\"display:none;\">\n",
              "\n",
              "  <svg xmlns=\"http://www.w3.org/2000/svg\" height=\"24px\"viewBox=\"0 0 24 24\"\n",
              "       width=\"24px\">\n",
              "    <path d=\"M7,19H8.4L18.45,9,17,7.55,7,17.6ZM5,21V16.75L18.45,3.32a2,2,0,0,1,2.83,0l1.4,1.43a1.91,1.91,0,0,1,.58,1.4,1.91,1.91,0,0,1-.58,1.4L9.25,21ZM18.45,9,17,7.55Zm-12,3A5.31,5.31,0,0,0,4.9,8.1,5.31,5.31,0,0,0,1,6.5,5.31,5.31,0,0,0,4.9,4.9,5.31,5.31,0,0,0,6.5,1,5.31,5.31,0,0,0,8.1,4.9,5.31,5.31,0,0,0,12,6.5,5.46,5.46,0,0,0,6.5,12Z\"/>\n",
              "  </svg>\n",
              "    </button>\n",
              "    <script>\n",
              "      (() => {\n",
              "      const buttonEl =\n",
              "        document.querySelector('#id_a9e6a434-7e97-40d8-bdff-13970422b899 button.colab-df-generate');\n",
              "      buttonEl.style.display =\n",
              "        google.colab.kernel.accessAllowed ? 'block' : 'none';\n",
              "\n",
              "      buttonEl.onclick = () => {\n",
              "        google.colab.notebook.generateWithVariable('df');\n",
              "      }\n",
              "      })();\n",
              "    </script>\n",
              "  </div>\n",
              "\n",
              "    </div>\n",
              "  </div>\n"
            ],
            "application/vnd.google.colaboratory.intrinsic+json": {
              "type": "dataframe",
              "variable_name": "df",
              "summary": "{\n  \"name\": \"df\",\n  \"rows\": 14,\n  \"fields\": [\n    {\n      \"column\": \"Age\",\n      \"properties\": {\n        \"dtype\": \"number\",\n        \"std\": 21,\n        \"min\": 1,\n        \"max\": 70,\n        \"num_unique_values\": 14,\n        \"samples\": [\n          35,\n          49,\n          1\n        ],\n        \"semantic_type\": \"\",\n        \"description\": \"\"\n      }\n    },\n    {\n      \"column\": \"Insurance\",\n      \"properties\": {\n        \"dtype\": \"number\",\n        \"std\": 0,\n        \"min\": 0,\n        \"max\": 1,\n        \"num_unique_values\": 2,\n        \"samples\": [\n          1,\n          0\n        ],\n        \"semantic_type\": \"\",\n        \"description\": \"\"\n      }\n    }\n  ]\n}"
            }
          },
          "metadata": {},
          "execution_count": 19
        }
      ]
    },
    {
      "cell_type": "code",
      "source": [
        "x = df[[\"Age\"]].values\n",
        "y = df[['Insurance']].values"
      ],
      "metadata": {
        "id": "KQeCxgEczsy2"
      },
      "execution_count": 20,
      "outputs": []
    },
    {
      "cell_type": "code",
      "source": [
        "y\n"
      ],
      "metadata": {
        "colab": {
          "base_uri": "https://localhost:8080/"
        },
        "id": "CSwTbKFayd1f",
        "outputId": "7d89d3a8-2f9c-42c9-81ef-f81b77c8aedb"
      },
      "execution_count": 21,
      "outputs": [
        {
          "output_type": "execute_result",
          "data": {
            "text/plain": [
              "array([[0],\n",
              "       [1],\n",
              "       [0],\n",
              "       [0],\n",
              "       [0],\n",
              "       [1],\n",
              "       [0],\n",
              "       [0],\n",
              "       [1],\n",
              "       [0],\n",
              "       [1],\n",
              "       [1],\n",
              "       [1],\n",
              "       [1]])"
            ]
          },
          "metadata": {},
          "execution_count": 21
        }
      ]
    },
    {
      "cell_type": "code",
      "source": [
        "from sklearn.model_selection import train_test_split\n",
        "x_train,x_test, y_train, y_test = train_test_split(x,y, test_size= 0.5, random_state= 0)"
      ],
      "metadata": {
        "id": "vhAjSnv4PRcz"
      },
      "execution_count": 22,
      "outputs": []
    },
    {
      "cell_type": "code",
      "source": [
        "from sklearn.linear_model import LogisticRegression"
      ],
      "metadata": {
        "id": "6pY615D3PjqR"
      },
      "execution_count": 23,
      "outputs": []
    },
    {
      "cell_type": "code",
      "source": [
        "lr = LogisticRegression()"
      ],
      "metadata": {
        "id": "3P-QsE-ePztZ"
      },
      "execution_count": 24,
      "outputs": []
    },
    {
      "cell_type": "code",
      "source": [
        "lr.fit(x_train, y_train)"
      ],
      "metadata": {
        "colab": {
          "base_uri": "https://localhost:8080/",
          "height": 129
        },
        "id": "Z3wl13kIP471",
        "outputId": "889e3505-1350-43da-b81c-772425772263"
      },
      "execution_count": 25,
      "outputs": [
        {
          "output_type": "stream",
          "name": "stderr",
          "text": [
            "/usr/local/lib/python3.10/dist-packages/sklearn/utils/validation.py:1143: DataConversionWarning: A column-vector y was passed when a 1d array was expected. Please change the shape of y to (n_samples, ), for example using ravel().\n",
            "  y = column_or_1d(y, warn=True)\n"
          ]
        },
        {
          "output_type": "execute_result",
          "data": {
            "text/plain": [
              "LogisticRegression()"
            ],
            "text/html": [
              "<style>#sk-container-id-2 {color: black;background-color: white;}#sk-container-id-2 pre{padding: 0;}#sk-container-id-2 div.sk-toggleable {background-color: white;}#sk-container-id-2 label.sk-toggleable__label {cursor: pointer;display: block;width: 100%;margin-bottom: 0;padding: 0.3em;box-sizing: border-box;text-align: center;}#sk-container-id-2 label.sk-toggleable__label-arrow:before {content: \"▸\";float: left;margin-right: 0.25em;color: #696969;}#sk-container-id-2 label.sk-toggleable__label-arrow:hover:before {color: black;}#sk-container-id-2 div.sk-estimator:hover label.sk-toggleable__label-arrow:before {color: black;}#sk-container-id-2 div.sk-toggleable__content {max-height: 0;max-width: 0;overflow: hidden;text-align: left;background-color: #f0f8ff;}#sk-container-id-2 div.sk-toggleable__content pre {margin: 0.2em;color: black;border-radius: 0.25em;background-color: #f0f8ff;}#sk-container-id-2 input.sk-toggleable__control:checked~div.sk-toggleable__content {max-height: 200px;max-width: 100%;overflow: auto;}#sk-container-id-2 input.sk-toggleable__control:checked~label.sk-toggleable__label-arrow:before {content: \"▾\";}#sk-container-id-2 div.sk-estimator input.sk-toggleable__control:checked~label.sk-toggleable__label {background-color: #d4ebff;}#sk-container-id-2 div.sk-label input.sk-toggleable__control:checked~label.sk-toggleable__label {background-color: #d4ebff;}#sk-container-id-2 input.sk-hidden--visually {border: 0;clip: rect(1px 1px 1px 1px);clip: rect(1px, 1px, 1px, 1px);height: 1px;margin: -1px;overflow: hidden;padding: 0;position: absolute;width: 1px;}#sk-container-id-2 div.sk-estimator {font-family: monospace;background-color: #f0f8ff;border: 1px dotted black;border-radius: 0.25em;box-sizing: border-box;margin-bottom: 0.5em;}#sk-container-id-2 div.sk-estimator:hover {background-color: #d4ebff;}#sk-container-id-2 div.sk-parallel-item::after {content: \"\";width: 100%;border-bottom: 1px solid gray;flex-grow: 1;}#sk-container-id-2 div.sk-label:hover label.sk-toggleable__label {background-color: #d4ebff;}#sk-container-id-2 div.sk-serial::before {content: \"\";position: absolute;border-left: 1px solid gray;box-sizing: border-box;top: 0;bottom: 0;left: 50%;z-index: 0;}#sk-container-id-2 div.sk-serial {display: flex;flex-direction: column;align-items: center;background-color: white;padding-right: 0.2em;padding-left: 0.2em;position: relative;}#sk-container-id-2 div.sk-item {position: relative;z-index: 1;}#sk-container-id-2 div.sk-parallel {display: flex;align-items: stretch;justify-content: center;background-color: white;position: relative;}#sk-container-id-2 div.sk-item::before, #sk-container-id-2 div.sk-parallel-item::before {content: \"\";position: absolute;border-left: 1px solid gray;box-sizing: border-box;top: 0;bottom: 0;left: 50%;z-index: -1;}#sk-container-id-2 div.sk-parallel-item {display: flex;flex-direction: column;z-index: 1;position: relative;background-color: white;}#sk-container-id-2 div.sk-parallel-item:first-child::after {align-self: flex-end;width: 50%;}#sk-container-id-2 div.sk-parallel-item:last-child::after {align-self: flex-start;width: 50%;}#sk-container-id-2 div.sk-parallel-item:only-child::after {width: 0;}#sk-container-id-2 div.sk-dashed-wrapped {border: 1px dashed gray;margin: 0 0.4em 0.5em 0.4em;box-sizing: border-box;padding-bottom: 0.4em;background-color: white;}#sk-container-id-2 div.sk-label label {font-family: monospace;font-weight: bold;display: inline-block;line-height: 1.2em;}#sk-container-id-2 div.sk-label-container {text-align: center;}#sk-container-id-2 div.sk-container {/* jupyter's `normalize.less` sets `[hidden] { display: none; }` but bootstrap.min.css set `[hidden] { display: none !important; }` so we also need the `!important` here to be able to override the default hidden behavior on the sphinx rendered scikit-learn.org. See: https://github.com/scikit-learn/scikit-learn/issues/21755 */display: inline-block !important;position: relative;}#sk-container-id-2 div.sk-text-repr-fallback {display: none;}</style><div id=\"sk-container-id-2\" class=\"sk-top-container\"><div class=\"sk-text-repr-fallback\"><pre>LogisticRegression()</pre><b>In a Jupyter environment, please rerun this cell to show the HTML representation or trust the notebook. <br />On GitHub, the HTML representation is unable to render, please try loading this page with nbviewer.org.</b></div><div class=\"sk-container\" hidden><div class=\"sk-item\"><div class=\"sk-estimator sk-toggleable\"><input class=\"sk-toggleable__control sk-hidden--visually\" id=\"sk-estimator-id-2\" type=\"checkbox\" checked><label for=\"sk-estimator-id-2\" class=\"sk-toggleable__label sk-toggleable__label-arrow\">LogisticRegression</label><div class=\"sk-toggleable__content\"><pre>LogisticRegression()</pre></div></div></div></div></div>"
            ]
          },
          "metadata": {},
          "execution_count": 25
        }
      ]
    },
    {
      "cell_type": "code",
      "source": [
        "x_test"
      ],
      "metadata": {
        "colab": {
          "base_uri": "https://localhost:8080/"
        },
        "id": "ZEUtkWCVSJk0",
        "outputId": "e10b0c97-de6f-4e65-a730-046ff72810d9"
      },
      "execution_count": 26,
      "outputs": [
        {
          "output_type": "execute_result",
          "data": {
            "text/plain": [
              "array([[30],\n",
              "       [20],\n",
              "       [22],\n",
              "       [49],\n",
              "       [16],\n",
              "       [70],\n",
              "       [35]])"
            ]
          },
          "metadata": {},
          "execution_count": 26
        }
      ]
    },
    {
      "cell_type": "code",
      "source": [
        "y_test"
      ],
      "metadata": {
        "colab": {
          "base_uri": "https://localhost:8080/"
        },
        "id": "RvxvhohdSSpF",
        "outputId": "ef27093e-73fc-4f2e-9e54-2e5e2f681177"
      },
      "execution_count": 27,
      "outputs": [
        {
          "output_type": "execute_result",
          "data": {
            "text/plain": [
              "array([[1],\n",
              "       [0],\n",
              "       [0],\n",
              "       [1],\n",
              "       [0],\n",
              "       [1],\n",
              "       [0]])"
            ]
          },
          "metadata": {},
          "execution_count": 27
        }
      ]
    },
    {
      "cell_type": "code",
      "source": [
        "lr.predict(x_test)"
      ],
      "metadata": {
        "colab": {
          "base_uri": "https://localhost:8080/"
        },
        "id": "2LDGUoHNSYOS",
        "outputId": "f9532b96-793d-4e64-c1bd-f95ddb78d451"
      },
      "execution_count": 28,
      "outputs": [
        {
          "output_type": "execute_result",
          "data": {
            "text/plain": [
              "array([1, 0, 0, 1, 0, 1, 1])"
            ]
          },
          "metadata": {},
          "execution_count": 28
        }
      ]
    },
    {
      "cell_type": "code",
      "source": [
        "lr.predict_proba(x_test)"
      ],
      "metadata": {
        "colab": {
          "base_uri": "https://localhost:8080/"
        },
        "id": "Tg-URglNSc11",
        "outputId": "44ff300b-59f1-4d79-9d47-fa6792fa1a28"
      },
      "execution_count": 29,
      "outputs": [
        {
          "output_type": "execute_result",
          "data": {
            "text/plain": [
              "array([[0.38969448, 0.61030552],\n",
              "       [0.55720536, 0.44279464],\n",
              "       [0.52351835, 0.47648165],\n",
              "       [0.14961766, 0.85038234],\n",
              "       [0.62274071, 0.37725929],\n",
              "       [0.04060958, 0.95939042],\n",
              "       [0.31263935, 0.68736065]])"
            ]
          },
          "metadata": {},
          "execution_count": 29
        }
      ]
    },
    {
      "cell_type": "code",
      "source": [
        "lr.score(x_train,y_train)"
      ],
      "metadata": {
        "colab": {
          "base_uri": "https://localhost:8080/"
        },
        "id": "oTwVA_deTVW0",
        "outputId": "1e68c6f6-2cfc-4690-b9a4-bb7147b0b273"
      },
      "execution_count": 30,
      "outputs": [
        {
          "output_type": "execute_result",
          "data": {
            "text/plain": [
              "0.7142857142857143"
            ]
          },
          "metadata": {},
          "execution_count": 30
        }
      ]
    },
    {
      "cell_type": "code",
      "source": [
        "lr.score(x_test,y_test)"
      ],
      "metadata": {
        "colab": {
          "base_uri": "https://localhost:8080/"
        },
        "id": "gHHxQ3CrTdwn",
        "outputId": "e43898a9-98ae-4b6d-cf41-b45e96bda6e7"
      },
      "execution_count": 31,
      "outputs": [
        {
          "output_type": "execute_result",
          "data": {
            "text/plain": [
              "0.8571428571428571"
            ]
          },
          "metadata": {},
          "execution_count": 31
        }
      ]
    },
    {
      "cell_type": "code",
      "source": [
        "lr.coef_"
      ],
      "metadata": {
        "colab": {
          "base_uri": "https://localhost:8080/"
        },
        "id": "E4ne3SxAUJWC",
        "outputId": "69487843-7756-451d-ce87-92c080e20b64"
      },
      "execution_count": 32,
      "outputs": [
        {
          "output_type": "execute_result",
          "data": {
            "text/plain": [
              "array([[0.06784244]])"
            ]
          },
          "metadata": {},
          "execution_count": 32
        }
      ]
    },
    {
      "cell_type": "code",
      "source": [
        "lr.intercept_"
      ],
      "metadata": {
        "colab": {
          "base_uri": "https://localhost:8080/"
        },
        "id": "wD0Knn32Ue5a",
        "outputId": "08f2978b-5f5d-416b-ee9e-c95ee333161d"
      },
      "execution_count": 33,
      "outputs": [
        {
          "output_type": "execute_result",
          "data": {
            "text/plain": [
              "array([-1.58667653])"
            ]
          },
          "metadata": {},
          "execution_count": 33
        }
      ]
    },
    {
      "cell_type": "code",
      "source": [
        "plt.scatter(x,y)\n",
        "plt.plot(x,lr.predict(x),color='red')\n",
        "plt.show()"
      ],
      "metadata": {
        "colab": {
          "base_uri": "https://localhost:8080/",
          "height": 430
        },
        "id": "BMyQcZvnUjFd",
        "outputId": "6f690269-25b4-4188-ad20-149588c57d52"
      },
      "execution_count": 34,
      "outputs": [
        {
          "output_type": "display_data",
          "data": {
            "text/plain": [
              "<Figure size 640x480 with 1 Axes>"
            ],
            "image/png": "[encoded data removed]"
          },
          "metadata": {}
        }
      ]
    },
    {
      "cell_type": "code",
      "source": [
        "plt.scatter(x,y)\n",
        "plt.plot(x_test,lr.predict(x_test),color='red')\n",
        "plt.show()"
      ],
      "metadata": {
        "colab": {
          "base_uri": "https://localhost:8080/",
          "height": 430
        },
        "id": "0qf6Wr0wV_y-",
        "outputId": "6ff49cc6-a671-4e5a-f4a6-71ceb717078d"
      },
      "execution_count": 35,
      "outputs": [
        {
          "output_type": "display_data",
          "data": {
            "text/plain": [
              "<Figure size 640x480 with 1 Axes>"
            ],
            "image/png": "[encoded data removed]"
          },
          "metadata": {}
        }
      ]
    },
    {
      "cell_type": "markdown",
      "source": [
        "# Multi class Logistic Regression"
      ],
      "metadata": {
        "id": "l3op6qZEWYJv"
      }
    },
    {
      "cell_type": "code",
      "source": [
        "data = {\n",
        "    'Feature 1': [85, 72, 90, 60, 55, 95, 80, 48, 78, 35],\n",
        "    'Feature 2': [78, 65, 82, 52, 48, 88, 75, 42, 70, 30],\n",
        "    'Grade': ['A', 'B', 'A', 'C', 'D', 'A', 'B', 'D', 'B', 'F']\n",
        "}"
      ],
      "metadata": {
        "id": "7MQZV_MWWdKg"
      },
      "execution_count": 94,
      "outputs": []
    },
    {
      "cell_type": "code",
      "source": [
        "df3 = pd.DataFrame(data)\n",
        "df3"
      ],
      "metadata": {
        "colab": {
          "base_uri": "https://localhost:8080/",
          "height": 363
        },
        "id": "-TxQ_jlJWhxw",
        "outputId": "e769cc18-43ae-4448-c54c-96e7abcad4ce"
      },
      "execution_count": 95,
      "outputs": [
        {
          "output_type": "execute_result",
          "data": {
            "text/plain": [
              "   Feature 1  Feature 2 Grade\n",
              "0         85         78     A\n",
              "1         72         65     B\n",
              "2         90         82     A\n",
              "3         60         52     C\n",
              "4         55         48     D\n",
              "5         95         88     A\n",
              "6         80         75     B\n",
              "7         48         42     D\n",
              "8         78         70     B\n",
              "9         35         30     F"
            ],
            "text/html": [
              "\n",
              "  <div id=\"df-117169e8-c8ac-4d8b-8b19-7cb130fc09a4\" class=\"colab-df-container\">\n",
              "    <div>\n",
              "<style scoped>\n",
              "    .dataframe tbody tr th:only-of-type {\n",
              "        vertical-align: middle;\n",
              "    }\n",
              "\n",
              "    .dataframe tbody tr th {\n",
              "        vertical-align: top;\n",
              "    }\n",
              "\n",
              "    .dataframe thead th {\n",
              "        text-align: right;\n",
              "    }\n",
              "</style>\n",
              "<table border=\"1\" class=\"dataframe\">\n",
              "  <thead>\n",
              "    <tr style=\"text-align: right;\">\n",
              "      <th></th>\n",
              "      <th>Feature 1</th>\n",
              "      <th>Feature 2</th>\n",
              "      <th>Grade</th>\n",
              "    </tr>\n",
              "  </thead>\n",
              "  <tbody>\n",
              "    <tr>\n",
              "      <th>0</th>\n",
              "      <td>85</td>\n",
              "      <td>78</td>\n",
              "      <td>A</td>\n",
              "    </tr>\n",
              "    <tr>\n",
              "      <th>1</th>\n",
              "      <td>72</td>\n",
              "      <td>65</td>\n",
              "      <td>B</td>\n",
              "    </tr>\n",
              "    <tr>\n",
              "      <th>2</th>\n",
              "      <td>90</td>\n",
              "      <td>82</td>\n",
              "      <td>A</td>\n",
              "    </tr>\n",
              "    <tr>\n",
              "      <th>3</th>\n",
              "      <td>60</td>\n",
              "      <td>52</td>\n",
              "      <td>C</td>\n",
              "    </tr>\n",
              "    <tr>\n",
              "      <th>4</th>\n",
              "      <td>55</td>\n",
              "      <td>48</td>\n",
              "      <td>D</td>\n",
              "    </tr>\n",
              "    <tr>\n",
              "      <th>5</th>\n",
              "      <td>95</td>\n",
              "      <td>88</td>\n",
              "      <td>A</td>\n",
              "    </tr>\n",
              "    <tr>\n",
              "      <th>6</th>\n",
              "      <td>80</td>\n",
              "      <td>75</td>\n",
              "      <td>B</td>\n",
              "    </tr>\n",
              "    <tr>\n",
              "      <th>7</th>\n",
              "      <td>48</td>\n",
              "      <td>42</td>\n",
              "      <td>D</td>\n",
              "    </tr>\n",
              "    <tr>\n",
              "      <th>8</th>\n",
              "      <td>78</td>\n",
              "      <td>70</td>\n",
              "      <td>B</td>\n",
              "    </tr>\n",
              "    <tr>\n",
              "      <th>9</th>\n",
              "      <td>35</td>\n",
              "      <td>30</td>\n",
              "      <td>F</td>\n",
              "    </tr>\n",
              "  </tbody>\n",
              "</table>\n",
              "</div>\n",
              "    <div class=\"colab-df-buttons\">\n",
              "\n",
              "  <div class=\"colab-df-container\">\n",
              "    <button class=\"colab-df-convert\" onclick=\"convertToInteractive('df-117169e8-c8ac-4d8b-8b19-7cb130fc09a4')\"\n",
              "            title=\"Convert this dataframe to an interactive table.\"\n",
              "            style=\"display:none;\">\n",
              "\n",
              "  <svg xmlns=\"http://www.w3.org/2000/svg\" height=\"24px\" viewBox=\"0 -960 960 960\">\n",
              "    <path d=\"M120-120v-720h720v720H120Zm60-500h600v-160H180v160Zm220 220h160v-160H400v160Zm0 220h160v-160H400v160ZM180-400h160v-160H180v160Zm440 0h160v-160H620v160ZM180-180h160v-160H180v160Zm440 0h160v-160H620v160Z\"/>\n",
              "  </svg>\n",
              "    </button>\n",
              "\n",
              "  <style>\n",
              "    .colab-df-container {\n",
              "      display:flex;\n",
              "      gap: 12px;\n",
              "    }\n",
              "\n",
              "    .colab-df-convert {\n",
              "      background-color: #E8F0FE;\n",
              "      border: none;\n",
              "      border-radius: 50%;\n",
              "      cursor: pointer;\n",
              "      display: none;\n",
              "      fill: #1967D2;\n",
              "      height: 32px;\n",
              "      padding: 0 0 0 0;\n",
              "      width: 32px;\n",
              "    }\n",
              "\n",
              "    .colab-df-convert:hover {\n",
              "      background-color: #E2EBFA;\n",
              "      box-shadow: 0px 1px 2px rgba(60, 64, 67, 0.3), 0px 1px 3px 1px rgba(60, 64, 67, 0.15);\n",
              "      fill: #174EA6;\n",
              "    }\n",
              "\n",
              "    .colab-df-buttons div {\n",
              "      margin-bottom: 4px;\n",
              "    }\n",
              "\n",
              "    [theme=dark] .colab-df-convert {\n",
              "      background-color: #3B4455;\n",
              "      fill: #D2E3FC;\n",
              "    }\n",
              "\n",
              "    [theme=dark] .colab-df-convert:hover {\n",
              "      background-color: #434B5C;\n",
              "      box-shadow: 0px 1px 3px 1px rgba(0, 0, 0, 0.15);\n",
              "      filter: drop-shadow(0px 1px 2px rgba(0, 0, 0, 0.3));\n",
              "      fill: #FFFFFF;\n",
              "    }\n",
              "  </style>\n",
              "\n",
              "    <script>\n",
              "      const buttonEl =\n",
              "        document.querySelector('#df-117169e8-c8ac-4d8b-8b19-7cb130fc09a4 button.colab-df-convert');\n",
              "      buttonEl.style.display =\n",
              "        google.colab.kernel.accessAllowed ? 'block' : 'none';\n",
              "\n",
              "      async function convertToInteractive(key) {\n",
              "        const element = document.querySelector('#df-117169e8-c8ac-4d8b-8b19-7cb130fc09a4');\n",
              "        const dataTable =\n",
              "          await google.colab.kernel.invokeFunction('convertToInteractive',\n",
              "                                                    [key], {});\n",
              "        if (!dataTable) return;\n",
              "\n",
              "        const docLinkHtml = 'Like what you see? Visit the ' +\n",
              "          '<a target=\"_blank\" href=https://colab.research.google.com/notebooks/data_table.ipynb>data table notebook</a>'\n",
              "          + ' to learn more about interactive tables.';\n",
              "        element.innerHTML = '';\n",
              "        dataTable['output_type'] = 'display_data';\n",
              "        await google.colab.output.renderOutput(dataTable, element);\n",
              "        const docLink = document.createElement('div');\n",
              "        docLink.innerHTML = docLinkHtml;\n",
              "        element.appendChild(docLink);\n",
              "      }\n",
              "    </script>\n",
              "  </div>\n",
              "\n",
              "\n",
              "<div id=\"df-ce3855d1-ecde-4d78-85ff-400808e55c61\">\n",
              "  <button class=\"colab-df-quickchart\" onclick=\"quickchart('df-ce3855d1-ecde-4d78-85ff-400808e55c61')\"\n",
              "            title=\"Suggest charts\"\n",
              "            style=\"display:none;\">\n",
              "\n",
              "<svg xmlns=\"http://www.w3.org/2000/svg\" height=\"24px\"viewBox=\"0 0 24 24\"\n",
              "     width=\"24px\">\n",
              "    <g>\n",
              "        <path d=\"M19 3H5c-1.1 0-2 .9-2 2v14c0 1.1.9 2 2 2h14c1.1 0 2-.9 2-2V5c0-1.1-.9-2-2-2zM9 17H7v-7h2v7zm4 0h-2V7h2v10zm4 0h-2v-4h2v4z\"/>\n",
              "    </g>\n",
              "</svg>\n",
              "  </button>\n",
              "\n",
              "<style>\n",
              "  .colab-df-quickchart {\n",
              "      --bg-color: #E8F0FE;\n",
              "      --fill-color: #1967D2;\n",
              "      --hover-bg-color: #E2EBFA;\n",
              "      --hover-fill-color: #174EA6;\n",
              "      --disabled-fill-color: #AAA;\n",
              "      --disabled-bg-color: #DDD;\n",
              "  }\n",
              "\n",
              "  [theme=dark] .colab-df-quickchart {\n",
              "      --bg-color: #3B4455;\n",
              "      --fill-color: #D2E3FC;\n",
              "      --hover-bg-color: #434B5C;\n",
              "      --hover-fill-color: #FFFFFF;\n",
              "      --disabled-bg-color: #3B4455;\n",
              "      --disabled-fill-color: #666;\n",
              "  }\n",
              "\n",
              "  .colab-df-quickchart {\n",
              "    background-color: var(--bg-color);\n",
              "    border: none;\n",
              "    border-radius: 50%;\n",
              "    cursor: pointer;\n",
              "    display: none;\n",
              "    fill: var(--fill-color);\n",
              "    height: 32px;\n",
              "    padding: 0;\n",
              "    width: 32px;\n",
              "  }\n",
              "\n",
              "  .colab-df-quickchart:hover {\n",
              "    background-color: var(--hover-bg-color);\n",
              "    box-shadow: 0 1px 2px rgba(60, 64, 67, 0.3), 0 1px 3px 1px rgba(60, 64, 67, 0.15);\n",
              "    fill: var(--button-hover-fill-color);\n",
              "  }\n",
              "\n",
              "  .colab-df-quickchart-complete:disabled,\n",
              "  .colab-df-quickchart-complete:disabled:hover {\n",
              "    background-color: var(--disabled-bg-color);\n",
              "    fill: var(--disabled-fill-color);\n",
              "    box-shadow: none;\n",
              "  }\n",
              "\n",
              "  .colab-df-spinner {\n",
              "    border: 2px solid var(--fill-color);\n",
              "    border-color: transparent;\n",
              "    border-bottom-color: var(--fill-color);\n",
              "    animation:\n",
              "      spin 1s steps(1) infinite;\n",
              "  }\n",
              "\n",
              "  @keyframes spin {\n",
              "    0% {\n",
              "      border-color: transparent;\n",
              "      border-bottom-color: var(--fill-color);\n",
              "      border-left-color: var(--fill-color);\n",
              "    }\n",
              "    20% {\n",
              "      border-color: transparent;\n",
              "      border-left-color: var(--fill-color);\n",
              "      border-top-color: var(--fill-color);\n",
              "    }\n",
              "    30% {\n",
              "      border-color: transparent;\n",
              "      border-left-color: var(--fill-color);\n",
              "      border-top-color: var(--fill-color);\n",
              "      border-right-color: var(--fill-color);\n",
              "    }\n",
              "    40% {\n",
              "      border-color: transparent;\n",
              "      border-right-color: var(--fill-color);\n",
              "      border-top-color: var(--fill-color);\n",
              "    }\n",
              "    60% {\n",
              "      border-color: transparent;\n",
              "      border-right-color: var(--fill-color);\n",
              "    }\n",
              "    80% {\n",
              "      border-color: transparent;\n",
              "      border-right-color: var(--fill-color);\n",
              "      border-bottom-color: var(--fill-color);\n",
              "    }\n",
              "    90% {\n",
              "      border-color: transparent;\n",
              "      border-bottom-color: var(--fill-color);\n",
              "    }\n",
              "  }\n",
              "</style>\n",
              "\n",
              "  <script>\n",
              "    async function quickchart(key) {\n",
              "      const quickchartButtonEl =\n",
              "        document.querySelector('#' + key + ' button');\n",
              "      quickchartButtonEl.disabled = true;  // To prevent multiple clicks.\n",
              "      quickchartButtonEl.classList.add('colab-df-spinner');\n",
              "      try {\n",
              "        const charts = await google.colab.kernel.invokeFunction(\n",
              "            'suggestCharts', [key], {});\n",
              "      } catch (error) {\n",
              "        console.error('Error during call to suggestCharts:', error);\n",
              "      }\n",
              "      quickchartButtonEl.classList.remove('colab-df-spinner');\n",
              "      quickchartButtonEl.classList.add('colab-df-quickchart-complete');\n",
              "    }\n",
              "    (() => {\n",
              "      let quickchartButtonEl =\n",
              "        document.querySelector('#df-ce3855d1-ecde-4d78-85ff-400808e55c61 button');\n",
              "      quickchartButtonEl.style.display =\n",
              "        google.colab.kernel.accessAllowed ? 'block' : 'none';\n",
              "    })();\n",
              "  </script>\n",
              "</div>\n",
              "\n",
              "  <div id=\"id_dda8db12-b3bf-4c89-861e-93cb43e064e0\">\n",
              "    <style>\n",
              "      .colab-df-generate {\n",
              "        background-color: #E8F0FE;\n",
              "        border: none;\n",
              "        border-radius: 50%;\n",
              "        cursor: pointer;\n",
              "        display: none;\n",
              "        fill: #1967D2;\n",
              "        height: 32px;\n",
              "        padding: 0 0 0 0;\n",
              "        width: 32px;\n",
              "      }\n",
              "\n",
              "      .colab-df-generate:hover {\n",
              "        background-color: #E2EBFA;\n",
              "        box-shadow: 0px 1px 2px rgba(60, 64, 67, 0.3), 0px 1px 3px 1px rgba(60, 64, 67, 0.15);\n",
              "        fill: #174EA6;\n",
              "      }\n",
              "\n",
              "      [theme=dark] .colab-df-generate {\n",
              "        background-color: #3B4455;\n",
              "        fill: #D2E3FC;\n",
              "      }\n",
              "\n",
              "      [theme=dark] .colab-df-generate:hover {\n",
              "        background-color: #434B5C;\n",
              "        box-shadow: 0px 1px 3px 1px rgba(0, 0, 0, 0.15);\n",
              "        filter: drop-shadow(0px 1px 2px rgba(0, 0, 0, 0.3));\n",
              "        fill: #FFFFFF;\n",
              "      }\n",
              "    </style>\n",
              "    <button class=\"colab-df-generate\" onclick=\"generateWithVariable('df3')\"\n",
              "            title=\"Generate code using this dataframe.\"\n",
              "            style=\"display:none;\">\n",
              "\n",
              "  <svg xmlns=\"http://www.w3.org/2000/svg\" height=\"24px\"viewBox=\"0 0 24 24\"\n",
              "       width=\"24px\">\n",
              "    <path d=\"M7,19H8.4L18.45,9,17,7.55,7,17.6ZM5,21V16.75L18.45,3.32a2,2,0,0,1,2.83,0l1.4,1.43a1.91,1.91,0,0,1,.58,1.4,1.91,1.91,0,0,1-.58,1.4L9.25,21ZM18.45,9,17,7.55Zm-12,3A5.31,5.31,0,0,0,4.9,8.1,5.31,5.31,0,0,0,1,6.5,5.31,5.31,0,0,0,4.9,4.9,5.31,5.31,0,0,0,6.5,1,5.31,5.31,0,0,0,8.1,4.9,5.31,5.31,0,0,0,12,6.5,5.46,5.46,0,0,0,6.5,12Z\"/>\n",
              "  </svg>\n",
              "    </button>\n",
              "    <script>\n",
              "      (() => {\n",
              "      const buttonEl =\n",
              "        document.querySelector('#id_dda8db12-b3bf-4c89-861e-93cb43e064e0 button.colab-df-generate');\n",
              "      buttonEl.style.display =\n",
              "        google.colab.kernel.accessAllowed ? 'block' : 'none';\n",
              "\n",
              "      buttonEl.onclick = () => {\n",
              "        google.colab.notebook.generateWithVariable('df3');\n",
              "      }\n",
              "      })();\n",
              "    </script>\n",
              "  </div>\n",
              "\n",
              "    </div>\n",
              "  </div>\n"
            ],
            "application/vnd.google.colaboratory.intrinsic+json": {
              "type": "dataframe",
              "variable_name": "df3",
              "summary": "{\n  \"name\": \"df3\",\n  \"rows\": 10,\n  \"fields\": [\n    {\n      \"column\": \"Feature 1\",\n      \"properties\": {\n        \"dtype\": \"number\",\n        \"std\": 19,\n        \"min\": 35,\n        \"max\": 95,\n        \"num_unique_values\": 10,\n        \"samples\": [\n          78,\n          72,\n          95\n        ],\n        \"semantic_type\": \"\",\n        \"description\": \"\"\n      }\n    },\n    {\n      \"column\": \"Feature 2\",\n      \"properties\": {\n        \"dtype\": \"number\",\n        \"std\": 19,\n        \"min\": 30,\n        \"max\": 88,\n        \"num_unique_values\": 10,\n        \"samples\": [\n          70,\n          65,\n          88\n        ],\n        \"semantic_type\": \"\",\n        \"description\": \"\"\n      }\n    },\n    {\n      \"column\": \"Grade\",\n      \"properties\": {\n        \"dtype\": \"string\",\n        \"num_unique_values\": 5,\n        \"samples\": [\n          \"B\",\n          \"F\",\n          \"C\"\n        ],\n        \"semantic_type\": \"\",\n        \"description\": \"\"\n      }\n    }\n  ]\n}"
            }
          },
          "metadata": {},
          "execution_count": 95
        }
      ]
    },
    {
      "cell_type": "code",
      "source": [
        "from sklearn.preprocessing import OrdinalEncoder"
      ],
      "metadata": {
        "id": "CXiUKkcBWqRu"
      },
      "execution_count": 38,
      "outputs": []
    },
    {
      "cell_type": "code",
      "source": [
        "enc = OrdinalEncoder()"
      ],
      "metadata": {
        "id": "A92bETCgXBOE"
      },
      "execution_count": 39,
      "outputs": []
    },
    {
      "cell_type": "code",
      "source": [
        "enc.fit(df3[['Grade']])"
      ],
      "metadata": {
        "colab": {
          "base_uri": "https://localhost:8080/",
          "height": 74
        },
        "id": "cGsCk7axZPUy",
        "outputId": "cf205a58-3eb4-4144-b947-60f91b4637ed"
      },
      "execution_count": 96,
      "outputs": [
        {
          "output_type": "execute_result",
          "data": {
            "text/plain": [
              "OrdinalEncoder()"
            ],
            "text/html": [
              "<style>#sk-container-id-7 {color: black;background-color: white;}#sk-container-id-7 pre{padding: 0;}#sk-container-id-7 div.sk-toggleable {background-color: white;}#sk-container-id-7 label.sk-toggleable__label {cursor: pointer;display: block;width: 100%;margin-bottom: 0;padding: 0.3em;box-sizing: border-box;text-align: center;}#sk-container-id-7 label.sk-toggleable__label-arrow:before {content: \"▸\";float: left;margin-right: 0.25em;color: #696969;}#sk-container-id-7 label.sk-toggleable__label-arrow:hover:before {color: black;}#sk-container-id-7 div.sk-estimator:hover label.sk-toggleable__label-arrow:before {color: black;}#sk-container-id-7 div.sk-toggleable__content {max-height: 0;max-width: 0;overflow: hidden;text-align: left;background-color: #f0f8ff;}#sk-container-id-7 div.sk-toggleable__content pre {margin: 0.2em;color: black;border-radius: 0.25em;background-color: #f0f8ff;}#sk-container-id-7 input.sk-toggleable__control:checked~div.sk-toggleable__content {max-height: 200px;max-width: 100%;overflow: auto;}#sk-container-id-7 input.sk-toggleable__control:checked~label.sk-toggleable__label-arrow:before {content: \"▾\";}#sk-container-id-7 div.sk-estimator input.sk-toggleable__control:checked~label.sk-toggleable__label {background-color: #d4ebff;}#sk-container-id-7 div.sk-label input.sk-toggleable__control:checked~label.sk-toggleable__label {background-color: #d4ebff;}#sk-container-id-7 input.sk-hidden--visually {border: 0;clip: rect(1px 1px 1px 1px);clip: rect(1px, 1px, 1px, 1px);height: 1px;margin: -1px;overflow: hidden;padding: 0;position: absolute;width: 1px;}#sk-container-id-7 div.sk-estimator {font-family: monospace;background-color: #f0f8ff;border: 1px dotted black;border-radius: 0.25em;box-sizing: border-box;margin-bottom: 0.5em;}#sk-container-id-7 div.sk-estimator:hover {background-color: #d4ebff;}#sk-container-id-7 div.sk-parallel-item::after {content: \"\";width: 100%;border-bottom: 1px solid gray;flex-grow: 1;}#sk-container-id-7 div.sk-label:hover label.sk-toggleable__label {background-color: #d4ebff;}#sk-container-id-7 div.sk-serial::before {content: \"\";position: absolute;border-left: 1px solid gray;box-sizing: border-box;top: 0;bottom: 0;left: 50%;z-index: 0;}#sk-container-id-7 div.sk-serial {display: flex;flex-direction: column;align-items: center;background-color: white;padding-right: 0.2em;padding-left: 0.2em;position: relative;}#sk-container-id-7 div.sk-item {position: relative;z-index: 1;}#sk-container-id-7 div.sk-parallel {display: flex;align-items: stretch;justify-content: center;background-color: white;position: relative;}#sk-container-id-7 div.sk-item::before, #sk-container-id-7 div.sk-parallel-item::before {content: \"\";position: absolute;border-left: 1px solid gray;box-sizing: border-box;top: 0;bottom: 0;left: 50%;z-index: -1;}#sk-container-id-7 div.sk-parallel-item {display: flex;flex-direction: column;z-index: 1;position: relative;background-color: white;}#sk-container-id-7 div.sk-parallel-item:first-child::after {align-self: flex-end;width: 50%;}#sk-container-id-7 div.sk-parallel-item:last-child::after {align-self: flex-start;width: 50%;}#sk-container-id-7 div.sk-parallel-item:only-child::after {width: 0;}#sk-container-id-7 div.sk-dashed-wrapped {border: 1px dashed gray;margin: 0 0.4em 0.5em 0.4em;box-sizing: border-box;padding-bottom: 0.4em;background-color: white;}#sk-container-id-7 div.sk-label label {font-family: monospace;font-weight: bold;display: inline-block;line-height: 1.2em;}#sk-container-id-7 div.sk-label-container {text-align: center;}#sk-container-id-7 div.sk-container {/* jupyter's `normalize.less` sets `[hidden] { display: none; }` but bootstrap.min.css set `[hidden] { display: none !important; }` so we also need the `!important` here to be able to override the default hidden behavior on the sphinx rendered scikit-learn.org. See: https://github.com/scikit-learn/scikit-learn/issues/21755 */display: inline-block !important;position: relative;}#sk-container-id-7 div.sk-text-repr-fallback {display: none;}</style><div id=\"sk-container-id-7\" class=\"sk-top-container\"><div class=\"sk-text-repr-fallback\"><pre>OrdinalEncoder()</pre><b>In a Jupyter environment, please rerun this cell to show the HTML representation or trust the notebook. <br />On GitHub, the HTML representation is unable to render, please try loading this page with nbviewer.org.</b></div><div class=\"sk-container\" hidden><div class=\"sk-item\"><div class=\"sk-estimator sk-toggleable\"><input class=\"sk-toggleable__control sk-hidden--visually\" id=\"sk-estimator-id-7\" type=\"checkbox\" checked><label for=\"sk-estimator-id-7\" class=\"sk-toggleable__label sk-toggleable__label-arrow\">OrdinalEncoder</label><div class=\"sk-toggleable__content\"><pre>OrdinalEncoder()</pre></div></div></div></div></div>"
            ]
          },
          "metadata": {},
          "execution_count": 96
        }
      ]
    },
    {
      "cell_type": "code",
      "source": [
        "df3['Grade_Encoding'] = enc.transform(df3[[\"Grade\"]])"
      ],
      "metadata": {
        "id": "vnzCPXkiXFz7"
      },
      "execution_count": 97,
      "outputs": []
    },
    {
      "cell_type": "code",
      "source": [
        "df3"
      ],
      "metadata": {
        "colab": {
          "base_uri": "https://localhost:8080/",
          "height": 363
        },
        "id": "VdYHqlxwYUSq",
        "outputId": "c84a058f-6f33-4978-a35f-2d333f46ca54"
      },
      "execution_count": 98,
      "outputs": [
        {
          "output_type": "execute_result",
          "data": {
            "text/plain": [
              "   Feature 1  Feature 2 Grade  Grade_Encoding\n",
              "0         85         78     A             0.0\n",
              "1         72         65     B             1.0\n",
              "2         90         82     A             0.0\n",
              "3         60         52     C             2.0\n",
              "4         55         48     D             3.0\n",
              "5         95         88     A             0.0\n",
              "6         80         75     B             1.0\n",
              "7         48         42     D             3.0\n",
              "8         78         70     B             1.0\n",
              "9         35         30     F             4.0"
            ],
            "text/html": [
              "\n",
              "  <div id=\"df-8f5b7a17-2070-4e1e-b823-6d52ef9fb3af\" class=\"colab-df-container\">\n",
              "    <div>\n",
              "<style scoped>\n",
              "    .dataframe tbody tr th:only-of-type {\n",
              "        vertical-align: middle;\n",
              "    }\n",
              "\n",
              "    .dataframe tbody tr th {\n",
              "        vertical-align: top;\n",
              "    }\n",
              "\n",
              "    .dataframe thead th {\n",
              "        text-align: right;\n",
              "    }\n",
              "</style>\n",
              "<table border=\"1\" class=\"dataframe\">\n",
              "  <thead>\n",
              "    <tr style=\"text-align: right;\">\n",
              "      <th></th>\n",
              "      <th>Feature 1</th>\n",
              "      <th>Feature 2</th>\n",
              "      <th>Grade</th>\n",
              "      <th>Grade_Encoding</th>\n",
              "    </tr>\n",
              "  </thead>\n",
              "  <tbody>\n",
              "    <tr>\n",
              "      <th>0</th>\n",
              "      <td>85</td>\n",
              "      <td>78</td>\n",
              "      <td>A</td>\n",
              "      <td>0.0</td>\n",
              "    </tr>\n",
              "    <tr>\n",
              "      <th>1</th>\n",
              "      <td>72</td>\n",
              "      <td>65</td>\n",
              "      <td>B</td>\n",
              "      <td>1.0</td>\n",
              "    </tr>\n",
              "    <tr>\n",
              "      <th>2</th>\n",
              "      <td>90</td>\n",
              "      <td>82</td>\n",
              "      <td>A</td>\n",
              "      <td>0.0</td>\n",
              "    </tr>\n",
              "    <tr>\n",
              "      <th>3</th>\n",
              "      <td>60</td>\n",
              "      <td>52</td>\n",
              "      <td>C</td>\n",
              "      <td>2.0</td>\n",
              "    </tr>\n",
              "    <tr>\n",
              "      <th>4</th>\n",
              "      <td>55</td>\n",
              "      <td>48</td>\n",
              "      <td>D</td>\n",
              "      <td>3.0</td>\n",
              "    </tr>\n",
              "    <tr>\n",
              "      <th>5</th>\n",
              "      <td>95</td>\n",
              "      <td>88</td>\n",
              "      <td>A</td>\n",
              "      <td>0.0</td>\n",
              "    </tr>\n",
              "    <tr>\n",
              "      <th>6</th>\n",
              "      <td>80</td>\n",
              "      <td>75</td>\n",
              "      <td>B</td>\n",
              "      <td>1.0</td>\n",
              "    </tr>\n",
              "    <tr>\n",
              "      <th>7</th>\n",
              "      <td>48</td>\n",
              "      <td>42</td>\n",
              "      <td>D</td>\n",
              "      <td>3.0</td>\n",
              "    </tr>\n",
              "    <tr>\n",
              "      <th>8</th>\n",
              "      <td>78</td>\n",
              "      <td>70</td>\n",
              "      <td>B</td>\n",
              "      <td>1.0</td>\n",
              "    </tr>\n",
              "    <tr>\n",
              "      <th>9</th>\n",
              "      <td>35</td>\n",
              "      <td>30</td>\n",
              "      <td>F</td>\n",
              "      <td>4.0</td>\n",
              "    </tr>\n",
              "  </tbody>\n",
              "</table>\n",
              "</div>\n",
              "    <div class=\"colab-df-buttons\">\n",
              "\n",
              "  <div class=\"colab-df-container\">\n",
              "    <button class=\"colab-df-convert\" onclick=\"convertToInteractive('df-8f5b7a17-2070-4e1e-b823-6d52ef9fb3af')\"\n",
              "            title=\"Convert this dataframe to an interactive table.\"\n",
              "            style=\"display:none;\">\n",
              "\n",
              "  <svg xmlns=\"http://www.w3.org/2000/svg\" height=\"24px\" viewBox=\"0 -960 960 960\">\n",
              "    <path d=\"M120-120v-720h720v720H120Zm60-500h600v-160H180v160Zm220 220h160v-160H400v160Zm0 220h160v-160H400v160ZM180-400h160v-160H180v160Zm440 0h160v-160H620v160ZM180-180h160v-160H180v160Zm440 0h160v-160H620v160Z\"/>\n",
              "  </svg>\n",
              "    </button>\n",
              "\n",
              "  <style>\n",
              "    .colab-df-container {\n",
              "      display:flex;\n",
              "      gap: 12px;\n",
              "    }\n",
              "\n",
              "    .colab-df-convert {\n",
              "      background-color: #E8F0FE;\n",
              "      border: none;\n",
              "      border-radius: 50%;\n",
              "      cursor: pointer;\n",
              "      display: none;\n",
              "      fill: #1967D2;\n",
              "      height: 32px;\n",
              "      padding: 0 0 0 0;\n",
              "      width: 32px;\n",
              "    }\n",
              "\n",
              "    .colab-df-convert:hover {\n",
              "      background-color: #E2EBFA;\n",
              "      box-shadow: 0px 1px 2px rgba(60, 64, 67, 0.3), 0px 1px 3px 1px rgba(60, 64, 67, 0.15);\n",
              "      fill: #174EA6;\n",
              "    }\n",
              "\n",
              "    .colab-df-buttons div {\n",
              "      margin-bottom: 4px;\n",
              "    }\n",
              "\n",
              "    [theme=dark] .colab-df-convert {\n",
              "      background-color: #3B4455;\n",
              "      fill: #D2E3FC;\n",
              "    }\n",
              "\n",
              "    [theme=dark] .colab-df-convert:hover {\n",
              "      background-color: #434B5C;\n",
              "      box-shadow: 0px 1px 3px 1px rgba(0, 0, 0, 0.15);\n",
              "      filter: drop-shadow(0px 1px 2px rgba(0, 0, 0, 0.3));\n",
              "      fill: #FFFFFF;\n",
              "    }\n",
              "  </style>\n",
              "\n",
              "    <script>\n",
              "      const buttonEl =\n",
              "        document.querySelector('#df-8f5b7a17-2070-4e1e-b823-6d52ef9fb3af button.colab-df-convert');\n",
              "      buttonEl.style.display =\n",
              "        google.colab.kernel.accessAllowed ? 'block' : 'none';\n",
              "\n",
              "      async function convertToInteractive(key) {\n",
              "        const element = document.querySelector('#df-8f5b7a17-2070-4e1e-b823-6d52ef9fb3af');\n",
              "        const dataTable =\n",
              "          await google.colab.kernel.invokeFunction('convertToInteractive',\n",
              "                                                    [key], {});\n",
              "        if (!dataTable) return;\n",
              "\n",
              "        const docLinkHtml = 'Like what you see? Visit the ' +\n",
              "          '<a target=\"_blank\" href=https://colab.research.google.com/notebooks/data_table.ipynb>data table notebook</a>'\n",
              "          + ' to learn more about interactive tables.';\n",
              "        element.innerHTML = '';\n",
              "        dataTable['output_type'] = 'display_data';\n",
              "        await google.colab.output.renderOutput(dataTable, element);\n",
              "        const docLink = document.createElement('div');\n",
              "        docLink.innerHTML = docLinkHtml;\n",
              "        element.appendChild(docLink);\n",
              "      }\n",
              "    </script>\n",
              "  </div>\n",
              "\n",
              "\n",
              "<div id=\"df-f8362caf-ba2d-48e1-9b80-e00290693309\">\n",
              "  <button class=\"colab-df-quickchart\" onclick=\"quickchart('df-f8362caf-ba2d-48e1-9b80-e00290693309')\"\n",
              "            title=\"Suggest charts\"\n",
              "            style=\"display:none;\">\n",
              "\n",
              "<svg xmlns=\"http://www.w3.org/2000/svg\" height=\"24px\"viewBox=\"0 0 24 24\"\n",
              "     width=\"24px\">\n",
              "    <g>\n",
              "        <path d=\"M19 3H5c-1.1 0-2 .9-2 2v14c0 1.1.9 2 2 2h14c1.1 0 2-.9 2-2V5c0-1.1-.9-2-2-2zM9 17H7v-7h2v7zm4 0h-2V7h2v10zm4 0h-2v-4h2v4z\"/>\n",
              "    </g>\n",
              "</svg>\n",
              "  </button>\n",
              "\n",
              "<style>\n",
              "  .colab-df-quickchart {\n",
              "      --bg-color: #E8F0FE;\n",
              "      --fill-color: #1967D2;\n",
              "      --hover-bg-color: #E2EBFA;\n",
              "      --hover-fill-color: #174EA6;\n",
              "      --disabled-fill-color: #AAA;\n",
              "      --disabled-bg-color: #DDD;\n",
              "  }\n",
              "\n",
              "  [theme=dark] .colab-df-quickchart {\n",
              "      --bg-color: #3B4455;\n",
              "      --fill-color: #D2E3FC;\n",
              "      --hover-bg-color: #434B5C;\n",
              "      --hover-fill-color: #FFFFFF;\n",
              "      --disabled-bg-color: #3B4455;\n",
              "      --disabled-fill-color: #666;\n",
              "  }\n",
              "\n",
              "  .colab-df-quickchart {\n",
              "    background-color: var(--bg-color);\n",
              "    border: none;\n",
              "    border-radius: 50%;\n",
              "    cursor: pointer;\n",
              "    display: none;\n",
              "    fill: var(--fill-color);\n",
              "    height: 32px;\n",
              "    padding: 0;\n",
              "    width: 32px;\n",
              "  }\n",
              "\n",
              "  .colab-df-quickchart:hover {\n",
              "    background-color: var(--hover-bg-color);\n",
              "    box-shadow: 0 1px 2px rgba(60, 64, 67, 0.3), 0 1px 3px 1px rgba(60, 64, 67, 0.15);\n",
              "    fill: var(--button-hover-fill-color);\n",
              "  }\n",
              "\n",
              "  .colab-df-quickchart-complete:disabled,\n",
              "  .colab-df-quickchart-complete:disabled:hover {\n",
              "    background-color: var(--disabled-bg-color);\n",
              "    fill: var(--disabled-fill-color);\n",
              "    box-shadow: none;\n",
              "  }\n",
              "\n",
              "  .colab-df-spinner {\n",
              "    border: 2px solid var(--fill-color);\n",
              "    border-color: transparent;\n",
              "    border-bottom-color: var(--fill-color);\n",
              "    animation:\n",
              "      spin 1s steps(1) infinite;\n",
              "  }\n",
              "\n",
              "  @keyframes spin {\n",
              "    0% {\n",
              "      border-color: transparent;\n",
              "      border-bottom-color: var(--fill-color);\n",
              "      border-left-color: var(--fill-color);\n",
              "    }\n",
              "    20% {\n",
              "      border-color: transparent;\n",
              "      border-left-color: var(--fill-color);\n",
              "      border-top-color: var(--fill-color);\n",
              "    }\n",
              "    30% {\n",
              "      border-color: transparent;\n",
              "      border-left-color: var(--fill-color);\n",
              "      border-top-color: var(--fill-color);\n",
              "      border-right-color: var(--fill-color);\n",
              "    }\n",
              "    40% {\n",
              "      border-color: transparent;\n",
              "      border-right-color: var(--fill-color);\n",
              "      border-top-color: var(--fill-color);\n",
              "    }\n",
              "    60% {\n",
              "      border-color: transparent;\n",
              "      border-right-color: var(--fill-color);\n",
              "    }\n",
              "    80% {\n",
              "      border-color: transparent;\n",
              "      border-right-color: var(--fill-color);\n",
              "      border-bottom-color: var(--fill-color);\n",
              "    }\n",
              "    90% {\n",
              "      border-color: transparent;\n",
              "      border-bottom-color: var(--fill-color);\n",
              "    }\n",
              "  }\n",
              "</style>\n",
              "\n",
              "  <script>\n",
              "    async function quickchart(key) {\n",
              "      const quickchartButtonEl =\n",
              "        document.querySelector('#' + key + ' button');\n",
              "      quickchartButtonEl.disabled = true;  // To prevent multiple clicks.\n",
              "      quickchartButtonEl.classList.add('colab-df-spinner');\n",
              "      try {\n",
              "        const charts = await google.colab.kernel.invokeFunction(\n",
              "            'suggestCharts', [key], {});\n",
              "      } catch (error) {\n",
              "        console.error('Error during call to suggestCharts:', error);\n",
              "      }\n",
              "      quickchartButtonEl.classList.remove('colab-df-spinner');\n",
              "      quickchartButtonEl.classList.add('colab-df-quickchart-complete');\n",
              "    }\n",
              "    (() => {\n",
              "      let quickchartButtonEl =\n",
              "        document.querySelector('#df-f8362caf-ba2d-48e1-9b80-e00290693309 button');\n",
              "      quickchartButtonEl.style.display =\n",
              "        google.colab.kernel.accessAllowed ? 'block' : 'none';\n",
              "    })();\n",
              "  </script>\n",
              "</div>\n",
              "\n",
              "  <div id=\"id_4dff07ce-478b-4a2e-beef-d32e7af068c1\">\n",
              "    <style>\n",
              "      .colab-df-generate {\n",
              "        background-color: #E8F0FE;\n",
              "        border: none;\n",
              "        border-radius: 50%;\n",
              "        cursor: pointer;\n",
              "        display: none;\n",
              "        fill: #1967D2;\n",
              "        height: 32px;\n",
              "        padding: 0 0 0 0;\n",
              "        width: 32px;\n",
              "      }\n",
              "\n",
              "      .colab-df-generate:hover {\n",
              "        background-color: #E2EBFA;\n",
              "        box-shadow: 0px 1px 2px rgba(60, 64, 67, 0.3), 0px 1px 3px 1px rgba(60, 64, 67, 0.15);\n",
              "        fill: #174EA6;\n",
              "      }\n",
              "\n",
              "      [theme=dark] .colab-df-generate {\n",
              "        background-color: #3B4455;\n",
              "        fill: #D2E3FC;\n",
              "      }\n",
              "\n",
              "      [theme=dark] .colab-df-generate:hover {\n",
              "        background-color: #434B5C;\n",
              "        box-shadow: 0px 1px 3px 1px rgba(0, 0, 0, 0.15);\n",
              "        filter: drop-shadow(0px 1px 2px rgba(0, 0, 0, 0.3));\n",
              "        fill: #FFFFFF;\n",
              "      }\n",
              "    </style>\n",
              "    <button class=\"colab-df-generate\" onclick=\"generateWithVariable('df3')\"\n",
              "            title=\"Generate code using this dataframe.\"\n",
              "            style=\"display:none;\">\n",
              "\n",
              "  <svg xmlns=\"http://www.w3.org/2000/svg\" height=\"24px\"viewBox=\"0 0 24 24\"\n",
              "       width=\"24px\">\n",
              "    <path d=\"M7,19H8.4L18.45,9,17,7.55,7,17.6ZM5,21V16.75L18.45,3.32a2,2,0,0,1,2.83,0l1.4,1.43a1.91,1.91,0,0,1,.58,1.4,1.91,1.91,0,0,1-.58,1.4L9.25,21ZM18.45,9,17,7.55Zm-12,3A5.31,5.31,0,0,0,4.9,8.1,5.31,5.31,0,0,0,1,6.5,5.31,5.31,0,0,0,4.9,4.9,5.31,5.31,0,0,0,6.5,1,5.31,5.31,0,0,0,8.1,4.9,5.31,5.31,0,0,0,12,6.5,5.46,5.46,0,0,0,6.5,12Z\"/>\n",
              "  </svg>\n",
              "    </button>\n",
              "    <script>\n",
              "      (() => {\n",
              "      const buttonEl =\n",
              "        document.querySelector('#id_4dff07ce-478b-4a2e-beef-d32e7af068c1 button.colab-df-generate');\n",
              "      buttonEl.style.display =\n",
              "        google.colab.kernel.accessAllowed ? 'block' : 'none';\n",
              "\n",
              "      buttonEl.onclick = () => {\n",
              "        google.colab.notebook.generateWithVariable('df3');\n",
              "      }\n",
              "      })();\n",
              "    </script>\n",
              "  </div>\n",
              "\n",
              "    </div>\n",
              "  </div>\n"
            ],
            "application/vnd.google.colaboratory.intrinsic+json": {
              "type": "dataframe",
              "variable_name": "df3",
              "summary": "{\n  \"name\": \"df3\",\n  \"rows\": 10,\n  \"fields\": [\n    {\n      \"column\": \"Feature 1\",\n      \"properties\": {\n        \"dtype\": \"number\",\n        \"std\": 19,\n        \"min\": 35,\n        \"max\": 95,\n        \"num_unique_values\": 10,\n        \"samples\": [\n          78,\n          72,\n          95\n        ],\n        \"semantic_type\": \"\",\n        \"description\": \"\"\n      }\n    },\n    {\n      \"column\": \"Feature 2\",\n      \"properties\": {\n        \"dtype\": \"number\",\n        \"std\": 19,\n        \"min\": 30,\n        \"max\": 88,\n        \"num_unique_values\": 10,\n        \"samples\": [\n          70,\n          65,\n          88\n        ],\n        \"semantic_type\": \"\",\n        \"description\": \"\"\n      }\n    },\n    {\n      \"column\": \"Grade\",\n      \"properties\": {\n        \"dtype\": \"string\",\n        \"num_unique_values\": 5,\n        \"samples\": [\n          \"B\",\n          \"F\",\n          \"C\"\n        ],\n        \"semantic_type\": \"\",\n        \"description\": \"\"\n      }\n    },\n    {\n      \"column\": \"Grade_Encoding\",\n      \"properties\": {\n        \"dtype\": \"number\",\n        \"std\": 1.4337208778404378,\n        \"min\": 0.0,\n        \"max\": 4.0,\n        \"num_unique_values\": 5,\n        \"samples\": [\n          1.0,\n          4.0,\n          2.0\n        ],\n        \"semantic_type\": \"\",\n        \"description\": \"\"\n      }\n    }\n  ]\n}"
            }
          },
          "metadata": {},
          "execution_count": 98
        }
      ]
    },
    {
      "cell_type": "code",
      "source": [
        "df3.columns"
      ],
      "metadata": {
        "colab": {
          "base_uri": "https://localhost:8080/"
        },
        "id": "-3FtPQZ9ee8k",
        "outputId": "1900d115-eb6a-4129-e80a-ab95f8b075d1"
      },
      "execution_count": 43,
      "outputs": [
        {
          "output_type": "execute_result",
          "data": {
            "text/plain": [
              "Index(['Feature 1', 'Feature 2', 'Grade', 'Grade_Encoding'], dtype='object')"
            ]
          },
          "metadata": {},
          "execution_count": 43
        }
      ]
    },
    {
      "cell_type": "code",
      "source": [
        "x = df3[[\"Feature 1\",\"Feature 2\"]]\n",
        "x = x.values"
      ],
      "metadata": {
        "id": "P4YOGbwUaOng"
      },
      "execution_count": 110,
      "outputs": []
    },
    {
      "cell_type": "code",
      "source": [
        "x"
      ],
      "metadata": {
        "colab": {
          "base_uri": "https://localhost:8080/"
        },
        "id": "8WCp6wggeoP-",
        "outputId": "abdee039-a474-4dca-e22c-3b04ba91cf8d"
      },
      "execution_count": 111,
      "outputs": [
        {
          "output_type": "execute_result",
          "data": {
            "text/plain": [
              "array([[85, 78],\n",
              "       [72, 65],\n",
              "       [90, 82],\n",
              "       [60, 52],\n",
              "       [55, 48],\n",
              "       [95, 88],\n",
              "       [80, 75],\n",
              "       [48, 42],\n",
              "       [78, 70],\n",
              "       [35, 30]])"
            ]
          },
          "metadata": {},
          "execution_count": 111
        }
      ]
    },
    {
      "cell_type": "code",
      "source": [
        "df3['Grade_Encoding'] = df3['Grade_Encoding'].astype(int)"
      ],
      "metadata": {
        "id": "AbUxrfd9IArj"
      },
      "execution_count": 105,
      "outputs": []
    },
    {
      "cell_type": "code",
      "source": [
        "df3"
      ],
      "metadata": {
        "colab": {
          "base_uri": "https://localhost:8080/",
          "height": 363
        },
        "id": "vitfts6OIp6o",
        "outputId": "44ff5896-3a57-4479-a945-4897fe28f98d"
      },
      "execution_count": 106,
      "outputs": [
        {
          "output_type": "execute_result",
          "data": {
            "text/plain": [
              "   Feature 1  Feature 2 Grade  Grade_Encoding\n",
              "0         85         78     A               0\n",
              "1         72         65     B               1\n",
              "2         90         82     A               0\n",
              "3         60         52     C               2\n",
              "4         55         48     D               3\n",
              "5         95         88     A               0\n",
              "6         80         75     B               1\n",
              "7         48         42     D               3\n",
              "8         78         70     B               1\n",
              "9         35         30     F               4"
            ],
            "text/html": [
              "\n",
              "  <div id=\"df-56cda585-2f79-494f-8dc7-fc0d9a6eb4ef\" class=\"colab-df-container\">\n",
              "    <div>\n",
              "<style scoped>\n",
              "    .dataframe tbody tr th:only-of-type {\n",
              "        vertical-align: middle;\n",
              "    }\n",
              "\n",
              "    .dataframe tbody tr th {\n",
              "        vertical-align: top;\n",
              "    }\n",
              "\n",
              "    .dataframe thead th {\n",
              "        text-align: right;\n",
              "    }\n",
              "</style>\n",
              "<table border=\"1\" class=\"dataframe\">\n",
              "  <thead>\n",
              "    <tr style=\"text-align: right;\">\n",
              "      <th></th>\n",
              "      <th>Feature 1</th>\n",
              "      <th>Feature 2</th>\n",
              "      <th>Grade</th>\n",
              "      <th>Grade_Encoding</th>\n",
              "    </tr>\n",
              "  </thead>\n",
              "  <tbody>\n",
              "    <tr>\n",
              "      <th>0</th>\n",
              "      <td>85</td>\n",
              "      <td>78</td>\n",
              "      <td>A</td>\n",
              "      <td>0</td>\n",
              "    </tr>\n",
              "    <tr>\n",
              "      <th>1</th>\n",
              "      <td>72</td>\n",
              "      <td>65</td>\n",
              "      <td>B</td>\n",
              "      <td>1</td>\n",
              "    </tr>\n",
              "    <tr>\n",
              "      <th>2</th>\n",
              "      <td>90</td>\n",
              "      <td>82</td>\n",
              "      <td>A</td>\n",
              "      <td>0</td>\n",
              "    </tr>\n",
              "    <tr>\n",
              "      <th>3</th>\n",
              "      <td>60</td>\n",
              "      <td>52</td>\n",
              "      <td>C</td>\n",
              "      <td>2</td>\n",
              "    </tr>\n",
              "    <tr>\n",
              "      <th>4</th>\n",
              "      <td>55</td>\n",
              "      <td>48</td>\n",
              "      <td>D</td>\n",
              "      <td>3</td>\n",
              "    </tr>\n",
              "    <tr>\n",
              "      <th>5</th>\n",
              "      <td>95</td>\n",
              "      <td>88</td>\n",
              "      <td>A</td>\n",
              "      <td>0</td>\n",
              "    </tr>\n",
              "    <tr>\n",
              "      <th>6</th>\n",
              "      <td>80</td>\n",
              "      <td>75</td>\n",
              "      <td>B</td>\n",
              "      <td>1</td>\n",
              "    </tr>\n",
              "    <tr>\n",
              "      <th>7</th>\n",
              "      <td>48</td>\n",
              "      <td>42</td>\n",
              "      <td>D</td>\n",
              "      <td>3</td>\n",
              "    </tr>\n",
              "    <tr>\n",
              "      <th>8</th>\n",
              "      <td>78</td>\n",
              "      <td>70</td>\n",
              "      <td>B</td>\n",
              "      <td>1</td>\n",
              "    </tr>\n",
              "    <tr>\n",
              "      <th>9</th>\n",
              "      <td>35</td>\n",
              "      <td>30</td>\n",
              "      <td>F</td>\n",
              "      <td>4</td>\n",
              "    </tr>\n",
              "  </tbody>\n",
              "</table>\n",
              "</div>\n",
              "    <div class=\"colab-df-buttons\">\n",
              "\n",
              "  <div class=\"colab-df-container\">\n",
              "    <button class=\"colab-df-convert\" onclick=\"convertToInteractive('df-56cda585-2f79-494f-8dc7-fc0d9a6eb4ef')\"\n",
              "            title=\"Convert this dataframe to an interactive table.\"\n",
              "            style=\"display:none;\">\n",
              "\n",
              "  <svg xmlns=\"http://www.w3.org/2000/svg\" height=\"24px\" viewBox=\"0 -960 960 960\">\n",
              "    <path d=\"M120-120v-720h720v720H120Zm60-500h600v-160H180v160Zm220 220h160v-160H400v160Zm0 220h160v-160H400v160ZM180-400h160v-160H180v160Zm440 0h160v-160H620v160ZM180-180h160v-160H180v160Zm440 0h160v-160H620v160Z\"/>\n",
              "  </svg>\n",
              "    </button>\n",
              "\n",
              "  <style>\n",
              "    .colab-df-container {\n",
              "      display:flex;\n",
              "      gap: 12px;\n",
              "    }\n",
              "\n",
              "    .colab-df-convert {\n",
              "      background-color: #E8F0FE;\n",
              "      border: none;\n",
              "      border-radius: 50%;\n",
              "      cursor: pointer;\n",
              "      display: none;\n",
              "      fill: #1967D2;\n",
              "      height: 32px;\n",
              "      padding: 0 0 0 0;\n",
              "      width: 32px;\n",
              "    }\n",
              "\n",
              "    .colab-df-convert:hover {\n",
              "      background-color: #E2EBFA;\n",
              "      box-shadow: 0px 1px 2px rgba(60, 64, 67, 0.3), 0px 1px 3px 1px rgba(60, 64, 67, 0.15);\n",
              "      fill: #174EA6;\n",
              "    }\n",
              "\n",
              "    .colab-df-buttons div {\n",
              "      margin-bottom: 4px;\n",
              "    }\n",
              "\n",
              "    [theme=dark] .colab-df-convert {\n",
              "      background-color: #3B4455;\n",
              "      fill: #D2E3FC;\n",
              "    }\n",
              "\n",
              "    [theme=dark] .colab-df-convert:hover {\n",
              "      background-color: #434B5C;\n",
              "      box-shadow: 0px 1px 3px 1px rgba(0, 0, 0, 0.15);\n",
              "      filter: drop-shadow(0px 1px 2px rgba(0, 0, 0, 0.3));\n",
              "      fill: #FFFFFF;\n",
              "    }\n",
              "  </style>\n",
              "\n",
              "    <script>\n",
              "      const buttonEl =\n",
              "        document.querySelector('#df-56cda585-2f79-494f-8dc7-fc0d9a6eb4ef button.colab-df-convert');\n",
              "      buttonEl.style.display =\n",
              "        google.colab.kernel.accessAllowed ? 'block' : 'none';\n",
              "\n",
              "      async function convertToInteractive(key) {\n",
              "        const element = document.querySelector('#df-56cda585-2f79-494f-8dc7-fc0d9a6eb4ef');\n",
              "        const dataTable =\n",
              "          await google.colab.kernel.invokeFunction('convertToInteractive',\n",
              "                                                    [key], {});\n",
              "        if (!dataTable) return;\n",
              "\n",
              "        const docLinkHtml = 'Like what you see? Visit the ' +\n",
              "          '<a target=\"_blank\" href=https://colab.research.google.com/notebooks/data_table.ipynb>data table notebook</a>'\n",
              "          + ' to learn more about interactive tables.';\n",
              "        element.innerHTML = '';\n",
              "        dataTable['output_type'] = 'display_data';\n",
              "        await google.colab.output.renderOutput(dataTable, element);\n",
              "        const docLink = document.createElement('div');\n",
              "        docLink.innerHTML = docLinkHtml;\n",
              "        element.appendChild(docLink);\n",
              "      }\n",
              "    </script>\n",
              "  </div>\n",
              "\n",
              "\n",
              "<div id=\"df-a3b0b8fd-9b42-46d2-8e7f-f241b6508529\">\n",
              "  <button class=\"colab-df-quickchart\" onclick=\"quickchart('df-a3b0b8fd-9b42-46d2-8e7f-f241b6508529')\"\n",
              "            title=\"Suggest charts\"\n",
              "            style=\"display:none;\">\n",
              "\n",
              "<svg xmlns=\"http://www.w3.org/2000/svg\" height=\"24px\"viewBox=\"0 0 24 24\"\n",
              "     width=\"24px\">\n",
              "    <g>\n",
              "        <path d=\"M19 3H5c-1.1 0-2 .9-2 2v14c0 1.1.9 2 2 2h14c1.1 0 2-.9 2-2V5c0-1.1-.9-2-2-2zM9 17H7v-7h2v7zm4 0h-2V7h2v10zm4 0h-2v-4h2v4z\"/>\n",
              "    </g>\n",
              "</svg>\n",
              "  </button>\n",
              "\n",
              "<style>\n",
              "  .colab-df-quickchart {\n",
              "      --bg-color: #E8F0FE;\n",
              "      --fill-color: #1967D2;\n",
              "      --hover-bg-color: #E2EBFA;\n",
              "      --hover-fill-color: #174EA6;\n",
              "      --disabled-fill-color: #AAA;\n",
              "      --disabled-bg-color: #DDD;\n",
              "  }\n",
              "\n",
              "  [theme=dark] .colab-df-quickchart {\n",
              "      --bg-color: #3B4455;\n",
              "      --fill-color: #D2E3FC;\n",
              "      --hover-bg-color: #434B5C;\n",
              "      --hover-fill-color: #FFFFFF;\n",
              "      --disabled-bg-color: #3B4455;\n",
              "      --disabled-fill-color: #666;\n",
              "  }\n",
              "\n",
              "  .colab-df-quickchart {\n",
              "    background-color: var(--bg-color);\n",
              "    border: none;\n",
              "    border-radius: 50%;\n",
              "    cursor: pointer;\n",
              "    display: none;\n",
              "    fill: var(--fill-color);\n",
              "    height: 32px;\n",
              "    padding: 0;\n",
              "    width: 32px;\n",
              "  }\n",
              "\n",
              "  .colab-df-quickchart:hover {\n",
              "    background-color: var(--hover-bg-color);\n",
              "    box-shadow: 0 1px 2px rgba(60, 64, 67, 0.3), 0 1px 3px 1px rgba(60, 64, 67, 0.15);\n",
              "    fill: var(--button-hover-fill-color);\n",
              "  }\n",
              "\n",
              "  .colab-df-quickchart-complete:disabled,\n",
              "  .colab-df-quickchart-complete:disabled:hover {\n",
              "    background-color: var(--disabled-bg-color);\n",
              "    fill: var(--disabled-fill-color);\n",
              "    box-shadow: none;\n",
              "  }\n",
              "\n",
              "  .colab-df-spinner {\n",
              "    border: 2px solid var(--fill-color);\n",
              "    border-color: transparent;\n",
              "    border-bottom-color: var(--fill-color);\n",
              "    animation:\n",
              "      spin 1s steps(1) infinite;\n",
              "  }\n",
              "\n",
              "  @keyframes spin {\n",
              "    0% {\n",
              "      border-color: transparent;\n",
              "      border-bottom-color: var(--fill-color);\n",
              "      border-left-color: var(--fill-color);\n",
              "    }\n",
              "    20% {\n",
              "      border-color: transparent;\n",
              "      border-left-color: var(--fill-color);\n",
              "      border-top-color: var(--fill-color);\n",
              "    }\n",
              "    30% {\n",
              "      border-color: transparent;\n",
              "      border-left-color: var(--fill-color);\n",
              "      border-top-color: var(--fill-color);\n",
              "      border-right-color: var(--fill-color);\n",
              "    }\n",
              "    40% {\n",
              "      border-color: transparent;\n",
              "      border-right-color: var(--fill-color);\n",
              "      border-top-color: var(--fill-color);\n",
              "    }\n",
              "    60% {\n",
              "      border-color: transparent;\n",
              "      border-right-color: var(--fill-color);\n",
              "    }\n",
              "    80% {\n",
              "      border-color: transparent;\n",
              "      border-right-color: var(--fill-color);\n",
              "      border-bottom-color: var(--fill-color);\n",
              "    }\n",
              "    90% {\n",
              "      border-color: transparent;\n",
              "      border-bottom-color: var(--fill-color);\n",
              "    }\n",
              "  }\n",
              "</style>\n",
              "\n",
              "  <script>\n",
              "    async function quickchart(key) {\n",
              "      const quickchartButtonEl =\n",
              "        document.querySelector('#' + key + ' button');\n",
              "      quickchartButtonEl.disabled = true;  // To prevent multiple clicks.\n",
              "      quickchartButtonEl.classList.add('colab-df-spinner');\n",
              "      try {\n",
              "        const charts = await google.colab.kernel.invokeFunction(\n",
              "            'suggestCharts', [key], {});\n",
              "      } catch (error) {\n",
              "        console.error('Error during call to suggestCharts:', error);\n",
              "      }\n",
              "      quickchartButtonEl.classList.remove('colab-df-spinner');\n",
              "      quickchartButtonEl.classList.add('colab-df-quickchart-complete');\n",
              "    }\n",
              "    (() => {\n",
              "      let quickchartButtonEl =\n",
              "        document.querySelector('#df-a3b0b8fd-9b42-46d2-8e7f-f241b6508529 button');\n",
              "      quickchartButtonEl.style.display =\n",
              "        google.colab.kernel.accessAllowed ? 'block' : 'none';\n",
              "    })();\n",
              "  </script>\n",
              "</div>\n",
              "\n",
              "  <div id=\"id_7d3bf273-65aa-4288-b2dd-b1fa1a1a81db\">\n",
              "    <style>\n",
              "      .colab-df-generate {\n",
              "        background-color: #E8F0FE;\n",
              "        border: none;\n",
              "        border-radius: 50%;\n",
              "        cursor: pointer;\n",
              "        display: none;\n",
              "        fill: #1967D2;\n",
              "        height: 32px;\n",
              "        padding: 0 0 0 0;\n",
              "        width: 32px;\n",
              "      }\n",
              "\n",
              "      .colab-df-generate:hover {\n",
              "        background-color: #E2EBFA;\n",
              "        box-shadow: 0px 1px 2px rgba(60, 64, 67, 0.3), 0px 1px 3px 1px rgba(60, 64, 67, 0.15);\n",
              "        fill: #174EA6;\n",
              "      }\n",
              "\n",
              "      [theme=dark] .colab-df-generate {\n",
              "        background-color: #3B4455;\n",
              "        fill: #D2E3FC;\n",
              "      }\n",
              "\n",
              "      [theme=dark] .colab-df-generate:hover {\n",
              "        background-color: #434B5C;\n",
              "        box-shadow: 0px 1px 3px 1px rgba(0, 0, 0, 0.15);\n",
              "        filter: drop-shadow(0px 1px 2px rgba(0, 0, 0, 0.3));\n",
              "        fill: #FFFFFF;\n",
              "      }\n",
              "    </style>\n",
              "    <button class=\"colab-df-generate\" onclick=\"generateWithVariable('df3')\"\n",
              "            title=\"Generate code using this dataframe.\"\n",
              "            style=\"display:none;\">\n",
              "\n",
              "  <svg xmlns=\"http://www.w3.org/2000/svg\" height=\"24px\"viewBox=\"0 0 24 24\"\n",
              "       width=\"24px\">\n",
              "    <path d=\"M7,19H8.4L18.45,9,17,7.55,7,17.6ZM5,21V16.75L18.45,3.32a2,2,0,0,1,2.83,0l1.4,1.43a1.91,1.91,0,0,1,.58,1.4,1.91,1.91,0,0,1-.58,1.4L9.25,21ZM18.45,9,17,7.55Zm-12,3A5.31,5.31,0,0,0,4.9,8.1,5.31,5.31,0,0,0,1,6.5,5.31,5.31,0,0,0,4.9,4.9,5.31,5.31,0,0,0,6.5,1,5.31,5.31,0,0,0,8.1,4.9,5.31,5.31,0,0,0,12,6.5,5.46,5.46,0,0,0,6.5,12Z\"/>\n",
              "  </svg>\n",
              "    </button>\n",
              "    <script>\n",
              "      (() => {\n",
              "      const buttonEl =\n",
              "        document.querySelector('#id_7d3bf273-65aa-4288-b2dd-b1fa1a1a81db button.colab-df-generate');\n",
              "      buttonEl.style.display =\n",
              "        google.colab.kernel.accessAllowed ? 'block' : 'none';\n",
              "\n",
              "      buttonEl.onclick = () => {\n",
              "        google.colab.notebook.generateWithVariable('df3');\n",
              "      }\n",
              "      })();\n",
              "    </script>\n",
              "  </div>\n",
              "\n",
              "    </div>\n",
              "  </div>\n"
            ],
            "application/vnd.google.colaboratory.intrinsic+json": {
              "type": "dataframe",
              "variable_name": "df3",
              "summary": "{\n  \"name\": \"df3\",\n  \"rows\": 10,\n  \"fields\": [\n    {\n      \"column\": \"Feature 1\",\n      \"properties\": {\n        \"dtype\": \"number\",\n        \"std\": 19,\n        \"min\": 35,\n        \"max\": 95,\n        \"num_unique_values\": 10,\n        \"samples\": [\n          78,\n          72,\n          95\n        ],\n        \"semantic_type\": \"\",\n        \"description\": \"\"\n      }\n    },\n    {\n      \"column\": \"Feature 2\",\n      \"properties\": {\n        \"dtype\": \"number\",\n        \"std\": 19,\n        \"min\": 30,\n        \"max\": 88,\n        \"num_unique_values\": 10,\n        \"samples\": [\n          70,\n          65,\n          88\n        ],\n        \"semantic_type\": \"\",\n        \"description\": \"\"\n      }\n    },\n    {\n      \"column\": \"Grade\",\n      \"properties\": {\n        \"dtype\": \"string\",\n        \"num_unique_values\": 5,\n        \"samples\": [\n          \"B\",\n          \"F\",\n          \"C\"\n        ],\n        \"semantic_type\": \"\",\n        \"description\": \"\"\n      }\n    },\n    {\n      \"column\": \"Grade_Encoding\",\n      \"properties\": {\n        \"dtype\": \"number\",\n        \"std\": 1,\n        \"min\": 0,\n        \"max\": 4,\n        \"num_unique_values\": 5,\n        \"samples\": [\n          1,\n          4,\n          2\n        ],\n        \"semantic_type\": \"\",\n        \"description\": \"\"\n      }\n    }\n  ]\n}"
            }
          },
          "metadata": {},
          "execution_count": 106
        }
      ]
    },
    {
      "cell_type": "code",
      "source": [
        "y = df3['Grade_Encoding'].values\n",
        "y"
      ],
      "metadata": {
        "colab": {
          "base_uri": "https://localhost:8080/"
        },
        "id": "3sP-QiYEex_J",
        "outputId": "4d234e12-6f74-4c53-ee24-0ca63b3de5ca"
      },
      "execution_count": 107,
      "outputs": [
        {
          "output_type": "execute_result",
          "data": {
            "text/plain": [
              "array([0, 1, 0, 2, 3, 0, 1, 3, 1, 4])"
            ]
          },
          "metadata": {},
          "execution_count": 107
        }
      ]
    },
    {
      "cell_type": "code",
      "source": [
        "from sklearn.model_selection import train_test_split"
      ],
      "metadata": {
        "id": "e7ovjCSdfX_F"
      },
      "execution_count": 108,
      "outputs": []
    },
    {
      "cell_type": "code",
      "source": [
        "x_train,x_test, y_train, y_test = train_test_split(x,y, test_size = 0.2, random_state = 42)"
      ],
      "metadata": {
        "id": "SWj1EO_vfedD"
      },
      "execution_count": 112,
      "outputs": []
    },
    {
      "cell_type": "code",
      "source": [
        "# multi_class='multinomial'\n",
        "model_lr = LogisticRegression()"
      ],
      "metadata": {
        "id": "jXhNFemle_mj"
      },
      "execution_count": 120,
      "outputs": []
    },
    {
      "cell_type": "code",
      "source": [
        "model_lr.fit(x_train,y_train)"
      ],
      "metadata": {
        "colab": {
          "base_uri": "https://localhost:8080/",
          "height": 233
        },
        "id": "nCSIEksQfUIw",
        "outputId": "b2c382da-fb81-4477-b467-55fa50d2f446"
      },
      "execution_count": 121,
      "outputs": [
        {
          "output_type": "stream",
          "name": "stderr",
          "text": [
            "/usr/local/lib/python3.10/dist-packages/sklearn/linear_model/_logistic.py:458: ConvergenceWarning: lbfgs failed to converge (status=1):\n",
            "STOP: TOTAL NO. of ITERATIONS REACHED LIMIT.\n",
            "\n",
            "Increase the number of iterations (max_iter) or scale the data as shown in:\n",
            "    https://scikit-learn.org/stable/modules/preprocessing.html\n",
            "Please also refer to the documentation for alternative solver options:\n",
            "    https://scikit-learn.org/stable/modules/linear_model.html#logistic-regression\n",
            "  n_iter_i = _check_optimize_result(\n"
          ]
        },
        {
          "output_type": "execute_result",
          "data": {
            "text/plain": [
              "LogisticRegression()"
            ],
            "text/html": [
              "<style>#sk-container-id-9 {color: black;background-color: white;}#sk-container-id-9 pre{padding: 0;}#sk-container-id-9 div.sk-toggleable {background-color: white;}#sk-container-id-9 label.sk-toggleable__label {cursor: pointer;display: block;width: 100%;margin-bottom: 0;padding: 0.3em;box-sizing: border-box;text-align: center;}#sk-container-id-9 label.sk-toggleable__label-arrow:before {content: \"▸\";float: left;margin-right: 0.25em;color: #696969;}#sk-container-id-9 label.sk-toggleable__label-arrow:hover:before {color: black;}#sk-container-id-9 div.sk-estimator:hover label.sk-toggleable__label-arrow:before {color: black;}#sk-container-id-9 div.sk-toggleable__content {max-height: 0;max-width: 0;overflow: hidden;text-align: left;background-color: #f0f8ff;}#sk-container-id-9 div.sk-toggleable__content pre {margin: 0.2em;color: black;border-radius: 0.25em;background-color: #f0f8ff;}#sk-container-id-9 input.sk-toggleable__control:checked~div.sk-toggleable__content {max-height: 200px;max-width: 100%;overflow: auto;}#sk-container-id-9 input.sk-toggleable__control:checked~label.sk-toggleable__label-arrow:before {content: \"▾\";}#sk-container-id-9 div.sk-estimator input.sk-toggleable__control:checked~label.sk-toggleable__label {background-color: #d4ebff;}#sk-container-id-9 div.sk-label input.sk-toggleable__control:checked~label.sk-toggleable__label {background-color: #d4ebff;}#sk-container-id-9 input.sk-hidden--visually {border: 0;clip: rect(1px 1px 1px 1px);clip: rect(1px, 1px, 1px, 1px);height: 1px;margin: -1px;overflow: hidden;padding: 0;position: absolute;width: 1px;}#sk-container-id-9 div.sk-estimator {font-family: monospace;background-color: #f0f8ff;border: 1px dotted black;border-radius: 0.25em;box-sizing: border-box;margin-bottom: 0.5em;}#sk-container-id-9 div.sk-estimator:hover {background-color: #d4ebff;}#sk-container-id-9 div.sk-parallel-item::after {content: \"\";width: 100%;border-bottom: 1px solid gray;flex-grow: 1;}#sk-container-id-9 div.sk-label:hover label.sk-toggleable__label {background-color: #d4ebff;}#sk-container-id-9 div.sk-serial::before {content: \"\";position: absolute;border-left: 1px solid gray;box-sizing: border-box;top: 0;bottom: 0;left: 50%;z-index: 0;}#sk-container-id-9 div.sk-serial {display: flex;flex-direction: column;align-items: center;background-color: white;padding-right: 0.2em;padding-left: 0.2em;position: relative;}#sk-container-id-9 div.sk-item {position: relative;z-index: 1;}#sk-container-id-9 div.sk-parallel {display: flex;align-items: stretch;justify-content: center;background-color: white;position: relative;}#sk-container-id-9 div.sk-item::before, #sk-container-id-9 div.sk-parallel-item::before {content: \"\";position: absolute;border-left: 1px solid gray;box-sizing: border-box;top: 0;bottom: 0;left: 50%;z-index: -1;}#sk-container-id-9 div.sk-parallel-item {display: flex;flex-direction: column;z-index: 1;position: relative;background-color: white;}#sk-container-id-9 div.sk-parallel-item:first-child::after {align-self: flex-end;width: 50%;}#sk-container-id-9 div.sk-parallel-item:last-child::after {align-self: flex-start;width: 50%;}#sk-container-id-9 div.sk-parallel-item:only-child::after {width: 0;}#sk-container-id-9 div.sk-dashed-wrapped {border: 1px dashed gray;margin: 0 0.4em 0.5em 0.4em;box-sizing: border-box;padding-bottom: 0.4em;background-color: white;}#sk-container-id-9 div.sk-label label {font-family: monospace;font-weight: bold;display: inline-block;line-height: 1.2em;}#sk-container-id-9 div.sk-label-container {text-align: center;}#sk-container-id-9 div.sk-container {/* jupyter's `normalize.less` sets `[hidden] { display: none; }` but bootstrap.min.css set `[hidden] { display: none !important; }` so we also need the `!important` here to be able to override the default hidden behavior on the sphinx rendered scikit-learn.org. See: https://github.com/scikit-learn/scikit-learn/issues/21755 */display: inline-block !important;position: relative;}#sk-container-id-9 div.sk-text-repr-fallback {display: none;}</style><div id=\"sk-container-id-9\" class=\"sk-top-container\"><div class=\"sk-text-repr-fallback\"><pre>LogisticRegression()</pre><b>In a Jupyter environment, please rerun this cell to show the HTML representation or trust the notebook. <br />On GitHub, the HTML representation is unable to render, please try loading this page with nbviewer.org.</b></div><div class=\"sk-container\" hidden><div class=\"sk-item\"><div class=\"sk-estimator sk-toggleable\"><input class=\"sk-toggleable__control sk-hidden--visually\" id=\"sk-estimator-id-9\" type=\"checkbox\" checked><label for=\"sk-estimator-id-9\" class=\"sk-toggleable__label sk-toggleable__label-arrow\">LogisticRegression</label><div class=\"sk-toggleable__content\"><pre>LogisticRegression()</pre></div></div></div></div></div>"
            ]
          },
          "metadata": {},
          "execution_count": 121
        }
      ]
    },
    {
      "cell_type": "code",
      "source": [
        "x_test"
      ],
      "metadata": {
        "colab": {
          "base_uri": "https://localhost:8080/"
        },
        "id": "rSNiXKHvf87U",
        "outputId": "89b93d04-8020-49d2-b9a8-9ac804b6c637"
      },
      "execution_count": 122,
      "outputs": [
        {
          "output_type": "execute_result",
          "data": {
            "text/plain": [
              "array([[78, 70],\n",
              "       [72, 65]])"
            ]
          },
          "metadata": {},
          "execution_count": 122
        }
      ]
    },
    {
      "cell_type": "code",
      "source": [
        "model_lr.predict(x_test)"
      ],
      "metadata": {
        "colab": {
          "base_uri": "https://localhost:8080/"
        },
        "id": "xgxbMbDyf1ZA",
        "outputId": "8853c99c-a1fa-4d1c-d0e5-391dadff8b5a"
      },
      "execution_count": 123,
      "outputs": [
        {
          "output_type": "execute_result",
          "data": {
            "text/plain": [
              "array([2, 2])"
            ]
          },
          "metadata": {},
          "execution_count": 123
        }
      ]
    },
    {
      "cell_type": "code",
      "source": [
        "model_lr.score(x_test,y_test)"
      ],
      "metadata": {
        "colab": {
          "base_uri": "https://localhost:8080/"
        },
        "id": "G9fe9LH9gNJ0",
        "outputId": "da65c9c6-4076-4488-a59c-780802da8f40"
      },
      "execution_count": 124,
      "outputs": [
        {
          "output_type": "execute_result",
          "data": {
            "text/plain": [
              "0.0"
            ]
          },
          "metadata": {},
          "execution_count": 124
        }
      ]
    },
    {
      "cell_type": "code",
      "source": [
        "from sklearn.metrics import accuracy_score"
      ],
      "metadata": {
        "id": "mu53qvnBrcgr"
      },
      "execution_count": 125,
      "outputs": []
    },
    {
      "cell_type": "code",
      "source": [
        "accuracy_score(y_test,model_lr.predict(x_test))"
      ],
      "metadata": {
        "colab": {
          "base_uri": "https://localhost:8080/"
        },
        "id": "ePDqfQ5srUn3",
        "outputId": "44ca84f3-21ae-4d09-b8d3-b77ce38c6c79"
      },
      "execution_count": 126,
      "outputs": [
        {
          "output_type": "execute_result",
          "data": {
            "text/plain": [
              "0.0"
            ]
          },
          "metadata": {},
          "execution_count": 126
        }
      ]
    },
    {
      "cell_type": "markdown",
      "source": [
        "## Task - LogisticRegression"
      ],
      "metadata": {
        "id": "bb2soG9gt7hp"
      }
    },
    {
      "cell_type": "code",
      "source": [
        "from sklearn.datasets import load_iris"
      ],
      "metadata": {
        "id": "1R7DJ6v8uAmD"
      },
      "execution_count": 57,
      "outputs": []
    },
    {
      "cell_type": "code",
      "source": [
        "data = load_iris()"
      ],
      "metadata": {
        "id": "nGJOnQDjuGsu"
      },
      "execution_count": 59,
      "outputs": []
    },
    {
      "cell_type": "code",
      "source": [
        "data.keys()"
      ],
      "metadata": {
        "colab": {
          "base_uri": "https://localhost:8080/"
        },
        "id": "q3jkfifxua9D",
        "outputId": "b4a3d081-acfd-4242-f12e-d217d9d23a67"
      },
      "execution_count": 61,
      "outputs": [
        {
          "output_type": "execute_result",
          "data": {
            "text/plain": [
              "dict_keys(['data', 'target', 'frame', 'target_names', 'DESCR', 'feature_names', 'filename', 'data_module'])"
            ]
          },
          "metadata": {},
          "execution_count": 61
        }
      ]
    },
    {
      "cell_type": "code",
      "source": [
        "data.data"
      ],
      "metadata": {
        "colab": {
          "base_uri": "https://localhost:8080/"
        },
        "id": "Im8ziqXeugIe",
        "outputId": "6a9d0522-8ce2-4861-be1c-01aac02726b0"
      },
      "execution_count": 62,
      "outputs": [
        {
          "output_type": "execute_result",
          "data": {
            "text/plain": [
              "array([[5.1, 3.5, 1.4, 0.2],\n",
              "       [4.9, 3. , 1.4, 0.2],\n",
              "       [4.7, 3.2, 1.3, 0.2],\n",
              "       [4.6, 3.1, 1.5, 0.2],\n",
              "       [5. , 3.6, 1.4, 0.2],\n",
              "       [5.4, 3.9, 1.7, 0.4],\n",
              "       [4.6, 3.4, 1.4, 0.3],\n",
              "       [5. , 3.4, 1.5, 0.2],\n",
              "       [4.4, 2.9, 1.4, 0.2],\n",
              "       [4.9, 3.1, 1.5, 0.1],\n",
              "       [5.4, 3.7, 1.5, 0.2],\n",
              "       [4.8, 3.4, 1.6, 0.2],\n",
              "       [4.8, 3. , 1.4, 0.1],\n",
              "       [4.3, 3. , 1.1, 0.1],\n",
              "       [5.8, 4. , 1.2, 0.2],\n",
              "       [5.7, 4.4, 1.5, 0.4],\n",
              "       [5.4, 3.9, 1.3, 0.4],\n",
              "       [5.1, 3.5, 1.4, 0.3],\n",
              "       [5.7, 3.8, 1.7, 0.3],\n",
              "       [5.1, 3.8, 1.5, 0.3],\n",
              "       [5.4, 3.4, 1.7, 0.2],\n",
              "       [5.1, 3.7, 1.5, 0.4],\n",
              "       [4.6, 3.6, 1. , 0.2],\n",
              "       [5.1, 3.3, 1.7, 0.5],\n",
              "       [4.8, 3.4, 1.9, 0.2],\n",
              "       [5. , 3. , 1.6, 0.2],\n",
              "       [5. , 3.4, 1.6, 0.4],\n",
              "       [5.2, 3.5, 1.5, 0.2],\n",
              "       [5.2, 3.4, 1.4, 0.2],\n",
              "       [4.7, 3.2, 1.6, 0.2],\n",
              "       [4.8, 3.1, 1.6, 0.2],\n",
              "       [5.4, 3.4, 1.5, 0.4],\n",
              "       [5.2, 4.1, 1.5, 0.1],\n",
              "       [5.5, 4.2, 1.4, 0.2],\n",
              "       [4.9, 3.1, 1.5, 0.2],\n",
              "       [5. , 3.2, 1.2, 0.2],\n",
              "       [5.5, 3.5, 1.3, 0.2],\n",
              "       [4.9, 3.6, 1.4, 0.1],\n",
              "       [4.4, 3. , 1.3, 0.2],\n",
              "       [5.1, 3.4, 1.5, 0.2],\n",
              "       [5. , 3.5, 1.3, 0.3],\n",
              "       [4.5, 2.3, 1.3, 0.3],\n",
              "       [4.4, 3.2, 1.3, 0.2],\n",
              "       [5. , 3.5, 1.6, 0.6],\n",
              "       [5.1, 3.8, 1.9, 0.4],\n",
              "       [4.8, 3. , 1.4, 0.3],\n",
              "       [5.1, 3.8, 1.6, 0.2],\n",
              "       [4.6, 3.2, 1.4, 0.2],\n",
              "       [5.3, 3.7, 1.5, 0.2],\n",
              "       [5. , 3.3, 1.4, 0.2],\n",
              "       [7. , 3.2, 4.7, 1.4],\n",
              "       [6.4, 3.2, 4.5, 1.5],\n",
              "       [6.9, 3.1, 4.9, 1.5],\n",
              "       [5.5, 2.3, 4. , 1.3],\n",
              "       [6.5, 2.8, 4.6, 1.5],\n",
              "       [5.7, 2.8, 4.5, 1.3],\n",
              "       [6.3, 3.3, 4.7, 1.6],\n",
              "       [4.9, 2.4, 3.3, 1. ],\n",
              "       [6.6, 2.9, 4.6, 1.3],\n",
              "       [5.2, 2.7, 3.9, 1.4],\n",
              "       [5. , 2. , 3.5, 1. ],\n",
              "       [5.9, 3. , 4.2, 1.5],\n",
              "       [6. , 2.2, 4. , 1. ],\n",
              "       [6.1, 2.9, 4.7, 1.4],\n",
              "       [5.6, 2.9, 3.6, 1.3],\n",
              "       [6.7, 3.1, 4.4, 1.4],\n",
              "       [5.6, 3. , 4.5, 1.5],\n",
              "       [5.8, 2.7, 4.1, 1. ],\n",
              "       [6.2, 2.2, 4.5, 1.5],\n",
              "       [5.6, 2.5, 3.9, 1.1],\n",
              "       [5.9, 3.2, 4.8, 1.8],\n",
              "       [6.1, 2.8, 4. , 1.3],\n",
              "       [6.3, 2.5, 4.9, 1.5],\n",
              "       [6.1, 2.8, 4.7, 1.2],\n",
              "       [6.4, 2.9, 4.3, 1.3],\n",
              "       [6.6, 3. , 4.4, 1.4],\n",
              "       [6.8, 2.8, 4.8, 1.4],\n",
              "       [6.7, 3. , 5. , 1.7],\n",
              "       [6. , 2.9, 4.5, 1.5],\n",
              "       [5.7, 2.6, 3.5, 1. ],\n",
              "       [5.5, 2.4, 3.8, 1.1],\n",
              "       [5.5, 2.4, 3.7, 1. ],\n",
              "       [5.8, 2.7, 3.9, 1.2],\n",
              "       [6. , 2.7, 5.1, 1.6],\n",
              "       [5.4, 3. , 4.5, 1.5],\n",
              "       [6. , 3.4, 4.5, 1.6],\n",
              "       [6.7, 3.1, 4.7, 1.5],\n",
              "       [6.3, 2.3, 4.4, 1.3],\n",
              "       [5.6, 3. , 4.1, 1.3],\n",
              "       [5.5, 2.5, 4. , 1.3],\n",
              "       [5.5, 2.6, 4.4, 1.2],\n",
              "       [6.1, 3. , 4.6, 1.4],\n",
              "       [5.8, 2.6, 4. , 1.2],\n",
              "       [5. , 2.3, 3.3, 1. ],\n",
              "       [5.6, 2.7, 4.2, 1.3],\n",
              "       [5.7, 3. , 4.2, 1.2],\n",
              "       [5.7, 2.9, 4.2, 1.3],\n",
              "       [6.2, 2.9, 4.3, 1.3],\n",
              "       [5.1, 2.5, 3. , 1.1],\n",
              "       [5.7, 2.8, 4.1, 1.3],\n",
              "       [6.3, 3.3, 6. , 2.5],\n",
              "       [5.8, 2.7, 5.1, 1.9],\n",
              "       [7.1, 3. , 5.9, 2.1],\n",
              "       [6.3, 2.9, 5.6, 1.8],\n",
              "       [6.5, 3. , 5.8, 2.2],\n",
              "       [7.6, 3. , 6.6, 2.1],\n",
              "       [4.9, 2.5, 4.5, 1.7],\n",
              "       [7.3, 2.9, 6.3, 1.8],\n",
              "       [6.7, 2.5, 5.8, 1.8],\n",
              "       [7.2, 3.6, 6.1, 2.5],\n",
              "       [6.5, 3.2, 5.1, 2. ],\n",
              "       [6.4, 2.7, 5.3, 1.9],\n",
              "       [6.8, 3. , 5.5, 2.1],\n",
              "       [5.7, 2.5, 5. , 2. ],\n",
              "       [5.8, 2.8, 5.1, 2.4],\n",
              "       [6.4, 3.2, 5.3, 2.3],\n",
              "       [6.5, 3. , 5.5, 1.8],\n",
              "       [7.7, 3.8, 6.7, 2.2],\n",
              "       [7.7, 2.6, 6.9, 2.3],\n",
              "       [6. , 2.2, 5. , 1.5],\n",
              "       [6.9, 3.2, 5.7, 2.3],\n",
              "       [5.6, 2.8, 4.9, 2. ],\n",
              "       [7.7, 2.8, 6.7, 2. ],\n",
              "       [6.3, 2.7, 4.9, 1.8],\n",
              "       [6.7, 3.3, 5.7, 2.1],\n",
              "       [7.2, 3.2, 6. , 1.8],\n",
              "       [6.2, 2.8, 4.8, 1.8],\n",
              "       [6.1, 3. , 4.9, 1.8],\n",
              "       [6.4, 2.8, 5.6, 2.1],\n",
              "       [7.2, 3. , 5.8, 1.6],\n",
              "       [7.4, 2.8, 6.1, 1.9],\n",
              "       [7.9, 3.8, 6.4, 2. ],\n",
              "       [6.4, 2.8, 5.6, 2.2],\n",
              "       [6.3, 2.8, 5.1, 1.5],\n",
              "       [6.1, 2.6, 5.6, 1.4],\n",
              "       [7.7, 3. , 6.1, 2.3],\n",
              "       [6.3, 3.4, 5.6, 2.4],\n",
              "       [6.4, 3.1, 5.5, 1.8],\n",
              "       [6. , 3. , 4.8, 1.8],\n",
              "       [6.9, 3.1, 5.4, 2.1],\n",
              "       [6.7, 3.1, 5.6, 2.4],\n",
              "       [6.9, 3.1, 5.1, 2.3],\n",
              "       [5.8, 2.7, 5.1, 1.9],\n",
              "       [6.8, 3.2, 5.9, 2.3],\n",
              "       [6.7, 3.3, 5.7, 2.5],\n",
              "       [6.7, 3. , 5.2, 2.3],\n",
              "       [6.3, 2.5, 5. , 1.9],\n",
              "       [6.5, 3. , 5.2, 2. ],\n",
              "       [6.2, 3.4, 5.4, 2.3],\n",
              "       [5.9, 3. , 5.1, 1.8]])"
            ]
          },
          "metadata": {},
          "execution_count": 62
        }
      ]
    },
    {
      "cell_type": "code",
      "source": [
        "df = pd.DataFrame(data.data, columns= data.feature_names)\n",
        "df"
      ],
      "metadata": {
        "colab": {
          "base_uri": "https://localhost:8080/",
          "height": 441
        },
        "id": "jPfNcL3FuuRL",
        "outputId": "19ac9580-b258-4fd2-d829-84bae8f9d6e8"
      },
      "execution_count": 66,
      "outputs": [
        {
          "output_type": "execute_result",
          "data": {
            "text/plain": [
              "     sepal length (cm)  sepal width (cm)  petal length (cm)  petal width (cm)\n",
              "0                  5.1               3.5                1.4               0.2\n",
              "1                  4.9               3.0                1.4               0.2\n",
              "2                  4.7               3.2                1.3               0.2\n",
              "3                  4.6               3.1                1.5               0.2\n",
              "4                  5.0               3.6                1.4               0.2\n",
              "..                 ...               ...                ...               ...\n",
              "145                6.7               3.0                5.2               2.3\n",
              "146                6.3               2.5                5.0               1.9\n",
              "147                6.5               3.0                5.2               2.0\n",
              "148                6.2               3.4                5.4               2.3\n",
              "149                5.9               3.0                5.1               1.8\n",
              "\n",
              "[150 rows x 4 columns]"
            ],
            "text/html": [
              "\n",
              "  <div id=\"df-64bff337-23ef-4b69-862e-3fec2a1cecc9\" class=\"colab-df-container\">\n",
              "    <div>\n",
              "<style scoped>\n",
              "    .dataframe tbody tr th:only-of-type {\n",
              "        vertical-align: middle;\n",
              "    }\n",
              "\n",
              "    .dataframe tbody tr th {\n",
              "        vertical-align: top;\n",
              "    }\n",
              "\n",
              "    .dataframe thead th {\n",
              "        text-align: right;\n",
              "    }\n",
              "</style>\n",
              "<table border=\"1\" class=\"dataframe\">\n",
              "  <thead>\n",
              "    <tr style=\"text-align: right;\">\n",
              "      <th></th>\n",
              "      <th>sepal length (cm)</th>\n",
              "      <th>sepal width (cm)</th>\n",
              "      <th>petal length (cm)</th>\n",
              "      <th>petal width (cm)</th>\n",
              "    </tr>\n",
              "  </thead>\n",
              "  <tbody>\n",
              "    <tr>\n",
              "      <th>0</th>\n",
              "      <td>5.1</td>\n",
              "      <td>3.5</td>\n",
              "      <td>1.4</td>\n",
              "      <td>0.2</td>\n",
              "    </tr>\n",
              "    <tr>\n",
              "      <th>1</th>\n",
              "      <td>4.9</td>\n",
              "      <td>3.0</td>\n",
              "      <td>1.4</td>\n",
              "      <td>0.2</td>\n",
              "    </tr>\n",
              "    <tr>\n",
              "      <th>2</th>\n",
              "      <td>4.7</td>\n",
              "      <td>3.2</td>\n",
              "      <td>1.3</td>\n",
              "      <td>0.2</td>\n",
              "    </tr>\n",
              "    <tr>\n",
              "      <th>3</th>\n",
              "      <td>4.6</td>\n",
              "      <td>3.1</td>\n",
              "      <td>1.5</td>\n",
              "      <td>0.2</td>\n",
              "    </tr>\n",
              "    <tr>\n",
              "      <th>4</th>\n",
              "      <td>5.0</td>\n",
              "      <td>3.6</td>\n",
              "      <td>1.4</td>\n",
              "      <td>0.2</td>\n",
              "    </tr>\n",
              "    <tr>\n",
              "      <th>...</th>\n",
              "      <td>...</td>\n",
              "      <td>...</td>\n",
              "      <td>...</td>\n",
              "      <td>...</td>\n",
              "    </tr>\n",
              "    <tr>\n",
              "      <th>145</th>\n",
              "      <td>6.7</td>\n",
              "      <td>3.0</td>\n",
              "      <td>5.2</td>\n",
              "      <td>2.3</td>\n",
              "    </tr>\n",
              "    <tr>\n",
              "      <th>146</th>\n",
              "      <td>6.3</td>\n",
              "      <td>2.5</td>\n",
              "      <td>5.0</td>\n",
              "      <td>1.9</td>\n",
              "    </tr>\n",
              "    <tr>\n",
              "      <th>147</th>\n",
              "      <td>6.5</td>\n",
              "      <td>3.0</td>\n",
              "      <td>5.2</td>\n",
              "      <td>2.0</td>\n",
              "    </tr>\n",
              "    <tr>\n",
              "      <th>148</th>\n",
              "      <td>6.2</td>\n",
              "      <td>3.4</td>\n",
              "      <td>5.4</td>\n",
              "      <td>2.3</td>\n",
              "    </tr>\n",
              "    <tr>\n",
              "      <th>149</th>\n",
              "      <td>5.9</td>\n",
              "      <td>3.0</td>\n",
              "      <td>5.1</td>\n",
              "      <td>1.8</td>\n",
              "    </tr>\n",
              "  </tbody>\n",
              "</table>\n",
              "<p>150 rows × 4 columns</p>\n",
              "</div>\n",
              "    <div class=\"colab-df-buttons\">\n",
              "\n",
              "  <div class=\"colab-df-container\">\n",
              "    <button class=\"colab-df-convert\" onclick=\"convertToInteractive('df-64bff337-23ef-4b69-862e-3fec2a1cecc9')\"\n",
              "            title=\"Convert this dataframe to an interactive table.\"\n",
              "            style=\"display:none;\">\n",
              "\n",
              "  <svg xmlns=\"http://www.w3.org/2000/svg\" height=\"24px\" viewBox=\"0 -960 960 960\">\n",
              "    <path d=\"M120-120v-720h720v720H120Zm60-500h600v-160H180v160Zm220 220h160v-160H400v160Zm0 220h160v-160H400v160ZM180-400h160v-160H180v160Zm440 0h160v-160H620v160ZM180-180h160v-160H180v160Zm440 0h160v-160H620v160Z\"/>\n",
              "  </svg>\n",
              "    </button>\n",
              "\n",
              "  <style>\n",
              "    .colab-df-container {\n",
              "      display:flex;\n",
              "      gap: 12px;\n",
              "    }\n",
              "\n",
              "    .colab-df-convert {\n",
              "      background-color: #E8F0FE;\n",
              "      border: none;\n",
              "      border-radius: 50%;\n",
              "      cursor: pointer;\n",
              "      display: none;\n",
              "      fill: #1967D2;\n",
              "      height: 32px;\n",
              "      padding: 0 0 0 0;\n",
              "      width: 32px;\n",
              "    }\n",
              "\n",
              "    .colab-df-convert:hover {\n",
              "      background-color: #E2EBFA;\n",
              "      box-shadow: 0px 1px 2px rgba(60, 64, 67, 0.3), 0px 1px 3px 1px rgba(60, 64, 67, 0.15);\n",
              "      fill: #174EA6;\n",
              "    }\n",
              "\n",
              "    .colab-df-buttons div {\n",
              "      margin-bottom: 4px;\n",
              "    }\n",
              "\n",
              "    [theme=dark] .colab-df-convert {\n",
              "      background-color: #3B4455;\n",
              "      fill: #D2E3FC;\n",
              "    }\n",
              "\n",
              "    [theme=dark] .colab-df-convert:hover {\n",
              "      background-color: #434B5C;\n",
              "      box-shadow: 0px 1px 3px 1px rgba(0, 0, 0, 0.15);\n",
              "      filter: drop-shadow(0px 1px 2px rgba(0, 0, 0, 0.3));\n",
              "      fill: #FFFFFF;\n",
              "    }\n",
              "  </style>\n",
              "\n",
              "    <script>\n",
              "      const buttonEl =\n",
              "        document.querySelector('#df-64bff337-23ef-4b69-862e-3fec2a1cecc9 button.colab-df-convert');\n",
              "      buttonEl.style.display =\n",
              "        google.colab.kernel.accessAllowed ? 'block' : 'none';\n",
              "\n",
              "      async function convertToInteractive(key) {\n",
              "        const element = document.querySelector('#df-64bff337-23ef-4b69-862e-3fec2a1cecc9');\n",
              "        const dataTable =\n",
              "          await google.colab.kernel.invokeFunction('convertToInteractive',\n",
              "                                                    [key], {});\n",
              "        if (!dataTable) return;\n",
              "\n",
              "        const docLinkHtml = 'Like what you see? Visit the ' +\n",
              "          '<a target=\"_blank\" href=https://colab.research.google.com/notebooks/data_table.ipynb>data table notebook</a>'\n",
              "          + ' to learn more about interactive tables.';\n",
              "        element.innerHTML = '';\n",
              "        dataTable['output_type'] = 'display_data';\n",
              "        await google.colab.output.renderOutput(dataTable, element);\n",
              "        const docLink = document.createElement('div');\n",
              "        docLink.innerHTML = docLinkHtml;\n",
              "        element.appendChild(docLink);\n",
              "      }\n",
              "    </script>\n",
              "  </div>\n",
              "\n",
              "\n",
              "<div id=\"df-f999e6fb-4827-4fb0-bf88-8ce80effc1e1\">\n",
              "  <button class=\"colab-df-quickchart\" onclick=\"quickchart('df-f999e6fb-4827-4fb0-bf88-8ce80effc1e1')\"\n",
              "            title=\"Suggest charts\"\n",
              "            style=\"display:none;\">\n",
              "\n",
              "<svg xmlns=\"http://www.w3.org/2000/svg\" height=\"24px\"viewBox=\"0 0 24 24\"\n",
              "     width=\"24px\">\n",
              "    <g>\n",
              "        <path d=\"M19 3H5c-1.1 0-2 .9-2 2v14c0 1.1.9 2 2 2h14c1.1 0 2-.9 2-2V5c0-1.1-.9-2-2-2zM9 17H7v-7h2v7zm4 0h-2V7h2v10zm4 0h-2v-4h2v4z\"/>\n",
              "    </g>\n",
              "</svg>\n",
              "  </button>\n",
              "\n",
              "<style>\n",
              "  .colab-df-quickchart {\n",
              "      --bg-color: #E8F0FE;\n",
              "      --fill-color: #1967D2;\n",
              "      --hover-bg-color: #E2EBFA;\n",
              "      --hover-fill-color: #174EA6;\n",
              "      --disabled-fill-color: #AAA;\n",
              "      --disabled-bg-color: #DDD;\n",
              "  }\n",
              "\n",
              "  [theme=dark] .colab-df-quickchart {\n",
              "      --bg-color: #3B4455;\n",
              "      --fill-color: #D2E3FC;\n",
              "      --hover-bg-color: #434B5C;\n",
              "      --hover-fill-color: #FFFFFF;\n",
              "      --disabled-bg-color: #3B4455;\n",
              "      --disabled-fill-color: #666;\n",
              "  }\n",
              "\n",
              "  .colab-df-quickchart {\n",
              "    background-color: var(--bg-color);\n",
              "    border: none;\n",
              "    border-radius: 50%;\n",
              "    cursor: pointer;\n",
              "    display: none;\n",
              "    fill: var(--fill-color);\n",
              "    height: 32px;\n",
              "    padding: 0;\n",
              "    width: 32px;\n",
              "  }\n",
              "\n",
              "  .colab-df-quickchart:hover {\n",
              "    background-color: var(--hover-bg-color);\n",
              "    box-shadow: 0 1px 2px rgba(60, 64, 67, 0.3), 0 1px 3px 1px rgba(60, 64, 67, 0.15);\n",
              "    fill: var(--button-hover-fill-color);\n",
              "  }\n",
              "\n",
              "  .colab-df-quickchart-complete:disabled,\n",
              "  .colab-df-quickchart-complete:disabled:hover {\n",
              "    background-color: var(--disabled-bg-color);\n",
              "    fill: var(--disabled-fill-color);\n",
              "    box-shadow: none;\n",
              "  }\n",
              "\n",
              "  .colab-df-spinner {\n",
              "    border: 2px solid var(--fill-color);\n",
              "    border-color: transparent;\n",
              "    border-bottom-color: var(--fill-color);\n",
              "    animation:\n",
              "      spin 1s steps(1) infinite;\n",
              "  }\n",
              "\n",
              "  @keyframes spin {\n",
              "    0% {\n",
              "      border-color: transparent;\n",
              "      border-bottom-color: var(--fill-color);\n",
              "      border-left-color: var(--fill-color);\n",
              "    }\n",
              "    20% {\n",
              "      border-color: transparent;\n",
              "      border-left-color: var(--fill-color);\n",
              "      border-top-color: var(--fill-color);\n",
              "    }\n",
              "    30% {\n",
              "      border-color: transparent;\n",
              "      border-left-color: var(--fill-color);\n",
              "      border-top-color: var(--fill-color);\n",
              "      border-right-color: var(--fill-color);\n",
              "    }\n",
              "    40% {\n",
              "      border-color: transparent;\n",
              "      border-right-color: var(--fill-color);\n",
              "      border-top-color: var(--fill-color);\n",
              "    }\n",
              "    60% {\n",
              "      border-color: transparent;\n",
              "      border-right-color: var(--fill-color);\n",
              "    }\n",
              "    80% {\n",
              "      border-color: transparent;\n",
              "      border-right-color: var(--fill-color);\n",
              "      border-bottom-color: var(--fill-color);\n",
              "    }\n",
              "    90% {\n",
              "      border-color: transparent;\n",
              "      border-bottom-color: var(--fill-color);\n",
              "    }\n",
              "  }\n",
              "</style>\n",
              "\n",
              "  <script>\n",
              "    async function quickchart(key) {\n",
              "      const quickchartButtonEl =\n",
              "        document.querySelector('#' + key + ' button');\n",
              "      quickchartButtonEl.disabled = true;  // To prevent multiple clicks.\n",
              "      quickchartButtonEl.classList.add('colab-df-spinner');\n",
              "      try {\n",
              "        const charts = await google.colab.kernel.invokeFunction(\n",
              "            'suggestCharts', [key], {});\n",
              "      } catch (error) {\n",
              "        console.error('Error during call to suggestCharts:', error);\n",
              "      }\n",
              "      quickchartButtonEl.classList.remove('colab-df-spinner');\n",
              "      quickchartButtonEl.classList.add('colab-df-quickchart-complete');\n",
              "    }\n",
              "    (() => {\n",
              "      let quickchartButtonEl =\n",
              "        document.querySelector('#df-f999e6fb-4827-4fb0-bf88-8ce80effc1e1 button');\n",
              "      quickchartButtonEl.style.display =\n",
              "        google.colab.kernel.accessAllowed ? 'block' : 'none';\n",
              "    })();\n",
              "  </script>\n",
              "</div>\n",
              "\n",
              "  <div id=\"id_a42d3944-1bdf-4f49-8a5a-b7742bdaea14\">\n",
              "    <style>\n",
              "      .colab-df-generate {\n",
              "        background-color: #E8F0FE;\n",
              "        border: none;\n",
              "        border-radius: 50%;\n",
              "        cursor: pointer;\n",
              "        display: none;\n",
              "        fill: #1967D2;\n",
              "        height: 32px;\n",
              "        padding: 0 0 0 0;\n",
              "        width: 32px;\n",
              "      }\n",
              "\n",
              "      .colab-df-generate:hover {\n",
              "        background-color: #E2EBFA;\n",
              "        box-shadow: 0px 1px 2px rgba(60, 64, 67, 0.3), 0px 1px 3px 1px rgba(60, 64, 67, 0.15);\n",
              "        fill: #174EA6;\n",
              "      }\n",
              "\n",
              "      [theme=dark] .colab-df-generate {\n",
              "        background-color: #3B4455;\n",
              "        fill: #D2E3FC;\n",
              "      }\n",
              "\n",
              "      [theme=dark] .colab-df-generate:hover {\n",
              "        background-color: #434B5C;\n",
              "        box-shadow: 0px 1px 3px 1px rgba(0, 0, 0, 0.15);\n",
              "        filter: drop-shadow(0px 1px 2px rgba(0, 0, 0, 0.3));\n",
              "        fill: #FFFFFF;\n",
              "      }\n",
              "    </style>\n",
              "    <button class=\"colab-df-generate\" onclick=\"generateWithVariable('df')\"\n",
              "            title=\"Generate code using this dataframe.\"\n",
              "            style=\"display:none;\">\n",
              "\n",
              "  <svg xmlns=\"http://www.w3.org/2000/svg\" height=\"24px\"viewBox=\"0 0 24 24\"\n",
              "       width=\"24px\">\n",
              "    <path d=\"M7,19H8.4L18.45,9,17,7.55,7,17.6ZM5,21V16.75L18.45,3.32a2,2,0,0,1,2.83,0l1.4,1.43a1.91,1.91,0,0,1,.58,1.4,1.91,1.91,0,0,1-.58,1.4L9.25,21ZM18.45,9,17,7.55Zm-12,3A5.31,5.31,0,0,0,4.9,8.1,5.31,5.31,0,0,0,1,6.5,5.31,5.31,0,0,0,4.9,4.9,5.31,5.31,0,0,0,6.5,1,5.31,5.31,0,0,0,8.1,4.9,5.31,5.31,0,0,0,12,6.5,5.46,5.46,0,0,0,6.5,12Z\"/>\n",
              "  </svg>\n",
              "    </button>\n",
              "    <script>\n",
              "      (() => {\n",
              "      const buttonEl =\n",
              "        document.querySelector('#id_a42d3944-1bdf-4f49-8a5a-b7742bdaea14 button.colab-df-generate');\n",
              "      buttonEl.style.display =\n",
              "        google.colab.kernel.accessAllowed ? 'block' : 'none';\n",
              "\n",
              "      buttonEl.onclick = () => {\n",
              "        google.colab.notebook.generateWithVariable('df');\n",
              "      }\n",
              "      })();\n",
              "    </script>\n",
              "  </div>\n",
              "\n",
              "    </div>\n",
              "  </div>\n"
            ],
            "application/vnd.google.colaboratory.intrinsic+json": {
              "type": "dataframe",
              "variable_name": "df",
              "summary": "{\n  \"name\": \"df\",\n  \"rows\": 150,\n  \"fields\": [\n    {\n      \"column\": \"sepal length (cm)\",\n      \"properties\": {\n        \"dtype\": \"number\",\n        \"std\": 0.828066127977863,\n        \"min\": 4.3,\n        \"max\": 7.9,\n        \"num_unique_values\": 35,\n        \"samples\": [\n          6.2,\n          4.5,\n          5.6\n        ],\n        \"semantic_type\": \"\",\n        \"description\": \"\"\n      }\n    },\n    {\n      \"column\": \"sepal width (cm)\",\n      \"properties\": {\n        \"dtype\": \"number\",\n        \"std\": 0.4358662849366982,\n        \"min\": 2.0,\n        \"max\": 4.4,\n        \"num_unique_values\": 23,\n        \"samples\": [\n          2.3,\n          4.0,\n          3.5\n        ],\n        \"semantic_type\": \"\",\n        \"description\": \"\"\n      }\n    },\n    {\n      \"column\": \"petal length (cm)\",\n      \"properties\": {\n        \"dtype\": \"number\",\n        \"std\": 1.7652982332594662,\n        \"min\": 1.0,\n        \"max\": 6.9,\n        \"num_unique_values\": 43,\n        \"samples\": [\n          6.7,\n          3.8,\n          3.7\n        ],\n        \"semantic_type\": \"\",\n        \"description\": \"\"\n      }\n    },\n    {\n      \"column\": \"petal width (cm)\",\n      \"properties\": {\n        \"dtype\": \"number\",\n        \"std\": 0.7622376689603465,\n        \"min\": 0.1,\n        \"max\": 2.5,\n        \"num_unique_values\": 22,\n        \"samples\": [\n          0.2,\n          1.2,\n          1.3\n        ],\n        \"semantic_type\": \"\",\n        \"description\": \"\"\n      }\n    }\n  ]\n}"
            }
          },
          "metadata": {},
          "execution_count": 66
        }
      ]
    },
    {
      "cell_type": "code",
      "source": [
        "df['Target']= data.target\n",
        "df"
      ],
      "metadata": {
        "colab": {
          "base_uri": "https://localhost:8080/",
          "height": 441
        },
        "id": "rOR4VNCYvEY2",
        "outputId": "15e3e367-b066-4e72-eb80-5791bb602613"
      },
      "execution_count": 67,
      "outputs": [
        {
          "output_type": "execute_result",
          "data": {
            "text/plain": [
              "     sepal length (cm)  sepal width (cm)  petal length (cm)  petal width (cm)  \\\n",
              "0                  5.1               3.5                1.4               0.2   \n",
              "1                  4.9               3.0                1.4               0.2   \n",
              "2                  4.7               3.2                1.3               0.2   \n",
              "3                  4.6               3.1                1.5               0.2   \n",
              "4                  5.0               3.6                1.4               0.2   \n",
              "..                 ...               ...                ...               ...   \n",
              "145                6.7               3.0                5.2               2.3   \n",
              "146                6.3               2.5                5.0               1.9   \n",
              "147                6.5               3.0                5.2               2.0   \n",
              "148                6.2               3.4                5.4               2.3   \n",
              "149                5.9               3.0                5.1               1.8   \n",
              "\n",
              "     Target  \n",
              "0         0  \n",
              "1         0  \n",
              "2         0  \n",
              "3         0  \n",
              "4         0  \n",
              "..      ...  \n",
              "145       2  \n",
              "146       2  \n",
              "147       2  \n",
              "148       2  \n",
              "149       2  \n",
              "\n",
              "[150 rows x 5 columns]"
            ],
            "text/html": [
              "\n",
              "  <div id=\"df-2fb86007-5676-43c3-99db-d2f16a000b90\" class=\"colab-df-container\">\n",
              "    <div>\n",
              "<style scoped>\n",
              "    .dataframe tbody tr th:only-of-type {\n",
              "        vertical-align: middle;\n",
              "    }\n",
              "\n",
              "    .dataframe tbody tr th {\n",
              "        vertical-align: top;\n",
              "    }\n",
              "\n",
              "    .dataframe thead th {\n",
              "        text-align: right;\n",
              "    }\n",
              "</style>\n",
              "<table border=\"1\" class=\"dataframe\">\n",
              "  <thead>\n",
              "    <tr style=\"text-align: right;\">\n",
              "      <th></th>\n",
              "      <th>sepal length (cm)</th>\n",
              "      <th>sepal width (cm)</th>\n",
              "      <th>petal length (cm)</th>\n",
              "      <th>petal width (cm)</th>\n",
              "      <th>Target</th>\n",
              "    </tr>\n",
              "  </thead>\n",
              "  <tbody>\n",
              "    <tr>\n",
              "      <th>0</th>\n",
              "      <td>5.1</td>\n",
              "      <td>3.5</td>\n",
              "      <td>1.4</td>\n",
              "      <td>0.2</td>\n",
              "      <td>0</td>\n",
              "    </tr>\n",
              "    <tr>\n",
              "      <th>1</th>\n",
              "      <td>4.9</td>\n",
              "      <td>3.0</td>\n",
              "      <td>1.4</td>\n",
              "      <td>0.2</td>\n",
              "      <td>0</td>\n",
              "    </tr>\n",
              "    <tr>\n",
              "      <th>2</th>\n",
              "      <td>4.7</td>\n",
              "      <td>3.2</td>\n",
              "      <td>1.3</td>\n",
              "      <td>0.2</td>\n",
              "      <td>0</td>\n",
              "    </tr>\n",
              "    <tr>\n",
              "      <th>3</th>\n",
              "      <td>4.6</td>\n",
              "      <td>3.1</td>\n",
              "      <td>1.5</td>\n",
              "      <td>0.2</td>\n",
              "      <td>0</td>\n",
              "    </tr>\n",
              "    <tr>\n",
              "      <th>4</th>\n",
              "      <td>5.0</td>\n",
              "      <td>3.6</td>\n",
              "      <td>1.4</td>\n",
              "      <td>0.2</td>\n",
              "      <td>0</td>\n",
              "    </tr>\n",
              "    <tr>\n",
              "      <th>...</th>\n",
              "      <td>...</td>\n",
              "      <td>...</td>\n",
              "      <td>...</td>\n",
              "      <td>...</td>\n",
              "      <td>...</td>\n",
              "    </tr>\n",
              "    <tr>\n",
              "      <th>145</th>\n",
              "      <td>6.7</td>\n",
              "      <td>3.0</td>\n",
              "      <td>5.2</td>\n",
              "      <td>2.3</td>\n",
              "      <td>2</td>\n",
              "    </tr>\n",
              "    <tr>\n",
              "      <th>146</th>\n",
              "      <td>6.3</td>\n",
              "      <td>2.5</td>\n",
              "      <td>5.0</td>\n",
              "      <td>1.9</td>\n",
              "      <td>2</td>\n",
              "    </tr>\n",
              "    <tr>\n",
              "      <th>147</th>\n",
              "      <td>6.5</td>\n",
              "      <td>3.0</td>\n",
              "      <td>5.2</td>\n",
              "      <td>2.0</td>\n",
              "      <td>2</td>\n",
              "    </tr>\n",
              "    <tr>\n",
              "      <th>148</th>\n",
              "      <td>6.2</td>\n",
              "      <td>3.4</td>\n",
              "      <td>5.4</td>\n",
              "      <td>2.3</td>\n",
              "      <td>2</td>\n",
              "    </tr>\n",
              "    <tr>\n",
              "      <th>149</th>\n",
              "      <td>5.9</td>\n",
              "      <td>3.0</td>\n",
              "      <td>5.1</td>\n",
              "      <td>1.8</td>\n",
              "      <td>2</td>\n",
              "    </tr>\n",
              "  </tbody>\n",
              "</table>\n",
              "<p>150 rows × 5 columns</p>\n",
              "</div>\n",
              "    <div class=\"colab-df-buttons\">\n",
              "\n",
              "  <div class=\"colab-df-container\">\n",
              "    <button class=\"colab-df-convert\" onclick=\"convertToInteractive('df-2fb86007-5676-43c3-99db-d2f16a000b90')\"\n",
              "            title=\"Convert this dataframe to an interactive table.\"\n",
              "            style=\"display:none;\">\n",
              "\n",
              "  <svg xmlns=\"http://www.w3.org/2000/svg\" height=\"24px\" viewBox=\"0 -960 960 960\">\n",
              "    <path d=\"M120-120v-720h720v720H120Zm60-500h600v-160H180v160Zm220 220h160v-160H400v160Zm0 220h160v-160H400v160ZM180-400h160v-160H180v160Zm440 0h160v-160H620v160ZM180-180h160v-160H180v160Zm440 0h160v-160H620v160Z\"/>\n",
              "  </svg>\n",
              "    </button>\n",
              "\n",
              "  <style>\n",
              "    .colab-df-container {\n",
              "      display:flex;\n",
              "      gap: 12px;\n",
              "    }\n",
              "\n",
              "    .colab-df-convert {\n",
              "      background-color: #E8F0FE;\n",
              "      border: none;\n",
              "      border-radius: 50%;\n",
              "      cursor: pointer;\n",
              "      display: none;\n",
              "      fill: #1967D2;\n",
              "      height: 32px;\n",
              "      padding: 0 0 0 0;\n",
              "      width: 32px;\n",
              "    }\n",
              "\n",
              "    .colab-df-convert:hover {\n",
              "      background-color: #E2EBFA;\n",
              "      box-shadow: 0px 1px 2px rgba(60, 64, 67, 0.3), 0px 1px 3px 1px rgba(60, 64, 67, 0.15);\n",
              "      fill: #174EA6;\n",
              "    }\n",
              "\n",
              "    .colab-df-buttons div {\n",
              "      margin-bottom: 4px;\n",
              "    }\n",
              "\n",
              "    [theme=dark] .colab-df-convert {\n",
              "      background-color: #3B4455;\n",
              "      fill: #D2E3FC;\n",
              "    }\n",
              "\n",
              "    [theme=dark] .colab-df-convert:hover {\n",
              "      background-color: #434B5C;\n",
              "      box-shadow: 0px 1px 3px 1px rgba(0, 0, 0, 0.15);\n",
              "      filter: drop-shadow(0px 1px 2px rgba(0, 0, 0, 0.3));\n",
              "      fill: #FFFFFF;\n",
              "    }\n",
              "  </style>\n",
              "\n",
              "    <script>\n",
              "      const buttonEl =\n",
              "        document.querySelector('#df-2fb86007-5676-43c3-99db-d2f16a000b90 button.colab-df-convert');\n",
              "      buttonEl.style.display =\n",
              "        google.colab.kernel.accessAllowed ? 'block' : 'none';\n",
              "\n",
              "      async function convertToInteractive(key) {\n",
              "        const element = document.querySelector('#df-2fb86007-5676-43c3-99db-d2f16a000b90');\n",
              "        const dataTable =\n",
              "          await google.colab.kernel.invokeFunction('convertToInteractive',\n",
              "                                                    [key], {});\n",
              "        if (!dataTable) return;\n",
              "\n",
              "        const docLinkHtml = 'Like what you see? Visit the ' +\n",
              "          '<a target=\"_blank\" href=https://colab.research.google.com/notebooks/data_table.ipynb>data table notebook</a>'\n",
              "          + ' to learn more about interactive tables.';\n",
              "        element.innerHTML = '';\n",
              "        dataTable['output_type'] = 'display_data';\n",
              "        await google.colab.output.renderOutput(dataTable, element);\n",
              "        const docLink = document.createElement('div');\n",
              "        docLink.innerHTML = docLinkHtml;\n",
              "        element.appendChild(docLink);\n",
              "      }\n",
              "    </script>\n",
              "  </div>\n",
              "\n",
              "\n",
              "<div id=\"df-ba21f587-5d95-4aae-a5e8-1cbe33865245\">\n",
              "  <button class=\"colab-df-quickchart\" onclick=\"quickchart('df-ba21f587-5d95-4aae-a5e8-1cbe33865245')\"\n",
              "            title=\"Suggest charts\"\n",
              "            style=\"display:none;\">\n",
              "\n",
              "<svg xmlns=\"http://www.w3.org/2000/svg\" height=\"24px\"viewBox=\"0 0 24 24\"\n",
              "     width=\"24px\">\n",
              "    <g>\n",
              "        <path d=\"M19 3H5c-1.1 0-2 .9-2 2v14c0 1.1.9 2 2 2h14c1.1 0 2-.9 2-2V5c0-1.1-.9-2-2-2zM9 17H7v-7h2v7zm4 0h-2V7h2v10zm4 0h-2v-4h2v4z\"/>\n",
              "    </g>\n",
              "</svg>\n",
              "  </button>\n",
              "\n",
              "<style>\n",
              "  .colab-df-quickchart {\n",
              "      --bg-color: #E8F0FE;\n",
              "      --fill-color: #1967D2;\n",
              "      --hover-bg-color: #E2EBFA;\n",
              "      --hover-fill-color: #174EA6;\n",
              "      --disabled-fill-color: #AAA;\n",
              "      --disabled-bg-color: #DDD;\n",
              "  }\n",
              "\n",
              "  [theme=dark] .colab-df-quickchart {\n",
              "      --bg-color: #3B4455;\n",
              "      --fill-color: #D2E3FC;\n",
              "      --hover-bg-color: #434B5C;\n",
              "      --hover-fill-color: #FFFFFF;\n",
              "      --disabled-bg-color: #3B4455;\n",
              "      --disabled-fill-color: #666;\n",
              "  }\n",
              "\n",
              "  .colab-df-quickchart {\n",
              "    background-color: var(--bg-color);\n",
              "    border: none;\n",
              "    border-radius: 50%;\n",
              "    cursor: pointer;\n",
              "    display: none;\n",
              "    fill: var(--fill-color);\n",
              "    height: 32px;\n",
              "    padding: 0;\n",
              "    width: 32px;\n",
              "  }\n",
              "\n",
              "  .colab-df-quickchart:hover {\n",
              "    background-color: var(--hover-bg-color);\n",
              "    box-shadow: 0 1px 2px rgba(60, 64, 67, 0.3), 0 1px 3px 1px rgba(60, 64, 67, 0.15);\n",
              "    fill: var(--button-hover-fill-color);\n",
              "  }\n",
              "\n",
              "  .colab-df-quickchart-complete:disabled,\n",
              "  .colab-df-quickchart-complete:disabled:hover {\n",
              "    background-color: var(--disabled-bg-color);\n",
              "    fill: var(--disabled-fill-color);\n",
              "    box-shadow: none;\n",
              "  }\n",
              "\n",
              "  .colab-df-spinner {\n",
              "    border: 2px solid var(--fill-color);\n",
              "    border-color: transparent;\n",
              "    border-bottom-color: var(--fill-color);\n",
              "    animation:\n",
              "      spin 1s steps(1) infinite;\n",
              "  }\n",
              "\n",
              "  @keyframes spin {\n",
              "    0% {\n",
              "      border-color: transparent;\n",
              "      border-bottom-color: var(--fill-color);\n",
              "      border-left-color: var(--fill-color);\n",
              "    }\n",
              "    20% {\n",
              "      border-color: transparent;\n",
              "      border-left-color: var(--fill-color);\n",
              "      border-top-color: var(--fill-color);\n",
              "    }\n",
              "    30% {\n",
              "      border-color: transparent;\n",
              "      border-left-color: var(--fill-color);\n",
              "      border-top-color: var(--fill-color);\n",
              "      border-right-color: var(--fill-color);\n",
              "    }\n",
              "    40% {\n",
              "      border-color: transparent;\n",
              "      border-right-color: var(--fill-color);\n",
              "      border-top-color: var(--fill-color);\n",
              "    }\n",
              "    60% {\n",
              "      border-color: transparent;\n",
              "      border-right-color: var(--fill-color);\n",
              "    }\n",
              "    80% {\n",
              "      border-color: transparent;\n",
              "      border-right-color: var(--fill-color);\n",
              "      border-bottom-color: var(--fill-color);\n",
              "    }\n",
              "    90% {\n",
              "      border-color: transparent;\n",
              "      border-bottom-color: var(--fill-color);\n",
              "    }\n",
              "  }\n",
              "</style>\n",
              "\n",
              "  <script>\n",
              "    async function quickchart(key) {\n",
              "      const quickchartButtonEl =\n",
              "        document.querySelector('#' + key + ' button');\n",
              "      quickchartButtonEl.disabled = true;  // To prevent multiple clicks.\n",
              "      quickchartButtonEl.classList.add('colab-df-spinner');\n",
              "      try {\n",
              "        const charts = await google.colab.kernel.invokeFunction(\n",
              "            'suggestCharts', [key], {});\n",
              "      } catch (error) {\n",
              "        console.error('Error during call to suggestCharts:', error);\n",
              "      }\n",
              "      quickchartButtonEl.classList.remove('colab-df-spinner');\n",
              "      quickchartButtonEl.classList.add('colab-df-quickchart-complete');\n",
              "    }\n",
              "    (() => {\n",
              "      let quickchartButtonEl =\n",
              "        document.querySelector('#df-ba21f587-5d95-4aae-a5e8-1cbe33865245 button');\n",
              "      quickchartButtonEl.style.display =\n",
              "        google.colab.kernel.accessAllowed ? 'block' : 'none';\n",
              "    })();\n",
              "  </script>\n",
              "</div>\n",
              "\n",
              "  <div id=\"id_c13b3947-db20-42aa-b1e6-4373006ceb9d\">\n",
              "    <style>\n",
              "      .colab-df-generate {\n",
              "        background-color: #E8F0FE;\n",
              "        border: none;\n",
              "        border-radius: 50%;\n",
              "        cursor: pointer;\n",
              "        display: none;\n",
              "        fill: #1967D2;\n",
              "        height: 32px;\n",
              "        padding: 0 0 0 0;\n",
              "        width: 32px;\n",
              "      }\n",
              "\n",
              "      .colab-df-generate:hover {\n",
              "        background-color: #E2EBFA;\n",
              "        box-shadow: 0px 1px 2px rgba(60, 64, 67, 0.3), 0px 1px 3px 1px rgba(60, 64, 67, 0.15);\n",
              "        fill: #174EA6;\n",
              "      }\n",
              "\n",
              "      [theme=dark] .colab-df-generate {\n",
              "        background-color: #3B4455;\n",
              "        fill: #D2E3FC;\n",
              "      }\n",
              "\n",
              "      [theme=dark] .colab-df-generate:hover {\n",
              "        background-color: #434B5C;\n",
              "        box-shadow: 0px 1px 3px 1px rgba(0, 0, 0, 0.15);\n",
              "        filter: drop-shadow(0px 1px 2px rgba(0, 0, 0, 0.3));\n",
              "        fill: #FFFFFF;\n",
              "      }\n",
              "    </style>\n",
              "    <button class=\"colab-df-generate\" onclick=\"generateWithVariable('df')\"\n",
              "            title=\"Generate code using this dataframe.\"\n",
              "            style=\"display:none;\">\n",
              "\n",
              "  <svg xmlns=\"http://www.w3.org/2000/svg\" height=\"24px\"viewBox=\"0 0 24 24\"\n",
              "       width=\"24px\">\n",
              "    <path d=\"M7,19H8.4L18.45,9,17,7.55,7,17.6ZM5,21V16.75L18.45,3.32a2,2,0,0,1,2.83,0l1.4,1.43a1.91,1.91,0,0,1,.58,1.4,1.91,1.91,0,0,1-.58,1.4L9.25,21ZM18.45,9,17,7.55Zm-12,3A5.31,5.31,0,0,0,4.9,8.1,5.31,5.31,0,0,0,1,6.5,5.31,5.31,0,0,0,4.9,4.9,5.31,5.31,0,0,0,6.5,1,5.31,5.31,0,0,0,8.1,4.9,5.31,5.31,0,0,0,12,6.5,5.46,5.46,0,0,0,6.5,12Z\"/>\n",
              "  </svg>\n",
              "    </button>\n",
              "    <script>\n",
              "      (() => {\n",
              "      const buttonEl =\n",
              "        document.querySelector('#id_c13b3947-db20-42aa-b1e6-4373006ceb9d button.colab-df-generate');\n",
              "      buttonEl.style.display =\n",
              "        google.colab.kernel.accessAllowed ? 'block' : 'none';\n",
              "\n",
              "      buttonEl.onclick = () => {\n",
              "        google.colab.notebook.generateWithVariable('df');\n",
              "      }\n",
              "      })();\n",
              "    </script>\n",
              "  </div>\n",
              "\n",
              "    </div>\n",
              "  </div>\n"
            ],
            "application/vnd.google.colaboratory.intrinsic+json": {
              "type": "dataframe",
              "variable_name": "df",
              "summary": "{\n  \"name\": \"df\",\n  \"rows\": 150,\n  \"fields\": [\n    {\n      \"column\": \"sepal length (cm)\",\n      \"properties\": {\n        \"dtype\": \"number\",\n        \"std\": 0.828066127977863,\n        \"min\": 4.3,\n        \"max\": 7.9,\n        \"num_unique_values\": 35,\n        \"samples\": [\n          6.2,\n          4.5,\n          5.6\n        ],\n        \"semantic_type\": \"\",\n        \"description\": \"\"\n      }\n    },\n    {\n      \"column\": \"sepal width (cm)\",\n      \"properties\": {\n        \"dtype\": \"number\",\n        \"std\": 0.4358662849366982,\n        \"min\": 2.0,\n        \"max\": 4.4,\n        \"num_unique_values\": 23,\n        \"samples\": [\n          2.3,\n          4.0,\n          3.5\n        ],\n        \"semantic_type\": \"\",\n        \"description\": \"\"\n      }\n    },\n    {\n      \"column\": \"petal length (cm)\",\n      \"properties\": {\n        \"dtype\": \"number\",\n        \"std\": 1.7652982332594662,\n        \"min\": 1.0,\n        \"max\": 6.9,\n        \"num_unique_values\": 43,\n        \"samples\": [\n          6.7,\n          3.8,\n          3.7\n        ],\n        \"semantic_type\": \"\",\n        \"description\": \"\"\n      }\n    },\n    {\n      \"column\": \"petal width (cm)\",\n      \"properties\": {\n        \"dtype\": \"number\",\n        \"std\": 0.7622376689603465,\n        \"min\": 0.1,\n        \"max\": 2.5,\n        \"num_unique_values\": 22,\n        \"samples\": [\n          0.2,\n          1.2,\n          1.3\n        ],\n        \"semantic_type\": \"\",\n        \"description\": \"\"\n      }\n    },\n    {\n      \"column\": \"Target\",\n      \"properties\": {\n        \"dtype\": \"number\",\n        \"std\": 0,\n        \"min\": 0,\n        \"max\": 2,\n        \"num_unique_values\": 3,\n        \"samples\": [\n          0,\n          1,\n          2\n        ],\n        \"semantic_type\": \"\",\n        \"description\": \"\"\n      }\n    }\n  ]\n}"
            }
          },
          "metadata": {},
          "execution_count": 67
        }
      ]
    },
    {
      "cell_type": "code",
      "source": [
        "x = df.drop('Target', axis = 1).values\n",
        "y = df['Target'].values"
      ],
      "metadata": {
        "id": "gwAPBJilvSWD"
      },
      "execution_count": 69,
      "outputs": []
    },
    {
      "cell_type": "code",
      "source": [
        "from sklearn.model_selection import train_test_split"
      ],
      "metadata": {
        "id": "0kcvWz4Avig5"
      },
      "execution_count": 70,
      "outputs": []
    },
    {
      "cell_type": "code",
      "source": [
        "x_train,x_test, y_train, y_test = train_test_split(x,y,test_size=0.2, random_state=2)"
      ],
      "metadata": {
        "id": "LbennfrHv1HY"
      },
      "execution_count": 71,
      "outputs": []
    },
    {
      "cell_type": "code",
      "source": [
        "from sklearn.linear_model import LogisticRegression"
      ],
      "metadata": {
        "id": "4qigg2u7wB4J"
      },
      "execution_count": 72,
      "outputs": []
    },
    {
      "cell_type": "code",
      "source": [
        "model = LogisticRegression()"
      ],
      "metadata": {
        "id": "bDpT_eT5wJ1L"
      },
      "execution_count": 73,
      "outputs": []
    },
    {
      "cell_type": "code",
      "source": [
        "model.fit(x_train,y_train)"
      ],
      "metadata": {
        "colab": {
          "base_uri": "https://localhost:8080/",
          "height": 74
        },
        "id": "P-qNwol0wOMn",
        "outputId": "3727e6fc-6cf4-4a84-ca5f-4b5a63225ae6"
      },
      "execution_count": 74,
      "outputs": [
        {
          "output_type": "execute_result",
          "data": {
            "text/plain": [
              "LogisticRegression()"
            ],
            "text/html": [
              "<style>#sk-container-id-5 {color: black;background-color: white;}#sk-container-id-5 pre{padding: 0;}#sk-container-id-5 div.sk-toggleable {background-color: white;}#sk-container-id-5 label.sk-toggleable__label {cursor: pointer;display: block;width: 100%;margin-bottom: 0;padding: 0.3em;box-sizing: border-box;text-align: center;}#sk-container-id-5 label.sk-toggleable__label-arrow:before {content: \"▸\";float: left;margin-right: 0.25em;color: #696969;}#sk-container-id-5 label.sk-toggleable__label-arrow:hover:before {color: black;}#sk-container-id-5 div.sk-estimator:hover label.sk-toggleable__label-arrow:before {color: black;}#sk-container-id-5 div.sk-toggleable__content {max-height: 0;max-width: 0;overflow: hidden;text-align: left;background-color: #f0f8ff;}#sk-container-id-5 div.sk-toggleable__content pre {margin: 0.2em;color: black;border-radius: 0.25em;background-color: #f0f8ff;}#sk-container-id-5 input.sk-toggleable__control:checked~div.sk-toggleable__content {max-height: 200px;max-width: 100%;overflow: auto;}#sk-container-id-5 input.sk-toggleable__control:checked~label.sk-toggleable__label-arrow:before {content: \"▾\";}#sk-container-id-5 div.sk-estimator input.sk-toggleable__control:checked~label.sk-toggleable__label {background-color: #d4ebff;}#sk-container-id-5 div.sk-label input.sk-toggleable__control:checked~label.sk-toggleable__label {background-color: #d4ebff;}#sk-container-id-5 input.sk-hidden--visually {border: 0;clip: rect(1px 1px 1px 1px);clip: rect(1px, 1px, 1px, 1px);height: 1px;margin: -1px;overflow: hidden;padding: 0;position: absolute;width: 1px;}#sk-container-id-5 div.sk-estimator {font-family: monospace;background-color: #f0f8ff;border: 1px dotted black;border-radius: 0.25em;box-sizing: border-box;margin-bottom: 0.5em;}#sk-container-id-5 div.sk-estimator:hover {background-color: #d4ebff;}#sk-container-id-5 div.sk-parallel-item::after {content: \"\";width: 100%;border-bottom: 1px solid gray;flex-grow: 1;}#sk-container-id-5 div.sk-label:hover label.sk-toggleable__label {background-color: #d4ebff;}#sk-container-id-5 div.sk-serial::before {content: \"\";position: absolute;border-left: 1px solid gray;box-sizing: border-box;top: 0;bottom: 0;left: 50%;z-index: 0;}#sk-container-id-5 div.sk-serial {display: flex;flex-direction: column;align-items: center;background-color: white;padding-right: 0.2em;padding-left: 0.2em;position: relative;}#sk-container-id-5 div.sk-item {position: relative;z-index: 1;}#sk-container-id-5 div.sk-parallel {display: flex;align-items: stretch;justify-content: center;background-color: white;position: relative;}#sk-container-id-5 div.sk-item::before, #sk-container-id-5 div.sk-parallel-item::before {content: \"\";position: absolute;border-left: 1px solid gray;box-sizing: border-box;top: 0;bottom: 0;left: 50%;z-index: -1;}#sk-container-id-5 div.sk-parallel-item {display: flex;flex-direction: column;z-index: 1;position: relative;background-color: white;}#sk-container-id-5 div.sk-parallel-item:first-child::after {align-self: flex-end;width: 50%;}#sk-container-id-5 div.sk-parallel-item:last-child::after {align-self: flex-start;width: 50%;}#sk-container-id-5 div.sk-parallel-item:only-child::after {width: 0;}#sk-container-id-5 div.sk-dashed-wrapped {border: 1px dashed gray;margin: 0 0.4em 0.5em 0.4em;box-sizing: border-box;padding-bottom: 0.4em;background-color: white;}#sk-container-id-5 div.sk-label label {font-family: monospace;font-weight: bold;display: inline-block;line-height: 1.2em;}#sk-container-id-5 div.sk-label-container {text-align: center;}#sk-container-id-5 div.sk-container {/* jupyter's `normalize.less` sets `[hidden] { display: none; }` but bootstrap.min.css set `[hidden] { display: none !important; }` so we also need the `!important` here to be able to override the default hidden behavior on the sphinx rendered scikit-learn.org. See: https://github.com/scikit-learn/scikit-learn/issues/21755 */display: inline-block !important;position: relative;}#sk-container-id-5 div.sk-text-repr-fallback {display: none;}</style><div id=\"sk-container-id-5\" class=\"sk-top-container\"><div class=\"sk-text-repr-fallback\"><pre>LogisticRegression()</pre><b>In a Jupyter environment, please rerun this cell to show the HTML representation or trust the notebook. <br />On GitHub, the HTML representation is unable to render, please try loading this page with nbviewer.org.</b></div><div class=\"sk-container\" hidden><div class=\"sk-item\"><div class=\"sk-estimator sk-toggleable\"><input class=\"sk-toggleable__control sk-hidden--visually\" id=\"sk-estimator-id-5\" type=\"checkbox\" checked><label for=\"sk-estimator-id-5\" class=\"sk-toggleable__label sk-toggleable__label-arrow\">LogisticRegression</label><div class=\"sk-toggleable__content\"><pre>LogisticRegression()</pre></div></div></div></div></div>"
            ]
          },
          "metadata": {},
          "execution_count": 74
        }
      ]
    },
    {
      "cell_type": "code",
      "source": [
        "y_predict = model.predict(x_test)"
      ],
      "metadata": {
        "id": "zJbBQZ2SwT_m"
      },
      "execution_count": 75,
      "outputs": []
    },
    {
      "cell_type": "code",
      "source": [
        "from sklearn.metrics import accuracy_score"
      ],
      "metadata": {
        "id": "9AwBhpxqwm6U"
      },
      "execution_count": 76,
      "outputs": []
    },
    {
      "cell_type": "code",
      "source": [
        "accuracy_score(y_test,y_predict)"
      ],
      "metadata": {
        "colab": {
          "base_uri": "https://localhost:8080/"
        },
        "id": "40OfeO8SwupM",
        "outputId": "62c95496-995d-4895-c278-361466ee997a"
      },
      "execution_count": 77,
      "outputs": [
        {
          "output_type": "execute_result",
          "data": {
            "text/plain": [
              "0.9666666666666667"
            ]
          },
          "metadata": {},
          "execution_count": 77
        }
      ]
    },
    {
      "cell_type": "code",
      "source": [
        "model.predict_proba(x_test)"
      ],
      "metadata": {
        "colab": {
          "base_uri": "https://localhost:8080/"
        },
        "id": "02n8ZccSw4Cj",
        "outputId": "3b9b95ae-ecab-467b-94c3-91a98e27dd19"
      },
      "execution_count": 78,
      "outputs": [
        {
          "output_type": "execute_result",
          "data": {
            "text/plain": [
              "array([[9.79979248e-01, 2.00206711e-02, 8.06152965e-08],\n",
              "       [9.64047511e-01, 3.59523354e-02, 1.53862145e-07],\n",
              "       [3.20016387e-04, 1.61523735e-01, 8.38156248e-01],\n",
              "       [9.62168313e-01, 3.78315994e-02, 8.71319823e-08],\n",
              "       [9.32946038e-01, 6.70532738e-02, 6.88049796e-07],\n",
              "       [3.09016505e-05, 1.48932741e-01, 8.51036358e-01],\n",
              "       [9.32879878e-01, 6.71198060e-02, 3.16288389e-07],\n",
              "       [9.96054162e-06, 6.31416357e-02, 9.36848404e-01],\n",
              "       [1.94227836e-05, 4.34962592e-02, 9.56484318e-01],\n",
              "       [9.61684860e-01, 3.83149839e-02, 1.56323168e-07],\n",
              "       [9.71403113e-01, 2.85968135e-02, 7.36642261e-08],\n",
              "       [9.82282095e-01, 1.77178571e-02, 4.79787079e-08],\n",
              "       [9.77650786e-01, 2.23491792e-02, 3.46898754e-08],\n",
              "       [9.62621067e-01, 3.73786729e-02, 2.60483667e-07],\n",
              "       [1.19140829e-02, 7.61388582e-01, 2.26697335e-01],\n",
              "       [3.12053215e-03, 7.85302789e-01, 2.11576679e-01],\n",
              "       [9.41241514e-01, 5.87582270e-02, 2.58758615e-07],\n",
              "       [1.87424402e-02, 9.11870620e-01, 6.93869402e-02],\n",
              "       [7.68212237e-06, 1.45831500e-02, 9.85409168e-01],\n",
              "       [2.07198555e-02, 9.27967122e-01, 5.13130222e-02],\n",
              "       [8.21327345e-04, 4.59082001e-01, 5.40096671e-01],\n",
              "       [8.91739693e-03, 9.25898086e-01, 6.51845174e-02],\n",
              "       [8.54814059e-05, 5.95028422e-02, 9.40411676e-01],\n",
              "       [1.55708522e-02, 9.07771194e-01, 7.66579541e-02],\n",
              "       [3.44152066e-03, 8.94878179e-01, 1.01680300e-01],\n",
              "       [9.57662753e-01, 4.23370285e-02, 2.18511031e-07],\n",
              "       [9.77810332e-01, 2.21896160e-02, 5.19062408e-08],\n",
              "       [1.34340790e-03, 3.82357890e-01, 6.16298702e-01],\n",
              "       [9.48086993e-01, 5.19122770e-02, 7.29692627e-07],\n",
              "       [9.85480627e-06, 5.80319140e-02, 9.41958231e-01]])"
            ]
          },
          "metadata": {},
          "execution_count": 78
        }
      ]
    },
    {
      "cell_type": "code",
      "source": [
        "accuracy_score(y_train,model.predict(x_train))"
      ],
      "metadata": {
        "colab": {
          "base_uri": "https://localhost:8080/"
        },
        "id": "PWKts-Gixl8K",
        "outputId": "0bcc42be-cf18-4626-df83-368861628e38"
      },
      "execution_count": 79,
      "outputs": [
        {
          "output_type": "execute_result",
          "data": {
            "text/plain": [
              "0.975"
            ]
          },
          "metadata": {},
          "execution_count": 79
        }
      ]
    },
    {
      "cell_type": "markdown",
      "source": [
        "# Task KNN Classifier"
      ],
      "metadata": {
        "id": "-XyPguKzyCCi"
      }
    },
    {
      "cell_type": "code",
      "source": [
        "from sklearn.neighbors import KNeighborsClassifier"
      ],
      "metadata": {
        "id": "Y6wJMSwZyHMp"
      },
      "execution_count": 80,
      "outputs": []
    },
    {
      "cell_type": "code",
      "source": [
        "knn = KNeighborsClassifier()"
      ],
      "metadata": {
        "id": "3cBhTPHhycxq"
      },
      "execution_count": 81,
      "outputs": []
    },
    {
      "cell_type": "code",
      "source": [
        "knn.fit(x_train,y_train)"
      ],
      "metadata": {
        "colab": {
          "base_uri": "https://localhost:8080/",
          "height": 74
        },
        "id": "0cNdmhTUyhTe",
        "outputId": "0eeb17d0-e429-4cef-d709-9db46938e53e"
      },
      "execution_count": 82,
      "outputs": [
        {
          "output_type": "execute_result",
          "data": {
            "text/plain": [
              "KNeighborsClassifier()"
            ],
            "text/html": [
              "<style>#sk-container-id-6 {color: black;background-color: white;}#sk-container-id-6 pre{padding: 0;}#sk-container-id-6 div.sk-toggleable {background-color: white;}#sk-container-id-6 label.sk-toggleable__label {cursor: pointer;display: block;width: 100%;margin-bottom: 0;padding: 0.3em;box-sizing: border-box;text-align: center;}#sk-container-id-6 label.sk-toggleable__label-arrow:before {content: \"▸\";float: left;margin-right: 0.25em;color: #696969;}#sk-container-id-6 label.sk-toggleable__label-arrow:hover:before {color: black;}#sk-container-id-6 div.sk-estimator:hover label.sk-toggleable__label-arrow:before {color: black;}#sk-container-id-6 div.sk-toggleable__content {max-height: 0;max-width: 0;overflow: hidden;text-align: left;background-color: #f0f8ff;}#sk-container-id-6 div.sk-toggleable__content pre {margin: 0.2em;color: black;border-radius: 0.25em;background-color: #f0f8ff;}#sk-container-id-6 input.sk-toggleable__control:checked~div.sk-toggleable__content {max-height: 200px;max-width: 100%;overflow: auto;}#sk-container-id-6 input.sk-toggleable__control:checked~label.sk-toggleable__label-arrow:before {content: \"▾\";}#sk-container-id-6 div.sk-estimator input.sk-toggleable__control:checked~label.sk-toggleable__label {background-color: #d4ebff;}#sk-container-id-6 div.sk-label input.sk-toggleable__control:checked~label.sk-toggleable__label {background-color: #d4ebff;}#sk-container-id-6 input.sk-hidden--visually {border: 0;clip: rect(1px 1px 1px 1px);clip: rect(1px, 1px, 1px, 1px);height: 1px;margin: -1px;overflow: hidden;padding: 0;position: absolute;width: 1px;}#sk-container-id-6 div.sk-estimator {font-family: monospace;background-color: #f0f8ff;border: 1px dotted black;border-radius: 0.25em;box-sizing: border-box;margin-bottom: 0.5em;}#sk-container-id-6 div.sk-estimator:hover {background-color: #d4ebff;}#sk-container-id-6 div.sk-parallel-item::after {content: \"\";width: 100%;border-bottom: 1px solid gray;flex-grow: 1;}#sk-container-id-6 div.sk-label:hover label.sk-toggleable__label {background-color: #d4ebff;}#sk-container-id-6 div.sk-serial::before {content: \"\";position: absolute;border-left: 1px solid gray;box-sizing: border-box;top: 0;bottom: 0;left: 50%;z-index: 0;}#sk-container-id-6 div.sk-serial {display: flex;flex-direction: column;align-items: center;background-color: white;padding-right: 0.2em;padding-left: 0.2em;position: relative;}#sk-container-id-6 div.sk-item {position: relative;z-index: 1;}#sk-container-id-6 div.sk-parallel {display: flex;align-items: stretch;justify-content: center;background-color: white;position: relative;}#sk-container-id-6 div.sk-item::before, #sk-container-id-6 div.sk-parallel-item::before {content: \"\";position: absolute;border-left: 1px solid gray;box-sizing: border-box;top: 0;bottom: 0;left: 50%;z-index: -1;}#sk-container-id-6 div.sk-parallel-item {display: flex;flex-direction: column;z-index: 1;position: relative;background-color: white;}#sk-container-id-6 div.sk-parallel-item:first-child::after {align-self: flex-end;width: 50%;}#sk-container-id-6 div.sk-parallel-item:last-child::after {align-self: flex-start;width: 50%;}#sk-container-id-6 div.sk-parallel-item:only-child::after {width: 0;}#sk-container-id-6 div.sk-dashed-wrapped {border: 1px dashed gray;margin: 0 0.4em 0.5em 0.4em;box-sizing: border-box;padding-bottom: 0.4em;background-color: white;}#sk-container-id-6 div.sk-label label {font-family: monospace;font-weight: bold;display: inline-block;line-height: 1.2em;}#sk-container-id-6 div.sk-label-container {text-align: center;}#sk-container-id-6 div.sk-container {/* jupyter's `normalize.less` sets `[hidden] { display: none; }` but bootstrap.min.css set `[hidden] { display: none !important; }` so we also need the `!important` here to be able to override the default hidden behavior on the sphinx rendered scikit-learn.org. See: https://github.com/scikit-learn/scikit-learn/issues/21755 */display: inline-block !important;position: relative;}#sk-container-id-6 div.sk-text-repr-fallback {display: none;}</style><div id=\"sk-container-id-6\" class=\"sk-top-container\"><div class=\"sk-text-repr-fallback\"><pre>KNeighborsClassifier()</pre><b>In a Jupyter environment, please rerun this cell to show the HTML representation or trust the notebook. <br />On GitHub, the HTML representation is unable to render, please try loading this page with nbviewer.org.</b></div><div class=\"sk-container\" hidden><div class=\"sk-item\"><div class=\"sk-estimator sk-toggleable\"><input class=\"sk-toggleable__control sk-hidden--visually\" id=\"sk-estimator-id-6\" type=\"checkbox\" checked><label for=\"sk-estimator-id-6\" class=\"sk-toggleable__label sk-toggleable__label-arrow\">KNeighborsClassifier</label><div class=\"sk-toggleable__content\"><pre>KNeighborsClassifier()</pre></div></div></div></div></div>"
            ]
          },
          "metadata": {},
          "execution_count": 82
        }
      ]
    },
    {
      "cell_type": "code",
      "source": [
        "y_predict = knn.predict(x_test)"
      ],
      "metadata": {
        "id": "c7oYO1PByt1r"
      },
      "execution_count": 83,
      "outputs": []
    },
    {
      "cell_type": "code",
      "source": [
        "accuracy_score(y_test,y_predict)"
      ],
      "metadata": {
        "colab": {
          "base_uri": "https://localhost:8080/"
        },
        "id": "CnnvVHNSy2cx",
        "outputId": "ba88adfb-5a79-4f78-ad1a-7217b226e75c"
      },
      "execution_count": 84,
      "outputs": [
        {
          "output_type": "execute_result",
          "data": {
            "text/plain": [
              "1.0"
            ]
          },
          "metadata": {},
          "execution_count": 84
        }
      ]
    },
    {
      "cell_type": "markdown",
      "source": [
        "## Error Metrics"
      ],
      "metadata": {
        "id": "TFO0B39Jzjr4"
      }
    },
    {
      "cell_type": "code",
      "source": [
        "from sklearn.metrics import classification_report,confusion_matrix"
      ],
      "metadata": {
        "id": "uN6x-J6Pzo1f"
      },
      "execution_count": 85,
      "outputs": []
    },
    {
      "cell_type": "code",
      "source": [
        "cm = confusion_matrix(y_test,y_predict)"
      ],
      "metadata": {
        "id": "S3PhOb_SzwrR"
      },
      "execution_count": 86,
      "outputs": []
    },
    {
      "cell_type": "code",
      "source": [
        "cm"
      ],
      "metadata": {
        "colab": {
          "base_uri": "https://localhost:8080/"
        },
        "id": "UrWPmGpaz3xA",
        "outputId": "844c401c-90ef-4b89-a550-34e2bc636b3c"
      },
      "execution_count": 87,
      "outputs": [
        {
          "output_type": "execute_result",
          "data": {
            "text/plain": [
              "array([[14,  0,  0],\n",
              "       [ 0,  8,  0],\n",
              "       [ 0,  0,  8]])"
            ]
          },
          "metadata": {},
          "execution_count": 87
        }
      ]
    },
    {
      "cell_type": "code",
      "source": [
        "import matplotlib.pyplot as plt\n",
        "import seaborn as sns"
      ],
      "metadata": {
        "id": "DH7kGX4U0GV9"
      },
      "execution_count": 88,
      "outputs": []
    },
    {
      "cell_type": "code",
      "source": [
        "sns.heatmap(cm,annot = True)\n",
        "plt.show()"
      ],
      "metadata": {
        "colab": {
          "base_uri": "https://localhost:8080/",
          "height": 435
        },
        "id": "MvbApWaO0Lgy",
        "outputId": "dd58ae49-54ee-4c1c-c38d-362a90880786"
      },
      "execution_count": 89,
      "outputs": [
        {
          "output_type": "display_data",
          "data": {
            "text/plain": [
              "<Figure size 640x480 with 2 Axes>"
            ],
            "image/png": "[encoded data removed]"
          },
          "metadata": {}
        }
      ]
    },
    {
      "cell_type": "code",
      "source": [
        "report = classification_report(y_test,y_predict)"
      ],
      "metadata": {
        "id": "OO4k-xvu0bWw"
      },
      "execution_count": 90,
      "outputs": []
    },
    {
      "cell_type": "code",
      "source": [
        "print(report)"
      ],
      "metadata": {
        "colab": {
          "base_uri": "https://localhost:8080/"
        },
        "id": "YeWhTp4Q0h-h",
        "outputId": "b3322be0-84df-4cee-dc2f-714abed64b32"
      },
      "execution_count": 91,
      "outputs": [
        {
          "output_type": "stream",
          "name": "stdout",
          "text": [
            "              precision    recall  f1-score   support\n",
            "\n",
            "           0       1.00      1.00      1.00        14\n",
            "           1       1.00      1.00      1.00         8\n",
            "           2       1.00      1.00      1.00         8\n",
            "\n",
            "    accuracy                           1.00        30\n",
            "   macro avg       1.00      1.00      1.00        30\n",
            "weighted avg       1.00      1.00      1.00        30\n",
            "\n"
          ]
        }
      ]
    },
    {
      "cell_type": "markdown",
      "source": [
        "![image.png](data:image/png;base64,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)"
      ],
      "metadata": {
        "id": "ESa4sVEU5-De"
      }
    },
    {
      "cell_type": "markdown",
      "source": [
        "![image.png](data:image/png;base64,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)"
      ],
      "metadata": {
        "id": "wu9sYCaGHfxI"
      }
    },
    {
      "cell_type": "code",
      "source": [
        "from sklearn.metrics import precision_score, recall_score, f1_score"
      ],
      "metadata": {
        "id": "53qj77p559KS"
      },
      "execution_count": 92,
      "outputs": []
    },
    {
      "cell_type": "code",
      "source": [
        "precision=precision_score(y_test,y_predict, average='weighted')\n",
        "recall=recall_score(y_test,y_predict, average='weighted')\n",
        "f1=f1_score(y_test,y_predict,average='weighted')"
      ],
      "metadata": {
        "id": "Npf7cC08Hmdi"
      },
      "execution_count": 93,
      "outputs": []
    },
    {
      "cell_type": "code",
      "source": [],
      "metadata": {
        "id": "wL3LCxjiHuID"
      },
      "execution_count": null,
      "outputs": []
    }
  ]
}