{
  "nbformat": 4,
  "nbformat_minor": 0,
  "metadata": {
    "colab": {
      "provenance": [],
      "authorship_tag": "ABX9TyOa2bvU/bFaovcOJbE1UozU",
      "include_colab_link": true
    },
    "kernelspec": {
      "name": "python3",
      "display_name": "Python 3"
    },
    "language_info": {
      "name": "python"
    }
  },
  "cells": [
    {
      "cell_type": "markdown",
      "metadata": {
        "id": "view-in-github",
        "colab_type": "text"
      },
      "source": [
        "<a href=\"https://colab.research.google.com/github/PriyaP-9704/Machine-Leaning-Workouts/blob/main/ANN_DeepLearning.ipynb\" target=\"_parent\"><img src=\"https://colab.research.google.com/assets/colab-badge.svg\" alt=\"Open In Colab\"/></a>"
      ]
    },
    {
      "cell_type": "markdown",
      "source": [
        "ANN = Tabular data;\n",
        "CNN = Image data;\n",
        "RNN = Both data;"
      ],
      "metadata": {
        "id": "3lIMr9Pz497y"
      }
    },
    {
      "cell_type": "code",
      "execution_count": 1,
      "metadata": {
        "id": "lcY4x6_y4hye"
      },
      "outputs": [],
      "source": [
        "import pandas as pd"
      ]
    },
    {
      "cell_type": "code",
      "source": [
        "from sklearn.datasets import load_iris"
      ],
      "metadata": {
        "id": "gJSFJY2m5YxB"
      },
      "execution_count": 2,
      "outputs": []
    },
    {
      "cell_type": "code",
      "source": [
        "data = load_iris()"
      ],
      "metadata": {
        "id": "2aSSwqoZ5cyQ"
      },
      "execution_count": 3,
      "outputs": []
    },
    {
      "cell_type": "code",
      "source": [
        "x = data.data\n"
      ],
      "metadata": {
        "id": "m_bmTxuw5flX"
      },
      "execution_count": null,
      "outputs": []
    },
    {
      "cell_type": "code",
      "source": [
        "y = data.target\n",
        "y"
      ],
      "metadata": {
        "colab": {
          "base_uri": "https://localhost:8080/"
        },
        "id": "-BNEgXOa5krg",
        "outputId": "a2f7e0fa-1dd4-43ee-f860-15cde3c71ae3"
      },
      "execution_count": 17,
      "outputs": [
        {
          "output_type": "execute_result",
          "data": {
            "text/plain": [
              "array([0, 0, 0, 0, 0, 0, 0, 0, 0, 0, 0, 0, 0, 0, 0, 0, 0, 0, 0, 0, 0, 0,\n",
              "       0, 0, 0, 0, 0, 0, 0, 0, 0, 0, 0, 0, 0, 0, 0, 0, 0, 0, 0, 0, 0, 0,\n",
              "       0, 0, 0, 0, 0, 0, 1, 1, 1, 1, 1, 1, 1, 1, 1, 1, 1, 1, 1, 1, 1, 1,\n",
              "       1, 1, 1, 1, 1, 1, 1, 1, 1, 1, 1, 1, 1, 1, 1, 1, 1, 1, 1, 1, 1, 1,\n",
              "       1, 1, 1, 1, 1, 1, 1, 1, 1, 1, 1, 1, 2, 2, 2, 2, 2, 2, 2, 2, 2, 2,\n",
              "       2, 2, 2, 2, 2, 2, 2, 2, 2, 2, 2, 2, 2, 2, 2, 2, 2, 2, 2, 2, 2, 2,\n",
              "       2, 2, 2, 2, 2, 2, 2, 2, 2, 2, 2, 2, 2, 2, 2, 2, 2, 2])"
            ]
          },
          "metadata": {},
          "execution_count": 17
        }
      ]
    },
    {
      "cell_type": "code",
      "source": [
        "x.shape"
      ],
      "metadata": {
        "colab": {
          "base_uri": "https://localhost:8080/"
        },
        "id": "Sa888vZo5mvD",
        "outputId": "017ae6c2-8f41-4d92-b07a-7cadaed4d48c"
      },
      "execution_count": 13,
      "outputs": [
        {
          "output_type": "execute_result",
          "data": {
            "text/plain": [
              "(150, 4)"
            ]
          },
          "metadata": {},
          "execution_count": 13
        }
      ]
    },
    {
      "cell_type": "code",
      "source": [
        "y.shape"
      ],
      "metadata": {
        "colab": {
          "base_uri": "https://localhost:8080/"
        },
        "id": "ImyI3ukP6tdK",
        "outputId": "3df480a0-6716-4350-f107-cbe1f13d742d"
      },
      "execution_count": 14,
      "outputs": [
        {
          "output_type": "execute_result",
          "data": {
            "text/plain": [
              "(150,)"
            ]
          },
          "metadata": {},
          "execution_count": 14
        }
      ]
    },
    {
      "cell_type": "code",
      "source": [
        "from sklearn.model_selection import train_test_split"
      ],
      "metadata": {
        "id": "mvMpVkky58da"
      },
      "execution_count": 8,
      "outputs": []
    },
    {
      "cell_type": "code",
      "source": [
        "x_train,x_test,y_train,y_test = train_test_split(x,y,test_size= 0.2)"
      ],
      "metadata": {
        "id": "-JxBWtye6Cxi"
      },
      "execution_count": 9,
      "outputs": []
    },
    {
      "cell_type": "code",
      "source": [
        "from keras.models import Sequential\n",
        "from keras.layers import Dense"
      ],
      "metadata": {
        "id": "kdgqpyES6JuV"
      },
      "execution_count": 10,
      "outputs": []
    },
    {
      "cell_type": "code",
      "source": [
        "model = Sequential()\n",
        "\n",
        "# Input Layer\n",
        "\n",
        "model.add(Dense(10,input_dim=4,activation='relu'))\n",
        "\n",
        "# Hidden Layer\n",
        "\n",
        "model.add(Dense(10,input_dim=4,activation='relu'))\n",
        "model.add(Dense(10,input_dim=4,activation='relu'))\n",
        "model.add(Dense(10,input_dim=4,activation='relu'))\n",
        "model.add(Dense(10,input_dim=4,activation='relu'))\n",
        "\n",
        "# Output Layer\n",
        "\n",
        "model.add(Dense(3,activation='softmax'))\n",
        "\n",
        "model.compile(loss='sparse_categorical_crossentropy',optimizer='sgd',metrics=['accuracy'])"
      ],
      "metadata": {
        "id": "e997aTr06SdC"
      },
      "execution_count": 27,
      "outputs": []
    },
    {
      "cell_type": "code",
      "source": [
        "model.fit(x_train,y_train,epochs=100)"
      ],
      "metadata": {
        "id": "x4N2z4Lx9L4K"
      },
      "execution_count": null,
      "outputs": []
    },
    {
      "cell_type": "code",
      "source": [
        "# Don't practice a  model more than one time with same data. It will lead to over fitting.\n",
        "\n",
        "model.fit(x_train,y_train,epochs=100)"
      ],
      "metadata": {
        "colab": {
          "base_uri": "https://localhost:8080/"
        },
        "id": "1CJczkMj-LgC",
        "outputId": "172c9aa3-8141-4f5e-f05d-24b13c782c41"
      },
      "execution_count": 28,
      "outputs": [
        {
          "output_type": "stream",
          "name": "stdout",
          "text": [
            "Epoch 1/100\n",
            "4/4 [==============================] - 1s 4ms/step - loss: 1.1788 - accuracy: 0.3250\n",
            "Epoch 2/100\n",
            "4/4 [==============================] - 0s 4ms/step - loss: 1.1409 - accuracy: 0.2083\n",
            "Epoch 3/100\n",
            "4/4 [==============================] - 0s 4ms/step - loss: 1.1067 - accuracy: 0.5417\n",
            "Epoch 4/100\n",
            "4/4 [==============================] - 0s 4ms/step - loss: 1.1027 - accuracy: 0.6083\n",
            "Epoch 5/100\n",
            "4/4 [==============================] - 0s 6ms/step - loss: 1.1017 - accuracy: 0.6083\n",
            "Epoch 6/100\n",
            "4/4 [==============================] - 0s 4ms/step - loss: 1.1007 - accuracy: 0.6083\n",
            "Epoch 7/100\n",
            "4/4 [==============================] - 0s 4ms/step - loss: 1.0998 - accuracy: 0.5500\n",
            "Epoch 8/100\n",
            "4/4 [==============================] - 0s 6ms/step - loss: 1.0991 - accuracy: 0.4417\n",
            "Epoch 9/100\n",
            "4/4 [==============================] - 0s 5ms/step - loss: 1.0982 - accuracy: 0.2917\n",
            "Epoch 10/100\n",
            "4/4 [==============================] - 0s 6ms/step - loss: 1.0975 - accuracy: 0.2917\n",
            "Epoch 11/100\n",
            "4/4 [==============================] - 0s 6ms/step - loss: 1.0969 - accuracy: 0.3083\n",
            "Epoch 12/100\n",
            "4/4 [==============================] - 0s 5ms/step - loss: 1.0967 - accuracy: 0.3333\n",
            "Epoch 13/100\n",
            "4/4 [==============================] - 0s 5ms/step - loss: 1.0957 - accuracy: 0.5000\n",
            "Epoch 14/100\n",
            "4/4 [==============================] - 0s 7ms/step - loss: 1.0950 - accuracy: 0.5083\n",
            "Epoch 15/100\n",
            "4/4 [==============================] - 0s 5ms/step - loss: 1.0943 - accuracy: 0.6333\n",
            "Epoch 16/100\n",
            "4/4 [==============================] - 0s 6ms/step - loss: 1.0939 - accuracy: 0.6083\n",
            "Epoch 17/100\n",
            "4/4 [==============================] - 0s 5ms/step - loss: 1.0931 - accuracy: 0.6417\n",
            "Epoch 18/100\n",
            "4/4 [==============================] - 0s 5ms/step - loss: 1.0924 - accuracy: 0.6333\n",
            "Epoch 19/100\n",
            "4/4 [==============================] - 0s 7ms/step - loss: 1.0920 - accuracy: 0.6083\n",
            "Epoch 20/100\n",
            "4/4 [==============================] - 0s 6ms/step - loss: 1.0915 - accuracy: 0.5917\n",
            "Epoch 21/100\n",
            "4/4 [==============================] - 0s 6ms/step - loss: 1.0910 - accuracy: 0.4917\n",
            "Epoch 22/100\n",
            "4/4 [==============================] - 0s 6ms/step - loss: 1.0905 - accuracy: 0.5000\n",
            "Epoch 23/100\n",
            "4/4 [==============================] - 0s 5ms/step - loss: 1.0898 - accuracy: 0.5417\n",
            "Epoch 24/100\n",
            "4/4 [==============================] - 0s 7ms/step - loss: 1.0891 - accuracy: 0.4750\n",
            "Epoch 25/100\n",
            "4/4 [==============================] - 0s 6ms/step - loss: 1.0890 - accuracy: 0.4917\n",
            "Epoch 26/100\n",
            "4/4 [==============================] - 0s 7ms/step - loss: 1.0883 - accuracy: 0.4500\n",
            "Epoch 27/100\n",
            "4/4 [==============================] - 0s 7ms/step - loss: 1.0878 - accuracy: 0.5083\n",
            "Epoch 28/100\n",
            "4/4 [==============================] - 0s 6ms/step - loss: 1.0870 - accuracy: 0.4167\n",
            "Epoch 29/100\n",
            "4/4 [==============================] - 0s 6ms/step - loss: 1.0862 - accuracy: 0.5167\n",
            "Epoch 30/100\n",
            "4/4 [==============================] - 0s 7ms/step - loss: 1.0859 - accuracy: 0.4083\n",
            "Epoch 31/100\n",
            "4/4 [==============================] - 0s 8ms/step - loss: 1.0851 - accuracy: 0.4250\n",
            "Epoch 32/100\n",
            "4/4 [==============================] - 0s 9ms/step - loss: 1.0867 - accuracy: 0.4167\n",
            "Epoch 33/100\n",
            "4/4 [==============================] - 0s 10ms/step - loss: 1.0840 - accuracy: 0.4333\n",
            "Epoch 34/100\n",
            "4/4 [==============================] - 0s 8ms/step - loss: 1.0838 - accuracy: 0.4167\n",
            "Epoch 35/100\n",
            "4/4 [==============================] - 0s 7ms/step - loss: 1.0834 - accuracy: 0.4083\n",
            "Epoch 36/100\n",
            "4/4 [==============================] - 0s 7ms/step - loss: 1.0821 - accuracy: 0.4083\n",
            "Epoch 37/100\n",
            "4/4 [==============================] - 0s 8ms/step - loss: 1.0815 - accuracy: 0.4167\n",
            "Epoch 38/100\n",
            "4/4 [==============================] - 0s 9ms/step - loss: 1.0807 - accuracy: 0.4250\n",
            "Epoch 39/100\n",
            "4/4 [==============================] - 0s 7ms/step - loss: 1.0805 - accuracy: 0.4000\n",
            "Epoch 40/100\n",
            "4/4 [==============================] - 0s 8ms/step - loss: 1.0799 - accuracy: 0.4000\n",
            "Epoch 41/100\n",
            "4/4 [==============================] - 0s 6ms/step - loss: 1.0790 - accuracy: 0.4167\n",
            "Epoch 42/100\n",
            "4/4 [==============================] - 0s 6ms/step - loss: 1.0788 - accuracy: 0.4083\n",
            "Epoch 43/100\n",
            "4/4 [==============================] - 0s 6ms/step - loss: 1.0779 - accuracy: 0.4000\n",
            "Epoch 44/100\n",
            "4/4 [==============================] - 0s 7ms/step - loss: 1.0774 - accuracy: 0.4000\n",
            "Epoch 45/100\n",
            "4/4 [==============================] - 0s 7ms/step - loss: 1.0764 - accuracy: 0.4000\n",
            "Epoch 46/100\n",
            "4/4 [==============================] - 0s 7ms/step - loss: 1.0750 - accuracy: 0.4083\n",
            "Epoch 47/100\n",
            "4/4 [==============================] - 0s 9ms/step - loss: 1.0750 - accuracy: 0.4083\n",
            "Epoch 48/100\n",
            "4/4 [==============================] - 0s 9ms/step - loss: 1.0734 - accuracy: 0.4000\n",
            "Epoch 49/100\n",
            "4/4 [==============================] - 0s 6ms/step - loss: 1.0737 - accuracy: 0.4000\n",
            "Epoch 50/100\n",
            "4/4 [==============================] - 0s 7ms/step - loss: 1.0718 - accuracy: 0.4083\n",
            "Epoch 51/100\n",
            "4/4 [==============================] - 0s 10ms/step - loss: 1.0709 - accuracy: 0.4083\n",
            "Epoch 52/100\n",
            "4/4 [==============================] - 0s 10ms/step - loss: 1.0690 - accuracy: 0.4167\n",
            "Epoch 53/100\n",
            "4/4 [==============================] - 0s 9ms/step - loss: 1.0675 - accuracy: 0.4000\n",
            "Epoch 54/100\n",
            "4/4 [==============================] - 0s 8ms/step - loss: 1.0657 - accuracy: 0.4167\n",
            "Epoch 55/100\n",
            "4/4 [==============================] - 0s 9ms/step - loss: 1.0638 - accuracy: 0.4000\n",
            "Epoch 56/100\n",
            "4/4 [==============================] - 0s 10ms/step - loss: 1.0627 - accuracy: 0.4083\n",
            "Epoch 57/100\n",
            "4/4 [==============================] - 0s 6ms/step - loss: 1.0602 - accuracy: 0.4000\n",
            "Epoch 58/100\n",
            "4/4 [==============================] - 0s 9ms/step - loss: 1.0584 - accuracy: 0.4000\n",
            "Epoch 59/100\n",
            "4/4 [==============================] - 0s 9ms/step - loss: 1.0576 - accuracy: 0.4167\n",
            "Epoch 60/100\n",
            "4/4 [==============================] - 0s 7ms/step - loss: 1.0547 - accuracy: 0.4000\n",
            "Epoch 61/100\n",
            "4/4 [==============================] - 0s 10ms/step - loss: 1.0538 - accuracy: 0.4083\n",
            "Epoch 62/100\n",
            "4/4 [==============================] - 0s 11ms/step - loss: 1.0518 - accuracy: 0.4083\n",
            "Epoch 63/100\n",
            "4/4 [==============================] - 0s 6ms/step - loss: 1.0498 - accuracy: 0.4000\n",
            "Epoch 64/100\n",
            "4/4 [==============================] - 0s 6ms/step - loss: 1.0479 - accuracy: 0.4000\n",
            "Epoch 65/100\n",
            "4/4 [==============================] - 0s 6ms/step - loss: 1.0457 - accuracy: 0.4083\n",
            "Epoch 66/100\n",
            "4/4 [==============================] - 0s 7ms/step - loss: 1.0436 - accuracy: 0.4083\n",
            "Epoch 67/100\n",
            "4/4 [==============================] - 0s 9ms/step - loss: 1.0410 - accuracy: 0.4083\n",
            "Epoch 68/100\n",
            "4/4 [==============================] - 0s 10ms/step - loss: 1.0397 - accuracy: 0.4083\n",
            "Epoch 69/100\n",
            "4/4 [==============================] - 0s 6ms/step - loss: 1.0363 - accuracy: 0.4167\n",
            "Epoch 70/100\n",
            "4/4 [==============================] - 0s 6ms/step - loss: 1.0338 - accuracy: 0.4083\n",
            "Epoch 71/100\n",
            "4/4 [==============================] - 0s 7ms/step - loss: 1.0317 - accuracy: 0.4167\n",
            "Epoch 72/100\n",
            "4/4 [==============================] - 0s 7ms/step - loss: 1.0286 - accuracy: 0.4417\n",
            "Epoch 73/100\n",
            "4/4 [==============================] - 0s 7ms/step - loss: 1.0266 - accuracy: 0.4083\n",
            "Epoch 74/100\n",
            "4/4 [==============================] - 0s 6ms/step - loss: 1.0236 - accuracy: 0.4333\n",
            "Epoch 75/100\n",
            "4/4 [==============================] - 0s 6ms/step - loss: 1.0208 - accuracy: 0.4583\n",
            "Epoch 76/100\n",
            "4/4 [==============================] - 0s 7ms/step - loss: 1.0172 - accuracy: 0.4417\n",
            "Epoch 77/100\n",
            "4/4 [==============================] - 0s 6ms/step - loss: 1.0134 - accuracy: 0.4417\n",
            "Epoch 78/100\n",
            "4/4 [==============================] - 0s 9ms/step - loss: 1.0122 - accuracy: 0.5250\n",
            "Epoch 79/100\n",
            "4/4 [==============================] - 0s 6ms/step - loss: 1.0059 - accuracy: 0.5333\n",
            "Epoch 80/100\n",
            "4/4 [==============================] - 0s 7ms/step - loss: 1.0025 - accuracy: 0.4917\n",
            "Epoch 81/100\n",
            "4/4 [==============================] - 0s 6ms/step - loss: 0.9987 - accuracy: 0.5000\n",
            "Epoch 82/100\n",
            "4/4 [==============================] - 0s 7ms/step - loss: 0.9979 - accuracy: 0.5333\n",
            "Epoch 83/100\n",
            "4/4 [==============================] - 0s 6ms/step - loss: 0.9901 - accuracy: 0.5833\n",
            "Epoch 84/100\n",
            "4/4 [==============================] - 0s 7ms/step - loss: 0.9857 - accuracy: 0.5667\n",
            "Epoch 85/100\n",
            "4/4 [==============================] - 0s 6ms/step - loss: 0.9818 - accuracy: 0.6167\n",
            "Epoch 86/100\n",
            "4/4 [==============================] - 0s 5ms/step - loss: 0.9755 - accuracy: 0.6000\n",
            "Epoch 87/100\n",
            "4/4 [==============================] - 0s 6ms/step - loss: 0.9707 - accuracy: 0.6250\n",
            "Epoch 88/100\n",
            "4/4 [==============================] - 0s 5ms/step - loss: 0.9677 - accuracy: 0.5917\n",
            "Epoch 89/100\n",
            "4/4 [==============================] - 0s 7ms/step - loss: 0.9604 - accuracy: 0.6000\n",
            "Epoch 90/100\n",
            "4/4 [==============================] - 0s 7ms/step - loss: 0.9542 - accuracy: 0.6333\n",
            "Epoch 91/100\n",
            "4/4 [==============================] - 0s 8ms/step - loss: 0.9494 - accuracy: 0.6333\n",
            "Epoch 92/100\n",
            "4/4 [==============================] - 0s 7ms/step - loss: 0.9433 - accuracy: 0.6417\n",
            "Epoch 93/100\n",
            "4/4 [==============================] - 0s 7ms/step - loss: 0.9367 - accuracy: 0.6417\n",
            "Epoch 94/100\n",
            "4/4 [==============================] - 0s 7ms/step - loss: 0.9321 - accuracy: 0.6167\n",
            "Epoch 95/100\n",
            "4/4 [==============================] - 0s 9ms/step - loss: 0.9229 - accuracy: 0.6583\n",
            "Epoch 96/100\n",
            "4/4 [==============================] - 0s 8ms/step - loss: 0.9175 - accuracy: 0.6333\n",
            "Epoch 97/100\n",
            "4/4 [==============================] - 0s 7ms/step - loss: 0.9085 - accuracy: 0.6583\n",
            "Epoch 98/100\n",
            "4/4 [==============================] - 0s 8ms/step - loss: 0.9074 - accuracy: 0.6083\n",
            "Epoch 99/100\n",
            "4/4 [==============================] - 0s 7ms/step - loss: 0.8943 - accuracy: 0.6333\n",
            "Epoch 100/100\n",
            "4/4 [==============================] - 0s 6ms/step - loss: 0.8876 - accuracy: 0.6333\n"
          ]
        },
        {
          "output_type": "execute_result",
          "data": {
            "text/plain": [
              "<keras.src.callbacks.History at 0x7d7f70897ca0>"
            ]
          },
          "metadata": {},
          "execution_count": 28
        }
      ]
    }
  ]
}