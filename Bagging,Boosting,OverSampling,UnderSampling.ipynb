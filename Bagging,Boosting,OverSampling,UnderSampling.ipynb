{
  "nbformat": 4,
  "nbformat_minor": 0,
  "metadata": {
    "colab": {
      "provenance": [],
      "authorship_tag": "ABX9TyOuK814VHelMorNp/4EjgUW",
      "include_colab_link": true
    },
    "kernelspec": {
      "name": "python3",
      "display_name": "Python 3"
    },
    "language_info": {
      "name": "python"
    }
  },
  "cells": [
    {
      "cell_type": "markdown",
      "metadata": {
        "id": "view-in-github",
        "colab_type": "text"
      },
      "source": [
        "<a href=\"https://colab.research.google.com/github/PriyaP-9704/Machine-Leaning-Workouts/blob/main/Bagging%2CBoosting%2COverSampling%2CUnderSampling.ipynb\" target=\"_parent\"><img src=\"https://colab.research.google.com/assets/colab-badge.svg\" alt=\"Open In Colab\"/></a>"
      ]
    },
    {
      "cell_type": "code",
      "execution_count": null,
      "metadata": {
        "id": "XXN-mJVEuvqT"
      },
      "outputs": [],
      "source": [
        "import pandas as pd"
      ]
    },
    {
      "cell_type": "code",
      "source": [
        "from sklearn.datasets import load_breast_cancer"
      ],
      "metadata": {
        "id": "pketwS0DuzRX"
      },
      "execution_count": null,
      "outputs": []
    },
    {
      "cell_type": "code",
      "source": [
        "data = load_breast_cancer()"
      ],
      "metadata": {
        "id": "mDVNGcRpu5U5"
      },
      "execution_count": null,
      "outputs": []
    },
    {
      "cell_type": "code",
      "source": [
        "x = data.data"
      ],
      "metadata": {
        "id": "u7S8-bATu_ts"
      },
      "execution_count": null,
      "outputs": []
    },
    {
      "cell_type": "code",
      "source": [
        "y = data.target"
      ],
      "metadata": {
        "id": "IZTEXGixvB_F"
      },
      "execution_count": null,
      "outputs": []
    },
    {
      "cell_type": "code",
      "source": [
        "from sklearn.model_selection import train_test_split"
      ],
      "metadata": {
        "id": "rOgGrNTBvEaO"
      },
      "execution_count": null,
      "outputs": []
    },
    {
      "cell_type": "code",
      "source": [
        "x_train,x_test,y_train,y_test = train_test_split(x,y,test_size= 0.2)"
      ],
      "metadata": {
        "id": "GpEVvswjvKM4"
      },
      "execution_count": null,
      "outputs": []
    },
    {
      "cell_type": "code",
      "source": [
        "from sklearn.tree import DecisionTreeClassifier"
      ],
      "metadata": {
        "id": "TLjbm7VsvSzS"
      },
      "execution_count": null,
      "outputs": []
    },
    {
      "cell_type": "code",
      "source": [
        "dtc = DecisionTreeClassifier()"
      ],
      "metadata": {
        "id": "WoDu25Z3vW_c"
      },
      "execution_count": null,
      "outputs": []
    },
    {
      "cell_type": "code",
      "source": [
        "dtc.fit(x_train,y_train)"
      ],
      "metadata": {
        "colab": {
          "base_uri": "https://localhost:8080/",
          "height": 74
        },
        "id": "l4EOfqsLvdJG",
        "outputId": "73d2e446-046f-4d30-b94d-04576a544768"
      },
      "execution_count": null,
      "outputs": [
        {
          "output_type": "execute_result",
          "data": {
            "text/plain": [
              "DecisionTreeClassifier()"
            ],
            "text/html": [
              "<style>#sk-container-id-1 {color: black;background-color: white;}#sk-container-id-1 pre{padding: 0;}#sk-container-id-1 div.sk-toggleable {background-color: white;}#sk-container-id-1 label.sk-toggleable__label {cursor: pointer;display: block;width: 100%;margin-bottom: 0;padding: 0.3em;box-sizing: border-box;text-align: center;}#sk-container-id-1 label.sk-toggleable__label-arrow:before {content: \"▸\";float: left;margin-right: 0.25em;color: #696969;}#sk-container-id-1 label.sk-toggleable__label-arrow:hover:before {color: black;}#sk-container-id-1 div.sk-estimator:hover label.sk-toggleable__label-arrow:before {color: black;}#sk-container-id-1 div.sk-toggleable__content {max-height: 0;max-width: 0;overflow: hidden;text-align: left;background-color: #f0f8ff;}#sk-container-id-1 div.sk-toggleable__content pre {margin: 0.2em;color: black;border-radius: 0.25em;background-color: #f0f8ff;}#sk-container-id-1 input.sk-toggleable__control:checked~div.sk-toggleable__content {max-height: 200px;max-width: 100%;overflow: auto;}#sk-container-id-1 input.sk-toggleable__control:checked~label.sk-toggleable__label-arrow:before {content: \"▾\";}#sk-container-id-1 div.sk-estimator input.sk-toggleable__control:checked~label.sk-toggleable__label {background-color: #d4ebff;}#sk-container-id-1 div.sk-label input.sk-toggleable__control:checked~label.sk-toggleable__label {background-color: #d4ebff;}#sk-container-id-1 input.sk-hidden--visually {border: 0;clip: rect(1px 1px 1px 1px);clip: rect(1px, 1px, 1px, 1px);height: 1px;margin: -1px;overflow: hidden;padding: 0;position: absolute;width: 1px;}#sk-container-id-1 div.sk-estimator {font-family: monospace;background-color: #f0f8ff;border: 1px dotted black;border-radius: 0.25em;box-sizing: border-box;margin-bottom: 0.5em;}#sk-container-id-1 div.sk-estimator:hover {background-color: #d4ebff;}#sk-container-id-1 div.sk-parallel-item::after {content: \"\";width: 100%;border-bottom: 1px solid gray;flex-grow: 1;}#sk-container-id-1 div.sk-label:hover label.sk-toggleable__label {background-color: #d4ebff;}#sk-container-id-1 div.sk-serial::before {content: \"\";position: absolute;border-left: 1px solid gray;box-sizing: border-box;top: 0;bottom: 0;left: 50%;z-index: 0;}#sk-container-id-1 div.sk-serial {display: flex;flex-direction: column;align-items: center;background-color: white;padding-right: 0.2em;padding-left: 0.2em;position: relative;}#sk-container-id-1 div.sk-item {position: relative;z-index: 1;}#sk-container-id-1 div.sk-parallel {display: flex;align-items: stretch;justify-content: center;background-color: white;position: relative;}#sk-container-id-1 div.sk-item::before, #sk-container-id-1 div.sk-parallel-item::before {content: \"\";position: absolute;border-left: 1px solid gray;box-sizing: border-box;top: 0;bottom: 0;left: 50%;z-index: -1;}#sk-container-id-1 div.sk-parallel-item {display: flex;flex-direction: column;z-index: 1;position: relative;background-color: white;}#sk-container-id-1 div.sk-parallel-item:first-child::after {align-self: flex-end;width: 50%;}#sk-container-id-1 div.sk-parallel-item:last-child::after {align-self: flex-start;width: 50%;}#sk-container-id-1 div.sk-parallel-item:only-child::after {width: 0;}#sk-container-id-1 div.sk-dashed-wrapped {border: 1px dashed gray;margin: 0 0.4em 0.5em 0.4em;box-sizing: border-box;padding-bottom: 0.4em;background-color: white;}#sk-container-id-1 div.sk-label label {font-family: monospace;font-weight: bold;display: inline-block;line-height: 1.2em;}#sk-container-id-1 div.sk-label-container {text-align: center;}#sk-container-id-1 div.sk-container {/* jupyter's `normalize.less` sets `[hidden] { display: none; }` but bootstrap.min.css set `[hidden] { display: none !important; }` so we also need the `!important` here to be able to override the default hidden behavior on the sphinx rendered scikit-learn.org. See: https://github.com/scikit-learn/scikit-learn/issues/21755 */display: inline-block !important;position: relative;}#sk-container-id-1 div.sk-text-repr-fallback {display: none;}</style><div id=\"sk-container-id-1\" class=\"sk-top-container\"><div class=\"sk-text-repr-fallback\"><pre>DecisionTreeClassifier()</pre><b>In a Jupyter environment, please rerun this cell to show the HTML representation or trust the notebook. <br />On GitHub, the HTML representation is unable to render, please try loading this page with nbviewer.org.</b></div><div class=\"sk-container\" hidden><div class=\"sk-item\"><div class=\"sk-estimator sk-toggleable\"><input class=\"sk-toggleable__control sk-hidden--visually\" id=\"sk-estimator-id-1\" type=\"checkbox\" checked><label for=\"sk-estimator-id-1\" class=\"sk-toggleable__label sk-toggleable__label-arrow\">DecisionTreeClassifier</label><div class=\"sk-toggleable__content\"><pre>DecisionTreeClassifier()</pre></div></div></div></div></div>"
            ]
          },
          "metadata": {},
          "execution_count": 10
        }
      ]
    },
    {
      "cell_type": "code",
      "source": [
        "from sklearn.metrics import accuracy_score"
      ],
      "metadata": {
        "id": "Cw6qvE69vlOa"
      },
      "execution_count": null,
      "outputs": []
    },
    {
      "cell_type": "code",
      "source": [
        "y_predict = dtc.predict(x_test)"
      ],
      "metadata": {
        "id": "LP5X3WpuvvWs"
      },
      "execution_count": null,
      "outputs": []
    },
    {
      "cell_type": "code",
      "source": [
        "accuracy_score(y_test,y_predict)"
      ],
      "metadata": {
        "colab": {
          "base_uri": "https://localhost:8080/"
        },
        "id": "KmY4FsV_vrJu",
        "outputId": "0e6f61dd-6d8c-49b0-bd62-25423ff23b1d"
      },
      "execution_count": null,
      "outputs": [
        {
          "output_type": "execute_result",
          "data": {
            "text/plain": [
              "0.8771929824561403"
            ]
          },
          "metadata": {},
          "execution_count": 13
        }
      ]
    },
    {
      "cell_type": "markdown",
      "source": [
        "# Bagging -"
      ],
      "metadata": {
        "id": "KH4RjFXWv748"
      }
    },
    {
      "cell_type": "code",
      "source": [
        "from sklearn.ensemble import BaggingClassifier"
      ],
      "metadata": {
        "id": "FCWeenKb3lK_"
      },
      "execution_count": null,
      "outputs": []
    },
    {
      "cell_type": "code",
      "source": [
        "bc = BaggingClassifier(base_estimator= DecisionTreeClassifier(),n_estimators=100,random_state=3)"
      ],
      "metadata": {
        "id": "_Yuc1jmN3qfY"
      },
      "execution_count": null,
      "outputs": []
    },
    {
      "cell_type": "code",
      "source": [
        "bc.fit(x_train,y_train)"
      ],
      "metadata": {
        "colab": {
          "base_uri": "https://localhost:8080/",
          "height": 171
        },
        "id": "BKuAs-xJ32sP",
        "outputId": "5dd0525a-f85e-429a-d845-c3e175a2b283"
      },
      "execution_count": null,
      "outputs": [
        {
          "output_type": "stream",
          "name": "stderr",
          "text": [
            "/usr/local/lib/python3.10/dist-packages/sklearn/ensemble/_base.py:166: FutureWarning: `base_estimator` was renamed to `estimator` in version 1.2 and will be removed in 1.4.\n",
            "  warnings.warn(\n"
          ]
        },
        {
          "output_type": "execute_result",
          "data": {
            "text/plain": [
              "BaggingClassifier(base_estimator=DecisionTreeClassifier(), n_estimators=100,\n",
              "                  random_state=3)"
            ],
            "text/html": [
              "<style>#sk-container-id-4 {color: black;background-color: white;}#sk-container-id-4 pre{padding: 0;}#sk-container-id-4 div.sk-toggleable {background-color: white;}#sk-container-id-4 label.sk-toggleable__label {cursor: pointer;display: block;width: 100%;margin-bottom: 0;padding: 0.3em;box-sizing: border-box;text-align: center;}#sk-container-id-4 label.sk-toggleable__label-arrow:before {content: \"▸\";float: left;margin-right: 0.25em;color: #696969;}#sk-container-id-4 label.sk-toggleable__label-arrow:hover:before {color: black;}#sk-container-id-4 div.sk-estimator:hover label.sk-toggleable__label-arrow:before {color: black;}#sk-container-id-4 div.sk-toggleable__content {max-height: 0;max-width: 0;overflow: hidden;text-align: left;background-color: #f0f8ff;}#sk-container-id-4 div.sk-toggleable__content pre {margin: 0.2em;color: black;border-radius: 0.25em;background-color: #f0f8ff;}#sk-container-id-4 input.sk-toggleable__control:checked~div.sk-toggleable__content {max-height: 200px;max-width: 100%;overflow: auto;}#sk-container-id-4 input.sk-toggleable__control:checked~label.sk-toggleable__label-arrow:before {content: \"▾\";}#sk-container-id-4 div.sk-estimator input.sk-toggleable__control:checked~label.sk-toggleable__label {background-color: #d4ebff;}#sk-container-id-4 div.sk-label input.sk-toggleable__control:checked~label.sk-toggleable__label {background-color: #d4ebff;}#sk-container-id-4 input.sk-hidden--visually {border: 0;clip: rect(1px 1px 1px 1px);clip: rect(1px, 1px, 1px, 1px);height: 1px;margin: -1px;overflow: hidden;padding: 0;position: absolute;width: 1px;}#sk-container-id-4 div.sk-estimator {font-family: monospace;background-color: #f0f8ff;border: 1px dotted black;border-radius: 0.25em;box-sizing: border-box;margin-bottom: 0.5em;}#sk-container-id-4 div.sk-estimator:hover {background-color: #d4ebff;}#sk-container-id-4 div.sk-parallel-item::after {content: \"\";width: 100%;border-bottom: 1px solid gray;flex-grow: 1;}#sk-container-id-4 div.sk-label:hover label.sk-toggleable__label {background-color: #d4ebff;}#sk-container-id-4 div.sk-serial::before {content: \"\";position: absolute;border-left: 1px solid gray;box-sizing: border-box;top: 0;bottom: 0;left: 50%;z-index: 0;}#sk-container-id-4 div.sk-serial {display: flex;flex-direction: column;align-items: center;background-color: white;padding-right: 0.2em;padding-left: 0.2em;position: relative;}#sk-container-id-4 div.sk-item {position: relative;z-index: 1;}#sk-container-id-4 div.sk-parallel {display: flex;align-items: stretch;justify-content: center;background-color: white;position: relative;}#sk-container-id-4 div.sk-item::before, #sk-container-id-4 div.sk-parallel-item::before {content: \"\";position: absolute;border-left: 1px solid gray;box-sizing: border-box;top: 0;bottom: 0;left: 50%;z-index: -1;}#sk-container-id-4 div.sk-parallel-item {display: flex;flex-direction: column;z-index: 1;position: relative;background-color: white;}#sk-container-id-4 div.sk-parallel-item:first-child::after {align-self: flex-end;width: 50%;}#sk-container-id-4 div.sk-parallel-item:last-child::after {align-self: flex-start;width: 50%;}#sk-container-id-4 div.sk-parallel-item:only-child::after {width: 0;}#sk-container-id-4 div.sk-dashed-wrapped {border: 1px dashed gray;margin: 0 0.4em 0.5em 0.4em;box-sizing: border-box;padding-bottom: 0.4em;background-color: white;}#sk-container-id-4 div.sk-label label {font-family: monospace;font-weight: bold;display: inline-block;line-height: 1.2em;}#sk-container-id-4 div.sk-label-container {text-align: center;}#sk-container-id-4 div.sk-container {/* jupyter's `normalize.less` sets `[hidden] { display: none; }` but bootstrap.min.css set `[hidden] { display: none !important; }` so we also need the `!important` here to be able to override the default hidden behavior on the sphinx rendered scikit-learn.org. See: https://github.com/scikit-learn/scikit-learn/issues/21755 */display: inline-block !important;position: relative;}#sk-container-id-4 div.sk-text-repr-fallback {display: none;}</style><div id=\"sk-container-id-4\" class=\"sk-top-container\"><div class=\"sk-text-repr-fallback\"><pre>BaggingClassifier(base_estimator=DecisionTreeClassifier(), n_estimators=100,\n",
              "                  random_state=3)</pre><b>In a Jupyter environment, please rerun this cell to show the HTML representation or trust the notebook. <br />On GitHub, the HTML representation is unable to render, please try loading this page with nbviewer.org.</b></div><div class=\"sk-container\" hidden><div class=\"sk-item sk-dashed-wrapped\"><div class=\"sk-label-container\"><div class=\"sk-label sk-toggleable\"><input class=\"sk-toggleable__control sk-hidden--visually\" id=\"sk-estimator-id-6\" type=\"checkbox\" ><label for=\"sk-estimator-id-6\" class=\"sk-toggleable__label sk-toggleable__label-arrow\">BaggingClassifier</label><div class=\"sk-toggleable__content\"><pre>BaggingClassifier(base_estimator=DecisionTreeClassifier(), n_estimators=100,\n",
              "                  random_state=3)</pre></div></div></div><div class=\"sk-parallel\"><div class=\"sk-parallel-item\"><div class=\"sk-item\"><div class=\"sk-label-container\"><div class=\"sk-label sk-toggleable\"><input class=\"sk-toggleable__control sk-hidden--visually\" id=\"sk-estimator-id-7\" type=\"checkbox\" ><label for=\"sk-estimator-id-7\" class=\"sk-toggleable__label sk-toggleable__label-arrow\">base_estimator: DecisionTreeClassifier</label><div class=\"sk-toggleable__content\"><pre>DecisionTreeClassifier()</pre></div></div></div><div class=\"sk-serial\"><div class=\"sk-item\"><div class=\"sk-estimator sk-toggleable\"><input class=\"sk-toggleable__control sk-hidden--visually\" id=\"sk-estimator-id-8\" type=\"checkbox\" ><label for=\"sk-estimator-id-8\" class=\"sk-toggleable__label sk-toggleable__label-arrow\">DecisionTreeClassifier</label><div class=\"sk-toggleable__content\"><pre>DecisionTreeClassifier()</pre></div></div></div></div></div></div></div></div></div></div>"
            ]
          },
          "metadata": {},
          "execution_count": 26
        }
      ]
    },
    {
      "cell_type": "code",
      "source": [
        "accuracy_score(y_test,bc.predict(x_test))"
      ],
      "metadata": {
        "colab": {
          "base_uri": "https://localhost:8080/"
        },
        "id": "Oay3BxMZ35zm",
        "outputId": "ffea19a5-b2f2-48c8-aa53-ec83d373e6c9"
      },
      "execution_count": null,
      "outputs": [
        {
          "output_type": "execute_result",
          "data": {
            "text/plain": [
              "0.9473684210526315"
            ]
          },
          "metadata": {},
          "execution_count": 27
        }
      ]
    },
    {
      "cell_type": "markdown",
      "source": [
        "# Boosting"
      ],
      "metadata": {
        "id": "2KgyyqHPv9oh"
      }
    },
    {
      "cell_type": "code",
      "source": [
        "from sklearn.ensemble import AdaBoostClassifier"
      ],
      "metadata": {
        "id": "b1hX_oWav_jG"
      },
      "execution_count": null,
      "outputs": []
    },
    {
      "cell_type": "code",
      "source": [
        "abc = AdaBoostClassifier(base_estimator=DecisionTreeClassifier(),n_estimators=100,random_state=3,learning_rate=2)"
      ],
      "metadata": {
        "id": "itvabLliwF7j"
      },
      "execution_count": null,
      "outputs": []
    },
    {
      "cell_type": "code",
      "source": [
        "abc.fit(x_train,y_train)"
      ],
      "metadata": {
        "colab": {
          "base_uri": "https://localhost:8080/",
          "height": 171
        },
        "id": "hpjNKBSUwYqP",
        "outputId": "8e823b08-67b6-4735-bbb5-a43b6e2ecd21"
      },
      "execution_count": null,
      "outputs": [
        {
          "output_type": "stream",
          "name": "stderr",
          "text": [
            "/usr/local/lib/python3.10/dist-packages/sklearn/ensemble/_base.py:166: FutureWarning: `base_estimator` was renamed to `estimator` in version 1.2 and will be removed in 1.4.\n",
            "  warnings.warn(\n"
          ]
        },
        {
          "output_type": "execute_result",
          "data": {
            "text/plain": [
              "AdaBoostClassifier(base_estimator=DecisionTreeClassifier(), learning_rate=2,\n",
              "                   n_estimators=100, random_state=3)"
            ],
            "text/html": [
              "<style>#sk-container-id-2 {color: black;background-color: white;}#sk-container-id-2 pre{padding: 0;}#sk-container-id-2 div.sk-toggleable {background-color: white;}#sk-container-id-2 label.sk-toggleable__label {cursor: pointer;display: block;width: 100%;margin-bottom: 0;padding: 0.3em;box-sizing: border-box;text-align: center;}#sk-container-id-2 label.sk-toggleable__label-arrow:before {content: \"▸\";float: left;margin-right: 0.25em;color: #696969;}#sk-container-id-2 label.sk-toggleable__label-arrow:hover:before {color: black;}#sk-container-id-2 div.sk-estimator:hover label.sk-toggleable__label-arrow:before {color: black;}#sk-container-id-2 div.sk-toggleable__content {max-height: 0;max-width: 0;overflow: hidden;text-align: left;background-color: #f0f8ff;}#sk-container-id-2 div.sk-toggleable__content pre {margin: 0.2em;color: black;border-radius: 0.25em;background-color: #f0f8ff;}#sk-container-id-2 input.sk-toggleable__control:checked~div.sk-toggleable__content {max-height: 200px;max-width: 100%;overflow: auto;}#sk-container-id-2 input.sk-toggleable__control:checked~label.sk-toggleable__label-arrow:before {content: \"▾\";}#sk-container-id-2 div.sk-estimator input.sk-toggleable__control:checked~label.sk-toggleable__label {background-color: #d4ebff;}#sk-container-id-2 div.sk-label input.sk-toggleable__control:checked~label.sk-toggleable__label {background-color: #d4ebff;}#sk-container-id-2 input.sk-hidden--visually {border: 0;clip: rect(1px 1px 1px 1px);clip: rect(1px, 1px, 1px, 1px);height: 1px;margin: -1px;overflow: hidden;padding: 0;position: absolute;width: 1px;}#sk-container-id-2 div.sk-estimator {font-family: monospace;background-color: #f0f8ff;border: 1px dotted black;border-radius: 0.25em;box-sizing: border-box;margin-bottom: 0.5em;}#sk-container-id-2 div.sk-estimator:hover {background-color: #d4ebff;}#sk-container-id-2 div.sk-parallel-item::after {content: \"\";width: 100%;border-bottom: 1px solid gray;flex-grow: 1;}#sk-container-id-2 div.sk-label:hover label.sk-toggleable__label {background-color: #d4ebff;}#sk-container-id-2 div.sk-serial::before {content: \"\";position: absolute;border-left: 1px solid gray;box-sizing: border-box;top: 0;bottom: 0;left: 50%;z-index: 0;}#sk-container-id-2 div.sk-serial {display: flex;flex-direction: column;align-items: center;background-color: white;padding-right: 0.2em;padding-left: 0.2em;position: relative;}#sk-container-id-2 div.sk-item {position: relative;z-index: 1;}#sk-container-id-2 div.sk-parallel {display: flex;align-items: stretch;justify-content: center;background-color: white;position: relative;}#sk-container-id-2 div.sk-item::before, #sk-container-id-2 div.sk-parallel-item::before {content: \"\";position: absolute;border-left: 1px solid gray;box-sizing: border-box;top: 0;bottom: 0;left: 50%;z-index: -1;}#sk-container-id-2 div.sk-parallel-item {display: flex;flex-direction: column;z-index: 1;position: relative;background-color: white;}#sk-container-id-2 div.sk-parallel-item:first-child::after {align-self: flex-end;width: 50%;}#sk-container-id-2 div.sk-parallel-item:last-child::after {align-self: flex-start;width: 50%;}#sk-container-id-2 div.sk-parallel-item:only-child::after {width: 0;}#sk-container-id-2 div.sk-dashed-wrapped {border: 1px dashed gray;margin: 0 0.4em 0.5em 0.4em;box-sizing: border-box;padding-bottom: 0.4em;background-color: white;}#sk-container-id-2 div.sk-label label {font-family: monospace;font-weight: bold;display: inline-block;line-height: 1.2em;}#sk-container-id-2 div.sk-label-container {text-align: center;}#sk-container-id-2 div.sk-container {/* jupyter's `normalize.less` sets `[hidden] { display: none; }` but bootstrap.min.css set `[hidden] { display: none !important; }` so we also need the `!important` here to be able to override the default hidden behavior on the sphinx rendered scikit-learn.org. See: https://github.com/scikit-learn/scikit-learn/issues/21755 */display: inline-block !important;position: relative;}#sk-container-id-2 div.sk-text-repr-fallback {display: none;}</style><div id=\"sk-container-id-2\" class=\"sk-top-container\"><div class=\"sk-text-repr-fallback\"><pre>AdaBoostClassifier(base_estimator=DecisionTreeClassifier(), learning_rate=2,\n",
              "                   n_estimators=100, random_state=3)</pre><b>In a Jupyter environment, please rerun this cell to show the HTML representation or trust the notebook. <br />On GitHub, the HTML representation is unable to render, please try loading this page with nbviewer.org.</b></div><div class=\"sk-container\" hidden><div class=\"sk-item sk-dashed-wrapped\"><div class=\"sk-label-container\"><div class=\"sk-label sk-toggleable\"><input class=\"sk-toggleable__control sk-hidden--visually\" id=\"sk-estimator-id-2\" type=\"checkbox\" ><label for=\"sk-estimator-id-2\" class=\"sk-toggleable__label sk-toggleable__label-arrow\">AdaBoostClassifier</label><div class=\"sk-toggleable__content\"><pre>AdaBoostClassifier(base_estimator=DecisionTreeClassifier(), learning_rate=2,\n",
              "                   n_estimators=100, random_state=3)</pre></div></div></div><div class=\"sk-parallel\"><div class=\"sk-parallel-item\"><div class=\"sk-item\"><div class=\"sk-label-container\"><div class=\"sk-label sk-toggleable\"><input class=\"sk-toggleable__control sk-hidden--visually\" id=\"sk-estimator-id-3\" type=\"checkbox\" ><label for=\"sk-estimator-id-3\" class=\"sk-toggleable__label sk-toggleable__label-arrow\">base_estimator: DecisionTreeClassifier</label><div class=\"sk-toggleable__content\"><pre>DecisionTreeClassifier()</pre></div></div></div><div class=\"sk-serial\"><div class=\"sk-item\"><div class=\"sk-estimator sk-toggleable\"><input class=\"sk-toggleable__control sk-hidden--visually\" id=\"sk-estimator-id-4\" type=\"checkbox\" ><label for=\"sk-estimator-id-4\" class=\"sk-toggleable__label sk-toggleable__label-arrow\">DecisionTreeClassifier</label><div class=\"sk-toggleable__content\"><pre>DecisionTreeClassifier()</pre></div></div></div></div></div></div></div></div></div></div>"
            ]
          },
          "metadata": {},
          "execution_count": 18
        }
      ]
    },
    {
      "cell_type": "code",
      "source": [
        "accuracy_score(y_test,abc.predict(x_test))"
      ],
      "metadata": {
        "colab": {
          "base_uri": "https://localhost:8080/"
        },
        "id": "woy6-W37wrYp",
        "outputId": "1c0c25c5-93fd-4881-891a-3c5703e499b9"
      },
      "execution_count": null,
      "outputs": [
        {
          "output_type": "execute_result",
          "data": {
            "text/plain": [
              "0.8771929824561403"
            ]
          },
          "metadata": {},
          "execution_count": 19
        }
      ]
    },
    {
      "cell_type": "code",
      "source": [
        "from sklearn.ensemble import GradientBoostingClassifier"
      ],
      "metadata": {
        "id": "D1oUPNerw1cL"
      },
      "execution_count": null,
      "outputs": []
    },
    {
      "cell_type": "code",
      "source": [
        "gbc = GradientBoostingClassifier(n_estimators=50,random_state= 3,learning_rate=5)"
      ],
      "metadata": {
        "id": "4NblyiWAw7a4"
      },
      "execution_count": null,
      "outputs": []
    },
    {
      "cell_type": "code",
      "source": [
        "gbc.fit(x_train,y_train)"
      ],
      "metadata": {
        "colab": {
          "base_uri": "https://localhost:8080/",
          "height": 74
        },
        "id": "n6Yk3N_vw8Tv",
        "outputId": "b20258f4-7822-4dd2-f4f8-62e4ab7f8176"
      },
      "execution_count": null,
      "outputs": [
        {
          "output_type": "execute_result",
          "data": {
            "text/plain": [
              "GradientBoostingClassifier(learning_rate=5, n_estimators=50, random_state=3)"
            ],
            "text/html": [
              "<style>#sk-container-id-3 {color: black;background-color: white;}#sk-container-id-3 pre{padding: 0;}#sk-container-id-3 div.sk-toggleable {background-color: white;}#sk-container-id-3 label.sk-toggleable__label {cursor: pointer;display: block;width: 100%;margin-bottom: 0;padding: 0.3em;box-sizing: border-box;text-align: center;}#sk-container-id-3 label.sk-toggleable__label-arrow:before {content: \"▸\";float: left;margin-right: 0.25em;color: #696969;}#sk-container-id-3 label.sk-toggleable__label-arrow:hover:before {color: black;}#sk-container-id-3 div.sk-estimator:hover label.sk-toggleable__label-arrow:before {color: black;}#sk-container-id-3 div.sk-toggleable__content {max-height: 0;max-width: 0;overflow: hidden;text-align: left;background-color: #f0f8ff;}#sk-container-id-3 div.sk-toggleable__content pre {margin: 0.2em;color: black;border-radius: 0.25em;background-color: #f0f8ff;}#sk-container-id-3 input.sk-toggleable__control:checked~div.sk-toggleable__content {max-height: 200px;max-width: 100%;overflow: auto;}#sk-container-id-3 input.sk-toggleable__control:checked~label.sk-toggleable__label-arrow:before {content: \"▾\";}#sk-container-id-3 div.sk-estimator input.sk-toggleable__control:checked~label.sk-toggleable__label {background-color: #d4ebff;}#sk-container-id-3 div.sk-label input.sk-toggleable__control:checked~label.sk-toggleable__label {background-color: #d4ebff;}#sk-container-id-3 input.sk-hidden--visually {border: 0;clip: rect(1px 1px 1px 1px);clip: rect(1px, 1px, 1px, 1px);height: 1px;margin: -1px;overflow: hidden;padding: 0;position: absolute;width: 1px;}#sk-container-id-3 div.sk-estimator {font-family: monospace;background-color: #f0f8ff;border: 1px dotted black;border-radius: 0.25em;box-sizing: border-box;margin-bottom: 0.5em;}#sk-container-id-3 div.sk-estimator:hover {background-color: #d4ebff;}#sk-container-id-3 div.sk-parallel-item::after {content: \"\";width: 100%;border-bottom: 1px solid gray;flex-grow: 1;}#sk-container-id-3 div.sk-label:hover label.sk-toggleable__label {background-color: #d4ebff;}#sk-container-id-3 div.sk-serial::before {content: \"\";position: absolute;border-left: 1px solid gray;box-sizing: border-box;top: 0;bottom: 0;left: 50%;z-index: 0;}#sk-container-id-3 div.sk-serial {display: flex;flex-direction: column;align-items: center;background-color: white;padding-right: 0.2em;padding-left: 0.2em;position: relative;}#sk-container-id-3 div.sk-item {position: relative;z-index: 1;}#sk-container-id-3 div.sk-parallel {display: flex;align-items: stretch;justify-content: center;background-color: white;position: relative;}#sk-container-id-3 div.sk-item::before, #sk-container-id-3 div.sk-parallel-item::before {content: \"\";position: absolute;border-left: 1px solid gray;box-sizing: border-box;top: 0;bottom: 0;left: 50%;z-index: -1;}#sk-container-id-3 div.sk-parallel-item {display: flex;flex-direction: column;z-index: 1;position: relative;background-color: white;}#sk-container-id-3 div.sk-parallel-item:first-child::after {align-self: flex-end;width: 50%;}#sk-container-id-3 div.sk-parallel-item:last-child::after {align-self: flex-start;width: 50%;}#sk-container-id-3 div.sk-parallel-item:only-child::after {width: 0;}#sk-container-id-3 div.sk-dashed-wrapped {border: 1px dashed gray;margin: 0 0.4em 0.5em 0.4em;box-sizing: border-box;padding-bottom: 0.4em;background-color: white;}#sk-container-id-3 div.sk-label label {font-family: monospace;font-weight: bold;display: inline-block;line-height: 1.2em;}#sk-container-id-3 div.sk-label-container {text-align: center;}#sk-container-id-3 div.sk-container {/* jupyter's `normalize.less` sets `[hidden] { display: none; }` but bootstrap.min.css set `[hidden] { display: none !important; }` so we also need the `!important` here to be able to override the default hidden behavior on the sphinx rendered scikit-learn.org. See: https://github.com/scikit-learn/scikit-learn/issues/21755 */display: inline-block !important;position: relative;}#sk-container-id-3 div.sk-text-repr-fallback {display: none;}</style><div id=\"sk-container-id-3\" class=\"sk-top-container\"><div class=\"sk-text-repr-fallback\"><pre>GradientBoostingClassifier(learning_rate=5, n_estimators=50, random_state=3)</pre><b>In a Jupyter environment, please rerun this cell to show the HTML representation or trust the notebook. <br />On GitHub, the HTML representation is unable to render, please try loading this page with nbviewer.org.</b></div><div class=\"sk-container\" hidden><div class=\"sk-item\"><div class=\"sk-estimator sk-toggleable\"><input class=\"sk-toggleable__control sk-hidden--visually\" id=\"sk-estimator-id-5\" type=\"checkbox\" checked><label for=\"sk-estimator-id-5\" class=\"sk-toggleable__label sk-toggleable__label-arrow\">GradientBoostingClassifier</label><div class=\"sk-toggleable__content\"><pre>GradientBoostingClassifier(learning_rate=5, n_estimators=50, random_state=3)</pre></div></div></div></div></div>"
            ]
          },
          "metadata": {},
          "execution_count": 22
        }
      ]
    },
    {
      "cell_type": "code",
      "source": [
        "accuracy_score(y_test,gbc.predict(x_test))"
      ],
      "metadata": {
        "colab": {
          "base_uri": "https://localhost:8080/"
        },
        "id": "Qjxtz_uSxTiZ",
        "outputId": "2dfbf1d9-a4a4-46e4-c7a2-9e8fdb5aa1ad"
      },
      "execution_count": null,
      "outputs": [
        {
          "output_type": "execute_result",
          "data": {
            "text/plain": [
              "0.6052631578947368"
            ]
          },
          "metadata": {},
          "execution_count": 23
        }
      ]
    },
    {
      "cell_type": "markdown",
      "source": [
        "accuracy_score(y_test,abc.predict(x_test))"
      ],
      "metadata": {
        "id": "ELBEreHl4Ixq"
      }
    },
    {
      "cell_type": "markdown",
      "source": [
        "data:image/png;base64,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"
      ],
      "metadata": {
        "id": "-B13maBh4WF-"
      }
    },
    {
      "cell_type": "markdown",
      "source": [
        "# Oversampling"
      ],
      "metadata": {
        "id": "uIy5z9h15eOl"
      }
    },
    {
      "cell_type": "code",
      "source": [
        "import pandas as pd\n",
        "import matplotlib.pyplot as plt\n",
        "import seaborn as sns\n"
      ],
      "metadata": {
        "id": "Dx6ovQxF4rqA"
      },
      "execution_count": 28,
      "outputs": []
    },
    {
      "cell_type": "code",
      "source": [
        "df = pd.read_csv('/content/MOCK_DATA.csv')\n",
        "df"
      ],
      "metadata": {
        "colab": {
          "base_uri": "https://localhost:8080/",
          "height": 423
        },
        "id": "PE4Vbi_85p28",
        "outputId": "3f3e7fe7-1149-4361-a38c-83e7f8fba638"
      },
      "execution_count": 29,
      "outputs": [
        {
          "output_type": "execute_result",
          "data": {
            "text/plain": [
              "       id first_name     last_name                      email      gender  \\\n",
              "0       1      Minne       Kitchen      mkitchen0@harvard.edu  Non-binary   \n",
              "1       2       Avie  Barszczewski     abarszczewski1@cdc.gov      Female   \n",
              "2       3    Ariadne     Hammerson       ahammerson2@imdb.com      Female   \n",
              "3       4       Alix         Russo          arusso3@google.cn        Male   \n",
              "4       5     Roxane    Somerville   rsomerville4@tinypic.com      Female   \n",
              "..    ...        ...           ...                        ...         ...   \n",
              "995   996      Rania    Brockhurst      rbrockhurstrn@php.net      Female   \n",
              "996   997     Lorita      Sisselot      lsisselotro@wufoo.com      Female   \n",
              "997   998   Richmond       Hainey`          rhaineyrp@wix.com        Male   \n",
              "998   999    Marylou       Sorrill  msorrillrq@vistaprint.com      Female   \n",
              "999  1000     Bendix        Biffen           bbiffenrr@ed.gov        Male   \n",
              "\n",
              "     repay  \n",
              "0        1  \n",
              "1        1  \n",
              "2        0  \n",
              "3        1  \n",
              "4        1  \n",
              "..     ...  \n",
              "995      0  \n",
              "996      0  \n",
              "997      1  \n",
              "998      1  \n",
              "999      0  \n",
              "\n",
              "[1000 rows x 6 columns]"
            ],
            "text/html": [
              "\n",
              "  <div id=\"df-857b72e9-f7a0-4551-82a2-482d927a86ec\" class=\"colab-df-container\">\n",
              "    <div>\n",
              "<style scoped>\n",
              "    .dataframe tbody tr th:only-of-type {\n",
              "        vertical-align: middle;\n",
              "    }\n",
              "\n",
              "    .dataframe tbody tr th {\n",
              "        vertical-align: top;\n",
              "    }\n",
              "\n",
              "    .dataframe thead th {\n",
              "        text-align: right;\n",
              "    }\n",
              "</style>\n",
              "<table border=\"1\" class=\"dataframe\">\n",
              "  <thead>\n",
              "    <tr style=\"text-align: right;\">\n",
              "      <th></th>\n",
              "      <th>id</th>\n",
              "      <th>first_name</th>\n",
              "      <th>last_name</th>\n",
              "      <th>email</th>\n",
              "      <th>gender</th>\n",
              "      <th>repay</th>\n",
              "    </tr>\n",
              "  </thead>\n",
              "  <tbody>\n",
              "    <tr>\n",
              "      <th>0</th>\n",
              "      <td>1</td>\n",
              "      <td>Minne</td>\n",
              "      <td>Kitchen</td>\n",
              "      <td>mkitchen0@harvard.edu</td>\n",
              "      <td>Non-binary</td>\n",
              "      <td>1</td>\n",
              "    </tr>\n",
              "    <tr>\n",
              "      <th>1</th>\n",
              "      <td>2</td>\n",
              "      <td>Avie</td>\n",
              "      <td>Barszczewski</td>\n",
              "      <td>abarszczewski1@cdc.gov</td>\n",
              "      <td>Female</td>\n",
              "      <td>1</td>\n",
              "    </tr>\n",
              "    <tr>\n",
              "      <th>2</th>\n",
              "      <td>3</td>\n",
              "      <td>Ariadne</td>\n",
              "      <td>Hammerson</td>\n",
              "      <td>ahammerson2@imdb.com</td>\n",
              "      <td>Female</td>\n",
              "      <td>0</td>\n",
              "    </tr>\n",
              "    <tr>\n",
              "      <th>3</th>\n",
              "      <td>4</td>\n",
              "      <td>Alix</td>\n",
              "      <td>Russo</td>\n",
              "      <td>arusso3@google.cn</td>\n",
              "      <td>Male</td>\n",
              "      <td>1</td>\n",
              "    </tr>\n",
              "    <tr>\n",
              "      <th>4</th>\n",
              "      <td>5</td>\n",
              "      <td>Roxane</td>\n",
              "      <td>Somerville</td>\n",
              "      <td>rsomerville4@tinypic.com</td>\n",
              "      <td>Female</td>\n",
              "      <td>1</td>\n",
              "    </tr>\n",
              "    <tr>\n",
              "      <th>...</th>\n",
              "      <td>...</td>\n",
              "      <td>...</td>\n",
              "      <td>...</td>\n",
              "      <td>...</td>\n",
              "      <td>...</td>\n",
              "      <td>...</td>\n",
              "    </tr>\n",
              "    <tr>\n",
              "      <th>995</th>\n",
              "      <td>996</td>\n",
              "      <td>Rania</td>\n",
              "      <td>Brockhurst</td>\n",
              "      <td>rbrockhurstrn@php.net</td>\n",
              "      <td>Female</td>\n",
              "      <td>0</td>\n",
              "    </tr>\n",
              "    <tr>\n",
              "      <th>996</th>\n",
              "      <td>997</td>\n",
              "      <td>Lorita</td>\n",
              "      <td>Sisselot</td>\n",
              "      <td>lsisselotro@wufoo.com</td>\n",
              "      <td>Female</td>\n",
              "      <td>0</td>\n",
              "    </tr>\n",
              "    <tr>\n",
              "      <th>997</th>\n",
              "      <td>998</td>\n",
              "      <td>Richmond</td>\n",
              "      <td>Hainey`</td>\n",
              "      <td>rhaineyrp@wix.com</td>\n",
              "      <td>Male</td>\n",
              "      <td>1</td>\n",
              "    </tr>\n",
              "    <tr>\n",
              "      <th>998</th>\n",
              "      <td>999</td>\n",
              "      <td>Marylou</td>\n",
              "      <td>Sorrill</td>\n",
              "      <td>msorrillrq@vistaprint.com</td>\n",
              "      <td>Female</td>\n",
              "      <td>1</td>\n",
              "    </tr>\n",
              "    <tr>\n",
              "      <th>999</th>\n",
              "      <td>1000</td>\n",
              "      <td>Bendix</td>\n",
              "      <td>Biffen</td>\n",
              "      <td>bbiffenrr@ed.gov</td>\n",
              "      <td>Male</td>\n",
              "      <td>0</td>\n",
              "    </tr>\n",
              "  </tbody>\n",
              "</table>\n",
              "<p>1000 rows × 6 columns</p>\n",
              "</div>\n",
              "    <div class=\"colab-df-buttons\">\n",
              "\n",
              "  <div class=\"colab-df-container\">\n",
              "    <button class=\"colab-df-convert\" onclick=\"convertToInteractive('df-857b72e9-f7a0-4551-82a2-482d927a86ec')\"\n",
              "            title=\"Convert this dataframe to an interactive table.\"\n",
              "            style=\"display:none;\">\n",
              "\n",
              "  <svg xmlns=\"http://www.w3.org/2000/svg\" height=\"24px\" viewBox=\"0 -960 960 960\">\n",
              "    <path d=\"M120-120v-720h720v720H120Zm60-500h600v-160H180v160Zm220 220h160v-160H400v160Zm0 220h160v-160H400v160ZM180-400h160v-160H180v160Zm440 0h160v-160H620v160ZM180-180h160v-160H180v160Zm440 0h160v-160H620v160Z\"/>\n",
              "  </svg>\n",
              "    </button>\n",
              "\n",
              "  <style>\n",
              "    .colab-df-container {\n",
              "      display:flex;\n",
              "      gap: 12px;\n",
              "    }\n",
              "\n",
              "    .colab-df-convert {\n",
              "      background-color: #E8F0FE;\n",
              "      border: none;\n",
              "      border-radius: 50%;\n",
              "      cursor: pointer;\n",
              "      display: none;\n",
              "      fill: #1967D2;\n",
              "      height: 32px;\n",
              "      padding: 0 0 0 0;\n",
              "      width: 32px;\n",
              "    }\n",
              "\n",
              "    .colab-df-convert:hover {\n",
              "      background-color: #E2EBFA;\n",
              "      box-shadow: 0px 1px 2px rgba(60, 64, 67, 0.3), 0px 1px 3px 1px rgba(60, 64, 67, 0.15);\n",
              "      fill: #174EA6;\n",
              "    }\n",
              "\n",
              "    .colab-df-buttons div {\n",
              "      margin-bottom: 4px;\n",
              "    }\n",
              "\n",
              "    [theme=dark] .colab-df-convert {\n",
              "      background-color: #3B4455;\n",
              "      fill: #D2E3FC;\n",
              "    }\n",
              "\n",
              "    [theme=dark] .colab-df-convert:hover {\n",
              "      background-color: #434B5C;\n",
              "      box-shadow: 0px 1px 3px 1px rgba(0, 0, 0, 0.15);\n",
              "      filter: drop-shadow(0px 1px 2px rgba(0, 0, 0, 0.3));\n",
              "      fill: #FFFFFF;\n",
              "    }\n",
              "  </style>\n",
              "\n",
              "    <script>\n",
              "      const buttonEl =\n",
              "        document.querySelector('#df-857b72e9-f7a0-4551-82a2-482d927a86ec button.colab-df-convert');\n",
              "      buttonEl.style.display =\n",
              "        google.colab.kernel.accessAllowed ? 'block' : 'none';\n",
              "\n",
              "      async function convertToInteractive(key) {\n",
              "        const element = document.querySelector('#df-857b72e9-f7a0-4551-82a2-482d927a86ec');\n",
              "        const dataTable =\n",
              "          await google.colab.kernel.invokeFunction('convertToInteractive',\n",
              "                                                    [key], {});\n",
              "        if (!dataTable) return;\n",
              "\n",
              "        const docLinkHtml = 'Like what you see? Visit the ' +\n",
              "          '<a target=\"_blank\" href=https://colab.research.google.com/notebooks/data_table.ipynb>data table notebook</a>'\n",
              "          + ' to learn more about interactive tables.';\n",
              "        element.innerHTML = '';\n",
              "        dataTable['output_type'] = 'display_data';\n",
              "        await google.colab.output.renderOutput(dataTable, element);\n",
              "        const docLink = document.createElement('div');\n",
              "        docLink.innerHTML = docLinkHtml;\n",
              "        element.appendChild(docLink);\n",
              "      }\n",
              "    </script>\n",
              "  </div>\n",
              "\n",
              "\n",
              "<div id=\"df-ad836b10-bca0-499c-bb27-aa19bbffb3a4\">\n",
              "  <button class=\"colab-df-quickchart\" onclick=\"quickchart('df-ad836b10-bca0-499c-bb27-aa19bbffb3a4')\"\n",
              "            title=\"Suggest charts\"\n",
              "            style=\"display:none;\">\n",
              "\n",
              "<svg xmlns=\"http://www.w3.org/2000/svg\" height=\"24px\"viewBox=\"0 0 24 24\"\n",
              "     width=\"24px\">\n",
              "    <g>\n",
              "        <path d=\"M19 3H5c-1.1 0-2 .9-2 2v14c0 1.1.9 2 2 2h14c1.1 0 2-.9 2-2V5c0-1.1-.9-2-2-2zM9 17H7v-7h2v7zm4 0h-2V7h2v10zm4 0h-2v-4h2v4z\"/>\n",
              "    </g>\n",
              "</svg>\n",
              "  </button>\n",
              "\n",
              "<style>\n",
              "  .colab-df-quickchart {\n",
              "      --bg-color: #E8F0FE;\n",
              "      --fill-color: #1967D2;\n",
              "      --hover-bg-color: #E2EBFA;\n",
              "      --hover-fill-color: #174EA6;\n",
              "      --disabled-fill-color: #AAA;\n",
              "      --disabled-bg-color: #DDD;\n",
              "  }\n",
              "\n",
              "  [theme=dark] .colab-df-quickchart {\n",
              "      --bg-color: #3B4455;\n",
              "      --fill-color: #D2E3FC;\n",
              "      --hover-bg-color: #434B5C;\n",
              "      --hover-fill-color: #FFFFFF;\n",
              "      --disabled-bg-color: #3B4455;\n",
              "      --disabled-fill-color: #666;\n",
              "  }\n",
              "\n",
              "  .colab-df-quickchart {\n",
              "    background-color: var(--bg-color);\n",
              "    border: none;\n",
              "    border-radius: 50%;\n",
              "    cursor: pointer;\n",
              "    display: none;\n",
              "    fill: var(--fill-color);\n",
              "    height: 32px;\n",
              "    padding: 0;\n",
              "    width: 32px;\n",
              "  }\n",
              "\n",
              "  .colab-df-quickchart:hover {\n",
              "    background-color: var(--hover-bg-color);\n",
              "    box-shadow: 0 1px 2px rgba(60, 64, 67, 0.3), 0 1px 3px 1px rgba(60, 64, 67, 0.15);\n",
              "    fill: var(--button-hover-fill-color);\n",
              "  }\n",
              "\n",
              "  .colab-df-quickchart-complete:disabled,\n",
              "  .colab-df-quickchart-complete:disabled:hover {\n",
              "    background-color: var(--disabled-bg-color);\n",
              "    fill: var(--disabled-fill-color);\n",
              "    box-shadow: none;\n",
              "  }\n",
              "\n",
              "  .colab-df-spinner {\n",
              "    border: 2px solid var(--fill-color);\n",
              "    border-color: transparent;\n",
              "    border-bottom-color: var(--fill-color);\n",
              "    animation:\n",
              "      spin 1s steps(1) infinite;\n",
              "  }\n",
              "\n",
              "  @keyframes spin {\n",
              "    0% {\n",
              "      border-color: transparent;\n",
              "      border-bottom-color: var(--fill-color);\n",
              "      border-left-color: var(--fill-color);\n",
              "    }\n",
              "    20% {\n",
              "      border-color: transparent;\n",
              "      border-left-color: var(--fill-color);\n",
              "      border-top-color: var(--fill-color);\n",
              "    }\n",
              "    30% {\n",
              "      border-color: transparent;\n",
              "      border-left-color: var(--fill-color);\n",
              "      border-top-color: var(--fill-color);\n",
              "      border-right-color: var(--fill-color);\n",
              "    }\n",
              "    40% {\n",
              "      border-color: transparent;\n",
              "      border-right-color: var(--fill-color);\n",
              "      border-top-color: var(--fill-color);\n",
              "    }\n",
              "    60% {\n",
              "      border-color: transparent;\n",
              "      border-right-color: var(--fill-color);\n",
              "    }\n",
              "    80% {\n",
              "      border-color: transparent;\n",
              "      border-right-color: var(--fill-color);\n",
              "      border-bottom-color: var(--fill-color);\n",
              "    }\n",
              "    90% {\n",
              "      border-color: transparent;\n",
              "      border-bottom-color: var(--fill-color);\n",
              "    }\n",
              "  }\n",
              "</style>\n",
              "\n",
              "  <script>\n",
              "    async function quickchart(key) {\n",
              "      const quickchartButtonEl =\n",
              "        document.querySelector('#' + key + ' button');\n",
              "      quickchartButtonEl.disabled = true;  // To prevent multiple clicks.\n",
              "      quickchartButtonEl.classList.add('colab-df-spinner');\n",
              "      try {\n",
              "        const charts = await google.colab.kernel.invokeFunction(\n",
              "            'suggestCharts', [key], {});\n",
              "      } catch (error) {\n",
              "        console.error('Error during call to suggestCharts:', error);\n",
              "      }\n",
              "      quickchartButtonEl.classList.remove('colab-df-spinner');\n",
              "      quickchartButtonEl.classList.add('colab-df-quickchart-complete');\n",
              "    }\n",
              "    (() => {\n",
              "      let quickchartButtonEl =\n",
              "        document.querySelector('#df-ad836b10-bca0-499c-bb27-aa19bbffb3a4 button');\n",
              "      quickchartButtonEl.style.display =\n",
              "        google.colab.kernel.accessAllowed ? 'block' : 'none';\n",
              "    })();\n",
              "  </script>\n",
              "</div>\n",
              "\n",
              "  <div id=\"id_32a8f9d8-b8dd-47c9-bda2-d7e476a98e6c\">\n",
              "    <style>\n",
              "      .colab-df-generate {\n",
              "        background-color: #E8F0FE;\n",
              "        border: none;\n",
              "        border-radius: 50%;\n",
              "        cursor: pointer;\n",
              "        display: none;\n",
              "        fill: #1967D2;\n",
              "        height: 32px;\n",
              "        padding: 0 0 0 0;\n",
              "        width: 32px;\n",
              "      }\n",
              "\n",
              "      .colab-df-generate:hover {\n",
              "        background-color: #E2EBFA;\n",
              "        box-shadow: 0px 1px 2px rgba(60, 64, 67, 0.3), 0px 1px 3px 1px rgba(60, 64, 67, 0.15);\n",
              "        fill: #174EA6;\n",
              "      }\n",
              "\n",
              "      [theme=dark] .colab-df-generate {\n",
              "        background-color: #3B4455;\n",
              "        fill: #D2E3FC;\n",
              "      }\n",
              "\n",
              "      [theme=dark] .colab-df-generate:hover {\n",
              "        background-color: #434B5C;\n",
              "        box-shadow: 0px 1px 3px 1px rgba(0, 0, 0, 0.15);\n",
              "        filter: drop-shadow(0px 1px 2px rgba(0, 0, 0, 0.3));\n",
              "        fill: #FFFFFF;\n",
              "      }\n",
              "    </style>\n",
              "    <button class=\"colab-df-generate\" onclick=\"generateWithVariable('df')\"\n",
              "            title=\"Generate code using this dataframe.\"\n",
              "            style=\"display:none;\">\n",
              "\n",
              "  <svg xmlns=\"http://www.w3.org/2000/svg\" height=\"24px\"viewBox=\"0 0 24 24\"\n",
              "       width=\"24px\">\n",
              "    <path d=\"M7,19H8.4L18.45,9,17,7.55,7,17.6ZM5,21V16.75L18.45,3.32a2,2,0,0,1,2.83,0l1.4,1.43a1.91,1.91,0,0,1,.58,1.4,1.91,1.91,0,0,1-.58,1.4L9.25,21ZM18.45,9,17,7.55Zm-12,3A5.31,5.31,0,0,0,4.9,8.1,5.31,5.31,0,0,0,1,6.5,5.31,5.31,0,0,0,4.9,4.9,5.31,5.31,0,0,0,6.5,1,5.31,5.31,0,0,0,8.1,4.9,5.31,5.31,0,0,0,12,6.5,5.46,5.46,0,0,0,6.5,12Z\"/>\n",
              "  </svg>\n",
              "    </button>\n",
              "    <script>\n",
              "      (() => {\n",
              "      const buttonEl =\n",
              "        document.querySelector('#id_32a8f9d8-b8dd-47c9-bda2-d7e476a98e6c button.colab-df-generate');\n",
              "      buttonEl.style.display =\n",
              "        google.colab.kernel.accessAllowed ? 'block' : 'none';\n",
              "\n",
              "      buttonEl.onclick = () => {\n",
              "        google.colab.notebook.generateWithVariable('df');\n",
              "      }\n",
              "      })();\n",
              "    </script>\n",
              "  </div>\n",
              "\n",
              "    </div>\n",
              "  </div>\n"
            ],
            "application/vnd.google.colaboratory.intrinsic+json": {
              "type": "dataframe",
              "variable_name": "df",
              "summary": "{\n  \"name\": \"df\",\n  \"rows\": 1000,\n  \"fields\": [\n    {\n      \"column\": \"id\",\n      \"properties\": {\n        \"dtype\": \"number\",\n        \"std\": 288,\n        \"min\": 1,\n        \"max\": 1000,\n        \"num_unique_values\": 1000,\n        \"samples\": [\n          522,\n          738,\n          741\n        ],\n        \"semantic_type\": \"\",\n        \"description\": \"\"\n      }\n    },\n    {\n      \"column\": \"first_name\",\n      \"properties\": {\n        \"dtype\": \"string\",\n        \"num_unique_values\": 935,\n        \"samples\": [\n          \"Esteban\",\n          \"Martica\",\n          \"Bram\"\n        ],\n        \"semantic_type\": \"\",\n        \"description\": \"\"\n      }\n    },\n    {\n      \"column\": \"last_name\",\n      \"properties\": {\n        \"dtype\": \"string\",\n        \"num_unique_values\": 987,\n        \"samples\": [\n          \"Freyn\",\n          \"Kermannes\",\n          \"Moncreiff\"\n        ],\n        \"semantic_type\": \"\",\n        \"description\": \"\"\n      }\n    },\n    {\n      \"column\": \"email\",\n      \"properties\": {\n        \"dtype\": \"string\",\n        \"num_unique_values\": 1000,\n        \"samples\": [\n          \"giacobettoeh@google.com.au\",\n          \"jphinnessykh@businessweek.com\",\n          \"ngouckkk@ameblo.jp\"\n        ],\n        \"semantic_type\": \"\",\n        \"description\": \"\"\n      }\n    },\n    {\n      \"column\": \"gender\",\n      \"properties\": {\n        \"dtype\": \"category\",\n        \"num_unique_values\": 8,\n        \"samples\": [\n          \"Female\",\n          \"Genderqueer\",\n          \"Non-binary\"\n        ],\n        \"semantic_type\": \"\",\n        \"description\": \"\"\n      }\n    },\n    {\n      \"column\": \"repay\",\n      \"properties\": {\n        \"dtype\": \"number\",\n        \"std\": 0,\n        \"min\": 0,\n        \"max\": 1,\n        \"num_unique_values\": 2,\n        \"samples\": [\n          0,\n          1\n        ],\n        \"semantic_type\": \"\",\n        \"description\": \"\"\n      }\n    }\n  ]\n}"
            }
          },
          "metadata": {},
          "execution_count": 29
        }
      ]
    },
    {
      "cell_type": "code",
      "source": [
        "df.repay.value_counts()"
      ],
      "metadata": {
        "colab": {
          "base_uri": "https://localhost:8080/"
        },
        "id": "wiOxMmiW53nT",
        "outputId": "9271124e-9044-4aa3-eda1-fd1c4ad6e505"
      },
      "execution_count": 30,
      "outputs": [
        {
          "output_type": "execute_result",
          "data": {
            "text/plain": [
              "repay\n",
              "1    669\n",
              "0    331\n",
              "Name: count, dtype: int64"
            ]
          },
          "metadata": {},
          "execution_count": 30
        }
      ]
    },
    {
      "cell_type": "code",
      "source": [
        "sns.countplot(x = 'repay',data =  df)\n",
        "plt.show()"
      ],
      "metadata": {
        "colab": {
          "base_uri": "https://localhost:8080/",
          "height": 454
        },
        "id": "-aSknSzf57rt",
        "outputId": "b4ebf409-ecb6-445d-e22d-31423b60d203"
      },
      "execution_count": 31,
      "outputs": [
        {
          "output_type": "display_data",
          "data": {
            "text/plain": [
              "<Figure size 640x480 with 1 Axes>"
            ],
            "image/png": "[encoded data removed]"
          },
          "metadata": {}
        }
      ]
    },
    {
      "cell_type": "code",
      "source": [
        "from sklearn.preprocessing import LabelEncoder"
      ],
      "metadata": {
        "id": "xzRC64926TMg"
      },
      "execution_count": 32,
      "outputs": []
    },
    {
      "cell_type": "code",
      "source": [
        "le = LabelEncoder()"
      ],
      "metadata": {
        "id": "xoMQO9fs691x"
      },
      "execution_count": 33,
      "outputs": []
    },
    {
      "cell_type": "code",
      "source": [
        "categorical_features = ['first_name','last_name','email','gender']"
      ],
      "metadata": {
        "id": "Ppzr-4fo7AyH"
      },
      "execution_count": 36,
      "outputs": []
    },
    {
      "cell_type": "code",
      "source": [
        "df[categorical_features] = df[categorical_features].apply(le.fit_transform)"
      ],
      "metadata": {
        "id": "4h7wP-w-7LQ8"
      },
      "execution_count": 37,
      "outputs": []
    },
    {
      "cell_type": "code",
      "source": [
        "df"
      ],
      "metadata": {
        "colab": {
          "base_uri": "https://localhost:8080/",
          "height": 423
        },
        "id": "6UggEaep7eHQ",
        "outputId": "de6be956-b354-406f-a294-04f0076d5ff8"
      },
      "execution_count": 38,
      "outputs": [
        {
          "output_type": "execute_result",
          "data": {
            "text/plain": [
              "       id  first_name  last_name  email  gender  repay\n",
              "0       1         657        486    671       6      1\n",
              "1       2          70         55      5       2      1\n",
              "2       3          50        393     28       2      0\n",
              "3       4          25        789     64       5      1\n",
              "4       5         779        845    836       2      1\n",
              "..    ...         ...        ...    ...     ...    ...\n",
              "995   996         751        129    800       2      0\n",
              "996   997         574        829    620       2      0\n",
              "997   998         764        388    816       5      1\n",
              "998   999         620        847    703       2      1\n",
              "999  1000          86         83     87       5      0\n",
              "\n",
              "[1000 rows x 6 columns]"
            ],
            "text/html": [
              "\n",
              "  <div id=\"df-9068f214-011a-49ed-9d72-3343e5c634cb\" class=\"colab-df-container\">\n",
              "    <div>\n",
              "<style scoped>\n",
              "    .dataframe tbody tr th:only-of-type {\n",
              "        vertical-align: middle;\n",
              "    }\n",
              "\n",
              "    .dataframe tbody tr th {\n",
              "        vertical-align: top;\n",
              "    }\n",
              "\n",
              "    .dataframe thead th {\n",
              "        text-align: right;\n",
              "    }\n",
              "</style>\n",
              "<table border=\"1\" class=\"dataframe\">\n",
              "  <thead>\n",
              "    <tr style=\"text-align: right;\">\n",
              "      <th></th>\n",
              "      <th>id</th>\n",
              "      <th>first_name</th>\n",
              "      <th>last_name</th>\n",
              "      <th>email</th>\n",
              "      <th>gender</th>\n",
              "      <th>repay</th>\n",
              "    </tr>\n",
              "  </thead>\n",
              "  <tbody>\n",
              "    <tr>\n",
              "      <th>0</th>\n",
              "      <td>1</td>\n",
              "      <td>657</td>\n",
              "      <td>486</td>\n",
              "      <td>671</td>\n",
              "      <td>6</td>\n",
              "      <td>1</td>\n",
              "    </tr>\n",
              "    <tr>\n",
              "      <th>1</th>\n",
              "      <td>2</td>\n",
              "      <td>70</td>\n",
              "      <td>55</td>\n",
              "      <td>5</td>\n",
              "      <td>2</td>\n",
              "      <td>1</td>\n",
              "    </tr>\n",
              "    <tr>\n",
              "      <th>2</th>\n",
              "      <td>3</td>\n",
              "      <td>50</td>\n",
              "      <td>393</td>\n",
              "      <td>28</td>\n",
              "      <td>2</td>\n",
              "      <td>0</td>\n",
              "    </tr>\n",
              "    <tr>\n",
              "      <th>3</th>\n",
              "      <td>4</td>\n",
              "      <td>25</td>\n",
              "      <td>789</td>\n",
              "      <td>64</td>\n",
              "      <td>5</td>\n",
              "      <td>1</td>\n",
              "    </tr>\n",
              "    <tr>\n",
              "      <th>4</th>\n",
              "      <td>5</td>\n",
              "      <td>779</td>\n",
              "      <td>845</td>\n",
              "      <td>836</td>\n",
              "      <td>2</td>\n",
              "      <td>1</td>\n",
              "    </tr>\n",
              "    <tr>\n",
              "      <th>...</th>\n",
              "      <td>...</td>\n",
              "      <td>...</td>\n",
              "      <td>...</td>\n",
              "      <td>...</td>\n",
              "      <td>...</td>\n",
              "      <td>...</td>\n",
              "    </tr>\n",
              "    <tr>\n",
              "      <th>995</th>\n",
              "      <td>996</td>\n",
              "      <td>751</td>\n",
              "      <td>129</td>\n",
              "      <td>800</td>\n",
              "      <td>2</td>\n",
              "      <td>0</td>\n",
              "    </tr>\n",
              "    <tr>\n",
              "      <th>996</th>\n",
              "      <td>997</td>\n",
              "      <td>574</td>\n",
              "      <td>829</td>\n",
              "      <td>620</td>\n",
              "      <td>2</td>\n",
              "      <td>0</td>\n",
              "    </tr>\n",
              "    <tr>\n",
              "      <th>997</th>\n",
              "      <td>998</td>\n",
              "      <td>764</td>\n",
              "      <td>388</td>\n",
              "      <td>816</td>\n",
              "      <td>5</td>\n",
              "      <td>1</td>\n",
              "    </tr>\n",
              "    <tr>\n",
              "      <th>998</th>\n",
              "      <td>999</td>\n",
              "      <td>620</td>\n",
              "      <td>847</td>\n",
              "      <td>703</td>\n",
              "      <td>2</td>\n",
              "      <td>1</td>\n",
              "    </tr>\n",
              "    <tr>\n",
              "      <th>999</th>\n",
              "      <td>1000</td>\n",
              "      <td>86</td>\n",
              "      <td>83</td>\n",
              "      <td>87</td>\n",
              "      <td>5</td>\n",
              "      <td>0</td>\n",
              "    </tr>\n",
              "  </tbody>\n",
              "</table>\n",
              "<p>1000 rows × 6 columns</p>\n",
              "</div>\n",
              "    <div class=\"colab-df-buttons\">\n",
              "\n",
              "  <div class=\"colab-df-container\">\n",
              "    <button class=\"colab-df-convert\" onclick=\"convertToInteractive('df-9068f214-011a-49ed-9d72-3343e5c634cb')\"\n",
              "            title=\"Convert this dataframe to an interactive table.\"\n",
              "            style=\"display:none;\">\n",
              "\n",
              "  <svg xmlns=\"http://www.w3.org/2000/svg\" height=\"24px\" viewBox=\"0 -960 960 960\">\n",
              "    <path d=\"M120-120v-720h720v720H120Zm60-500h600v-160H180v160Zm220 220h160v-160H400v160Zm0 220h160v-160H400v160ZM180-400h160v-160H180v160Zm440 0h160v-160H620v160ZM180-180h160v-160H180v160Zm440 0h160v-160H620v160Z\"/>\n",
              "  </svg>\n",
              "    </button>\n",
              "\n",
              "  <style>\n",
              "    .colab-df-container {\n",
              "      display:flex;\n",
              "      gap: 12px;\n",
              "    }\n",
              "\n",
              "    .colab-df-convert {\n",
              "      background-color: #E8F0FE;\n",
              "      border: none;\n",
              "      border-radius: 50%;\n",
              "      cursor: pointer;\n",
              "      display: none;\n",
              "      fill: #1967D2;\n",
              "      height: 32px;\n",
              "      padding: 0 0 0 0;\n",
              "      width: 32px;\n",
              "    }\n",
              "\n",
              "    .colab-df-convert:hover {\n",
              "      background-color: #E2EBFA;\n",
              "      box-shadow: 0px 1px 2px rgba(60, 64, 67, 0.3), 0px 1px 3px 1px rgba(60, 64, 67, 0.15);\n",
              "      fill: #174EA6;\n",
              "    }\n",
              "\n",
              "    .colab-df-buttons div {\n",
              "      margin-bottom: 4px;\n",
              "    }\n",
              "\n",
              "    [theme=dark] .colab-df-convert {\n",
              "      background-color: #3B4455;\n",
              "      fill: #D2E3FC;\n",
              "    }\n",
              "\n",
              "    [theme=dark] .colab-df-convert:hover {\n",
              "      background-color: #434B5C;\n",
              "      box-shadow: 0px 1px 3px 1px rgba(0, 0, 0, 0.15);\n",
              "      filter: drop-shadow(0px 1px 2px rgba(0, 0, 0, 0.3));\n",
              "      fill: #FFFFFF;\n",
              "    }\n",
              "  </style>\n",
              "\n",
              "    <script>\n",
              "      const buttonEl =\n",
              "        document.querySelector('#df-9068f214-011a-49ed-9d72-3343e5c634cb button.colab-df-convert');\n",
              "      buttonEl.style.display =\n",
              "        google.colab.kernel.accessAllowed ? 'block' : 'none';\n",
              "\n",
              "      async function convertToInteractive(key) {\n",
              "        const element = document.querySelector('#df-9068f214-011a-49ed-9d72-3343e5c634cb');\n",
              "        const dataTable =\n",
              "          await google.colab.kernel.invokeFunction('convertToInteractive',\n",
              "                                                    [key], {});\n",
              "        if (!dataTable) return;\n",
              "\n",
              "        const docLinkHtml = 'Like what you see? Visit the ' +\n",
              "          '<a target=\"_blank\" href=https://colab.research.google.com/notebooks/data_table.ipynb>data table notebook</a>'\n",
              "          + ' to learn more about interactive tables.';\n",
              "        element.innerHTML = '';\n",
              "        dataTable['output_type'] = 'display_data';\n",
              "        await google.colab.output.renderOutput(dataTable, element);\n",
              "        const docLink = document.createElement('div');\n",
              "        docLink.innerHTML = docLinkHtml;\n",
              "        element.appendChild(docLink);\n",
              "      }\n",
              "    </script>\n",
              "  </div>\n",
              "\n",
              "\n",
              "<div id=\"df-aa9cda58-6ce7-477e-9254-f920ae7397ee\">\n",
              "  <button class=\"colab-df-quickchart\" onclick=\"quickchart('df-aa9cda58-6ce7-477e-9254-f920ae7397ee')\"\n",
              "            title=\"Suggest charts\"\n",
              "            style=\"display:none;\">\n",
              "\n",
              "<svg xmlns=\"http://www.w3.org/2000/svg\" height=\"24px\"viewBox=\"0 0 24 24\"\n",
              "     width=\"24px\">\n",
              "    <g>\n",
              "        <path d=\"M19 3H5c-1.1 0-2 .9-2 2v14c0 1.1.9 2 2 2h14c1.1 0 2-.9 2-2V5c0-1.1-.9-2-2-2zM9 17H7v-7h2v7zm4 0h-2V7h2v10zm4 0h-2v-4h2v4z\"/>\n",
              "    </g>\n",
              "</svg>\n",
              "  </button>\n",
              "\n",
              "<style>\n",
              "  .colab-df-quickchart {\n",
              "      --bg-color: #E8F0FE;\n",
              "      --fill-color: #1967D2;\n",
              "      --hover-bg-color: #E2EBFA;\n",
              "      --hover-fill-color: #174EA6;\n",
              "      --disabled-fill-color: #AAA;\n",
              "      --disabled-bg-color: #DDD;\n",
              "  }\n",
              "\n",
              "  [theme=dark] .colab-df-quickchart {\n",
              "      --bg-color: #3B4455;\n",
              "      --fill-color: #D2E3FC;\n",
              "      --hover-bg-color: #434B5C;\n",
              "      --hover-fill-color: #FFFFFF;\n",
              "      --disabled-bg-color: #3B4455;\n",
              "      --disabled-fill-color: #666;\n",
              "  }\n",
              "\n",
              "  .colab-df-quickchart {\n",
              "    background-color: var(--bg-color);\n",
              "    border: none;\n",
              "    border-radius: 50%;\n",
              "    cursor: pointer;\n",
              "    display: none;\n",
              "    fill: var(--fill-color);\n",
              "    height: 32px;\n",
              "    padding: 0;\n",
              "    width: 32px;\n",
              "  }\n",
              "\n",
              "  .colab-df-quickchart:hover {\n",
              "    background-color: var(--hover-bg-color);\n",
              "    box-shadow: 0 1px 2px rgba(60, 64, 67, 0.3), 0 1px 3px 1px rgba(60, 64, 67, 0.15);\n",
              "    fill: var(--button-hover-fill-color);\n",
              "  }\n",
              "\n",
              "  .colab-df-quickchart-complete:disabled,\n",
              "  .colab-df-quickchart-complete:disabled:hover {\n",
              "    background-color: var(--disabled-bg-color);\n",
              "    fill: var(--disabled-fill-color);\n",
              "    box-shadow: none;\n",
              "  }\n",
              "\n",
              "  .colab-df-spinner {\n",
              "    border: 2px solid var(--fill-color);\n",
              "    border-color: transparent;\n",
              "    border-bottom-color: var(--fill-color);\n",
              "    animation:\n",
              "      spin 1s steps(1) infinite;\n",
              "  }\n",
              "\n",
              "  @keyframes spin {\n",
              "    0% {\n",
              "      border-color: transparent;\n",
              "      border-bottom-color: var(--fill-color);\n",
              "      border-left-color: var(--fill-color);\n",
              "    }\n",
              "    20% {\n",
              "      border-color: transparent;\n",
              "      border-left-color: var(--fill-color);\n",
              "      border-top-color: var(--fill-color);\n",
              "    }\n",
              "    30% {\n",
              "      border-color: transparent;\n",
              "      border-left-color: var(--fill-color);\n",
              "      border-top-color: var(--fill-color);\n",
              "      border-right-color: var(--fill-color);\n",
              "    }\n",
              "    40% {\n",
              "      border-color: transparent;\n",
              "      border-right-color: var(--fill-color);\n",
              "      border-top-color: var(--fill-color);\n",
              "    }\n",
              "    60% {\n",
              "      border-color: transparent;\n",
              "      border-right-color: var(--fill-color);\n",
              "    }\n",
              "    80% {\n",
              "      border-color: transparent;\n",
              "      border-right-color: var(--fill-color);\n",
              "      border-bottom-color: var(--fill-color);\n",
              "    }\n",
              "    90% {\n",
              "      border-color: transparent;\n",
              "      border-bottom-color: var(--fill-color);\n",
              "    }\n",
              "  }\n",
              "</style>\n",
              "\n",
              "  <script>\n",
              "    async function quickchart(key) {\n",
              "      const quickchartButtonEl =\n",
              "        document.querySelector('#' + key + ' button');\n",
              "      quickchartButtonEl.disabled = true;  // To prevent multiple clicks.\n",
              "      quickchartButtonEl.classList.add('colab-df-spinner');\n",
              "      try {\n",
              "        const charts = await google.colab.kernel.invokeFunction(\n",
              "            'suggestCharts', [key], {});\n",
              "      } catch (error) {\n",
              "        console.error('Error during call to suggestCharts:', error);\n",
              "      }\n",
              "      quickchartButtonEl.classList.remove('colab-df-spinner');\n",
              "      quickchartButtonEl.classList.add('colab-df-quickchart-complete');\n",
              "    }\n",
              "    (() => {\n",
              "      let quickchartButtonEl =\n",
              "        document.querySelector('#df-aa9cda58-6ce7-477e-9254-f920ae7397ee button');\n",
              "      quickchartButtonEl.style.display =\n",
              "        google.colab.kernel.accessAllowed ? 'block' : 'none';\n",
              "    })();\n",
              "  </script>\n",
              "</div>\n",
              "\n",
              "  <div id=\"id_e3130cc2-2f38-4ad0-8c37-0bff693f3f99\">\n",
              "    <style>\n",
              "      .colab-df-generate {\n",
              "        background-color: #E8F0FE;\n",
              "        border: none;\n",
              "        border-radius: 50%;\n",
              "        cursor: pointer;\n",
              "        display: none;\n",
              "        fill: #1967D2;\n",
              "        height: 32px;\n",
              "        padding: 0 0 0 0;\n",
              "        width: 32px;\n",
              "      }\n",
              "\n",
              "      .colab-df-generate:hover {\n",
              "        background-color: #E2EBFA;\n",
              "        box-shadow: 0px 1px 2px rgba(60, 64, 67, 0.3), 0px 1px 3px 1px rgba(60, 64, 67, 0.15);\n",
              "        fill: #174EA6;\n",
              "      }\n",
              "\n",
              "      [theme=dark] .colab-df-generate {\n",
              "        background-color: #3B4455;\n",
              "        fill: #D2E3FC;\n",
              "      }\n",
              "\n",
              "      [theme=dark] .colab-df-generate:hover {\n",
              "        background-color: #434B5C;\n",
              "        box-shadow: 0px 1px 3px 1px rgba(0, 0, 0, 0.15);\n",
              "        filter: drop-shadow(0px 1px 2px rgba(0, 0, 0, 0.3));\n",
              "        fill: #FFFFFF;\n",
              "      }\n",
              "    </style>\n",
              "    <button class=\"colab-df-generate\" onclick=\"generateWithVariable('df')\"\n",
              "            title=\"Generate code using this dataframe.\"\n",
              "            style=\"display:none;\">\n",
              "\n",
              "  <svg xmlns=\"http://www.w3.org/2000/svg\" height=\"24px\"viewBox=\"0 0 24 24\"\n",
              "       width=\"24px\">\n",
              "    <path d=\"M7,19H8.4L18.45,9,17,7.55,7,17.6ZM5,21V16.75L18.45,3.32a2,2,0,0,1,2.83,0l1.4,1.43a1.91,1.91,0,0,1,.58,1.4,1.91,1.91,0,0,1-.58,1.4L9.25,21ZM18.45,9,17,7.55Zm-12,3A5.31,5.31,0,0,0,4.9,8.1,5.31,5.31,0,0,0,1,6.5,5.31,5.31,0,0,0,4.9,4.9,5.31,5.31,0,0,0,6.5,1,5.31,5.31,0,0,0,8.1,4.9,5.31,5.31,0,0,0,12,6.5,5.46,5.46,0,0,0,6.5,12Z\"/>\n",
              "  </svg>\n",
              "    </button>\n",
              "    <script>\n",
              "      (() => {\n",
              "      const buttonEl =\n",
              "        document.querySelector('#id_e3130cc2-2f38-4ad0-8c37-0bff693f3f99 button.colab-df-generate');\n",
              "      buttonEl.style.display =\n",
              "        google.colab.kernel.accessAllowed ? 'block' : 'none';\n",
              "\n",
              "      buttonEl.onclick = () => {\n",
              "        google.colab.notebook.generateWithVariable('df');\n",
              "      }\n",
              "      })();\n",
              "    </script>\n",
              "  </div>\n",
              "\n",
              "    </div>\n",
              "  </div>\n"
            ],
            "application/vnd.google.colaboratory.intrinsic+json": {
              "type": "dataframe",
              "variable_name": "df",
              "summary": "{\n  \"name\": \"df\",\n  \"rows\": 1000,\n  \"fields\": [\n    {\n      \"column\": \"id\",\n      \"properties\": {\n        \"dtype\": \"number\",\n        \"std\": 288,\n        \"min\": 1,\n        \"max\": 1000,\n        \"num_unique_values\": 1000,\n        \"samples\": [\n          522,\n          738,\n          741\n        ],\n        \"semantic_type\": \"\",\n        \"description\": \"\"\n      }\n    },\n    {\n      \"column\": \"first_name\",\n      \"properties\": {\n        \"dtype\": \"number\",\n        \"std\": 270,\n        \"min\": 0,\n        \"max\": 934,\n        \"num_unique_values\": 935,\n        \"samples\": [\n          303,\n          617,\n          121\n        ],\n        \"semantic_type\": \"\",\n        \"description\": \"\"\n      }\n    },\n    {\n      \"column\": \"last_name\",\n      \"properties\": {\n        \"dtype\": \"number\",\n        \"std\": 284,\n        \"min\": 0,\n        \"max\": 986,\n        \"num_unique_values\": 987,\n        \"samples\": [\n          334,\n          478,\n          644\n        ],\n        \"semantic_type\": \"\",\n        \"description\": \"\"\n      }\n    },\n    {\n      \"column\": \"email\",\n      \"properties\": {\n        \"dtype\": \"number\",\n        \"std\": 288,\n        \"min\": 0,\n        \"max\": 999,\n        \"num_unique_values\": 1000,\n        \"samples\": [\n          389,\n          498,\n          733\n        ],\n        \"semantic_type\": \"\",\n        \"description\": \"\"\n      }\n    },\n    {\n      \"column\": \"gender\",\n      \"properties\": {\n        \"dtype\": \"number\",\n        \"std\": 1,\n        \"min\": 0,\n        \"max\": 7,\n        \"num_unique_values\": 8,\n        \"samples\": [\n          2,\n          4,\n          6\n        ],\n        \"semantic_type\": \"\",\n        \"description\": \"\"\n      }\n    },\n    {\n      \"column\": \"repay\",\n      \"properties\": {\n        \"dtype\": \"number\",\n        \"std\": 0,\n        \"min\": 0,\n        \"max\": 1,\n        \"num_unique_values\": 2,\n        \"samples\": [\n          0,\n          1\n        ],\n        \"semantic_type\": \"\",\n        \"description\": \"\"\n      }\n    }\n  ]\n}"
            }
          },
          "metadata": {},
          "execution_count": 38
        }
      ]
    },
    {
      "cell_type": "code",
      "source": [
        "x = df.drop('repay',axis= 1).values\n",
        "y = df['repay']"
      ],
      "metadata": {
        "id": "I0drZ_-m7kc3"
      },
      "execution_count": 50,
      "outputs": []
    },
    {
      "cell_type": "code",
      "source": [
        "x_train,x_test,y_train,y_test = train_test_split(x,y,test_size =0.2,random_state = 5)"
      ],
      "metadata": {
        "id": "E49-jxKJ78oj"
      },
      "execution_count": 51,
      "outputs": []
    },
    {
      "cell_type": "code",
      "source": [
        "x_train.shape"
      ],
      "metadata": {
        "colab": {
          "base_uri": "https://localhost:8080/"
        },
        "id": "NqP6zIXa8ElI",
        "outputId": "7b436154-9e29-4ab2-9286-f8207e886a3d"
      },
      "execution_count": 52,
      "outputs": [
        {
          "output_type": "execute_result",
          "data": {
            "text/plain": [
              "(800, 5)"
            ]
          },
          "metadata": {},
          "execution_count": 52
        }
      ]
    },
    {
      "cell_type": "code",
      "source": [
        "x_test.shape"
      ],
      "metadata": {
        "colab": {
          "base_uri": "https://localhost:8080/"
        },
        "id": "mq2JDl_y8_eW",
        "outputId": "b5a3c7c2-247b-4db4-efb3-9253a968fc69"
      },
      "execution_count": 53,
      "outputs": [
        {
          "output_type": "execute_result",
          "data": {
            "text/plain": [
              "(200, 5)"
            ]
          },
          "metadata": {},
          "execution_count": 53
        }
      ]
    },
    {
      "cell_type": "code",
      "source": [
        "from imblearn.over_sampling import RandomOverSampler"
      ],
      "metadata": {
        "id": "Cu406FTC9JfO"
      },
      "execution_count": 54,
      "outputs": []
    },
    {
      "cell_type": "code",
      "source": [
        "ros = RandomOverSampler()"
      ],
      "metadata": {
        "id": "qzQCJauQ9Pz_"
      },
      "execution_count": 55,
      "outputs": []
    },
    {
      "cell_type": "code",
      "source": [
        "ros_x_train,ros_y_train = ros.fit_resample(x_train,y_train)"
      ],
      "metadata": {
        "id": "8BPmJ9aT9TGl"
      },
      "execution_count": 56,
      "outputs": []
    },
    {
      "cell_type": "code",
      "source": [
        "print(y_train.shape)\n",
        "print(ros_y_train.shape)"
      ],
      "metadata": {
        "colab": {
          "base_uri": "https://localhost:8080/"
        },
        "id": "Hvh0QENi9k3s",
        "outputId": "75f227a2-2434-4dca-9fb2-5c54c259b6bc"
      },
      "execution_count": 57,
      "outputs": [
        {
          "output_type": "stream",
          "name": "stdout",
          "text": [
            "(800,)\n",
            "(1070,)\n"
          ]
        }
      ]
    },
    {
      "cell_type": "code",
      "source": [
        "print(y_train.value_counts())\n",
        "print(ros_y_train.value_counts())"
      ],
      "metadata": {
        "colab": {
          "base_uri": "https://localhost:8080/"
        },
        "id": "NHZ0wpAr-RUr",
        "outputId": "ebcef9c5-6abe-4fdd-e09d-e4469ef31450"
      },
      "execution_count": 58,
      "outputs": [
        {
          "output_type": "stream",
          "name": "stdout",
          "text": [
            "repay\n",
            "1    535\n",
            "0    265\n",
            "Name: count, dtype: int64\n",
            "repay\n",
            "1    535\n",
            "0    535\n",
            "Name: count, dtype: int64\n"
          ]
        }
      ]
    },
    {
      "cell_type": "markdown",
      "source": [
        "#SMOTE - OVER SAMPLING"
      ],
      "metadata": {
        "id": "dxB88WHvBBFa"
      }
    },
    {
      "cell_type": "code",
      "source": [
        "from imblearn.over_sampling import SMOTE"
      ],
      "metadata": {
        "id": "FIsaOiNfBFTB"
      },
      "execution_count": 59,
      "outputs": []
    },
    {
      "cell_type": "code",
      "source": [
        "sm = SMOTE()"
      ],
      "metadata": {
        "id": "ao1TwNXkBKGU"
      },
      "execution_count": 60,
      "outputs": []
    },
    {
      "cell_type": "code",
      "source": [],
      "metadata": {
        "id": "0voXnHGBBN5L"
      },
      "execution_count": null,
      "outputs": []
    }
  ]
}