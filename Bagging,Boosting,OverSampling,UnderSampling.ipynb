{
  "nbformat": 4,
  "nbformat_minor": 0,
  "metadata": {
    "colab": {
      "provenance": [],
      "authorship_tag": "ABX9TyOgz0vxiu4roualn6kCw5Gk",
      "include_colab_link": true
    },
    "kernelspec": {
      "name": "python3",
      "display_name": "Python 3"
    },
    "language_info": {
      "name": "python"
    }
  },
  "cells": [
    {
      "cell_type": "markdown",
      "metadata": {
        "id": "view-in-github",
        "colab_type": "text"
      },
      "source": [
        "<a href=\"https://colab.research.google.com/github/PriyaP-9704/Machine-Leaning-Workouts/blob/main/Bagging%2CBoosting%2COverSampling%2CUnderSampling.ipynb\" target=\"_parent\"><img src=\"https://colab.research.google.com/assets/colab-badge.svg\" alt=\"Open In Colab\"/></a>"
      ]
    },
    {
      "cell_type": "code",
      "execution_count": null,
      "metadata": {
        "id": "XXN-mJVEuvqT"
      },
      "outputs": [],
      "source": [
        "import pandas as pd"
      ]
    },
    {
      "cell_type": "code",
      "source": [
        "from sklearn.datasets import load_breast_cancer"
      ],
      "metadata": {
        "id": "pketwS0DuzRX"
      },
      "execution_count": null,
      "outputs": []
    },
    {
      "cell_type": "code",
      "source": [
        "data = load_breast_cancer()"
      ],
      "metadata": {
        "id": "mDVNGcRpu5U5"
      },
      "execution_count": null,
      "outputs": []
    },
    {
      "cell_type": "code",
      "source": [
        "x = data.data"
      ],
      "metadata": {
        "id": "u7S8-bATu_ts"
      },
      "execution_count": null,
      "outputs": []
    },
    {
      "cell_type": "code",
      "source": [
        "y = data.target"
      ],
      "metadata": {
        "id": "IZTEXGixvB_F"
      },
      "execution_count": null,
      "outputs": []
    },
    {
      "cell_type": "code",
      "source": [
        "from sklearn.model_selection import train_test_split"
      ],
      "metadata": {
        "id": "rOgGrNTBvEaO"
      },
      "execution_count": null,
      "outputs": []
    },
    {
      "cell_type": "code",
      "source": [
        "x_train,x_test,y_train,y_test = train_test_split(x,y,test_size= 0.2)"
      ],
      "metadata": {
        "id": "GpEVvswjvKM4"
      },
      "execution_count": null,
      "outputs": []
    },
    {
      "cell_type": "code",
      "source": [
        "from sklearn.tree import DecisionTreeClassifier"
      ],
      "metadata": {
        "id": "TLjbm7VsvSzS"
      },
      "execution_count": null,
      "outputs": []
    },
    {
      "cell_type": "code",
      "source": [
        "dtc = DecisionTreeClassifier()"
      ],
      "metadata": {
        "id": "WoDu25Z3vW_c"
      },
      "execution_count": null,
      "outputs": []
    },
    {
      "cell_type": "code",
      "source": [
        "dtc.fit(x_train,y_train)"
      ],
      "metadata": {
        "colab": {
          "base_uri": "https://localhost:8080/",
          "height": 74
        },
        "id": "l4EOfqsLvdJG",
        "outputId": "73d2e446-046f-4d30-b94d-04576a544768"
      },
      "execution_count": null,
      "outputs": [
        {
          "output_type": "execute_result",
          "data": {
            "text/plain": [
              "DecisionTreeClassifier()"
            ],
            "text/html": [
              "<style>#sk-container-id-1 {color: black;background-color: white;}#sk-container-id-1 pre{padding: 0;}#sk-container-id-1 div.sk-toggleable {background-color: white;}#sk-container-id-1 label.sk-toggleable__label {cursor: pointer;display: block;width: 100%;margin-bottom: 0;padding: 0.3em;box-sizing: border-box;text-align: center;}#sk-container-id-1 label.sk-toggleable__label-arrow:before {content: \"▸\";float: left;margin-right: 0.25em;color: #696969;}#sk-container-id-1 label.sk-toggleable__label-arrow:hover:before {color: black;}#sk-container-id-1 div.sk-estimator:hover label.sk-toggleable__label-arrow:before {color: black;}#sk-container-id-1 div.sk-toggleable__content {max-height: 0;max-width: 0;overflow: hidden;text-align: left;background-color: #f0f8ff;}#sk-container-id-1 div.sk-toggleable__content pre {margin: 0.2em;color: black;border-radius: 0.25em;background-color: #f0f8ff;}#sk-container-id-1 input.sk-toggleable__control:checked~div.sk-toggleable__content {max-height: 200px;max-width: 100%;overflow: auto;}#sk-container-id-1 input.sk-toggleable__control:checked~label.sk-toggleable__label-arrow:before {content: \"▾\";}#sk-container-id-1 div.sk-estimator input.sk-toggleable__control:checked~label.sk-toggleable__label {background-color: #d4ebff;}#sk-container-id-1 div.sk-label input.sk-toggleable__control:checked~label.sk-toggleable__label {background-color: #d4ebff;}#sk-container-id-1 input.sk-hidden--visually {border: 0;clip: rect(1px 1px 1px 1px);clip: rect(1px, 1px, 1px, 1px);height: 1px;margin: -1px;overflow: hidden;padding: 0;position: absolute;width: 1px;}#sk-container-id-1 div.sk-estimator {font-family: monospace;background-color: #f0f8ff;border: 1px dotted black;border-radius: 0.25em;box-sizing: border-box;margin-bottom: 0.5em;}#sk-container-id-1 div.sk-estimator:hover {background-color: #d4ebff;}#sk-container-id-1 div.sk-parallel-item::after {content: \"\";width: 100%;border-bottom: 1px solid gray;flex-grow: 1;}#sk-container-id-1 div.sk-label:hover label.sk-toggleable__label {background-color: #d4ebff;}#sk-container-id-1 div.sk-serial::before {content: \"\";position: absolute;border-left: 1px solid gray;box-sizing: border-box;top: 0;bottom: 0;left: 50%;z-index: 0;}#sk-container-id-1 div.sk-serial {display: flex;flex-direction: column;align-items: center;background-color: white;padding-right: 0.2em;padding-left: 0.2em;position: relative;}#sk-container-id-1 div.sk-item {position: relative;z-index: 1;}#sk-container-id-1 div.sk-parallel {display: flex;align-items: stretch;justify-content: center;background-color: white;position: relative;}#sk-container-id-1 div.sk-item::before, #sk-container-id-1 div.sk-parallel-item::before {content: \"\";position: absolute;border-left: 1px solid gray;box-sizing: border-box;top: 0;bottom: 0;left: 50%;z-index: -1;}#sk-container-id-1 div.sk-parallel-item {display: flex;flex-direction: column;z-index: 1;position: relative;background-color: white;}#sk-container-id-1 div.sk-parallel-item:first-child::after {align-self: flex-end;width: 50%;}#sk-container-id-1 div.sk-parallel-item:last-child::after {align-self: flex-start;width: 50%;}#sk-container-id-1 div.sk-parallel-item:only-child::after {width: 0;}#sk-container-id-1 div.sk-dashed-wrapped {border: 1px dashed gray;margin: 0 0.4em 0.5em 0.4em;box-sizing: border-box;padding-bottom: 0.4em;background-color: white;}#sk-container-id-1 div.sk-label label {font-family: monospace;font-weight: bold;display: inline-block;line-height: 1.2em;}#sk-container-id-1 div.sk-label-container {text-align: center;}#sk-container-id-1 div.sk-container {/* jupyter's `normalize.less` sets `[hidden] { display: none; }` but bootstrap.min.css set `[hidden] { display: none !important; }` so we also need the `!important` here to be able to override the default hidden behavior on the sphinx rendered scikit-learn.org. See: https://github.com/scikit-learn/scikit-learn/issues/21755 */display: inline-block !important;position: relative;}#sk-container-id-1 div.sk-text-repr-fallback {display: none;}</style><div id=\"sk-container-id-1\" class=\"sk-top-container\"><div class=\"sk-text-repr-fallback\"><pre>DecisionTreeClassifier()</pre><b>In a Jupyter environment, please rerun this cell to show the HTML representation or trust the notebook. <br />On GitHub, the HTML representation is unable to render, please try loading this page with nbviewer.org.</b></div><div class=\"sk-container\" hidden><div class=\"sk-item\"><div class=\"sk-estimator sk-toggleable\"><input class=\"sk-toggleable__control sk-hidden--visually\" id=\"sk-estimator-id-1\" type=\"checkbox\" checked><label for=\"sk-estimator-id-1\" class=\"sk-toggleable__label sk-toggleable__label-arrow\">DecisionTreeClassifier</label><div class=\"sk-toggleable__content\"><pre>DecisionTreeClassifier()</pre></div></div></div></div></div>"
            ]
          },
          "metadata": {},
          "execution_count": 10
        }
      ]
    },
    {
      "cell_type": "code",
      "source": [
        "from sklearn.metrics import accuracy_score"
      ],
      "metadata": {
        "id": "Cw6qvE69vlOa"
      },
      "execution_count": null,
      "outputs": []
    },
    {
      "cell_type": "code",
      "source": [
        "y_predict = dtc.predict(x_test)"
      ],
      "metadata": {
        "id": "LP5X3WpuvvWs"
      },
      "execution_count": null,
      "outputs": []
    },
    {
      "cell_type": "code",
      "source": [
        "accuracy_score(y_test,y_predict)"
      ],
      "metadata": {
        "colab": {
          "base_uri": "https://localhost:8080/"
        },
        "id": "KmY4FsV_vrJu",
        "outputId": "0e6f61dd-6d8c-49b0-bd62-25423ff23b1d"
      },
      "execution_count": null,
      "outputs": [
        {
          "output_type": "execute_result",
          "data": {
            "text/plain": [
              "0.8771929824561403"
            ]
          },
          "metadata": {},
          "execution_count": 13
        }
      ]
    },
    {
      "cell_type": "markdown",
      "source": [
        "# Bagging -"
      ],
      "metadata": {
        "id": "KH4RjFXWv748"
      }
    },
    {
      "cell_type": "code",
      "source": [
        "from sklearn.ensemble import BaggingClassifier"
      ],
      "metadata": {
        "id": "FCWeenKb3lK_"
      },
      "execution_count": null,
      "outputs": []
    },
    {
      "cell_type": "code",
      "source": [
        "bc = BaggingClassifier(base_estimator= DecisionTreeClassifier(),n_estimators=100,random_state=3)"
      ],
      "metadata": {
        "id": "_Yuc1jmN3qfY"
      },
      "execution_count": null,
      "outputs": []
    },
    {
      "cell_type": "code",
      "source": [
        "bc.fit(x_train,y_train)"
      ],
      "metadata": {
        "colab": {
          "base_uri": "https://localhost:8080/",
          "height": 171
        },
        "id": "BKuAs-xJ32sP",
        "outputId": "5dd0525a-f85e-429a-d845-c3e175a2b283"
      },
      "execution_count": null,
      "outputs": [
        {
          "output_type": "stream",
          "name": "stderr",
          "text": [
            "/usr/local/lib/python3.10/dist-packages/sklearn/ensemble/_base.py:166: FutureWarning: `base_estimator` was renamed to `estimator` in version 1.2 and will be removed in 1.4.\n",
            "  warnings.warn(\n"
          ]
        },
        {
          "output_type": "execute_result",
          "data": {
            "text/plain": [
              "BaggingClassifier(base_estimator=DecisionTreeClassifier(), n_estimators=100,\n",
              "                  random_state=3)"
            ],
            "text/html": [
              "<style>#sk-container-id-4 {color: black;background-color: white;}#sk-container-id-4 pre{padding: 0;}#sk-container-id-4 div.sk-toggleable {background-color: white;}#sk-container-id-4 label.sk-toggleable__label {cursor: pointer;display: block;width: 100%;margin-bottom: 0;padding: 0.3em;box-sizing: border-box;text-align: center;}#sk-container-id-4 label.sk-toggleable__label-arrow:before {content: \"▸\";float: left;margin-right: 0.25em;color: #696969;}#sk-container-id-4 label.sk-toggleable__label-arrow:hover:before {color: black;}#sk-container-id-4 div.sk-estimator:hover label.sk-toggleable__label-arrow:before {color: black;}#sk-container-id-4 div.sk-toggleable__content {max-height: 0;max-width: 0;overflow: hidden;text-align: left;background-color: #f0f8ff;}#sk-container-id-4 div.sk-toggleable__content pre {margin: 0.2em;color: black;border-radius: 0.25em;background-color: #f0f8ff;}#sk-container-id-4 input.sk-toggleable__control:checked~div.sk-toggleable__content {max-height: 200px;max-width: 100%;overflow: auto;}#sk-container-id-4 input.sk-toggleable__control:checked~label.sk-toggleable__label-arrow:before {content: \"▾\";}#sk-container-id-4 div.sk-estimator input.sk-toggleable__control:checked~label.sk-toggleable__label {background-color: #d4ebff;}#sk-container-id-4 div.sk-label input.sk-toggleable__control:checked~label.sk-toggleable__label {background-color: #d4ebff;}#sk-container-id-4 input.sk-hidden--visually {border: 0;clip: rect(1px 1px 1px 1px);clip: rect(1px, 1px, 1px, 1px);height: 1px;margin: -1px;overflow: hidden;padding: 0;position: absolute;width: 1px;}#sk-container-id-4 div.sk-estimator {font-family: monospace;background-color: #f0f8ff;border: 1px dotted black;border-radius: 0.25em;box-sizing: border-box;margin-bottom: 0.5em;}#sk-container-id-4 div.sk-estimator:hover {background-color: #d4ebff;}#sk-container-id-4 div.sk-parallel-item::after {content: \"\";width: 100%;border-bottom: 1px solid gray;flex-grow: 1;}#sk-container-id-4 div.sk-label:hover label.sk-toggleable__label {background-color: #d4ebff;}#sk-container-id-4 div.sk-serial::before {content: \"\";position: absolute;border-left: 1px solid gray;box-sizing: border-box;top: 0;bottom: 0;left: 50%;z-index: 0;}#sk-container-id-4 div.sk-serial {display: flex;flex-direction: column;align-items: center;background-color: white;padding-right: 0.2em;padding-left: 0.2em;position: relative;}#sk-container-id-4 div.sk-item {position: relative;z-index: 1;}#sk-container-id-4 div.sk-parallel {display: flex;align-items: stretch;justify-content: center;background-color: white;position: relative;}#sk-container-id-4 div.sk-item::before, #sk-container-id-4 div.sk-parallel-item::before {content: \"\";position: absolute;border-left: 1px solid gray;box-sizing: border-box;top: 0;bottom: 0;left: 50%;z-index: -1;}#sk-container-id-4 div.sk-parallel-item {display: flex;flex-direction: column;z-index: 1;position: relative;background-color: white;}#sk-container-id-4 div.sk-parallel-item:first-child::after {align-self: flex-end;width: 50%;}#sk-container-id-4 div.sk-parallel-item:last-child::after {align-self: flex-start;width: 50%;}#sk-container-id-4 div.sk-parallel-item:only-child::after {width: 0;}#sk-container-id-4 div.sk-dashed-wrapped {border: 1px dashed gray;margin: 0 0.4em 0.5em 0.4em;box-sizing: border-box;padding-bottom: 0.4em;background-color: white;}#sk-container-id-4 div.sk-label label {font-family: monospace;font-weight: bold;display: inline-block;line-height: 1.2em;}#sk-container-id-4 div.sk-label-container {text-align: center;}#sk-container-id-4 div.sk-container {/* jupyter's `normalize.less` sets `[hidden] { display: none; }` but bootstrap.min.css set `[hidden] { display: none !important; }` so we also need the `!important` here to be able to override the default hidden behavior on the sphinx rendered scikit-learn.org. See: https://github.com/scikit-learn/scikit-learn/issues/21755 */display: inline-block !important;position: relative;}#sk-container-id-4 div.sk-text-repr-fallback {display: none;}</style><div id=\"sk-container-id-4\" class=\"sk-top-container\"><div class=\"sk-text-repr-fallback\"><pre>BaggingClassifier(base_estimator=DecisionTreeClassifier(), n_estimators=100,\n",
              "                  random_state=3)</pre><b>In a Jupyter environment, please rerun this cell to show the HTML representation or trust the notebook. <br />On GitHub, the HTML representation is unable to render, please try loading this page with nbviewer.org.</b></div><div class=\"sk-container\" hidden><div class=\"sk-item sk-dashed-wrapped\"><div class=\"sk-label-container\"><div class=\"sk-label sk-toggleable\"><input class=\"sk-toggleable__control sk-hidden--visually\" id=\"sk-estimator-id-6\" type=\"checkbox\" ><label for=\"sk-estimator-id-6\" class=\"sk-toggleable__label sk-toggleable__label-arrow\">BaggingClassifier</label><div class=\"sk-toggleable__content\"><pre>BaggingClassifier(base_estimator=DecisionTreeClassifier(), n_estimators=100,\n",
              "                  random_state=3)</pre></div></div></div><div class=\"sk-parallel\"><div class=\"sk-parallel-item\"><div class=\"sk-item\"><div class=\"sk-label-container\"><div class=\"sk-label sk-toggleable\"><input class=\"sk-toggleable__control sk-hidden--visually\" id=\"sk-estimator-id-7\" type=\"checkbox\" ><label for=\"sk-estimator-id-7\" class=\"sk-toggleable__label sk-toggleable__label-arrow\">base_estimator: DecisionTreeClassifier</label><div class=\"sk-toggleable__content\"><pre>DecisionTreeClassifier()</pre></div></div></div><div class=\"sk-serial\"><div class=\"sk-item\"><div class=\"sk-estimator sk-toggleable\"><input class=\"sk-toggleable__control sk-hidden--visually\" id=\"sk-estimator-id-8\" type=\"checkbox\" ><label for=\"sk-estimator-id-8\" class=\"sk-toggleable__label sk-toggleable__label-arrow\">DecisionTreeClassifier</label><div class=\"sk-toggleable__content\"><pre>DecisionTreeClassifier()</pre></div></div></div></div></div></div></div></div></div></div>"
            ]
          },
          "metadata": {},
          "execution_count": 26
        }
      ]
    },
    {
      "cell_type": "code",
      "source": [
        "accuracy_score(y_test,bc.predict(x_test))"
      ],
      "metadata": {
        "colab": {
          "base_uri": "https://localhost:8080/"
        },
        "id": "Oay3BxMZ35zm",
        "outputId": "ffea19a5-b2f2-48c8-aa53-ec83d373e6c9"
      },
      "execution_count": null,
      "outputs": [
        {
          "output_type": "execute_result",
          "data": {
            "text/plain": [
              "0.9473684210526315"
            ]
          },
          "metadata": {},
          "execution_count": 27
        }
      ]
    },
    {
      "cell_type": "markdown",
      "source": [
        "# Boosting"
      ],
      "metadata": {
        "id": "2KgyyqHPv9oh"
      }
    },
    {
      "cell_type": "code",
      "source": [
        "from sklearn.ensemble import AdaBoostClassifier"
      ],
      "metadata": {
        "id": "b1hX_oWav_jG"
      },
      "execution_count": null,
      "outputs": []
    },
    {
      "cell_type": "code",
      "source": [
        "abc = AdaBoostClassifier(base_estimator=DecisionTreeClassifier(),n_estimators=100,random_state=3,learning_rate=2)"
      ],
      "metadata": {
        "id": "itvabLliwF7j"
      },
      "execution_count": null,
      "outputs": []
    },
    {
      "cell_type": "code",
      "source": [
        "abc.fit(x_train,y_train)"
      ],
      "metadata": {
        "colab": {
          "base_uri": "https://localhost:8080/",
          "height": 171
        },
        "id": "hpjNKBSUwYqP",
        "outputId": "8e823b08-67b6-4735-bbb5-a43b6e2ecd21"
      },
      "execution_count": null,
      "outputs": [
        {
          "output_type": "stream",
          "name": "stderr",
          "text": [
            "/usr/local/lib/python3.10/dist-packages/sklearn/ensemble/_base.py:166: FutureWarning: `base_estimator` was renamed to `estimator` in version 1.2 and will be removed in 1.4.\n",
            "  warnings.warn(\n"
          ]
        },
        {
          "output_type": "execute_result",
          "data": {
            "text/plain": [
              "AdaBoostClassifier(base_estimator=DecisionTreeClassifier(), learning_rate=2,\n",
              "                   n_estimators=100, random_state=3)"
            ],
            "text/html": [
              "<style>#sk-container-id-2 {color: black;background-color: white;}#sk-container-id-2 pre{padding: 0;}#sk-container-id-2 div.sk-toggleable {background-color: white;}#sk-container-id-2 label.sk-toggleable__label {cursor: pointer;display: block;width: 100%;margin-bottom: 0;padding: 0.3em;box-sizing: border-box;text-align: center;}#sk-container-id-2 label.sk-toggleable__label-arrow:before {content: \"▸\";float: left;margin-right: 0.25em;color: #696969;}#sk-container-id-2 label.sk-toggleable__label-arrow:hover:before {color: black;}#sk-container-id-2 div.sk-estimator:hover label.sk-toggleable__label-arrow:before {color: black;}#sk-container-id-2 div.sk-toggleable__content {max-height: 0;max-width: 0;overflow: hidden;text-align: left;background-color: #f0f8ff;}#sk-container-id-2 div.sk-toggleable__content pre {margin: 0.2em;color: black;border-radius: 0.25em;background-color: #f0f8ff;}#sk-container-id-2 input.sk-toggleable__control:checked~div.sk-toggleable__content {max-height: 200px;max-width: 100%;overflow: auto;}#sk-container-id-2 input.sk-toggleable__control:checked~label.sk-toggleable__label-arrow:before {content: \"▾\";}#sk-container-id-2 div.sk-estimator input.sk-toggleable__control:checked~label.sk-toggleable__label {background-color: #d4ebff;}#sk-container-id-2 div.sk-label input.sk-toggleable__control:checked~label.sk-toggleable__label {background-color: #d4ebff;}#sk-container-id-2 input.sk-hidden--visually {border: 0;clip: rect(1px 1px 1px 1px);clip: rect(1px, 1px, 1px, 1px);height: 1px;margin: -1px;overflow: hidden;padding: 0;position: absolute;width: 1px;}#sk-container-id-2 div.sk-estimator {font-family: monospace;background-color: #f0f8ff;border: 1px dotted black;border-radius: 0.25em;box-sizing: border-box;margin-bottom: 0.5em;}#sk-container-id-2 div.sk-estimator:hover {background-color: #d4ebff;}#sk-container-id-2 div.sk-parallel-item::after {content: \"\";width: 100%;border-bottom: 1px solid gray;flex-grow: 1;}#sk-container-id-2 div.sk-label:hover label.sk-toggleable__label {background-color: #d4ebff;}#sk-container-id-2 div.sk-serial::before {content: \"\";position: absolute;border-left: 1px solid gray;box-sizing: border-box;top: 0;bottom: 0;left: 50%;z-index: 0;}#sk-container-id-2 div.sk-serial {display: flex;flex-direction: column;align-items: center;background-color: white;padding-right: 0.2em;padding-left: 0.2em;position: relative;}#sk-container-id-2 div.sk-item {position: relative;z-index: 1;}#sk-container-id-2 div.sk-parallel {display: flex;align-items: stretch;justify-content: center;background-color: white;position: relative;}#sk-container-id-2 div.sk-item::before, #sk-container-id-2 div.sk-parallel-item::before {content: \"\";position: absolute;border-left: 1px solid gray;box-sizing: border-box;top: 0;bottom: 0;left: 50%;z-index: -1;}#sk-container-id-2 div.sk-parallel-item {display: flex;flex-direction: column;z-index: 1;position: relative;background-color: white;}#sk-container-id-2 div.sk-parallel-item:first-child::after {align-self: flex-end;width: 50%;}#sk-container-id-2 div.sk-parallel-item:last-child::after {align-self: flex-start;width: 50%;}#sk-container-id-2 div.sk-parallel-item:only-child::after {width: 0;}#sk-container-id-2 div.sk-dashed-wrapped {border: 1px dashed gray;margin: 0 0.4em 0.5em 0.4em;box-sizing: border-box;padding-bottom: 0.4em;background-color: white;}#sk-container-id-2 div.sk-label label {font-family: monospace;font-weight: bold;display: inline-block;line-height: 1.2em;}#sk-container-id-2 div.sk-label-container {text-align: center;}#sk-container-id-2 div.sk-container {/* jupyter's `normalize.less` sets `[hidden] { display: none; }` but bootstrap.min.css set `[hidden] { display: none !important; }` so we also need the `!important` here to be able to override the default hidden behavior on the sphinx rendered scikit-learn.org. See: https://github.com/scikit-learn/scikit-learn/issues/21755 */display: inline-block !important;position: relative;}#sk-container-id-2 div.sk-text-repr-fallback {display: none;}</style><div id=\"sk-container-id-2\" class=\"sk-top-container\"><div class=\"sk-text-repr-fallback\"><pre>AdaBoostClassifier(base_estimator=DecisionTreeClassifier(), learning_rate=2,\n",
              "                   n_estimators=100, random_state=3)</pre><b>In a Jupyter environment, please rerun this cell to show the HTML representation or trust the notebook. <br />On GitHub, the HTML representation is unable to render, please try loading this page with nbviewer.org.</b></div><div class=\"sk-container\" hidden><div class=\"sk-item sk-dashed-wrapped\"><div class=\"sk-label-container\"><div class=\"sk-label sk-toggleable\"><input class=\"sk-toggleable__control sk-hidden--visually\" id=\"sk-estimator-id-2\" type=\"checkbox\" ><label for=\"sk-estimator-id-2\" class=\"sk-toggleable__label sk-toggleable__label-arrow\">AdaBoostClassifier</label><div class=\"sk-toggleable__content\"><pre>AdaBoostClassifier(base_estimator=DecisionTreeClassifier(), learning_rate=2,\n",
              "                   n_estimators=100, random_state=3)</pre></div></div></div><div class=\"sk-parallel\"><div class=\"sk-parallel-item\"><div class=\"sk-item\"><div class=\"sk-label-container\"><div class=\"sk-label sk-toggleable\"><input class=\"sk-toggleable__control sk-hidden--visually\" id=\"sk-estimator-id-3\" type=\"checkbox\" ><label for=\"sk-estimator-id-3\" class=\"sk-toggleable__label sk-toggleable__label-arrow\">base_estimator: DecisionTreeClassifier</label><div class=\"sk-toggleable__content\"><pre>DecisionTreeClassifier()</pre></div></div></div><div class=\"sk-serial\"><div class=\"sk-item\"><div class=\"sk-estimator sk-toggleable\"><input class=\"sk-toggleable__control sk-hidden--visually\" id=\"sk-estimator-id-4\" type=\"checkbox\" ><label for=\"sk-estimator-id-4\" class=\"sk-toggleable__label sk-toggleable__label-arrow\">DecisionTreeClassifier</label><div class=\"sk-toggleable__content\"><pre>DecisionTreeClassifier()</pre></div></div></div></div></div></div></div></div></div></div>"
            ]
          },
          "metadata": {},
          "execution_count": 18
        }
      ]
    },
    {
      "cell_type": "code",
      "source": [
        "accuracy_score(y_test,abc.predict(x_test))"
      ],
      "metadata": {
        "colab": {
          "base_uri": "https://localhost:8080/"
        },
        "id": "woy6-W37wrYp",
        "outputId": "1c0c25c5-93fd-4881-891a-3c5703e499b9"
      },
      "execution_count": null,
      "outputs": [
        {
          "output_type": "execute_result",
          "data": {
            "text/plain": [
              "0.8771929824561403"
            ]
          },
          "metadata": {},
          "execution_count": 19
        }
      ]
    },
    {
      "cell_type": "code",
      "source": [
        "from sklearn.ensemble import GradientBoostingClassifier"
      ],
      "metadata": {
        "id": "D1oUPNerw1cL"
      },
      "execution_count": null,
      "outputs": []
    },
    {
      "cell_type": "code",
      "source": [
        "gbc = GradientBoostingClassifier(n_estimators=50,random_state= 3,learning_rate=5)"
      ],
      "metadata": {
        "id": "4NblyiWAw7a4"
      },
      "execution_count": null,
      "outputs": []
    },
    {
      "cell_type": "code",
      "source": [
        "gbc.fit(x_train,y_train)"
      ],
      "metadata": {
        "colab": {
          "base_uri": "https://localhost:8080/",
          "height": 74
        },
        "id": "n6Yk3N_vw8Tv",
        "outputId": "b20258f4-7822-4dd2-f4f8-62e4ab7f8176"
      },
      "execution_count": null,
      "outputs": [
        {
          "output_type": "execute_result",
          "data": {
            "text/plain": [
              "GradientBoostingClassifier(learning_rate=5, n_estimators=50, random_state=3)"
            ],
            "text/html": [
              "<style>#sk-container-id-3 {color: black;background-color: white;}#sk-container-id-3 pre{padding: 0;}#sk-container-id-3 div.sk-toggleable {background-color: white;}#sk-container-id-3 label.sk-toggleable__label {cursor: pointer;display: block;width: 100%;margin-bottom: 0;padding: 0.3em;box-sizing: border-box;text-align: center;}#sk-container-id-3 label.sk-toggleable__label-arrow:before {content: \"▸\";float: left;margin-right: 0.25em;color: #696969;}#sk-container-id-3 label.sk-toggleable__label-arrow:hover:before {color: black;}#sk-container-id-3 div.sk-estimator:hover label.sk-toggleable__label-arrow:before {color: black;}#sk-container-id-3 div.sk-toggleable__content {max-height: 0;max-width: 0;overflow: hidden;text-align: left;background-color: #f0f8ff;}#sk-container-id-3 div.sk-toggleable__content pre {margin: 0.2em;color: black;border-radius: 0.25em;background-color: #f0f8ff;}#sk-container-id-3 input.sk-toggleable__control:checked~div.sk-toggleable__content {max-height: 200px;max-width: 100%;overflow: auto;}#sk-container-id-3 input.sk-toggleable__control:checked~label.sk-toggleable__label-arrow:before {content: \"▾\";}#sk-container-id-3 div.sk-estimator input.sk-toggleable__control:checked~label.sk-toggleable__label {background-color: #d4ebff;}#sk-container-id-3 div.sk-label input.sk-toggleable__control:checked~label.sk-toggleable__label {background-color: #d4ebff;}#sk-container-id-3 input.sk-hidden--visually {border: 0;clip: rect(1px 1px 1px 1px);clip: rect(1px, 1px, 1px, 1px);height: 1px;margin: -1px;overflow: hidden;padding: 0;position: absolute;width: 1px;}#sk-container-id-3 div.sk-estimator {font-family: monospace;background-color: #f0f8ff;border: 1px dotted black;border-radius: 0.25em;box-sizing: border-box;margin-bottom: 0.5em;}#sk-container-id-3 div.sk-estimator:hover {background-color: #d4ebff;}#sk-container-id-3 div.sk-parallel-item::after {content: \"\";width: 100%;border-bottom: 1px solid gray;flex-grow: 1;}#sk-container-id-3 div.sk-label:hover label.sk-toggleable__label {background-color: #d4ebff;}#sk-container-id-3 div.sk-serial::before {content: \"\";position: absolute;border-left: 1px solid gray;box-sizing: border-box;top: 0;bottom: 0;left: 50%;z-index: 0;}#sk-container-id-3 div.sk-serial {display: flex;flex-direction: column;align-items: center;background-color: white;padding-right: 0.2em;padding-left: 0.2em;position: relative;}#sk-container-id-3 div.sk-item {position: relative;z-index: 1;}#sk-container-id-3 div.sk-parallel {display: flex;align-items: stretch;justify-content: center;background-color: white;position: relative;}#sk-container-id-3 div.sk-item::before, #sk-container-id-3 div.sk-parallel-item::before {content: \"\";position: absolute;border-left: 1px solid gray;box-sizing: border-box;top: 0;bottom: 0;left: 50%;z-index: -1;}#sk-container-id-3 div.sk-parallel-item {display: flex;flex-direction: column;z-index: 1;position: relative;background-color: white;}#sk-container-id-3 div.sk-parallel-item:first-child::after {align-self: flex-end;width: 50%;}#sk-container-id-3 div.sk-parallel-item:last-child::after {align-self: flex-start;width: 50%;}#sk-container-id-3 div.sk-parallel-item:only-child::after {width: 0;}#sk-container-id-3 div.sk-dashed-wrapped {border: 1px dashed gray;margin: 0 0.4em 0.5em 0.4em;box-sizing: border-box;padding-bottom: 0.4em;background-color: white;}#sk-container-id-3 div.sk-label label {font-family: monospace;font-weight: bold;display: inline-block;line-height: 1.2em;}#sk-container-id-3 div.sk-label-container {text-align: center;}#sk-container-id-3 div.sk-container {/* jupyter's `normalize.less` sets `[hidden] { display: none; }` but bootstrap.min.css set `[hidden] { display: none !important; }` so we also need the `!important` here to be able to override the default hidden behavior on the sphinx rendered scikit-learn.org. See: https://github.com/scikit-learn/scikit-learn/issues/21755 */display: inline-block !important;position: relative;}#sk-container-id-3 div.sk-text-repr-fallback {display: none;}</style><div id=\"sk-container-id-3\" class=\"sk-top-container\"><div class=\"sk-text-repr-fallback\"><pre>GradientBoostingClassifier(learning_rate=5, n_estimators=50, random_state=3)</pre><b>In a Jupyter environment, please rerun this cell to show the HTML representation or trust the notebook. <br />On GitHub, the HTML representation is unable to render, please try loading this page with nbviewer.org.</b></div><div class=\"sk-container\" hidden><div class=\"sk-item\"><div class=\"sk-estimator sk-toggleable\"><input class=\"sk-toggleable__control sk-hidden--visually\" id=\"sk-estimator-id-5\" type=\"checkbox\" checked><label for=\"sk-estimator-id-5\" class=\"sk-toggleable__label sk-toggleable__label-arrow\">GradientBoostingClassifier</label><div class=\"sk-toggleable__content\"><pre>GradientBoostingClassifier(learning_rate=5, n_estimators=50, random_state=3)</pre></div></div></div></div></div>"
            ]
          },
          "metadata": {},
          "execution_count": 22
        }
      ]
    },
    {
      "cell_type": "code",
      "source": [
        "accuracy_score(y_test,gbc.predict(x_test))"
      ],
      "metadata": {
        "colab": {
          "base_uri": "https://localhost:8080/"
        },
        "id": "Qjxtz_uSxTiZ",
        "outputId": "2dfbf1d9-a4a4-46e4-c7a2-9e8fdb5aa1ad"
      },
      "execution_count": null,
      "outputs": [
        {
          "output_type": "execute_result",
          "data": {
            "text/plain": [
              "0.6052631578947368"
            ]
          },
          "metadata": {},
          "execution_count": 23
        }
      ]
    },
    {
      "cell_type": "markdown",
      "source": [
        "accuracy_score(y_test,abc.predict(x_test))"
      ],
      "metadata": {
        "id": "ELBEreHl4Ixq"
      }
    },
    {
      "cell_type": "markdown",
      "source": [
        "![image.png](data:image/png;base64,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)"
      ],
      "metadata": {
        "id": "l-C6571kC2F1"
      }
    },
    {
      "cell_type": "markdown",
      "source": [
        "# Oversampling"
      ],
      "metadata": {
        "id": "uIy5z9h15eOl"
      }
    },
    {
      "cell_type": "code",
      "source": [
        "import pandas as pd\n",
        "import matplotlib.pyplot as plt\n",
        "import seaborn as sns\n"
      ],
      "metadata": {
        "id": "Dx6ovQxF4rqA"
      },
      "execution_count": 28,
      "outputs": []
    },
    {
      "cell_type": "code",
      "source": [
        "df = pd.read_csv('/content/MOCK_DATA.csv')\n",
        "df"
      ],
      "metadata": {
        "colab": {
          "base_uri": "https://localhost:8080/",
          "height": 423
        },
        "id": "PE4Vbi_85p28",
        "outputId": "3f3e7fe7-1149-4361-a38c-83e7f8fba638"
      },
      "execution_count": 29,
      "outputs": [
        {
          "output_type": "execute_result",
          "data": {
            "text/plain": [
              "       id first_name     last_name                      email      gender  \\\n",
              "0       1      Minne       Kitchen      mkitchen0@harvard.edu  Non-binary   \n",
              "1       2       Avie  Barszczewski     abarszczewski1@cdc.gov      Female   \n",
              "2       3    Ariadne     Hammerson       ahammerson2@imdb.com      Female   \n",
              "3       4       Alix         Russo          arusso3@google.cn        Male   \n",
              "4       5     Roxane    Somerville   rsomerville4@tinypic.com      Female   \n",
              "..    ...        ...           ...                        ...         ...   \n",
              "995   996      Rania    Brockhurst      rbrockhurstrn@php.net      Female   \n",
              "996   997     Lorita      Sisselot      lsisselotro@wufoo.com      Female   \n",
              "997   998   Richmond       Hainey`          rhaineyrp@wix.com        Male   \n",
              "998   999    Marylou       Sorrill  msorrillrq@vistaprint.com      Female   \n",
              "999  1000     Bendix        Biffen           bbiffenrr@ed.gov        Male   \n",
              "\n",
              "     repay  \n",
              "0        1  \n",
              "1        1  \n",
              "2        0  \n",
              "3        1  \n",
              "4        1  \n",
              "..     ...  \n",
              "995      0  \n",
              "996      0  \n",
              "997      1  \n",
              "998      1  \n",
              "999      0  \n",
              "\n",
              "[1000 rows x 6 columns]"
            ],
            "text/html": [
              "\n",
              "  <div id=\"df-857b72e9-f7a0-4551-82a2-482d927a86ec\" class=\"colab-df-container\">\n",
              "    <div>\n",
              "<style scoped>\n",
              "    .dataframe tbody tr th:only-of-type {\n",
              "        vertical-align: middle;\n",
              "    }\n",
              "\n",
              "    .dataframe tbody tr th {\n",
              "        vertical-align: top;\n",
              "    }\n",
              "\n",
              "    .dataframe thead th {\n",
              "        text-align: right;\n",
              "    }\n",
              "</style>\n",
              "<table border=\"1\" class=\"dataframe\">\n",
              "  <thead>\n",
              "    <tr style=\"text-align: right;\">\n",
              "      <th></th>\n",
              "      <th>id</th>\n",
              "      <th>first_name</th>\n",
              "      <th>last_name</th>\n",
              "      <th>email</th>\n",
              "      <th>gender</th>\n",
              "      <th>repay</th>\n",
              "    </tr>\n",
              "  </thead>\n",
              "  <tbody>\n",
              "    <tr>\n",
              "      <th>0</th>\n",
              "      <td>1</td>\n",
              "      <td>Minne</td>\n",
              "      <td>Kitchen</td>\n",
              "      <td>mkitchen0@harvard.edu</td>\n",
              "      <td>Non-binary</td>\n",
              "      <td>1</td>\n",
              "    </tr>\n",
              "    <tr>\n",
              "      <th>1</th>\n",
              "      <td>2</td>\n",
              "      <td>Avie</td>\n",
              "      <td>Barszczewski</td>\n",
              "      <td>abarszczewski1@cdc.gov</td>\n",
              "      <td>Female</td>\n",
              "      <td>1</td>\n",
              "    </tr>\n",
              "    <tr>\n",
              "      <th>2</th>\n",
              "      <td>3</td>\n",
              "      <td>Ariadne</td>\n",
              "      <td>Hammerson</td>\n",
              "      <td>ahammerson2@imdb.com</td>\n",
              "      <td>Female</td>\n",
              "      <td>0</td>\n",
              "    </tr>\n",
              "    <tr>\n",
              "      <th>3</th>\n",
              "      <td>4</td>\n",
              "      <td>Alix</td>\n",
              "      <td>Russo</td>\n",
              "      <td>arusso3@google.cn</td>\n",
              "      <td>Male</td>\n",
              "      <td>1</td>\n",
              "    </tr>\n",
              "    <tr>\n",
              "      <th>4</th>\n",
              "      <td>5</td>\n",
              "      <td>Roxane</td>\n",
              "      <td>Somerville</td>\n",
              "      <td>rsomerville4@tinypic.com</td>\n",
              "      <td>Female</td>\n",
              "      <td>1</td>\n",
              "    </tr>\n",
              "    <tr>\n",
              "      <th>...</th>\n",
              "      <td>...</td>\n",
              "      <td>...</td>\n",
              "      <td>...</td>\n",
              "      <td>...</td>\n",
              "      <td>...</td>\n",
              "      <td>...</td>\n",
              "    </tr>\n",
              "    <tr>\n",
              "      <th>995</th>\n",
              "      <td>996</td>\n",
              "      <td>Rania</td>\n",
              "      <td>Brockhurst</td>\n",
              "      <td>rbrockhurstrn@php.net</td>\n",
              "      <td>Female</td>\n",
              "      <td>0</td>\n",
              "    </tr>\n",
              "    <tr>\n",
              "      <th>996</th>\n",
              "      <td>997</td>\n",
              "      <td>Lorita</td>\n",
              "      <td>Sisselot</td>\n",
              "      <td>lsisselotro@wufoo.com</td>\n",
              "      <td>Female</td>\n",
              "      <td>0</td>\n",
              "    </tr>\n",
              "    <tr>\n",
              "      <th>997</th>\n",
              "      <td>998</td>\n",
              "      <td>Richmond</td>\n",
              "      <td>Hainey`</td>\n",
              "      <td>rhaineyrp@wix.com</td>\n",
              "      <td>Male</td>\n",
              "      <td>1</td>\n",
              "    </tr>\n",
              "    <tr>\n",
              "      <th>998</th>\n",
              "      <td>999</td>\n",
              "      <td>Marylou</td>\n",
              "      <td>Sorrill</td>\n",
              "      <td>msorrillrq@vistaprint.com</td>\n",
              "      <td>Female</td>\n",
              "      <td>1</td>\n",
              "    </tr>\n",
              "    <tr>\n",
              "      <th>999</th>\n",
              "      <td>1000</td>\n",
              "      <td>Bendix</td>\n",
              "      <td>Biffen</td>\n",
              "      <td>bbiffenrr@ed.gov</td>\n",
              "      <td>Male</td>\n",
              "      <td>0</td>\n",
              "    </tr>\n",
              "  </tbody>\n",
              "</table>\n",
              "<p>1000 rows × 6 columns</p>\n",
              "</div>\n",
              "    <div class=\"colab-df-buttons\">\n",
              "\n",
              "  <div class=\"colab-df-container\">\n",
              "    <button class=\"colab-df-convert\" onclick=\"convertToInteractive('df-857b72e9-f7a0-4551-82a2-482d927a86ec')\"\n",
              "            title=\"Convert this dataframe to an interactive table.\"\n",
              "            style=\"display:none;\">\n",
              "\n",
              "  <svg xmlns=\"http://www.w3.org/2000/svg\" height=\"24px\" viewBox=\"0 -960 960 960\">\n",
              "    <path d=\"M120-120v-720h720v720H120Zm60-500h600v-160H180v160Zm220 220h160v-160H400v160Zm0 220h160v-160H400v160ZM180-400h160v-160H180v160Zm440 0h160v-160H620v160ZM180-180h160v-160H180v160Zm440 0h160v-160H620v160Z\"/>\n",
              "  </svg>\n",
              "    </button>\n",
              "\n",
              "  <style>\n",
              "    .colab-df-container {\n",
              "      display:flex;\n",
              "      gap: 12px;\n",
              "    }\n",
              "\n",
              "    .colab-df-convert {\n",
              "      background-color: #E8F0FE;\n",
              "      border: none;\n",
              "      border-radius: 50%;\n",
              "      cursor: pointer;\n",
              "      display: none;\n",
              "      fill: #1967D2;\n",
              "      height: 32px;\n",
              "      padding: 0 0 0 0;\n",
              "      width: 32px;\n",
              "    }\n",
              "\n",
              "    .colab-df-convert:hover {\n",
              "      background-color: #E2EBFA;\n",
              "      box-shadow: 0px 1px 2px rgba(60, 64, 67, 0.3), 0px 1px 3px 1px rgba(60, 64, 67, 0.15);\n",
              "      fill: #174EA6;\n",
              "    }\n",
              "\n",
              "    .colab-df-buttons div {\n",
              "      margin-bottom: 4px;\n",
              "    }\n",
              "\n",
              "    [theme=dark] .colab-df-convert {\n",
              "      background-color: #3B4455;\n",
              "      fill: #D2E3FC;\n",
              "    }\n",
              "\n",
              "    [theme=dark] .colab-df-convert:hover {\n",
              "      background-color: #434B5C;\n",
              "      box-shadow: 0px 1px 3px 1px rgba(0, 0, 0, 0.15);\n",
              "      filter: drop-shadow(0px 1px 2px rgba(0, 0, 0, 0.3));\n",
              "      fill: #FFFFFF;\n",
              "    }\n",
              "  </style>\n",
              "\n",
              "    <script>\n",
              "      const buttonEl =\n",
              "        document.querySelector('#df-857b72e9-f7a0-4551-82a2-482d927a86ec button.colab-df-convert');\n",
              "      buttonEl.style.display =\n",
              "        google.colab.kernel.accessAllowed ? 'block' : 'none';\n",
              "\n",
              "      async function convertToInteractive(key) {\n",
              "        const element = document.querySelector('#df-857b72e9-f7a0-4551-82a2-482d927a86ec');\n",
              "        const dataTable =\n",
              "          await google.colab.kernel.invokeFunction('convertToInteractive',\n",
              "                                                    [key], {});\n",
              "        if (!dataTable) return;\n",
              "\n",
              "        const docLinkHtml = 'Like what you see? Visit the ' +\n",
              "          '<a target=\"_blank\" href=https://colab.research.google.com/notebooks/data_table.ipynb>data table notebook</a>'\n",
              "          + ' to learn more about interactive tables.';\n",
              "        element.innerHTML = '';\n",
              "        dataTable['output_type'] = 'display_data';\n",
              "        await google.colab.output.renderOutput(dataTable, element);\n",
              "        const docLink = document.createElement('div');\n",
              "        docLink.innerHTML = docLinkHtml;\n",
              "        element.appendChild(docLink);\n",
              "      }\n",
              "    </script>\n",
              "  </div>\n",
              "\n",
              "\n",
              "<div id=\"df-ad836b10-bca0-499c-bb27-aa19bbffb3a4\">\n",
              "  <button class=\"colab-df-quickchart\" onclick=\"quickchart('df-ad836b10-bca0-499c-bb27-aa19bbffb3a4')\"\n",
              "            title=\"Suggest charts\"\n",
              "            style=\"display:none;\">\n",
              "\n",
              "<svg xmlns=\"http://www.w3.org/2000/svg\" height=\"24px\"viewBox=\"0 0 24 24\"\n",
              "     width=\"24px\">\n",
              "    <g>\n",
              "        <path d=\"M19 3H5c-1.1 0-2 .9-2 2v14c0 1.1.9 2 2 2h14c1.1 0 2-.9 2-2V5c0-1.1-.9-2-2-2zM9 17H7v-7h2v7zm4 0h-2V7h2v10zm4 0h-2v-4h2v4z\"/>\n",
              "    </g>\n",
              "</svg>\n",
              "  </button>\n",
              "\n",
              "<style>\n",
              "  .colab-df-quickchart {\n",
              "      --bg-color: #E8F0FE;\n",
              "      --fill-color: #1967D2;\n",
              "      --hover-bg-color: #E2EBFA;\n",
              "      --hover-fill-color: #174EA6;\n",
              "      --disabled-fill-color: #AAA;\n",
              "      --disabled-bg-color: #DDD;\n",
              "  }\n",
              "\n",
              "  [theme=dark] .colab-df-quickchart {\n",
              "      --bg-color: #3B4455;\n",
              "      --fill-color: #D2E3FC;\n",
              "      --hover-bg-color: #434B5C;\n",
              "      --hover-fill-color: #FFFFFF;\n",
              "      --disabled-bg-color: #3B4455;\n",
              "      --disabled-fill-color: #666;\n",
              "  }\n",
              "\n",
              "  .colab-df-quickchart {\n",
              "    background-color: var(--bg-color);\n",
              "    border: none;\n",
              "    border-radius: 50%;\n",
              "    cursor: pointer;\n",
              "    display: none;\n",
              "    fill: var(--fill-color);\n",
              "    height: 32px;\n",
              "    padding: 0;\n",
              "    width: 32px;\n",
              "  }\n",
              "\n",
              "  .colab-df-quickchart:hover {\n",
              "    background-color: var(--hover-bg-color);\n",
              "    box-shadow: 0 1px 2px rgba(60, 64, 67, 0.3), 0 1px 3px 1px rgba(60, 64, 67, 0.15);\n",
              "    fill: var(--button-hover-fill-color);\n",
              "  }\n",
              "\n",
              "  .colab-df-quickchart-complete:disabled,\n",
              "  .colab-df-quickchart-complete:disabled:hover {\n",
              "    background-color: var(--disabled-bg-color);\n",
              "    fill: var(--disabled-fill-color);\n",
              "    box-shadow: none;\n",
              "  }\n",
              "\n",
              "  .colab-df-spinner {\n",
              "    border: 2px solid var(--fill-color);\n",
              "    border-color: transparent;\n",
              "    border-bottom-color: var(--fill-color);\n",
              "    animation:\n",
              "      spin 1s steps(1) infinite;\n",
              "  }\n",
              "\n",
              "  @keyframes spin {\n",
              "    0% {\n",
              "      border-color: transparent;\n",
              "      border-bottom-color: var(--fill-color);\n",
              "      border-left-color: var(--fill-color);\n",
              "    }\n",
              "    20% {\n",
              "      border-color: transparent;\n",
              "      border-left-color: var(--fill-color);\n",
              "      border-top-color: var(--fill-color);\n",
              "    }\n",
              "    30% {\n",
              "      border-color: transparent;\n",
              "      border-left-color: var(--fill-color);\n",
              "      border-top-color: var(--fill-color);\n",
              "      border-right-color: var(--fill-color);\n",
              "    }\n",
              "    40% {\n",
              "      border-color: transparent;\n",
              "      border-right-color: var(--fill-color);\n",
              "      border-top-color: var(--fill-color);\n",
              "    }\n",
              "    60% {\n",
              "      border-color: transparent;\n",
              "      border-right-color: var(--fill-color);\n",
              "    }\n",
              "    80% {\n",
              "      border-color: transparent;\n",
              "      border-right-color: var(--fill-color);\n",
              "      border-bottom-color: var(--fill-color);\n",
              "    }\n",
              "    90% {\n",
              "      border-color: transparent;\n",
              "      border-bottom-color: var(--fill-color);\n",
              "    }\n",
              "  }\n",
              "</style>\n",
              "\n",
              "  <script>\n",
              "    async function quickchart(key) {\n",
              "      const quickchartButtonEl =\n",
              "        document.querySelector('#' + key + ' button');\n",
              "      quickchartButtonEl.disabled = true;  // To prevent multiple clicks.\n",
              "      quickchartButtonEl.classList.add('colab-df-spinner');\n",
              "      try {\n",
              "        const charts = await google.colab.kernel.invokeFunction(\n",
              "            'suggestCharts', [key], {});\n",
              "      } catch (error) {\n",
              "        console.error('Error during call to suggestCharts:', error);\n",
              "      }\n",
              "      quickchartButtonEl.classList.remove('colab-df-spinner');\n",
              "      quickchartButtonEl.classList.add('colab-df-quickchart-complete');\n",
              "    }\n",
              "    (() => {\n",
              "      let quickchartButtonEl =\n",
              "        document.querySelector('#df-ad836b10-bca0-499c-bb27-aa19bbffb3a4 button');\n",
              "      quickchartButtonEl.style.display =\n",
              "        google.colab.kernel.accessAllowed ? 'block' : 'none';\n",
              "    })();\n",
              "  </script>\n",
              "</div>\n",
              "\n",
              "  <div id=\"id_32a8f9d8-b8dd-47c9-bda2-d7e476a98e6c\">\n",
              "    <style>\n",
              "      .colab-df-generate {\n",
              "        background-color: #E8F0FE;\n",
              "        border: none;\n",
              "        border-radius: 50%;\n",
              "        cursor: pointer;\n",
              "        display: none;\n",
              "        fill: #1967D2;\n",
              "        height: 32px;\n",
              "        padding: 0 0 0 0;\n",
              "        width: 32px;\n",
              "      }\n",
              "\n",
              "      .colab-df-generate:hover {\n",
              "        background-color: #E2EBFA;\n",
              "        box-shadow: 0px 1px 2px rgba(60, 64, 67, 0.3), 0px 1px 3px 1px rgba(60, 64, 67, 0.15);\n",
              "        fill: #174EA6;\n",
              "      }\n",
              "\n",
              "      [theme=dark] .colab-df-generate {\n",
              "        background-color: #3B4455;\n",
              "        fill: #D2E3FC;\n",
              "      }\n",
              "\n",
              "      [theme=dark] .colab-df-generate:hover {\n",
              "        background-color: #434B5C;\n",
              "        box-shadow: 0px 1px 3px 1px rgba(0, 0, 0, 0.15);\n",
              "        filter: drop-shadow(0px 1px 2px rgba(0, 0, 0, 0.3));\n",
              "        fill: #FFFFFF;\n",
              "      }\n",
              "    </style>\n",
              "    <button class=\"colab-df-generate\" onclick=\"generateWithVariable('df')\"\n",
              "            title=\"Generate code using this dataframe.\"\n",
              "            style=\"display:none;\">\n",
              "\n",
              "  <svg xmlns=\"http://www.w3.org/2000/svg\" height=\"24px\"viewBox=\"0 0 24 24\"\n",
              "       width=\"24px\">\n",
              "    <path d=\"M7,19H8.4L18.45,9,17,7.55,7,17.6ZM5,21V16.75L18.45,3.32a2,2,0,0,1,2.83,0l1.4,1.43a1.91,1.91,0,0,1,.58,1.4,1.91,1.91,0,0,1-.58,1.4L9.25,21ZM18.45,9,17,7.55Zm-12,3A5.31,5.31,0,0,0,4.9,8.1,5.31,5.31,0,0,0,1,6.5,5.31,5.31,0,0,0,4.9,4.9,5.31,5.31,0,0,0,6.5,1,5.31,5.31,0,0,0,8.1,4.9,5.31,5.31,0,0,0,12,6.5,5.46,5.46,0,0,0,6.5,12Z\"/>\n",
              "  </svg>\n",
              "    </button>\n",
              "    <script>\n",
              "      (() => {\n",
              "      const buttonEl =\n",
              "        document.querySelector('#id_32a8f9d8-b8dd-47c9-bda2-d7e476a98e6c button.colab-df-generate');\n",
              "      buttonEl.style.display =\n",
              "        google.colab.kernel.accessAllowed ? 'block' : 'none';\n",
              "\n",
              "      buttonEl.onclick = () => {\n",
              "        google.colab.notebook.generateWithVariable('df');\n",
              "      }\n",
              "      })();\n",
              "    </script>\n",
              "  </div>\n",
              "\n",
              "    </div>\n",
              "  </div>\n"
            ],
            "application/vnd.google.colaboratory.intrinsic+json": {
              "type": "dataframe",
              "variable_name": "df",
              "summary": "{\n  \"name\": \"df\",\n  \"rows\": 1000,\n  \"fields\": [\n    {\n      \"column\": \"id\",\n      \"properties\": {\n        \"dtype\": \"number\",\n        \"std\": 288,\n        \"min\": 1,\n        \"max\": 1000,\n        \"num_unique_values\": 1000,\n        \"samples\": [\n          522,\n          738,\n          741\n        ],\n        \"semantic_type\": \"\",\n        \"description\": \"\"\n      }\n    },\n    {\n      \"column\": \"first_name\",\n      \"properties\": {\n        \"dtype\": \"string\",\n        \"num_unique_values\": 935,\n        \"samples\": [\n          \"Esteban\",\n          \"Martica\",\n          \"Bram\"\n        ],\n        \"semantic_type\": \"\",\n        \"description\": \"\"\n      }\n    },\n    {\n      \"column\": \"last_name\",\n      \"properties\": {\n        \"dtype\": \"string\",\n        \"num_unique_values\": 987,\n        \"samples\": [\n          \"Freyn\",\n          \"Kermannes\",\n          \"Moncreiff\"\n        ],\n        \"semantic_type\": \"\",\n        \"description\": \"\"\n      }\n    },\n    {\n      \"column\": \"email\",\n      \"properties\": {\n        \"dtype\": \"string\",\n        \"num_unique_values\": 1000,\n        \"samples\": [\n          \"giacobettoeh@google.com.au\",\n          \"jphinnessykh@businessweek.com\",\n          \"ngouckkk@ameblo.jp\"\n        ],\n        \"semantic_type\": \"\",\n        \"description\": \"\"\n      }\n    },\n    {\n      \"column\": \"gender\",\n      \"properties\": {\n        \"dtype\": \"category\",\n        \"num_unique_values\": 8,\n        \"samples\": [\n          \"Female\",\n          \"Genderqueer\",\n          \"Non-binary\"\n        ],\n        \"semantic_type\": \"\",\n        \"description\": \"\"\n      }\n    },\n    {\n      \"column\": \"repay\",\n      \"properties\": {\n        \"dtype\": \"number\",\n        \"std\": 0,\n        \"min\": 0,\n        \"max\": 1,\n        \"num_unique_values\": 2,\n        \"samples\": [\n          0,\n          1\n        ],\n        \"semantic_type\": \"\",\n        \"description\": \"\"\n      }\n    }\n  ]\n}"
            }
          },
          "metadata": {},
          "execution_count": 29
        }
      ]
    },
    {
      "cell_type": "code",
      "source": [
        "df.repay.value_counts()"
      ],
      "metadata": {
        "colab": {
          "base_uri": "https://localhost:8080/"
        },
        "id": "wiOxMmiW53nT",
        "outputId": "9271124e-9044-4aa3-eda1-fd1c4ad6e505"
      },
      "execution_count": 30,
      "outputs": [
        {
          "output_type": "execute_result",
          "data": {
            "text/plain": [
              "repay\n",
              "1    669\n",
              "0    331\n",
              "Name: count, dtype: int64"
            ]
          },
          "metadata": {},
          "execution_count": 30
        }
      ]
    },
    {
      "cell_type": "code",
      "source": [
        "sns.countplot(x = 'repay',data =  df)\n",
        "plt.show()"
      ],
      "metadata": {
        "colab": {
          "base_uri": "https://localhost:8080/",
          "height": 454
        },
        "id": "-aSknSzf57rt",
        "outputId": "b4ebf409-ecb6-445d-e22d-31423b60d203"
      },
      "execution_count": 31,
      "outputs": [
        {
          "output_type": "display_data",
          "data": {
            "text/plain": [
              "<Figure size 640x480 with 1 Axes>"
            ],
            "image/png": "[encoded data removed]"
          },
          "metadata": {}
        }
      ]
    },
    {
      "cell_type": "code",
      "source": [
        "from sklearn.preprocessing import LabelEncoder"
      ],
      "metadata": {
        "id": "xzRC64926TMg"
      },
      "execution_count": 32,
      "outputs": []
    },
    {
      "cell_type": "code",
      "source": [
        "le = LabelEncoder()"
      ],
      "metadata": {
        "id": "xoMQO9fs691x"
      },
      "execution_count": 33,
      "outputs": []
    },
    {
      "cell_type": "code",
      "source": [
        "categorical_features = ['first_name','last_name','email','gender']"
      ],
      "metadata": {
        "id": "Ppzr-4fo7AyH"
      },
      "execution_count": 36,
      "outputs": []
    },
    {
      "cell_type": "code",
      "source": [
        "df[categorical_features] = df[categorical_features].apply(le.fit_transform)"
      ],
      "metadata": {
        "id": "4h7wP-w-7LQ8"
      },
      "execution_count": 37,
      "outputs": []
    },
    {
      "cell_type": "code",
      "source": [
        "df"
      ],
      "metadata": {
        "colab": {
          "base_uri": "https://localhost:8080/",
          "height": 423
        },
        "id": "6UggEaep7eHQ",
        "outputId": "de6be956-b354-406f-a294-04f0076d5ff8"
      },
      "execution_count": 38,
      "outputs": [
        {
          "output_type": "execute_result",
          "data": {
            "text/plain": [
              "       id  first_name  last_name  email  gender  repay\n",
              "0       1         657        486    671       6      1\n",
              "1       2          70         55      5       2      1\n",
              "2       3          50        393     28       2      0\n",
              "3       4          25        789     64       5      1\n",
              "4       5         779        845    836       2      1\n",
              "..    ...         ...        ...    ...     ...    ...\n",
              "995   996         751        129    800       2      0\n",
              "996   997         574        829    620       2      0\n",
              "997   998         764        388    816       5      1\n",
              "998   999         620        847    703       2      1\n",
              "999  1000          86         83     87       5      0\n",
              "\n",
              "[1000 rows x 6 columns]"
            ],
            "text/html": [
              "\n",
              "  <div id=\"df-9068f214-011a-49ed-9d72-3343e5c634cb\" class=\"colab-df-container\">\n",
              "    <div>\n",
              "<style scoped>\n",
              "    .dataframe tbody tr th:only-of-type {\n",
              "        vertical-align: middle;\n",
              "    }\n",
              "\n",
              "    .dataframe tbody tr th {\n",
              "        vertical-align: top;\n",
              "    }\n",
              "\n",
              "    .dataframe thead th {\n",
              "        text-align: right;\n",
              "    }\n",
              "</style>\n",
              "<table border=\"1\" class=\"dataframe\">\n",
              "  <thead>\n",
              "    <tr style=\"text-align: right;\">\n",
              "      <th></th>\n",
              "      <th>id</th>\n",
              "      <th>first_name</th>\n",
              "      <th>last_name</th>\n",
              "      <th>email</th>\n",
              "      <th>gender</th>\n",
              "      <th>repay</th>\n",
              "    </tr>\n",
              "  </thead>\n",
              "  <tbody>\n",
              "    <tr>\n",
              "      <th>0</th>\n",
              "      <td>1</td>\n",
              "      <td>657</td>\n",
              "      <td>486</td>\n",
              "      <td>671</td>\n",
              "      <td>6</td>\n",
              "      <td>1</td>\n",
              "    </tr>\n",
              "    <tr>\n",
              "      <th>1</th>\n",
              "      <td>2</td>\n",
              "      <td>70</td>\n",
              "      <td>55</td>\n",
              "      <td>5</td>\n",
              "      <td>2</td>\n",
              "      <td>1</td>\n",
              "    </tr>\n",
              "    <tr>\n",
              "      <th>2</th>\n",
              "      <td>3</td>\n",
              "      <td>50</td>\n",
              "      <td>393</td>\n",
              "      <td>28</td>\n",
              "      <td>2</td>\n",
              "      <td>0</td>\n",
              "    </tr>\n",
              "    <tr>\n",
              "      <th>3</th>\n",
              "      <td>4</td>\n",
              "      <td>25</td>\n",
              "      <td>789</td>\n",
              "      <td>64</td>\n",
              "      <td>5</td>\n",
              "      <td>1</td>\n",
              "    </tr>\n",
              "    <tr>\n",
              "      <th>4</th>\n",
              "      <td>5</td>\n",
              "      <td>779</td>\n",
              "      <td>845</td>\n",
              "      <td>836</td>\n",
              "      <td>2</td>\n",
              "      <td>1</td>\n",
              "    </tr>\n",
              "    <tr>\n",
              "      <th>...</th>\n",
              "      <td>...</td>\n",
              "      <td>...</td>\n",
              "      <td>...</td>\n",
              "      <td>...</td>\n",
              "      <td>...</td>\n",
              "      <td>...</td>\n",
              "    </tr>\n",
              "    <tr>\n",
              "      <th>995</th>\n",
              "      <td>996</td>\n",
              "      <td>751</td>\n",
              "      <td>129</td>\n",
              "      <td>800</td>\n",
              "      <td>2</td>\n",
              "      <td>0</td>\n",
              "    </tr>\n",
              "    <tr>\n",
              "      <th>996</th>\n",
              "      <td>997</td>\n",
              "      <td>574</td>\n",
              "      <td>829</td>\n",
              "      <td>620</td>\n",
              "      <td>2</td>\n",
              "      <td>0</td>\n",
              "    </tr>\n",
              "    <tr>\n",
              "      <th>997</th>\n",
              "      <td>998</td>\n",
              "      <td>764</td>\n",
              "      <td>388</td>\n",
              "      <td>816</td>\n",
              "      <td>5</td>\n",
              "      <td>1</td>\n",
              "    </tr>\n",
              "    <tr>\n",
              "      <th>998</th>\n",
              "      <td>999</td>\n",
              "      <td>620</td>\n",
              "      <td>847</td>\n",
              "      <td>703</td>\n",
              "      <td>2</td>\n",
              "      <td>1</td>\n",
              "    </tr>\n",
              "    <tr>\n",
              "      <th>999</th>\n",
              "      <td>1000</td>\n",
              "      <td>86</td>\n",
              "      <td>83</td>\n",
              "      <td>87</td>\n",
              "      <td>5</td>\n",
              "      <td>0</td>\n",
              "    </tr>\n",
              "  </tbody>\n",
              "</table>\n",
              "<p>1000 rows × 6 columns</p>\n",
              "</div>\n",
              "    <div class=\"colab-df-buttons\">\n",
              "\n",
              "  <div class=\"colab-df-container\">\n",
              "    <button class=\"colab-df-convert\" onclick=\"convertToInteractive('df-9068f214-011a-49ed-9d72-3343e5c634cb')\"\n",
              "            title=\"Convert this dataframe to an interactive table.\"\n",
              "            style=\"display:none;\">\n",
              "\n",
              "  <svg xmlns=\"http://www.w3.org/2000/svg\" height=\"24px\" viewBox=\"0 -960 960 960\">\n",
              "    <path d=\"M120-120v-720h720v720H120Zm60-500h600v-160H180v160Zm220 220h160v-160H400v160Zm0 220h160v-160H400v160ZM180-400h160v-160H180v160Zm440 0h160v-160H620v160ZM180-180h160v-160H180v160Zm440 0h160v-160H620v160Z\"/>\n",
              "  </svg>\n",
              "    </button>\n",
              "\n",
              "  <style>\n",
              "    .colab-df-container {\n",
              "      display:flex;\n",
              "      gap: 12px;\n",
              "    }\n",
              "\n",
              "    .colab-df-convert {\n",
              "      background-color: #E8F0FE;\n",
              "      border: none;\n",
              "      border-radius: 50%;\n",
              "      cursor: pointer;\n",
              "      display: none;\n",
              "      fill: #1967D2;\n",
              "      height: 32px;\n",
              "      padding: 0 0 0 0;\n",
              "      width: 32px;\n",
              "    }\n",
              "\n",
              "    .colab-df-convert:hover {\n",
              "      background-color: #E2EBFA;\n",
              "      box-shadow: 0px 1px 2px rgba(60, 64, 67, 0.3), 0px 1px 3px 1px rgba(60, 64, 67, 0.15);\n",
              "      fill: #174EA6;\n",
              "    }\n",
              "\n",
              "    .colab-df-buttons div {\n",
              "      margin-bottom: 4px;\n",
              "    }\n",
              "\n",
              "    [theme=dark] .colab-df-convert {\n",
              "      background-color: #3B4455;\n",
              "      fill: #D2E3FC;\n",
              "    }\n",
              "\n",
              "    [theme=dark] .colab-df-convert:hover {\n",
              "      background-color: #434B5C;\n",
              "      box-shadow: 0px 1px 3px 1px rgba(0, 0, 0, 0.15);\n",
              "      filter: drop-shadow(0px 1px 2px rgba(0, 0, 0, 0.3));\n",
              "      fill: #FFFFFF;\n",
              "    }\n",
              "  </style>\n",
              "\n",
              "    <script>\n",
              "      const buttonEl =\n",
              "        document.querySelector('#df-9068f214-011a-49ed-9d72-3343e5c634cb button.colab-df-convert');\n",
              "      buttonEl.style.display =\n",
              "        google.colab.kernel.accessAllowed ? 'block' : 'none';\n",
              "\n",
              "      async function convertToInteractive(key) {\n",
              "        const element = document.querySelector('#df-9068f214-011a-49ed-9d72-3343e5c634cb');\n",
              "        const dataTable =\n",
              "          await google.colab.kernel.invokeFunction('convertToInteractive',\n",
              "                                                    [key], {});\n",
              "        if (!dataTable) return;\n",
              "\n",
              "        const docLinkHtml = 'Like what you see? Visit the ' +\n",
              "          '<a target=\"_blank\" href=https://colab.research.google.com/notebooks/data_table.ipynb>data table notebook</a>'\n",
              "          + ' to learn more about interactive tables.';\n",
              "        element.innerHTML = '';\n",
              "        dataTable['output_type'] = 'display_data';\n",
              "        await google.colab.output.renderOutput(dataTable, element);\n",
              "        const docLink = document.createElement('div');\n",
              "        docLink.innerHTML = docLinkHtml;\n",
              "        element.appendChild(docLink);\n",
              "      }\n",
              "    </script>\n",
              "  </div>\n",
              "\n",
              "\n",
              "<div id=\"df-aa9cda58-6ce7-477e-9254-f920ae7397ee\">\n",
              "  <button class=\"colab-df-quickchart\" onclick=\"quickchart('df-aa9cda58-6ce7-477e-9254-f920ae7397ee')\"\n",
              "            title=\"Suggest charts\"\n",
              "            style=\"display:none;\">\n",
              "\n",
              "<svg xmlns=\"http://www.w3.org/2000/svg\" height=\"24px\"viewBox=\"0 0 24 24\"\n",
              "     width=\"24px\">\n",
              "    <g>\n",
              "        <path d=\"M19 3H5c-1.1 0-2 .9-2 2v14c0 1.1.9 2 2 2h14c1.1 0 2-.9 2-2V5c0-1.1-.9-2-2-2zM9 17H7v-7h2v7zm4 0h-2V7h2v10zm4 0h-2v-4h2v4z\"/>\n",
              "    </g>\n",
              "</svg>\n",
              "  </button>\n",
              "\n",
              "<style>\n",
              "  .colab-df-quickchart {\n",
              "      --bg-color: #E8F0FE;\n",
              "      --fill-color: #1967D2;\n",
              "      --hover-bg-color: #E2EBFA;\n",
              "      --hover-fill-color: #174EA6;\n",
              "      --disabled-fill-color: #AAA;\n",
              "      --disabled-bg-color: #DDD;\n",
              "  }\n",
              "\n",
              "  [theme=dark] .colab-df-quickchart {\n",
              "      --bg-color: #3B4455;\n",
              "      --fill-color: #D2E3FC;\n",
              "      --hover-bg-color: #434B5C;\n",
              "      --hover-fill-color: #FFFFFF;\n",
              "      --disabled-bg-color: #3B4455;\n",
              "      --disabled-fill-color: #666;\n",
              "  }\n",
              "\n",
              "  .colab-df-quickchart {\n",
              "    background-color: var(--bg-color);\n",
              "    border: none;\n",
              "    border-radius: 50%;\n",
              "    cursor: pointer;\n",
              "    display: none;\n",
              "    fill: var(--fill-color);\n",
              "    height: 32px;\n",
              "    padding: 0;\n",
              "    width: 32px;\n",
              "  }\n",
              "\n",
              "  .colab-df-quickchart:hover {\n",
              "    background-color: var(--hover-bg-color);\n",
              "    box-shadow: 0 1px 2px rgba(60, 64, 67, 0.3), 0 1px 3px 1px rgba(60, 64, 67, 0.15);\n",
              "    fill: var(--button-hover-fill-color);\n",
              "  }\n",
              "\n",
              "  .colab-df-quickchart-complete:disabled,\n",
              "  .colab-df-quickchart-complete:disabled:hover {\n",
              "    background-color: var(--disabled-bg-color);\n",
              "    fill: var(--disabled-fill-color);\n",
              "    box-shadow: none;\n",
              "  }\n",
              "\n",
              "  .colab-df-spinner {\n",
              "    border: 2px solid var(--fill-color);\n",
              "    border-color: transparent;\n",
              "    border-bottom-color: var(--fill-color);\n",
              "    animation:\n",
              "      spin 1s steps(1) infinite;\n",
              "  }\n",
              "\n",
              "  @keyframes spin {\n",
              "    0% {\n",
              "      border-color: transparent;\n",
              "      border-bottom-color: var(--fill-color);\n",
              "      border-left-color: var(--fill-color);\n",
              "    }\n",
              "    20% {\n",
              "      border-color: transparent;\n",
              "      border-left-color: var(--fill-color);\n",
              "      border-top-color: var(--fill-color);\n",
              "    }\n",
              "    30% {\n",
              "      border-color: transparent;\n",
              "      border-left-color: var(--fill-color);\n",
              "      border-top-color: var(--fill-color);\n",
              "      border-right-color: var(--fill-color);\n",
              "    }\n",
              "    40% {\n",
              "      border-color: transparent;\n",
              "      border-right-color: var(--fill-color);\n",
              "      border-top-color: var(--fill-color);\n",
              "    }\n",
              "    60% {\n",
              "      border-color: transparent;\n",
              "      border-right-color: var(--fill-color);\n",
              "    }\n",
              "    80% {\n",
              "      border-color: transparent;\n",
              "      border-right-color: var(--fill-color);\n",
              "      border-bottom-color: var(--fill-color);\n",
              "    }\n",
              "    90% {\n",
              "      border-color: transparent;\n",
              "      border-bottom-color: var(--fill-color);\n",
              "    }\n",
              "  }\n",
              "</style>\n",
              "\n",
              "  <script>\n",
              "    async function quickchart(key) {\n",
              "      const quickchartButtonEl =\n",
              "        document.querySelector('#' + key + ' button');\n",
              "      quickchartButtonEl.disabled = true;  // To prevent multiple clicks.\n",
              "      quickchartButtonEl.classList.add('colab-df-spinner');\n",
              "      try {\n",
              "        const charts = await google.colab.kernel.invokeFunction(\n",
              "            'suggestCharts', [key], {});\n",
              "      } catch (error) {\n",
              "        console.error('Error during call to suggestCharts:', error);\n",
              "      }\n",
              "      quickchartButtonEl.classList.remove('colab-df-spinner');\n",
              "      quickchartButtonEl.classList.add('colab-df-quickchart-complete');\n",
              "    }\n",
              "    (() => {\n",
              "      let quickchartButtonEl =\n",
              "        document.querySelector('#df-aa9cda58-6ce7-477e-9254-f920ae7397ee button');\n",
              "      quickchartButtonEl.style.display =\n",
              "        google.colab.kernel.accessAllowed ? 'block' : 'none';\n",
              "    })();\n",
              "  </script>\n",
              "</div>\n",
              "\n",
              "  <div id=\"id_e3130cc2-2f38-4ad0-8c37-0bff693f3f99\">\n",
              "    <style>\n",
              "      .colab-df-generate {\n",
              "        background-color: #E8F0FE;\n",
              "        border: none;\n",
              "        border-radius: 50%;\n",
              "        cursor: pointer;\n",
              "        display: none;\n",
              "        fill: #1967D2;\n",
              "        height: 32px;\n",
              "        padding: 0 0 0 0;\n",
              "        width: 32px;\n",
              "      }\n",
              "\n",
              "      .colab-df-generate:hover {\n",
              "        background-color: #E2EBFA;\n",
              "        box-shadow: 0px 1px 2px rgba(60, 64, 67, 0.3), 0px 1px 3px 1px rgba(60, 64, 67, 0.15);\n",
              "        fill: #174EA6;\n",
              "      }\n",
              "\n",
              "      [theme=dark] .colab-df-generate {\n",
              "        background-color: #3B4455;\n",
              "        fill: #D2E3FC;\n",
              "      }\n",
              "\n",
              "      [theme=dark] .colab-df-generate:hover {\n",
              "        background-color: #434B5C;\n",
              "        box-shadow: 0px 1px 3px 1px rgba(0, 0, 0, 0.15);\n",
              "        filter: drop-shadow(0px 1px 2px rgba(0, 0, 0, 0.3));\n",
              "        fill: #FFFFFF;\n",
              "      }\n",
              "    </style>\n",
              "    <button class=\"colab-df-generate\" onclick=\"generateWithVariable('df')\"\n",
              "            title=\"Generate code using this dataframe.\"\n",
              "            style=\"display:none;\">\n",
              "\n",
              "  <svg xmlns=\"http://www.w3.org/2000/svg\" height=\"24px\"viewBox=\"0 0 24 24\"\n",
              "       width=\"24px\">\n",
              "    <path d=\"M7,19H8.4L18.45,9,17,7.55,7,17.6ZM5,21V16.75L18.45,3.32a2,2,0,0,1,2.83,0l1.4,1.43a1.91,1.91,0,0,1,.58,1.4,1.91,1.91,0,0,1-.58,1.4L9.25,21ZM18.45,9,17,7.55Zm-12,3A5.31,5.31,0,0,0,4.9,8.1,5.31,5.31,0,0,0,1,6.5,5.31,5.31,0,0,0,4.9,4.9,5.31,5.31,0,0,0,6.5,1,5.31,5.31,0,0,0,8.1,4.9,5.31,5.31,0,0,0,12,6.5,5.46,5.46,0,0,0,6.5,12Z\"/>\n",
              "  </svg>\n",
              "    </button>\n",
              "    <script>\n",
              "      (() => {\n",
              "      const buttonEl =\n",
              "        document.querySelector('#id_e3130cc2-2f38-4ad0-8c37-0bff693f3f99 button.colab-df-generate');\n",
              "      buttonEl.style.display =\n",
              "        google.colab.kernel.accessAllowed ? 'block' : 'none';\n",
              "\n",
              "      buttonEl.onclick = () => {\n",
              "        google.colab.notebook.generateWithVariable('df');\n",
              "      }\n",
              "      })();\n",
              "    </script>\n",
              "  </div>\n",
              "\n",
              "    </div>\n",
              "  </div>\n"
            ],
            "application/vnd.google.colaboratory.intrinsic+json": {
              "type": "dataframe",
              "variable_name": "df",
              "summary": "{\n  \"name\": \"df\",\n  \"rows\": 1000,\n  \"fields\": [\n    {\n      \"column\": \"id\",\n      \"properties\": {\n        \"dtype\": \"number\",\n        \"std\": 288,\n        \"min\": 1,\n        \"max\": 1000,\n        \"num_unique_values\": 1000,\n        \"samples\": [\n          522,\n          738,\n          741\n        ],\n        \"semantic_type\": \"\",\n        \"description\": \"\"\n      }\n    },\n    {\n      \"column\": \"first_name\",\n      \"properties\": {\n        \"dtype\": \"number\",\n        \"std\": 270,\n        \"min\": 0,\n        \"max\": 934,\n        \"num_unique_values\": 935,\n        \"samples\": [\n          303,\n          617,\n          121\n        ],\n        \"semantic_type\": \"\",\n        \"description\": \"\"\n      }\n    },\n    {\n      \"column\": \"last_name\",\n      \"properties\": {\n        \"dtype\": \"number\",\n        \"std\": 284,\n        \"min\": 0,\n        \"max\": 986,\n        \"num_unique_values\": 987,\n        \"samples\": [\n          334,\n          478,\n          644\n        ],\n        \"semantic_type\": \"\",\n        \"description\": \"\"\n      }\n    },\n    {\n      \"column\": \"email\",\n      \"properties\": {\n        \"dtype\": \"number\",\n        \"std\": 288,\n        \"min\": 0,\n        \"max\": 999,\n        \"num_unique_values\": 1000,\n        \"samples\": [\n          389,\n          498,\n          733\n        ],\n        \"semantic_type\": \"\",\n        \"description\": \"\"\n      }\n    },\n    {\n      \"column\": \"gender\",\n      \"properties\": {\n        \"dtype\": \"number\",\n        \"std\": 1,\n        \"min\": 0,\n        \"max\": 7,\n        \"num_unique_values\": 8,\n        \"samples\": [\n          2,\n          4,\n          6\n        ],\n        \"semantic_type\": \"\",\n        \"description\": \"\"\n      }\n    },\n    {\n      \"column\": \"repay\",\n      \"properties\": {\n        \"dtype\": \"number\",\n        \"std\": 0,\n        \"min\": 0,\n        \"max\": 1,\n        \"num_unique_values\": 2,\n        \"samples\": [\n          0,\n          1\n        ],\n        \"semantic_type\": \"\",\n        \"description\": \"\"\n      }\n    }\n  ]\n}"
            }
          },
          "metadata": {},
          "execution_count": 38
        }
      ]
    },
    {
      "cell_type": "code",
      "source": [
        "x = df.drop('repay',axis= 1).values\n",
        "y = df['repay']"
      ],
      "metadata": {
        "id": "I0drZ_-m7kc3"
      },
      "execution_count": 50,
      "outputs": []
    },
    {
      "cell_type": "code",
      "source": [
        "x_train,x_test,y_train,y_test = train_test_split(x,y,test_size =0.2,random_state = 5)"
      ],
      "metadata": {
        "id": "E49-jxKJ78oj"
      },
      "execution_count": 51,
      "outputs": []
    },
    {
      "cell_type": "code",
      "source": [
        "x_train.shape"
      ],
      "metadata": {
        "colab": {
          "base_uri": "https://localhost:8080/"
        },
        "id": "NqP6zIXa8ElI",
        "outputId": "7b436154-9e29-4ab2-9286-f8207e886a3d"
      },
      "execution_count": 52,
      "outputs": [
        {
          "output_type": "execute_result",
          "data": {
            "text/plain": [
              "(800, 5)"
            ]
          },
          "metadata": {},
          "execution_count": 52
        }
      ]
    },
    {
      "cell_type": "code",
      "source": [
        "x_test.shape"
      ],
      "metadata": {
        "colab": {
          "base_uri": "https://localhost:8080/"
        },
        "id": "mq2JDl_y8_eW",
        "outputId": "b5a3c7c2-247b-4db4-efb3-9253a968fc69"
      },
      "execution_count": 53,
      "outputs": [
        {
          "output_type": "execute_result",
          "data": {
            "text/plain": [
              "(200, 5)"
            ]
          },
          "metadata": {},
          "execution_count": 53
        }
      ]
    },
    {
      "cell_type": "code",
      "source": [
        "from imblearn.over_sampling import RandomOverSampler"
      ],
      "metadata": {
        "id": "Cu406FTC9JfO"
      },
      "execution_count": 54,
      "outputs": []
    },
    {
      "cell_type": "code",
      "source": [
        "ros = RandomOverSampler()"
      ],
      "metadata": {
        "id": "qzQCJauQ9Pz_"
      },
      "execution_count": 55,
      "outputs": []
    },
    {
      "cell_type": "code",
      "source": [
        "ros_x_train,ros_y_train = ros.fit_resample(x_train,y_train)"
      ],
      "metadata": {
        "id": "8BPmJ9aT9TGl"
      },
      "execution_count": 56,
      "outputs": []
    },
    {
      "cell_type": "code",
      "source": [
        "print(y_train.shape)\n",
        "print(ros_y_train.shape)"
      ],
      "metadata": {
        "colab": {
          "base_uri": "https://localhost:8080/"
        },
        "id": "Hvh0QENi9k3s",
        "outputId": "75f227a2-2434-4dca-9fb2-5c54c259b6bc"
      },
      "execution_count": 57,
      "outputs": [
        {
          "output_type": "stream",
          "name": "stdout",
          "text": [
            "(800,)\n",
            "(1070,)\n"
          ]
        }
      ]
    },
    {
      "cell_type": "code",
      "source": [
        "print(y_train.value_counts())\n",
        "print(ros_y_train.value_counts())"
      ],
      "metadata": {
        "colab": {
          "base_uri": "https://localhost:8080/"
        },
        "id": "NHZ0wpAr-RUr",
        "outputId": "ebcef9c5-6abe-4fdd-e09d-e4469ef31450"
      },
      "execution_count": 58,
      "outputs": [
        {
          "output_type": "stream",
          "name": "stdout",
          "text": [
            "repay\n",
            "1    535\n",
            "0    265\n",
            "Name: count, dtype: int64\n",
            "repay\n",
            "1    535\n",
            "0    535\n",
            "Name: count, dtype: int64\n"
          ]
        }
      ]
    },
    {
      "cell_type": "markdown",
      "source": [
        "#SMOTE - OVER SAMPLING"
      ],
      "metadata": {
        "id": "dxB88WHvBBFa"
      }
    },
    {
      "cell_type": "code",
      "source": [
        "from imblearn.over_sampling import SMOTE"
      ],
      "metadata": {
        "id": "FIsaOiNfBFTB"
      },
      "execution_count": 59,
      "outputs": []
    },
    {
      "cell_type": "code",
      "source": [
        "sm = SMOTE()"
      ],
      "metadata": {
        "id": "ao1TwNXkBKGU"
      },
      "execution_count": 60,
      "outputs": []
    },
    {
      "cell_type": "code",
      "source": [
        "sm_x_train,sm_y_train = sm.fit_resample(x_train,y_train)"
      ],
      "metadata": {
        "id": "0voXnHGBBN5L"
      },
      "execution_count": 61,
      "outputs": []
    },
    {
      "cell_type": "code",
      "source": [
        "print(y_train.value_counts())\n",
        "print(sm_y_train.value_counts())"
      ],
      "metadata": {
        "colab": {
          "base_uri": "https://localhost:8080/"
        },
        "id": "GsisIqb0DNVf",
        "outputId": "ed9c39bc-79d7-47cc-ea13-32a43428d1fb"
      },
      "execution_count": 62,
      "outputs": [
        {
          "output_type": "stream",
          "name": "stdout",
          "text": [
            "repay\n",
            "1    535\n",
            "0    265\n",
            "Name: count, dtype: int64\n",
            "repay\n",
            "1    535\n",
            "0    535\n",
            "Name: count, dtype: int64\n"
          ]
        }
      ]
    },
    {
      "cell_type": "code",
      "source": [
        "from imblearn.under_sampling import RandomUnderSampler\n",
        "rus = RandomUnderSampler()\n",
        "rus_x_train,rus_y_train = rus.fit_resample(x_train,y_train)\n",
        "print(y_train.value_counts())\n",
        "print(rus_y_train.value_counts())"
      ],
      "metadata": {
        "colab": {
          "base_uri": "https://localhost:8080/"
        },
        "id": "ju6PUn1yDYHf",
        "outputId": "fc2042e6-784a-44f1-aa1e-ca125399a191"
      },
      "execution_count": 63,
      "outputs": [
        {
          "output_type": "stream",
          "name": "stdout",
          "text": [
            "repay\n",
            "1    535\n",
            "0    265\n",
            "Name: count, dtype: int64\n",
            "repay\n",
            "0    265\n",
            "1    265\n",
            "Name: count, dtype: int64\n"
          ]
        }
      ]
    }
  ]
}